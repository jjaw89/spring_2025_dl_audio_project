{
 "cells": [
  {
   "cell_type": "markdown",
   "metadata": {},
   "source": [
    "Here we train our first version of the GAN.\n",
    "\n"
   ]
  },
  {
   "cell_type": "markdown",
   "metadata": {},
   "source": [
    "## Initialize Wave-U-Net\n",
    "\n",
    "We start by loading the necessary packages\n",
    "\n",
    "Wave-U-Net is named ``generator``"
   ]
  },
  {
   "cell_type": "code",
   "execution_count": null,
   "metadata": {},
   "outputs": [],
   "source": [
    "# Import same packages as the train script in Wave-U-Net-Pytorch\n",
    "import argparse\n",
    "import os\n",
    "import time\n",
    "from functools import partial\n",
    "\n",
    "import torch \n",
    "import pickle\n",
    "import numpy as np\n",
    "\n",
    "import torch.nn as nn\n",
    "from torch.utils.tensorboard import SummaryWriter\n",
    "from torch.optim import Adam\n",
    "from tqdm import tqdm\n",
    "\n",
    "# add a path to Wave-U-Net\n",
    "import sys\n",
    "sys.path.append('Wave-U-Net-Pytorch')\n",
    "\n",
    "import model.utils as model_utils\n",
    "import utils\n",
    "from model.waveunet import Waveunet\n"
   ]
  },
  {
   "cell_type": "markdown",
   "metadata": {},
   "source": [
    "We define the parameters of the model."
   ]
  },
  {
   "cell_type": "code",
   "execution_count": 2,
   "metadata": {},
   "outputs": [
    {
     "name": "stdout",
     "output_type": "stream",
     "text": [
      "Using valid convolutions with 289 inputs and 257 outputs\n",
      "input_size (length of input): 289\n",
      "num_inputs (number of channels in the input): 256\n"
     ]
    }
   ],
   "source": [
    "model_config = {\n",
    "    \"num_inputs\": 256,               # 128 mel bins per spectrogram, but we have to spectrograms\n",
    "    \"num_outputs\": 128,              # Output also has 128 mel bins\n",
    "    \"num_channels\": [256*2, 256*4, 256*8],    # Example channel progression\n",
    "    \"instruments\": [\"vocal\"],        # Only output vocal, so no music branch\n",
    "    \"kernel_size\": 3,                # Must be odd\n",
    "    \"target_output_size\": 256,       # Desired output time frames (post-processing may crop)\n",
    "    \"conv_type\": \"normal\",           # Set to \"normal\" to meet assertion requirements\n",
    "    \"res\": \"fixed\",                  # Use fixed resampling\n",
    "    \"separate\": False,                # Separate branch for vocal\n",
    "    \"depth\": 1,                      # Number of conv layers per block\n",
    "    \"strides\": 2                   # Down/up-sampling stride\n",
    "}"
   ]
  },
  {
   "cell_type": "markdown",
   "metadata": {},
   "source": [
    "Load the model, check how much GPU memory it will use during training, and print a summary of the model."
   ]
  },
  {
   "cell_type": "code",
   "execution_count": 4,
   "metadata": {},
   "outputs": [
    {
     "name": "stdout",
     "output_type": "stream",
     "text": [
      "Using valid convolutions with 289 inputs and 257 outputs\n",
      "Peak GPU memory allocated (bytes): 6275877376\n",
      "Current GPU memory allocated (bytes): 783944192\n",
      "|===========================================================================|\n",
      "|                  PyTorch CUDA memory summary, device ID 0                 |\n",
      "|---------------------------------------------------------------------------|\n",
      "|            CUDA OOMs: 0            |        cudaMalloc retries: 0         |\n",
      "|===========================================================================|\n",
      "|        Metric         | Cur Usage  | Peak Usage | Tot Alloc  | Tot Freed  |\n",
      "|---------------------------------------------------------------------------|\n",
      "| Allocated memory      | 765570 KiB |   5985 MiB |  24314 MiB |  23567 MiB |\n",
      "|       from large pool | 764032 KiB |   5984 MiB |  24312 MiB |  23566 MiB |\n",
      "|       from small pool |   1538 KiB |      1 MiB |      2 MiB |      0 MiB |\n",
      "|---------------------------------------------------------------------------|\n",
      "| Active memory         | 765570 KiB |   5985 MiB |  24314 MiB |  23567 MiB |\n",
      "|       from large pool | 764032 KiB |   5984 MiB |  24312 MiB |  23566 MiB |\n",
      "|       from small pool |   1538 KiB |      1 MiB |      2 MiB |      0 MiB |\n",
      "|---------------------------------------------------------------------------|\n",
      "| Requested memory      | 761858 KiB |   5974 MiB |  24285 MiB |  23541 MiB |\n",
      "|       from large pool | 760320 KiB |   5973 MiB |  24282 MiB |  23540 MiB |\n",
      "|       from small pool |   1538 KiB |      1 MiB |      2 MiB |      0 MiB |\n",
      "|---------------------------------------------------------------------------|\n",
      "| GPU reserved memory   |   8358 MiB |   8358 MiB |   8358 MiB |      0 B   |\n",
      "|       from large pool |   8356 MiB |   8356 MiB |   8356 MiB |      0 B   |\n",
      "|       from small pool |      2 MiB |      2 MiB |      2 MiB |      0 B   |\n",
      "|---------------------------------------------------------------------------|\n",
      "| Non-releasable memory | 512381 KiB |    788 MiB |   5554 MiB |   5053 MiB |\n",
      "|       from large pool | 511872 KiB |    787 MiB |   5551 MiB |   5051 MiB |\n",
      "|       from small pool |    509 KiB |      1 MiB |      2 MiB |      2 MiB |\n",
      "|---------------------------------------------------------------------------|\n",
      "| Allocations           |      88    |     108    |     242    |     154    |\n",
      "|       from large pool |      39    |      48    |     164    |     125    |\n",
      "|       from small pool |      49    |      60    |      78    |      29    |\n",
      "|---------------------------------------------------------------------------|\n",
      "| Active allocs         |      88    |     108    |     242    |     154    |\n",
      "|       from large pool |      39    |      48    |     164    |     125    |\n",
      "|       from small pool |      49    |      60    |      78    |      29    |\n",
      "|---------------------------------------------------------------------------|\n",
      "| GPU reserved segments |      48    |      48    |      48    |       0    |\n",
      "|       from large pool |      47    |      47    |      47    |       0    |\n",
      "|       from small pool |       1    |       1    |       1    |       0    |\n",
      "|---------------------------------------------------------------------------|\n",
      "| Non-releasable allocs |      10    |      20    |      71    |      61    |\n",
      "|       from large pool |       8    |      18    |      67    |      59    |\n",
      "|       from small pool |       2    |       3    |       4    |       2    |\n",
      "|---------------------------------------------------------------------------|\n",
      "| Oversize allocations  |       0    |       0    |       0    |       0    |\n",
      "|---------------------------------------------------------------------------|\n",
      "| Oversize GPU segments |       0    |       0    |       0    |       0    |\n",
      "|===========================================================================|\n",
      "\n",
      "----------------------------------------------------------------\n",
      "        Layer (type)               Output Shape         Param #\n",
      "================================================================\n",
      "            Conv1d-1             [-1, 512, 287]         393,728\n",
      "         ConvLayer-2             [-1, 512, 287]               0\n",
      "            Conv1d-3            [-1, 1024, 285]       1,573,888\n",
      "         ConvLayer-4            [-1, 1024, 285]               0\n",
      "        Resample1d-5            [-1, 1024, 143]               0\n",
      " DownsamplingBlock-6  [[-1, 1024, 143], [-1, 512, 287]]               0\n",
      "            Conv1d-7            [-1, 1024, 141]       3,146,752\n",
      "         ConvLayer-8            [-1, 1024, 141]               0\n",
      "            Conv1d-9            [-1, 2048, 139]       6,293,504\n",
      "        ConvLayer-10            [-1, 2048, 139]               0\n",
      "       Resample1d-11             [-1, 2048, 70]               0\n",
      "DownsamplingBlock-12  [[-1, 2048, 70], [-1, 1024, 141]]               0\n",
      "           Conv1d-13             [-1, 2048, 68]      12,584,960\n",
      "        ConvLayer-14             [-1, 2048, 68]               0\n",
      "       Resample1d-15            [-1, 2048, 135]               0\n",
      "           Conv1d-16            [-1, 1024, 133]       6,292,480\n",
      "        ConvLayer-17            [-1, 1024, 133]               0\n",
      "           Conv1d-18            [-1, 1024, 131]       6,292,480\n",
      "        ConvLayer-19            [-1, 1024, 131]               0\n",
      "  UpsamplingBlock-20            [-1, 1024, 131]               0\n",
      "       Resample1d-21            [-1, 1024, 261]               0\n",
      "           Conv1d-22             [-1, 512, 259]       1,573,376\n",
      "        ConvLayer-23             [-1, 512, 259]               0\n",
      "           Conv1d-24             [-1, 512, 257]       1,573,376\n",
      "        ConvLayer-25             [-1, 512, 257]               0\n",
      "  UpsamplingBlock-26             [-1, 512, 257]               0\n",
      "           Conv1d-27             [-1, 128, 257]          65,664\n",
      "================================================================\n",
      "Total params: 39,790,208\n",
      "Trainable params: 39,790,208\n",
      "Non-trainable params: 0\n",
      "----------------------------------------------------------------\n",
      "Input size (MB): 0.28\n",
      "Forward/backward pass size (MB): 322051.84\n",
      "Params size (MB): 151.79\n",
      "Estimated Total Size (MB): 322203.91\n",
      "----------------------------------------------------------------\n"
     ]
    }
   ],
   "source": [
    "# summary(generator, input_size=(generator.num_inputs,  generator.input_size))import torch\n",
    "from torch.optim import Adam\n",
    "from torch.nn import L1Loss\n",
    "\n",
    "from torchsummary import summary\n",
    "\n",
    "# Ensure that you have a CUDA-enabled device\n",
    "device = torch.device(\"cuda\" if torch.cuda.is_available() else \"cpu\")\n",
    "\n",
    "# Instantiate and move the model to GPU\n",
    "generator = Waveunet(**model_config).to(device)\n",
    "\n",
    "# Set up a dummy optimizer and loss function\n",
    "optimizer = Adam(generator.parameters(), lr=1e-3)\n",
    "loss_fn = L1Loss()\n",
    "\n",
    "# Define a dummy batch size\n",
    "batch_size = 256\n",
    "\n",
    "# Create a dummy input tensor with the required shape\n",
    "# model.num_inputs corresponds to the number of channels (256 in your config)\n",
    "# model.input_size is the computed length (353, for instance)\n",
    "dummy_input = torch.randn(batch_size, generator.num_inputs, generator.input_size, device=device)\n",
    "\n",
    "# Create a dummy target tensor with the shape that your model outputs.\n",
    "# For a single output branch (vocal), the output shape should be:\n",
    "# (batch_size, num_outputs, model.output_size)\n",
    "# model.num_outputs is 128 and model.output_size is computed (257 in your case)\n",
    "dummy_target = torch.randn(batch_size, generator.num_outputs, generator.output_size, device=device)\n",
    "\n",
    "# Reset GPU peak memory stats\n",
    "torch.cuda.reset_peak_memory_stats(device)\n",
    "\n",
    "# Run a single forward and backward pass\n",
    "optimizer.zero_grad()\n",
    "# If separate is False, the model returns a dictionary; pass the correct key.\n",
    "output = generator(dummy_input)[\"vocal\"]\n",
    "loss = loss_fn(output, dummy_target)\n",
    "loss.backward()\n",
    "optimizer.step()\n",
    "\n",
    "# Retrieve GPU memory stats\n",
    "peak_memory = torch.cuda.max_memory_allocated(device)\n",
    "current_memory = torch.cuda.memory_allocated(device)\n",
    "print(\"Peak GPU memory allocated (bytes):\", peak_memory)\n",
    "print(\"Current GPU memory allocated (bytes):\", current_memory)\n",
    "\n",
    "# Optionally, print a detailed memory summary\n",
    "print(torch.cuda.memory_summary(device=device))\n",
    "\n",
    "\n",
    "summary(generator, input_size=(generator.num_inputs,  generator.input_size))\n"
   ]
  },
  {
   "cell_type": "markdown",
   "metadata": {},
   "source": [
    "Optionally compile the model to potentially decrease training time."
   ]
  },
  {
   "cell_type": "code",
   "execution_count": 6,
   "metadata": {},
   "outputs": [],
   "source": [
    "generator = torch.compile(generator, mode='max-autotune')"
   ]
  },
  {
   "cell_type": "markdown",
   "metadata": {},
   "source": [
    "If we compile the model, to save it after training, we have to uncompile it using the following code:\n",
    "\n",
    "```python\n",
    "orig_generator = generator._orig_mod\n",
    "path = \"\"\n",
    "torch.save(orig_generator.state_dict(), path + \"generator_state_dict.pt\")\n"
   ]
  },
  {
   "cell_type": "markdown",
   "metadata": {},
   "source": [
    "## Initialize miniRocket\n",
    "We start by loading the necessary packages"
   ]
  },
  {
   "cell_type": "code",
   "execution_count": 4,
   "metadata": {},
   "outputs": [
    {
     "ename": "ModuleNotFoundError",
     "evalue": "No module named 'torchaudio'",
     "output_type": "error",
     "traceback": [
      "\u001b[0;31m---------------------------------------------------------------------------\u001b[0m",
      "\u001b[0;31mModuleNotFoundError\u001b[0m                       Traceback (most recent call last)",
      "Cell \u001b[0;32mIn[4], line 6\u001b[0m\n\u001b[1;32m      4\u001b[0m \u001b[38;5;28;01mfrom\u001b[39;00m \u001b[38;5;21;01mtorch\u001b[39;00m\u001b[38;5;21;01m.\u001b[39;00m\u001b[38;5;21;01mutils\u001b[39;00m\u001b[38;5;21;01m.\u001b[39;00m\u001b[38;5;21;01mdata\u001b[39;00m \u001b[38;5;28;01mimport\u001b[39;00m Dataset, DataLoader\n\u001b[1;32m      5\u001b[0m \u001b[38;5;28;01mimport\u001b[39;00m \u001b[38;5;21;01mnumpy\u001b[39;00m \u001b[38;5;28;01mas\u001b[39;00m \u001b[38;5;21;01mnp\u001b[39;00m\n\u001b[0;32m----> 6\u001b[0m \u001b[38;5;28;01mimport\u001b[39;00m \u001b[38;5;21;01mtorchaudio\u001b[39;00m\n\u001b[1;32m      7\u001b[0m \u001b[38;5;28;01mimport\u001b[39;00m \u001b[38;5;21;01mmatplotlib\u001b[39;00m\u001b[38;5;21;01m.\u001b[39;00m\u001b[38;5;21;01mpyplot\u001b[39;00m \u001b[38;5;28;01mas\u001b[39;00m \u001b[38;5;21;01mplt\u001b[39;00m\n\u001b[1;32m      8\u001b[0m \u001b[38;5;28;01mfrom\u001b[39;00m \u001b[38;5;21;01mtyping\u001b[39;00m \u001b[38;5;28;01mimport\u001b[39;00m Tuple, List, Dict, Optional\n",
      "\u001b[0;31mModuleNotFoundError\u001b[0m: No module named 'torchaudio'"
     ]
    }
   ],
   "source": [
    "import torch\n",
    "import torch.nn as nn\n",
    "import torch.optim as optim\n",
    "from torch.utils.data import Dataset, DataLoader\n",
    "import numpy as np\n",
    "import torchaudio\n",
    "import matplotlib.pyplot as plt\n",
    "from typing import Tuple, List, Dict, Optional\n",
    "from sktime.transformations.panel.rocket import MiniRocketMultivariate"
   ]
  },
  {
   "cell_type": "markdown",
   "metadata": {},
   "source": [
    "### CPU Core Allocation for MiniRocketMultivariate\n",
    "\n",
    "- The implementation of `MiniRocketMultivariate` runs on the **CPU**.\n",
    "- We need to decide how many cores to allocate for it.\n",
    "- Some cores will be used by MiniRocket itself, while others are needed for data preparation (e.g., generating spectrograms).\n",
    "- This allocation likely needs to be **tuned for optimal performance**.\n",
    "- As a starting point, we detect the number of available cores and split them evenly.\n",
    "- Note: We avoid using *all* available cores to leave some resources for the operating system and other background processes.\n"
   ]
  },
  {
   "cell_type": "code",
   "execution_count": null,
   "metadata": {},
   "outputs": [],
   "source": [
    "import multiprocessing\n",
    "num_cores = multiprocessing.cpu_count()\n",
    "\n",
    "minirocket_n_jobs = num_cores // 2 - 1\n",
    "dataloader_n_jobs = num_cores - minirocket_n_jobs - 1"
   ]
  },
  {
   "cell_type": "markdown",
   "metadata": {},
   "source": [
    "Create the MiniRocket model"
   ]
  },
  {
   "cell_type": "code",
   "execution_count": null,
   "metadata": {},
   "outputs": [
    {
     "ename": "NameError",
     "evalue": "name 'nn' is not defined",
     "output_type": "error",
     "traceback": [
      "\u001b[0;31m---------------------------------------------------------------------------\u001b[0m",
      "\u001b[0;31mNameError\u001b[0m                                 Traceback (most recent call last)",
      "Cell \u001b[0;32mIn[2], line 2\u001b[0m\n\u001b[1;32m      1\u001b[0m \u001b[38;5;66;03m# MiniRocket Discriminator using tsai library\u001b[39;00m\n\u001b[0;32m----> 2\u001b[0m \u001b[38;5;28;01mclass\u001b[39;00m \u001b[38;5;21;01mTsaiMiniRocketDiscriminator\u001b[39;00m(\u001b[43mnn\u001b[49m\u001b[38;5;241m.\u001b[39mModule):\n\u001b[1;32m      3\u001b[0m     \u001b[38;5;28;01mdef\u001b[39;00m \u001b[38;5;21m__init__\u001b[39m(\n\u001b[1;32m      4\u001b[0m         \u001b[38;5;28mself\u001b[39m,\n\u001b[1;32m      5\u001b[0m         freq_bins\u001b[38;5;241m=\u001b[39m\u001b[38;5;241m256\u001b[39m,\n\u001b[0;32m   (...)\u001b[0m\n\u001b[1;32m      9\u001b[0m         output_dim\u001b[38;5;241m=\u001b[39m\u001b[38;5;241m1\u001b[39m\n\u001b[1;32m     10\u001b[0m     ):\n\u001b[1;32m     11\u001b[0m         \u001b[38;5;28msuper\u001b[39m(TsaiMiniRocketDiscriminator, \u001b[38;5;28mself\u001b[39m)\u001b[38;5;241m.\u001b[39m\u001b[38;5;21m__init__\u001b[39m()\n",
      "\u001b[0;31mNameError\u001b[0m: name 'nn' is not defined"
     ]
    }
   ],
   "source": [
    "# MiniRocket Discriminator using tsai library\n",
    "class TsaiMiniRocketDiscriminator(nn.Module):\n",
    "    def __init__(\n",
    "        self,\n",
    "        freq_bins=256,\n",
    "        time_frames=256,\n",
    "        num_kernels=10000,  # number of convolutional kernels\n",
    "        hidden_dim=1024,    # Increased to handle larger feature dimension\n",
    "        output_dim=1\n",
    "    ):\n",
    "        super(TsaiMiniRocketDiscriminator, self).__init__()\n",
    "        \n",
    "        # This is the mini rocket transformer which extracts features\n",
    "        self.rocket = MiniRocketMultivariate(num_kernels=num_kernels, n_jobs=minirocket_n_jobs)  \n",
    "        # tsai's miniRocketClassifier is implemented with MiniRocketMultivariate as well\n",
    "        self.fitted = False   # fit before training\n",
    "        self.freq_bins = freq_bins\n",
    "        self.time_frames = time_frames\n",
    "        self.num_kernels = num_kernels\n",
    "        \n",
    "        # For 2D data handling - process each sample with proper dimensions\n",
    "        self.example_input = np.zeros((1, freq_bins, time_frames))\n",
    "        \n",
    "        feature_dim = num_kernels * 2  # For vocals + accompaniment\n",
    "        \n",
    "        # Example feature reducing layers\n",
    "        self.classifier = nn.Sequential(\n",
    "            # First reduce the massive dimension to something manageable\n",
    "            nn.Linear(feature_dim, hidden_dim),\n",
    "            nn.LeakyReLU(0.2),\n",
    "            nn.Dropout(0.3),\n",
    "            \n",
    "            # Second hidden layer\n",
    "            nn.Linear(hidden_dim, hidden_dim // 2),\n",
    "            nn.LeakyReLU(0.2),\n",
    "            nn.Dropout(0.3),\n",
    "            \n",
    "            # Final classification layer\n",
    "            nn.Linear(hidden_dim // 2, output_dim),\n",
    "            nn.Sigmoid()\n",
    "        )\n",
    "    \n",
    "    def fit_rocket(self, spectrograms):\n",
    "        \"\"\"\n",
    "            Fit MiniRocket with just one piece of vocal training data (not the entire training dataset)\n",
    "        \"\"\"\n",
    "        if not self.fitted:\n",
    "            try:\n",
    "                # Reshape for MiniRocket - it expects (n_instances, n_dimensions, series_length)\n",
    "                # flatten the freq_bins dimension to create a multivariate time series\n",
    "                batch_size = spectrograms.shape[0]\n",
    "                \n",
    "                # Convert first to numpy for sktime processing\n",
    "                sample_data = spectrograms.cpu().numpy()\n",
    "                \n",
    "                # Reshape to sktime's expected format - reduce to single sample for fitting\n",
    "                sample_data = sample_data[:1, 0]  # Take one sample, remove channel dim\n",
    "                \n",
    "                # Fit on this sample \n",
    "                self.rocket.fit(sample_data)\n",
    "                self.fitted = True\n",
    "                \n",
    "                # Test transform to get feature dimension\n",
    "                test_transform = self.rocket.transform(sample_data)\n",
    "                self.feature_dim = test_transform.shape[1]\n",
    "                \n",
    "                print(f\"MiniRocket fitted. Feature dimension: {self.feature_dim}\")\n",
    "                \n",
    "            except Exception as e:\n",
    "                print(f\"Error fitting MiniRocket: {e}\")\n",
    "                # Use a fallback if fitting fails\n",
    "                self.fitted = True  # Mark as fitted to avoid repeated attempts\n",
    "    \n",
    "    def extract_features(self, spectrogram):\n",
    "        \"\"\"Extract MiniRocket features from a spectrogram\"\"\"\n",
    "        try:\n",
    "            # Ensure rocket is fitted\n",
    "            if not self.fitted:\n",
    "                self.fit_rocket(spectrogram)\n",
    "            \n",
    "            # Convert to numpy for sktime\n",
    "            spec_np = spectrogram.cpu().numpy()\n",
    "            \n",
    "            # Remove channel dimension expected by sktime\n",
    "            spec_np = spec_np[:, 0]  # [batch_size, freq_bins, time_frames]\n",
    "            \n",
    "            # This step extracts features using the convolutional kernels, numbers specified by num_kernels\n",
    "            features = self.rocket.transform(spec_np)\n",
    "            \n",
    "            # Convert back to torch tensor\n",
    "            features = torch.tensor(features, dtype=torch.float32).to(spectrogram.device)\n",
    "            \n",
    "            return features\n",
    "            \n",
    "        except Exception as e:\n",
    "            print(f\"Error in feature extraction: {e}\")\n",
    "            # Return zeros as fallback\n",
    "            return torch.zeros((spectrogram.shape[0], self.num_kernels), \n",
    "                              device=spectrogram.device)\n",
    "    \n",
    "    def forward(self, vocals, accompaniment):\n",
    "        \"\"\"\n",
    "        Forward pass of the discriminator\n",
    "        \n",
    "        Args:\n",
    "            vocals: Spectrograms of shape [batch_size, channels, freq_bins, time_frames]\n",
    "            accompaniment: Spectrograms of shape [batch_size, channels, freq_bins, time_frames]\n",
    "        \"\"\"\n",
    "        # Extract features from both spectrograms\n",
    "        vocal_features = self.extract_features(vocals)\n",
    "        accomp_features = self.extract_features(accompaniment)\n",
    "        \n",
    "        # Concatenate features (conditional GAN)\n",
    "        combined_features = torch.cat([vocal_features, accomp_features], dim=1)\n",
    "        \n",
    "        # Classify as real/fake\n",
    "        validity = self.classifier(combined_features)\n",
    "        \n",
    "        return validity\n",
    "\n"
   ]
  },
  {
   "cell_type": "code",
   "execution_count": null,
   "metadata": {},
   "outputs": [
    {
     "ename": "NameError",
     "evalue": "name 'TsaiMiniRocketDiscriminator' is not defined",
     "output_type": "error",
     "traceback": [
      "\u001b[0;31m---------------------------------------------------------------------------\u001b[0m",
      "\u001b[0;31mNameError\u001b[0m                                 Traceback (most recent call last)",
      "Cell \u001b[0;32mIn[3], line 1\u001b[0m\n\u001b[0;32m----> 1\u001b[0m discriminator \u001b[38;5;241m=\u001b[39m    \u001b[43mTsaiMiniRocketDiscriminator\u001b[49m()\n",
      "\u001b[0;31mNameError\u001b[0m: name 'TsaiMiniRocketDiscriminator' is not defined"
     ]
    }
   ],
   "source": [
    "discriminator = TsaiMiniRocketDiscriminator()\n",
    "# We probably do not need to compile the model"
   ]
  },
  {
   "cell_type": "markdown",
   "metadata": {},
   "source": [
    "## Load data\n",
    "Q: Does this only load the musdb18 dataset?\n"
   ]
  },
  {
   "cell_type": "code",
   "execution_count": null,
   "metadata": {},
   "outputs": [],
   "source": [
    "from google.colab import drive\n",
    "drive.mount('/content/drive')\n",
    "\n",
    "# when you install musdb, pip automatically installs a version of stempeg that\n",
    "# contains a small bug. To work around this, download the stempeg folder from\n",
    "# the github to your drive.\n",
    "\n",
    "%pip install musdb  # has some helpful data structures, also installs ffmpeg and stempeg\n",
    "%pip uninstall stempeg    # musdb installs the wrong version of stempeg'\n",
    "\n",
    "# The path below should be changed to the location of the stempeg package in\n",
    "# your Drive\n",
    "%cd '/content/drive/MyDrive/DeepLearningBootcamp'\n",
    "\n",
    "import stempeg\n",
    "import musdb\n",
    "\n",
    "import librosa\n",
    "from torch.utils.data import Dataset"
   ]
  },
  {
   "cell_type": "code",
   "execution_count": null,
   "metadata": {},
   "outputs": [],
   "source": [
    "class MusdbDataset(Dataset):\n",
    "\n",
    "  def __init__(self, musDB, steps = 256):\n",
    "    self.mel_specs = torch.zeros(1, 2, 128, steps)\n",
    "    self.sample_rates = torch.tensor([0])\n",
    "\n",
    "    for track in musDB:\n",
    "      stems, rate = track.stems, track.rate\n",
    "\n",
    "      # separate the vocal from other instruments and conver to mono signal\n",
    "      audio_novocal = librosa.to_mono(np.transpose(stems[1] + stems[2] + stems[3]))\n",
    "      audio_vocal = librosa.to_mono(np.transpose(stems[4]))\n",
    "\n",
    "      # compute log mel spectrogram and convert to pytorch tensor\n",
    "      logmelspec_novocal = torch.from_numpy(self._mel_spectrogram(audio_novocal, rate))\n",
    "      logmelspec_vocal = torch.from_numpy(self._mel_spectrogram(audio_vocal, rate))\n",
    "\n",
    "      num_slices = logmelspec_novocal.shape[1] // steps\n",
    "\n",
    "      # chop off the last bit so that number of stft steps is a multiple of step size\n",
    "      logmelspec_novocal = logmelspec_novocal[0:128 , 0:num_slices*steps]\n",
    "      logmelspec_vocal = logmelspec_vocal[0:128, 0:num_slices*steps]\n",
    "\n",
    "      logmelspec_novocal = torch.reshape(logmelspec_novocal, (num_slices, 128, steps))\n",
    "      logmelspec_vocal = torch.reshape(logmelspec_vocal, (num_slices, 128, steps))\n",
    "\n",
    "      # unsqueeze and concatenate these tensors. Then concatenate to the big tensor\n",
    "      logmels = torch.cat((logmelspec_novocal.unsqueeze(1), logmelspec_vocal.unsqueeze(1)), 1)\n",
    "      self.mel_specs = torch.cat((self.mel_specs, logmels), 0)\n",
    "      self.sample_rates = torch.cat((self.sample_rates, torch.Tensor([rate])), 0)\n",
    "\n",
    "    # remove the all zeros slice that we initialized with\n",
    "    self.mel_specs = self.mel_specs[1: , : , : , :]\n",
    "    self.sample_rates = self.sample_rates[1:]\n",
    "\n",
    "  def __len__(self):\n",
    "    return self.mel_specs.shape[0]\n",
    "\n",
    "  def __getitem__(self, ndx):\n",
    "    # returns tuple (mel spectrogram of accompaniment, mel spectrogram of vocal, rate)\n",
    "    return self.mel_specs[ndx, 0], self.mel_specs[ndx, 1], self.sample_rates[ndx]\n",
    "\n",
    "  def _mel_spectrogram(self, audio, rate):\n",
    "    # compute the log-mel-spectrogram of the audio at the given sample rate\n",
    "    return librosa.power_to_db(librosa.feature.melspectrogram(y = audio, sr = rate))"
   ]
  },
  {
   "cell_type": "code",
   "execution_count": null,
   "metadata": {},
   "outputs": [],
   "source": [
    "# get the full data set into the workspace\n",
    "music = musdb.DB(\"/content/drive/MyDrive/DeepLearningBootcamp/musdb18_data\", subsets=\"train\")"
   ]
  },
  {
   "cell_type": "code",
   "execution_count": null,
   "metadata": {},
   "outputs": [],
   "source": [
    "# create a dataset out of the first 10 tracks, see how many slices of audio we have\n",
    "data = MusdbDataset(music[0:10])\n",
    "print(len(data))\n"
   ]
  },
  {
   "cell_type": "markdown",
   "metadata": {},
   "source": [
    "### Load LibriSpeech\n",
    "To be completed..."
   ]
  },
  {
   "cell_type": "code",
   "execution_count": null,
   "metadata": {},
   "outputs": [],
   "source": [
    "# To do\n"
   ]
  },
  {
   "cell_type": "markdown",
   "metadata": {},
   "source": [
    "## Traning Loop\n",
    "to be completed..\n"
   ]
  },
  {
   "cell_type": "code",
   "execution_count": null,
   "metadata": {},
   "outputs": [],
   "source": [
    "def train():\n",
    "    pass\n",
    "    "
   ]
  },
  {
   "cell_type": "markdown",
   "metadata": {},
   "source": [
    "## Train the GAN\n",
    "The models are ``generator`` and ``discriminator``."
   ]
  },
  {
   "cell_type": "code",
   "execution_count": null,
   "metadata": {},
   "outputs": [],
   "source": [
    "# To do"
   ]
  },
  {
   "cell_type": "markdown",
   "metadata": {},
   "source": [
    "## Save the models"
   ]
  },
  {
   "cell_type": "code",
   "execution_count": null,
   "metadata": {},
   "outputs": [],
   "source": [
    "# Assuming we have compiled the generator\n",
    "orig_generator = generator._orig_mod\n",
    "path = \"\"\n",
    "torch.save(orig_generator.state_dict(), path + \"generator_state_dict.pt\")\n",
    "# Save the discriminator state dict\n",
    "torch.save(discriminator.state_dict(), path + \"discriminator_state_dict.pt\")"
   ]
  }
 ],
 "metadata": {
  "kernelspec": {
   "display_name": "Python 3",
   "language": "python",
   "name": "python3"
  },
  "language_info": {
   "codemirror_mode": {
    "name": "ipython",
    "version": 3
   },
   "file_extension": ".py",
   "mimetype": "text/x-python",
   "name": "python",
   "nbconvert_exporter": "python",
   "pygments_lexer": "ipython3",
   "version": "3.10.12"
  }
 },
 "nbformat": 4,
 "nbformat_minor": 2
}
