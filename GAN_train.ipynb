{
  "cells": [
    {
      "cell_type": "markdown",
      "metadata": {
        "id": "4qxrWZHYxV36"
      },
      "source": [
        "Here we train our first version of the GAN.\n",
        "\n"
      ]
    },
    {
      "cell_type": "markdown",
      "metadata": {
        "id": "vARIOK_HxV36"
      },
      "source": [
        "## Initialize Wave-U-Net\n",
        "\n",
        "We start by loading the necessary packages\n",
        "\n",
        "Wave-U-Net is named ``generator``"
      ]
    },
    {
      "cell_type": "code",
      "source": [
        "# %pip install musdb  # has some helpful data structures, also installs ffmpeg and stempeg\n",
        "# %pip uninstall stempeg    # musdb installs the wrong version of stempeg'"
      ],
      "metadata": {
        "id": "yfjgCEsl31aK"
      },
      "execution_count": null,
      "outputs": []
    },
    {
      "cell_type": "code",
      "execution_count": null,
      "metadata": {
        "colab": {
          "base_uri": "https://localhost:8080/"
        },
        "id": "f_3vGK4LxV37",
        "outputId": "0de83a0b-010d-43d3-b947-d8b857b16195"
      },
      "outputs": [
        {
          "output_type": "stream",
          "name": "stdout",
          "text": [
            "Requirement already satisfied: sktime in /usr/local/lib/python3.11/dist-packages (0.36.0)\n",
            "Requirement already satisfied: joblib<1.5,>=1.2.0 in /usr/local/lib/python3.11/dist-packages (from sktime) (1.4.2)\n",
            "Requirement already satisfied: numpy<2.3,>=1.21 in /usr/local/lib/python3.11/dist-packages (from sktime) (2.0.2)\n",
            "Requirement already satisfied: packaging in /usr/local/lib/python3.11/dist-packages (from sktime) (24.2)\n",
            "Requirement already satisfied: pandas<2.3.0,>=1.1 in /usr/local/lib/python3.11/dist-packages (from sktime) (2.2.2)\n",
            "Requirement already satisfied: scikit-base<0.13.0,>=0.6.1 in /usr/local/lib/python3.11/dist-packages (from sktime) (0.12.0)\n",
            "Requirement already satisfied: scikit-learn<1.7.0,>=0.24 in /usr/local/lib/python3.11/dist-packages (from sktime) (1.6.1)\n",
            "Requirement already satisfied: scipy<2.0.0,>=1.2 in /usr/local/lib/python3.11/dist-packages (from sktime) (1.14.1)\n",
            "Requirement already satisfied: python-dateutil>=2.8.2 in /usr/local/lib/python3.11/dist-packages (from pandas<2.3.0,>=1.1->sktime) (2.8.2)\n",
            "Requirement already satisfied: pytz>=2020.1 in /usr/local/lib/python3.11/dist-packages (from pandas<2.3.0,>=1.1->sktime) (2025.1)\n",
            "Requirement already satisfied: tzdata>=2022.7 in /usr/local/lib/python3.11/dist-packages (from pandas<2.3.0,>=1.1->sktime) (2025.1)\n",
            "Requirement already satisfied: threadpoolctl>=3.1.0 in /usr/local/lib/python3.11/dist-packages (from scikit-learn<1.7.0,>=0.24->sktime) (3.6.0)\n",
            "Requirement already satisfied: six>=1.5 in /usr/local/lib/python3.11/dist-packages (from python-dateutil>=2.8.2->pandas<2.3.0,>=1.1->sktime) (1.17.0)\n",
            "Drive already mounted at /content/drive; to attempt to forcibly remount, call drive.mount(\"/content/drive\", force_remount=True).\n",
            "/content/drive/My Drive/git_projects/spring_2025_dl_audio_project\n",
            "GPU: True\n"
          ]
        }
      ],
      "source": [
        "# Import same packages as the train script in Wave-U-Net-Pytorch\n",
        "import argparse\n",
        "import os\n",
        "import time\n",
        "from functools import partial\n",
        "\n",
        "import torch\n",
        "import pickle\n",
        "import numpy as np\n",
        "\n",
        "import torch.nn as nn\n",
        "from torch.utils.tensorboard import SummaryWriter\n",
        "from torch.optim import Adam\n",
        "from torch.nn import L1Loss\n",
        "from tqdm import tqdm\n",
        "from torchsummary import summary\n",
        "import torch.optim as optim\n",
        "from torch.utils.data import Dataset, DataLoader\n",
        "import numpy as np\n",
        "# install torchaudio if not already installed\n",
        "# ! pip install torchaudio\n",
        "import torchaudio\n",
        "\n",
        "import matplotlib.pyplot as plt\n",
        "from typing import Tuple, List, Dict, Optional\n",
        "\n",
        "!pip install sktime\n",
        "from sktime.transformations.panel.rocket import MiniRocketMultivariate\n",
        "\n",
        "from google.colab import drive\n",
        "drive.mount('/content/drive')\n",
        "%cd /content/drive/My Drive/git_projects/spring_2025_dl_audio_project\n",
        "\n",
        "\n",
        "# add a path to Wave-U-Net\n",
        "import sys\n",
        "sys.path.append('Wave-U-Net-Pytorch')\n",
        "\n",
        "import model.utils as model_utils\n",
        "import utils\n",
        "from model.waveunet import Waveunet\n",
        "\n",
        "# Check to see if we have a GPU available\n",
        "print(\"GPU:\", torch.cuda.is_available())"
      ]
    },
    {
      "cell_type": "markdown",
      "metadata": {
        "id": "rok6FpDgxV37"
      },
      "source": [
        "We define the parameters of the model."
      ]
    },
    {
      "cell_type": "code",
      "execution_count": null,
      "metadata": {
        "id": "H755Zr5RxV37"
      },
      "outputs": [],
      "source": [
        "model_config = {\n",
        "    \"num_inputs\": 256,               # 128 mel bins per spectrogram, but we have to spectrograms\n",
        "    \"num_outputs\": 128,              # Output also has 128 mel bins\n",
        "    \"num_channels\": [32*2, 32*4, 32*8],    # Example channel progression\n",
        "    \"instruments\": [\"vocal\"],        # Only output vocal, so no music branch\n",
        "    \"kernel_size\": 3,                # Must be odd\n",
        "    \"target_output_size\": 256,       # Desired output time frames (post-processing may crop)\n",
        "    \"conv_type\": \"normal\",           # Set to \"normal\" to meet assertion requirements\n",
        "    \"res\": \"fixed\",                  # Use fixed resampling\n",
        "    \"separate\": False,                # Separate branch for vocal\n",
        "    \"depth\": 1,                      # Number of conv layers per block\n",
        "    \"strides\": 2                   # Down/up-sampling stride\n",
        "}"
      ]
    },
    {
      "cell_type": "markdown",
      "metadata": {
        "id": "dFFCD4BRxV38"
      },
      "source": [
        "Load the model, check how much GPU memory it will use during training, and print a summary of the model."
      ]
    },
    {
      "cell_type": "code",
      "execution_count": null,
      "metadata": {
        "id": "wCkCtLVZxV38",
        "colab": {
          "base_uri": "https://localhost:8080/"
        },
        "outputId": "a7da9d5e-3fc5-4b0f-de26-9a9856f02ae5"
      },
      "outputs": [
        {
          "output_type": "stream",
          "name": "stdout",
          "text": [
            "Using valid convolutions with 289 inputs and 257 outputs\n",
            "Peak GPU memory allocated (bytes): 955764736\n",
            "Current GPU memory allocated (bytes): 153949696\n",
            "|===========================================================================|\n",
            "|                  PyTorch CUDA memory summary, device ID 0                 |\n",
            "|---------------------------------------------------------------------------|\n",
            "|            CUDA OOMs: 0            |        cudaMalloc retries: 0         |\n",
            "|===========================================================================|\n",
            "|        Metric         | Cur Usage  | Peak Usage | Tot Alloc  | Tot Freed  |\n",
            "|---------------------------------------------------------------------------|\n",
            "| Allocated memory      | 150341 KiB |    911 MiB |   3091 MiB |   2945 MiB |\n",
            "|       from large pool | 139776 KiB |    908 MiB |   3076 MiB |   2939 MiB |\n",
            "|       from small pool |  10565 KiB |     12 MiB |     15 MiB |      5 MiB |\n",
            "|---------------------------------------------------------------------------|\n",
            "| Active memory         | 150341 KiB |    911 MiB |   3091 MiB |   2945 MiB |\n",
            "|       from large pool | 139776 KiB |    908 MiB |   3076 MiB |   2939 MiB |\n",
            "|       from small pool |  10565 KiB |     12 MiB |     15 MiB |      5 MiB |\n",
            "|---------------------------------------------------------------------------|\n",
            "| Requested memory      | 150338 KiB |    908 MiB |   3078 MiB |   2931 MiB |\n",
            "|       from large pool | 139776 KiB |    905 MiB |   3062 MiB |   2926 MiB |\n",
            "|       from small pool |  10562 KiB |     12 MiB |     15 MiB |      5 MiB |\n",
            "|---------------------------------------------------------------------------|\n",
            "| GPU reserved memory   |   1216 MiB |   1216 MiB |   1216 MiB |      0 B   |\n",
            "|       from large pool |   1202 MiB |   1202 MiB |   1202 MiB |      0 B   |\n",
            "|       from small pool |     14 MiB |     14 MiB |     14 MiB |      0 B   |\n",
            "|---------------------------------------------------------------------------|\n",
            "| Non-releasable memory |   7354 KiB |  86989 KiB | 591685 KiB | 584330 KiB |\n",
            "|       from large pool |   5632 KiB |  83520 KiB | 575483 KiB | 569851 KiB |\n",
            "|       from small pool |   1722 KiB |   3469 KiB |  16202 KiB |  14479 KiB |\n",
            "|---------------------------------------------------------------------------|\n",
            "| Allocations           |      88    |     108    |     238    |     150    |\n",
            "|       from large pool |       3    |      33    |     101    |      98    |\n",
            "|       from small pool |      85    |     105    |     137    |      52    |\n",
            "|---------------------------------------------------------------------------|\n",
            "| Active allocs         |      88    |     108    |     238    |     150    |\n",
            "|       from large pool |       3    |      33    |     101    |      98    |\n",
            "|       from small pool |      85    |     105    |     137    |      52    |\n",
            "|---------------------------------------------------------------------------|\n",
            "| GPU reserved segments |      40    |      40    |      40    |       0    |\n",
            "|       from large pool |      33    |      33    |      33    |       0    |\n",
            "|       from small pool |       7    |       7    |       7    |       0    |\n",
            "|---------------------------------------------------------------------------|\n",
            "| Non-releasable allocs |       8    |      28    |      72    |      64    |\n",
            "|       from large pool |       3    |      23    |      60    |      57    |\n",
            "|       from small pool |       5    |       6    |      12    |       7    |\n",
            "|---------------------------------------------------------------------------|\n",
            "| Oversize allocations  |       0    |       0    |       0    |       0    |\n",
            "|---------------------------------------------------------------------------|\n",
            "| Oversize GPU segments |       0    |       0    |       0    |       0    |\n",
            "|===========================================================================|\n",
            "\n",
            "----------------------------------------------------------------\n",
            "        Layer (type)               Output Shape         Param #\n",
            "================================================================\n",
            "            Conv1d-1              [-1, 64, 287]          49,216\n",
            "         ConvLayer-2              [-1, 64, 287]               0\n",
            "            Conv1d-3             [-1, 128, 285]          24,704\n",
            "         ConvLayer-4             [-1, 128, 285]               0\n",
            "        Resample1d-5             [-1, 128, 143]               0\n",
            " DownsamplingBlock-6  [[-1, 128, 143], [-1, 64, 287]]               0\n",
            "            Conv1d-7             [-1, 128, 141]          49,280\n",
            "         ConvLayer-8             [-1, 128, 141]               0\n",
            "            Conv1d-9             [-1, 256, 139]          98,560\n",
            "        ConvLayer-10             [-1, 256, 139]               0\n",
            "       Resample1d-11              [-1, 256, 70]               0\n",
            "DownsamplingBlock-12  [[-1, 256, 70], [-1, 128, 141]]               0\n",
            "           Conv1d-13              [-1, 256, 68]         196,864\n",
            "        ConvLayer-14              [-1, 256, 68]               0\n",
            "       Resample1d-15             [-1, 256, 135]               0\n",
            "           Conv1d-16             [-1, 128, 133]          98,432\n",
            "        ConvLayer-17             [-1, 128, 133]               0\n",
            "           Conv1d-18             [-1, 128, 131]          98,432\n",
            "        ConvLayer-19             [-1, 128, 131]               0\n",
            "  UpsamplingBlock-20             [-1, 128, 131]               0\n",
            "       Resample1d-21             [-1, 128, 261]               0\n",
            "           Conv1d-22              [-1, 64, 259]          24,640\n",
            "        ConvLayer-23              [-1, 64, 259]               0\n",
            "           Conv1d-24              [-1, 64, 257]          24,640\n",
            "        ConvLayer-25              [-1, 64, 257]               0\n",
            "  UpsamplingBlock-26              [-1, 64, 257]               0\n",
            "           Conv1d-27             [-1, 128, 257]           8,320\n",
            "================================================================\n",
            "Total params: 673,088\n",
            "Trainable params: 673,088\n",
            "Non-trainable params: 0\n",
            "----------------------------------------------------------------\n",
            "Input size (MB): 0.28\n",
            "Forward/backward pass size (MB): 5028.32\n",
            "Params size (MB): 2.57\n",
            "Estimated Total Size (MB): 5031.17\n",
            "----------------------------------------------------------------\n"
          ]
        }
      ],
      "source": [
        "# Ensure that you have a CUDA-enabled device\n",
        "device = torch.device(\"cuda\" if torch.cuda.is_available() else \"cpu\")\n",
        "\n",
        "# Instantiate and move the model to GPU\n",
        "generator = Waveunet(**model_config).to(device)\n",
        "\n",
        "# Set up a dummy optimizer and loss function\n",
        "optimizer = Adam(generator.parameters(), lr=1e-3)\n",
        "loss_fn = L1Loss()\n",
        "\n",
        "# Define a dummy batch size\n",
        "batch_size = 256\n",
        "\n",
        "# Create a dummy input tensor with the required shape\n",
        "# model.num_inputs corresponds to the number of channels (256 in your config)\n",
        "# model.input_size is the computed length (353, for instance)\n",
        "dummy_input = torch.randn(batch_size, generator.num_inputs, generator.input_size, device=device)\n",
        "\n",
        "# Create a dummy target tensor with the shape that your model outputs.\n",
        "# For a single output branch (vocal), the output shape should be:\n",
        "# (batch_size, num_outputs, model.output_size)\n",
        "# model.num_outputs is 128 and model.output_size is computed (257 in your case)\n",
        "dummy_target = torch.randn(batch_size, generator.num_outputs, generator.output_size, device=device)\n",
        "\n",
        "# Reset GPU peak memory stats\n",
        "torch.cuda.reset_peak_memory_stats(device)\n",
        "\n",
        "# Run a single forward and backward pass\n",
        "optimizer.zero_grad()\n",
        "# If separate is False, the model returns a dictionary; pass the correct key.\n",
        "output = generator(dummy_input)[\"vocal\"]\n",
        "loss = loss_fn(output, dummy_target)\n",
        "loss.backward()\n",
        "optimizer.step()\n",
        "\n",
        "# Retrieve GPU memory stats\n",
        "peak_memory = torch.cuda.max_memory_allocated(device)\n",
        "current_memory = torch.cuda.memory_allocated(device)\n",
        "print(\"Peak GPU memory allocated (bytes):\", peak_memory)\n",
        "print(\"Current GPU memory allocated (bytes):\", current_memory)\n",
        "\n",
        "# Optionally, print a detailed memory summary\n",
        "print(torch.cuda.memory_summary(device=device))\n",
        "\n",
        "\n",
        "summary(generator, input_size=(generator.num_inputs,  generator.input_size))\n"
      ]
    },
    {
      "cell_type": "markdown",
      "metadata": {
        "id": "J3urQe1yxV38"
      },
      "source": [
        "Optionally compile the model to potentially decrease training time."
      ]
    },
    {
      "cell_type": "code",
      "execution_count": null,
      "metadata": {
        "id": "7srOJSNJxV38"
      },
      "outputs": [],
      "source": [
        "# generator = torch.compile(generator, mode='max-autotune')"
      ]
    },
    {
      "cell_type": "markdown",
      "metadata": {
        "id": "Txk2TxUixV38"
      },
      "source": [
        "If we compile the model, to save it after training, we have to uncompile it using the following code:\n",
        "\n",
        "```python\n",
        "orig_generator = generator._orig_mod\n",
        "path = \"\"\n",
        "torch.save(orig_generator.state_dict(), path + \"generator_state_dict.pt\")\n"
      ]
    },
    {
      "cell_type": "markdown",
      "metadata": {
        "id": "mjCddsoTxV39"
      },
      "source": [
        "## Initialize miniRocket\n",
        "We start by loading the necessary packages"
      ]
    },
    {
      "cell_type": "markdown",
      "metadata": {
        "id": "Hg5T7Os6xV39"
      },
      "source": [
        "### CPU Core Allocation for MiniRocketMultivariate\n",
        "\n",
        "- The implementation of `MiniRocketMultivariate` runs on the **CPU**.\n",
        "- We need to decide how many cores to allocate for it.\n",
        "- Some cores will be used by MiniRocket itself, while others are needed for data preparation (e.g., generating spectrograms).\n",
        "- This allocation likely needs to be **tuned for optimal performance**.\n",
        "- As a starting point, we detect the number of available cores and split them evenly.\n",
        "- Note: We avoid using *all* available cores to leave some resources for the operating system and other background processes.\n"
      ]
    },
    {
      "cell_type": "code",
      "execution_count": null,
      "metadata": {
        "id": "XwscObQrxV39",
        "colab": {
          "base_uri": "https://localhost:8080/"
        },
        "outputId": "cba2cdd0-88ad-4ec7-a345-e47cd838a277"
      },
      "outputs": [
        {
          "output_type": "stream",
          "name": "stdout",
          "text": [
            "12\n"
          ]
        }
      ],
      "source": [
        "import multiprocessing\n",
        "num_cores = multiprocessing.cpu_count()\n",
        "print(num_cores)\n",
        "minirocket_n_jobs = num_cores // 2 - 1\n",
        "dataloader_n_jobs = num_cores - minirocket_n_jobs - 1"
      ]
    },
    {
      "cell_type": "markdown",
      "metadata": {
        "id": "X6ZXiPhWxV39"
      },
      "source": [
        "Create the MiniRocket model"
      ]
    },
    {
      "cell_type": "code",
      "execution_count": null,
      "metadata": {
        "id": "NhG7_-VlxV39"
      },
      "outputs": [],
      "source": [
        "\n",
        "# MiniRocket Discriminator using tsai library\n",
        "class TsaiMiniRocketDiscriminator(nn.Module):\n",
        "    def __init__(\n",
        "        self,\n",
        "        freq_bins=256,\n",
        "        time_frames=256,\n",
        "        num_kernels=10000,  # number of convolutional kernels\n",
        "        hidden_dim=1024,    # Increased to handle larger feature dimension\n",
        "        output_dim=1\n",
        "    ):\n",
        "        super(TsaiMiniRocketDiscriminator, self).__init__()\n",
        "\n",
        "        # This is the mini rocket transformer which extracts features\n",
        "        self.rocket = MiniRocketMultivariate(num_kernels=num_kernels, n_jobs=minirocket_n_jobs)\n",
        "        # tsai's miniRocketClassifier is implemented with MiniRocketMultivariate as well\n",
        "        self.fitted = False   # fit before training\n",
        "        self.freq_bins = freq_bins\n",
        "        self.time_frames = time_frames\n",
        "        self.num_kernels = num_kernels\n",
        "\n",
        "        # For 2D data handling - process each sample with proper dimensions\n",
        "        self.example_input = np.zeros((1, freq_bins, time_frames))\n",
        "\n",
        "        feature_dim = num_kernels * 2  # For vocals + accompaniment\n",
        "\n",
        "        # Example feature reducing layers\n",
        "        self.classifier = nn.Sequential(\n",
        "            # First reduce the massive dimension to something manageable\n",
        "            nn.Linear(feature_dim, hidden_dim),\n",
        "            nn.LeakyReLU(0.2),\n",
        "            nn.Dropout(0.3),\n",
        "\n",
        "            # Second hidden layer\n",
        "            nn.Linear(hidden_dim, hidden_dim // 2),\n",
        "            nn.LeakyReLU(0.2),\n",
        "            nn.Dropout(0.3),\n",
        "\n",
        "            # Final classification layer\n",
        "            nn.Linear(hidden_dim // 2, output_dim),\n",
        "            nn.Sigmoid()\n",
        "        )\n",
        "\n",
        "    def fit_rocket(self, spectrograms):\n",
        "        \"\"\"\n",
        "            Fit MiniRocket with just one piece of vocal training data (not the entire training dataset)\n",
        "        \"\"\"\n",
        "        if not self.fitted:\n",
        "            try:\n",
        "                # Reshape for MiniRocket - it expects (n_instances, n_dimensions, series_length)\n",
        "                # flatten the freq_bins dimension to create a multivariate time series\n",
        "                batch_size = spectrograms.shape[0]\n",
        "\n",
        "                # Convert first to numpy for sktime processing\n",
        "                sample_data = spectrograms.cpu().numpy()\n",
        "\n",
        "                # Reshape to sktime's expected format - reduce to single sample for fitting\n",
        "                sample_data = sample_data[:1, 0]  # Take one sample, remove channel dim\n",
        "\n",
        "                # Fit on this sample\n",
        "                self.rocket.fit(sample_data)\n",
        "                self.fitted = True\n",
        "\n",
        "                # Test transform to get feature dimension\n",
        "                test_transform = self.rocket.transform(sample_data)\n",
        "                self.feature_dim = test_transform.shape[1]\n",
        "\n",
        "                print(f\"MiniRocket fitted. Feature dimension: {self.feature_dim}\")\n",
        "\n",
        "            except Exception as e:\n",
        "                print(f\"Error fitting MiniRocket: {e}\")\n",
        "                # Use a fallback if fitting fails\n",
        "                self.fitted = True  # Mark as fitted to avoid repeated attempts\n",
        "\n",
        "    def extract_features(self, spectrogram):\n",
        "        \"\"\"Extract MiniRocket features from a spectrogram\"\"\"\n",
        "        try:\n",
        "            # Ensure rocket is fitted\n",
        "            if not self.fitted:\n",
        "                self.fit_rocket(spectrogram)\n",
        "\n",
        "            # Convert to numpy for sktime\n",
        "            spec_np = spectrogram.cpu().numpy()\n",
        "\n",
        "            # Remove channel dimension expected by sktime\n",
        "            spec_np = spec_np[:, 0]  # [batch_size, freq_bins, time_frames]\n",
        "\n",
        "            # This step extracts features using the convolutional kernels, numbers specified by num_kernels\n",
        "            features = self.rocket.transform(spec_np)\n",
        "\n",
        "            # Convert back to torch tensor\n",
        "            features = torch.tensor(features, dtype=torch.float32).to(spectrogram.device)\n",
        "\n",
        "            return features\n",
        "\n",
        "        except Exception as e:\n",
        "            print(f\"Error in feature extraction: {e}\")\n",
        "            # Return zeros as fallback\n",
        "            return torch.zeros((spectrogram.shape[0], self.num_kernels),\n",
        "                              device=spectrogram.device)\n",
        "\n",
        "    def forward(self, vocals, accompaniment):\n",
        "        \"\"\"\n",
        "        Forward pass of the discriminator\n",
        "\n",
        "        Args:\n",
        "            vocals: Spectrograms of shape [batch_size, channels, freq_bins, time_frames]\n",
        "            accompaniment: Spectrograms of shape [batch_size, channels, freq_bins, time_frames]\n",
        "        \"\"\"\n",
        "        # Extract features from both spectrograms\n",
        "        vocal_features = self.extract_features(vocals)\n",
        "        accomp_features = self.extract_features(accompaniment)\n",
        "\n",
        "        # Concatenate features (conditional GAN)\n",
        "        combined_features = torch.cat([vocal_features, accomp_features], dim=1)\n",
        "\n",
        "        # Classify as real/fake\n",
        "        validity = self.classifier(combined_features)\n",
        "\n",
        "        return validity\n",
        "\n"
      ]
    },
    {
      "cell_type": "code",
      "execution_count": null,
      "metadata": {
        "id": "b6ACeYdNxV39"
      },
      "outputs": [],
      "source": [
        "discriminator = TsaiMiniRocketDiscriminator()\n",
        "# We probably do not need to compile the model"
      ]
    },
    {
      "cell_type": "markdown",
      "source": [
        "# Import Data into Session\n",
        "\n",
        "First, we run the code that defines the custom Dataset objects. The Datasets were compiled previously and saved in .pt files. In the next cell, we load those Dataset objects."
      ],
      "metadata": {
        "id": "YEaNx9F0Hnwa"
      }
    },
    {
      "cell_type": "code",
      "execution_count": null,
      "metadata": {
        "id": "bpu-Q2zGxV39"
      },
      "outputs": [],
      "source": [
        "class MusdbDataset(Dataset):\n",
        "\n",
        "  def __init__(self, musDB, steps = 256):\n",
        "    self.mel_specs = torch.zeros(1, 2, 128, steps)\n",
        "    self.sample_rates = torch.tensor([0])\n",
        "\n",
        "    print(\"Tracks in MusDB:\", len(musDB))\n",
        "\n",
        "    for track in musDB:\n",
        "      stems, rate = track.stems, track.rate\n",
        "\n",
        "      # separate the vocal from other instruments and conver to mono signal\n",
        "      audio_novocal = librosa.to_mono(np.transpose(stems[1] + stems[2] + stems[3]))\n",
        "      audio_vocal = librosa.to_mono(np.transpose(stems[4]))\n",
        "\n",
        "      # compute log mel spectrogram and convert to pytorch tensor\n",
        "      logmelspec_novocal = torch.from_numpy(self._mel_spectrogram(audio_novocal, rate))\n",
        "      logmelspec_vocal = torch.from_numpy(self._mel_spectrogram(audio_vocal, rate))\n",
        "\n",
        "      num_slices = logmelspec_novocal.shape[1] // steps\n",
        "\n",
        "      # chop off the last bit so that number of stft steps is a multiple of step size\n",
        "      logmelspec_novocal = logmelspec_novocal[0:128 , 0:num_slices*steps]\n",
        "      logmelspec_vocal = logmelspec_vocal[0:128, 0:num_slices*steps]\n",
        "\n",
        "      logmelspec_novocal = torch.reshape(logmelspec_novocal, (num_slices, 128, steps))\n",
        "      logmelspec_vocal = torch.reshape(logmelspec_vocal, (num_slices, 128, steps))\n",
        "\n",
        "      # unsqueeze and concatenate these tensors. Then concatenate to the big tensor\n",
        "      logmels = torch.cat((logmelspec_novocal.unsqueeze(1), logmelspec_vocal.unsqueeze(1)), 1)\n",
        "      self.mel_specs = torch.cat((self.mel_specs, logmels), 0)\n",
        "      self.sample_rates = torch.cat((self.sample_rates, torch.Tensor([rate])), 0)\n",
        "\n",
        "    # remove the all zeros slice that we initialized with\n",
        "    self.mel_specs = self.mel_specs[1: , : , : , :]\n",
        "    self.sample_rates = self.sample_rates[1:]\n",
        "\n",
        "  def __len__(self):\n",
        "    return self.mel_specs.shape[0]\n",
        "\n",
        "  def __getitem__(self, ndx):\n",
        "    # returns tuple (mel spectrogram of accompaniment, mel spectrogram of vocal, rate)\n",
        "    return self.mel_specs[ndx, 0], self.mel_specs[ndx, 1], self.sample_rates[ndx]\n",
        "\n",
        "  def _mel_spectrogram(self, audio, rate):\n",
        "    # compute the log-mel-spectrogram of the audio at the given sample rate\n",
        "    return librosa.power_to_db(librosa.feature.melspectrogram(y = audio, sr = rate))\n",
        "\n",
        "\n",
        "class LibriSpeechDataset(Dataset):\n",
        "\n",
        "  def __init__(self, path, steps = 256, num_specs = 7647):\n",
        "    self.mel_specs = self.mel_specs = torch.zeros(1, 128, steps)\n",
        "    self.sample_rates = torch.tensor([0])\n",
        "\n",
        "    num_files_opened = 0\n",
        "\n",
        "    for speaker_dir in os.listdir(path):\n",
        "      speaker_path = path + \"/\" + speaker_dir\n",
        "      for chapter_dir in os.listdir(speaker_path):\n",
        "        chapter_path = speaker_path + \"/\" + chapter_dir\n",
        "        for file in os.listdir(chapter_path):\n",
        "          # checks file extension and stops when we hit desired number of spectrograms (num_specs)\n",
        "          if file.endswith('.flac') and self.mel_specs.shape[0] - 1 < num_specs:\n",
        "\n",
        "            try:\n",
        "              # get audio file and convert to log mel spectrogram\n",
        "              speech, rate = librosa.load(chapter_path + \"/\" + file, sr = 44100)\n",
        "              mel_spec = torch.from_numpy(self._mel_spectrogram(speech, rate))\n",
        "\n",
        "              # Saves the total number of 128 x (steps) spectrograms\n",
        "              num_slices = mel_spec.shape[1] // steps\n",
        "\n",
        "              # chop off the last bit so that number of stft steps is a multiple of step size\n",
        "              mel_spec = mel_spec[ : , 0 : num_slices*steps]\n",
        "\n",
        "              # reshape the tensor to have many spectrograms of size 128 x (steps)\n",
        "              mel_spec = torch.transpose(torch.reshape(mel_spec, (128, num_slices, steps)), 0, 1)\n",
        "\n",
        "              # concatenate tensor to the full tensor in the Dataset object\n",
        "              self.mel_specs = torch.cat((self.mel_specs, mel_spec), 0)\n",
        "              self.sample_rates = torch.cat((self.sample_rates, torch.Tensor([rate])), 0)\n",
        "              num_files_opened += 1\n",
        "\n",
        "            except:\n",
        "              print(\"failed to open \" + file)\n",
        "\n",
        "\n",
        "    # chop off the zero layer we initialized with\n",
        "    self.mel_specs = self.mel_specs[1:]\n",
        "    self.sample_rates = self.sample_rates[1:]\n",
        "    print(\"opened \" + str(num_files_opened) + \" files\")\n",
        "    print(\"collected \" + str(self.mel_specs.shape[0]) + \" chunks\")\n",
        "\n",
        "  def __len__(self):\n",
        "    return self.mel_specs.shape[0]\n",
        "\n",
        "  def __getitem__(self, ndx):\n",
        "    return self.mel_specs[ndx], self.sample_rates[ndx]\n",
        "\n",
        "  def _mel_spectrogram(self, audio, rate):\n",
        "    # compute the log-mel-spectrogram of the audio at the given sample rate\n",
        "    return librosa.power_to_db(librosa.feature.melspectrogram(y = audio, sr = rate))"
      ]
    },
    {
      "cell_type": "code",
      "source": [
        "# The string below is the path to the saved MusdbDataset in your Drive\n",
        "musdbDataset_path = \"path/filename.pt\"\n",
        "# The string below is the path to the saved LibriSpeechDataset in your Drive\n",
        "librispeechDataset_path = \"path/filename.pt\"\n",
        "\n",
        "musdb_dataset = torch.load(musdbDataset_path)\n",
        "librispeech_dataset = torch.load(librispeechDataset_path)\n",
        "\n",
        "# Because of the way the librispeech dataset was constructed, it is slightly longer\n",
        "# than the musbd dataset. Crop the librispeech dataset with these lines\n",
        "librispeech_dataset.mel_specs = librispeech_data.mel_specs[0:len(musdb_dataset)]\n",
        "librispeech_dataset.sample_rates = librispeech_data.sample_rates[0:len(musdb_dataset)]"
      ],
      "metadata": {
        "id": "JHlmMGgzGqb-"
      },
      "execution_count": null,
      "outputs": []
    },
    {
      "cell_type": "markdown",
      "metadata": {
        "id": "2jg9I_4qxV3-"
      },
      "source": [
        "## Train the GAN\n",
        "The models are ``generator`` and ``discriminator``."
      ]
    },
    {
      "cell_type": "code",
      "execution_count": null,
      "metadata": {
        "id": "lbLNj0VUxV3-"
      },
      "outputs": [],
      "source": [
        "# To do"
      ]
    },
    {
      "cell_type": "markdown",
      "metadata": {
        "id": "dWffnPNExV3-"
      },
      "source": [
        "## Save the models"
      ]
    },
    {
      "cell_type": "code",
      "execution_count": null,
      "metadata": {
        "id": "O6dDyxJmxV3-"
      },
      "outputs": [],
      "source": [
        "# Assuming we have compiled the generator\n",
        "orig_generator = generator._orig_mod\n",
        "path = \"\"\n",
        "torch.save(orig_generator.state_dict(), path + \"generator_state_dict.pt\")\n",
        "# Save the discriminator state dict\n",
        "torch.save(discriminator.state_dict(), path + \"discriminator_state_dict.pt\")"
      ]
    }
  ],
  "metadata": {
    "kernelspec": {
      "display_name": "Python 3",
      "name": "python3"
    },
    "language_info": {
      "codemirror_mode": {
        "name": "ipython",
        "version": 3
      },
      "file_extension": ".py",
      "mimetype": "text/x-python",
      "name": "python",
      "nbconvert_exporter": "python",
      "pygments_lexer": "ipython3",
      "version": "3.10.12"
    },
    "colab": {
      "provenance": [],
      "machine_shape": "hm",
      "gpuType": "L4"
    },
    "accelerator": "GPU"
  },
  "nbformat": 4,
  "nbformat_minor": 0
}