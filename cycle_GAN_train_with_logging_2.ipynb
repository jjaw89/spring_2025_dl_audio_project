{
  "cells": [
    {
      "cell_type": "markdown",
      "metadata": {
        "id": "4qxrWZHYxV36"
      },
      "source": [
        "Here we train our first version of the GAN.\n",
        "\n"
      ]
    },
    {
      "cell_type": "markdown",
      "metadata": {
        "id": "vARIOK_HxV36"
      },
      "source": [
        "## Initialize Wave-U-Net\n",
        "\n",
        "We start by loading the necessary packages\n",
        "\n",
        "Wave-U-Net is named ``generator``"
      ]
    },
    {
      "cell_type": "code",
      "execution_count": null,
      "metadata": {
        "colab": {
          "base_uri": "https://localhost:8080/"
        },
        "id": "f_3vGK4LxV37",
        "outputId": "7ada6b06-4a84-460f-b1fa-0e7bbc1f63b0"
      },
      "outputs": [],
      "source": [
        "# Import same packages as the train script in Wave-U-Net-Pytorch\n",
        "import argparse\n",
        "import os\n",
        "import time\n",
        "from functools import partial\n",
        "import gc\n",
        "from datetime import datetime\n",
        "\n",
        "import torch\n",
        "import pickle\n",
        "import numpy as np\n",
        "\n",
        "import torch.nn as nn\n",
        "from torch.utils.tensorboard import SummaryWriter\n",
        "from torch.optim import Adam\n",
        "from torch.nn import L1Loss\n",
        "from tqdm import tqdm\n",
        "from torchsummary import summary\n",
        "import torch.optim as optim\n",
        "from torch.utils.data import Dataset, DataLoader\n",
        "import tensorboard\n",
        "import tensorboard.notebook as nb\n",
        "from torch.utils.tensorboard import SummaryWriter\n",
        "import numpy as np\n",
        "# install torchaudio if not already installed\n",
        "# ! pip install torchaudio\n",
        "import torchaudio\n",
        "\n",
        "import matplotlib.pyplot as plt\n",
        "from typing import Tuple, List, Dict, Optional\n",
        "\n",
        "!pip install sktime\n",
        "from sktime.transformations.panel.rocket import MiniRocketMultivariate\n",
        "\n",
        "from google.colab import drive\n",
        "drive.mount('/content/drive')\n",
        "%cd /content/drive/My Drive/git_projects/spring_2025_dl_audio_project\n",
        "\n",
        "\n",
        "# add a path to Wave-U-Net\n",
        "import sys\n",
        "sys.path.append('Wave-U-Net-Pytorch')\n",
        "\n",
        "import model.utils as model_utils\n",
        "import utils\n",
        "from model.waveunet import Waveunet\n",
        "\n",
        "# Check to see if we have a GPU available\n",
        "print(\"GPU:\", torch.cuda.is_available())"
      ]
    },
    {
      "cell_type": "code",
      "execution_count": null,
      "metadata": {
        "id": "yfjgCEsl31aK"
      },
      "outputs": [],
      "source": [
        "# I run these commands in the terminal that you get when you pay for Colab.\n",
        "\n",
        "# %pip install musdb  # has some helpful data structures, also installs ffmpeg and stempeg\n",
        "# %pip uninstall stempeg    # musdb installs the wrong version of stempeg'"
      ]
    },
    {
      "cell_type": "markdown",
      "metadata": {
        "id": "rok6FpDgxV37"
      },
      "source": [
        "We define the parameters of the model."
      ]
    },
    {
      "cell_type": "code",
      "execution_count": null,
      "metadata": {
        "id": "H755Zr5RxV37"
      },
      "outputs": [],
      "source": [
        "model_config = {\n",
        "    \"num_inputs\": 256,               # 128 mel bins per spectrogram, but we have to spectrograms\n",
        "    \"num_outputs\": 128,              # Output also has 128 mel bins\n",
        "    \"num_channels\": [512*2, 512*4, 512*8],    # Example channel progression\n",
        "    \"instruments\": [\"vocal\"],        # Only output vocal, so no music branch\n",
        "    \"kernel_size\": 3,                # Must be odd\n",
        "    \"target_output_size\": 256,       # Desired output time frames (post-processing may crop)\n",
        "    \"conv_type\": \"normal\",           # Set to \"normal\" to meet assertion requirements\n",
        "    \"res\": \"fixed\",                  # Use fixed resampling\n",
        "    \"separate\": False,                # Separate branch for vocal\n",
        "    \"depth\": 1,                      # Number of conv layers per block\n",
        "    \"strides\": 2                   # Down/up-sampling stride\n",
        "}"
      ]
    },
    {
      "cell_type": "markdown",
      "metadata": {
        "id": "dFFCD4BRxV38"
      },
      "source": [
        "Load the model, check how much GPU memory it will use during training, and print a summary of the model."
      ]
    },
    {
      "cell_type": "code",
      "execution_count": null,
      "metadata": {
        "colab": {
          "base_uri": "https://localhost:8080/"
        },
        "id": "wCkCtLVZxV38",
        "outputId": "a83a46c8-c1ad-4c2c-a42f-80921bdae34c"
      },
      "outputs": [],
      "source": [
        "# Ensure that you have a CUDA-enabled device\n",
        "device = torch.device(\"cuda\" if torch.cuda.is_available() else \"cpu\")\n",
        "\n",
        "# Instantiate and move the model to GPU\n",
        "generator = Waveunet(**model_config).to(device)\n",
        "\n",
        "# # Set up a dummy optimizer and loss function\n",
        "# optimizer = Adam(generator.parameters(), lr=1e-3)\n",
        "# loss_fn = L1Loss()\n",
        "\n",
        "# # Define a dummy batch size\n",
        "# batch_size = 256\n",
        "\n",
        "# # Create a dummy input tensor with the required shape\n",
        "# # model.num_inputs corresponds to the number of channels (256 in your config)\n",
        "# # model.input_size is the computed length (353, for instance)\n",
        "# dummy_input = torch.randn(batch_size, generator.num_inputs, generator.input_size, device=device)\n",
        "\n",
        "# # Create a dummy target tensor with the shape that your model outputs.\n",
        "# # For a single output branch (vocal), the output shape should be:\n",
        "# # (batch_size, num_outputs, model.output_size)\n",
        "# # model.num_outputs is 128 and model.output_size is computed (257 in your case)\n",
        "# dummy_target = torch.randn(batch_size, generator.num_outputs, generator.output_size, device=device)\n",
        "\n",
        "# # Reset GPU peak memory stats\n",
        "# torch.cuda.reset_peak_memory_stats(device)\n",
        "\n",
        "# # Run a single forward and backward pass\n",
        "# optimizer.zero_grad()\n",
        "# # If separate is False, the model returns a dictionary; pass the correct key.\n",
        "# output = generator(dummy_input)[\"vocal\"]\n",
        "# loss = loss_fn(output, dummy_target)\n",
        "# loss.backward()\n",
        "# optimizer.step()\n",
        "\n",
        "# # Retrieve GPU memory stats\n",
        "# peak_memory = torch.cuda.max_memory_allocated(device)\n",
        "# current_memory = torch.cuda.memory_allocated(device)\n",
        "# print(\"Peak GPU memory allocated (bytes):\", peak_memory)\n",
        "# print(\"Current GPU memory allocated (bytes):\", current_memory)\n",
        "\n",
        "# # Optionally, print a detailed memory summary\n",
        "# print(torch.cuda.memory_summary(device=device))\n",
        "\n",
        "\n",
        "# summary(generator, input_size=(generator.num_inputs,  generator.input_size))\n"
      ]
    },
    {
      "cell_type": "markdown",
      "metadata": {
        "id": "J3urQe1yxV38"
      },
      "source": [
        "Optionally compile the model to potentially decrease training time."
      ]
    },
    {
      "cell_type": "code",
      "execution_count": null,
      "metadata": {
        "id": "7srOJSNJxV38"
      },
      "outputs": [],
      "source": []
    },
    {
      "cell_type": "markdown",
      "metadata": {
        "id": "Txk2TxUixV38"
      },
      "source": [
        "If we compile the model, to save it after training, we have to uncompile it using the following code:\n",
        "\n",
        "```python\n",
        "orig_generator = generator._orig_mod\n",
        "path = \"\"\n",
        "torch.save(orig_generator.state_dict(), path + \"generator_state_dict.pt\")\n"
      ]
    },
    {
      "cell_type": "markdown",
      "metadata": {
        "id": "mjCddsoTxV39"
      },
      "source": [
        "## Initialize miniRocket\n",
        "We start by loading the necessary packages"
      ]
    },
    {
      "cell_type": "markdown",
      "metadata": {
        "id": "Hg5T7Os6xV39"
      },
      "source": [
        "### CPU Core Allocation for MiniRocketMultivariate\n",
        "\n",
        "- The implementation of `MiniRocketMultivariate` runs on the **CPU**.\n",
        "- We need to decide how many cores to allocate for it.\n",
        "- Some cores will be used by MiniRocket itself, while others are needed for data preparation (e.g., generating spectrograms).\n",
        "- This allocation likely needs to be **tuned for optimal performance**.\n",
        "- As a starting point, we detect the number of available cores and split them evenly.\n",
        "- Note: We avoid using *all* available cores to leave some resources for the operating system and other background processes.\n"
      ]
    },
    {
      "cell_type": "code",
      "execution_count": null,
      "metadata": {
        "colab": {
          "base_uri": "https://localhost:8080/"
        },
        "id": "XwscObQrxV39",
        "outputId": "108f6c7f-b081-454b-f7ff-53435de4feb4"
      },
      "outputs": [],
      "source": [
        "import multiprocessing\n",
        "num_cores = multiprocessing.cpu_count()\n",
        "print(num_cores)\n",
        "minirocket_n_jobs = num_cores - 1\n",
        "# dataloader_n_jobs = num_cores - minirocket_n_jobs - 1"
      ]
    },
    {
      "cell_type": "markdown",
      "metadata": {
        "id": "X6ZXiPhWxV39"
      },
      "source": [
        "Create the MiniRocket model"
      ]
    },
    {
      "cell_type": "code",
      "execution_count": null,
      "metadata": {
        "id": "NhG7_-VlxV39"
      },
      "outputs": [],
      "source": [
        "import pandas as pd\n",
        "from time import time\n",
        "\n",
        "# MiniRocket Discriminator using tsai library\n",
        "class TsaiMiniRocketDiscriminator(nn.Module):\n",
        "    def __init__(\n",
        "        self,\n",
        "        freq_bins=256,\n",
        "        time_frames=256,\n",
        "        num_kernels=10000,  # number of convolutional kernels\n",
        "        hidden_dim=1024,    # Increased to handle larger feature dimension\n",
        "        output_dim=1\n",
        "    ):\n",
        "        super(TsaiMiniRocketDiscriminator, self).__init__()\n",
        "\n",
        "        # This is the mini rocket transformer which extracts features\n",
        "        self.rocket = MiniRocketMultivariate(num_kernels=num_kernels, n_jobs=minirocket_n_jobs)\n",
        "        # tsai's miniRocketClassifier is implemented with MiniRocketMultivariate as well\n",
        "        self.fitted = False   # fit before training\n",
        "        self.freq_bins = freq_bins\n",
        "        self.time_frames = time_frames\n",
        "        self.num_kernels = num_kernels\n",
        "\n",
        "        # For 2D data handling - process each sample with proper dimensions\n",
        "        self.example_input = np.zeros((1, freq_bins, time_frames))\n",
        "\n",
        "        self.feature_dim = num_kernels  # For vocals + accompaniment\n",
        "\n",
        "        # Example feature reducing layers\n",
        "        self.classifier = nn.Sequential(\n",
        "            # First reduce the massive dimension to something manageable\n",
        "            nn.LazyLinear( hidden_dim),\n",
        "            nn.LeakyReLU(0.2),\n",
        "            nn.Dropout(0.3),\n",
        "\n",
        "            # Second hidden layer\n",
        "            nn.Linear(hidden_dim, hidden_dim // 2),\n",
        "            nn.LeakyReLU(0.2),\n",
        "            nn.Dropout(0.3),\n",
        "\n",
        "            # Final classification layer\n",
        "            nn.Linear(hidden_dim // 2, output_dim),\n",
        "            nn.Sigmoid()\n",
        "        )\n",
        "\n",
        "    def fit_rocket(self, spectrograms):\n",
        "        \"\"\"\n",
        "            Fit MiniRocket with just one piece of vocal training data (not the entire training dataset)\n",
        "        \"\"\"\n",
        "        if not self.fitted:\n",
        "            try:\n",
        "                # Reshape for MiniRocket - it expects (n_instances, n_dimensions, series_length)\n",
        "                # flatten the freq_bins dimension to create a multivariate time series\n",
        "                batch_size = spectrograms.shape[0]\n",
        "\n",
        "                # Convert first to numpy for sktime processing\n",
        "                sample_data = spectrograms.detach().cpu().numpy()\n",
        "                # print(sample_data.shape)\n",
        "                # Reshape to sktime's expected format - reduce to single sample for fitting\n",
        "                # sample_data = sample_data[:, 0]  # Take one sample, remove channel dim\n",
        "\n",
        "                # Fit on this sample\n",
        "                self.rocket.fit(sample_data)\n",
        "                self.fitted = True\n",
        "\n",
        "                # Test transform to get feature dimension\n",
        "                test_transform = self.rocket.transform(sample_data)\n",
        "                self.feature_dim = test_transform.shape[1]\n",
        "\n",
        "                print(f\"MiniRocket fitted. Feature dimension: {self.feature_dim}\")\n",
        "\n",
        "            except Exception as e:\n",
        "                print(f\"Error fitting MiniRocket: {e}\")\n",
        "                # Use a fallback if fitting fails\n",
        "                self.fitted = True  # Mark as fitted to avoid repeated attempts\n",
        "\n",
        "    def extract_features(self, spectrogram):\n",
        "        \"\"\"Extract MiniRocket features from a spectrogram\"\"\"\n",
        "        try:\n",
        "            # Ensure rocket is fitted\n",
        "            if not self.fitted:\n",
        "                self.fit_rocket(spectrogram)\n",
        "\n",
        "            # Convert to numpy for sktime\n",
        "            spec_np = spectrogram.detach().cpu().numpy()\n",
        "\n",
        "            # Remove channel dimension expected by sktime\n",
        "            # print(spec_np.shape)\n",
        "            # spec_np = spec_np[:, 0]  # [batch_size, freq_bins, time_frames]\n",
        "            # print(spec_np.shape)\n",
        "\n",
        "            # This step extracts features using the convolutional kernels, numbers specified by num_kernels\n",
        "            # print(\"1\")\n",
        "            features = self.rocket.transform(spec_np)\n",
        "            # print(\"2\")\n",
        "            # Convert back to torch tensor\n",
        "            # print(\"features:\", features.shape)\n",
        "            # print(features.head())\n",
        "            features_tensor = torch.tensor(features.values).to(spectrogram.device)\n",
        "            # print(\"features:\", features.shape)\n",
        "            # print(\"3\")\n",
        "            return features_tensor\n",
        "\n",
        "        except Exception as e:\n",
        "            print(f\"Error in feature extraction: {e}\")\n",
        "            # Return zeros as fallback\n",
        "            return torch.zeros((spectrogram.shape[0], self.num_kernels),\n",
        "                              device=spectrogram.device)\n",
        "\n",
        "    def forward(self, vocals, accompaniment):\n",
        "        \"\"\"\n",
        "        Forward pass of the discriminator\n",
        "\n",
        "        Args:\n",
        "            vocals: Spectrograms of shape [batch_size, channels, freq_bins, time_frames]\n",
        "            accompaniment: Spectrograms of shape [batch_size, channels, freq_bins, time_frames]\n",
        "        \"\"\"\n",
        "        # Extract features from both spectrograms\n",
        "        # start_time = time()\n",
        "        vocal_features = self.extract_features(vocals)\n",
        "        accomp_features = self.extract_features(accompaniment)\n",
        "        # print(\"extract:\", time()-start_time)\n",
        "        # Concatenate features (conditional GAN)\n",
        "        combined_features = torch.cat([vocal_features, accomp_features], dim=1)\n",
        "        # print(combined_features.size())\n",
        "\n",
        "        # Classify as real/fake\n",
        "        validity = self.classifier(combined_features)\n",
        "\n",
        "        return validity\n",
        "\n"
      ]
    },
    {
      "cell_type": "code",
      "execution_count": null,
      "metadata": {
        "id": "b6ACeYdNxV39"
      },
      "outputs": [],
      "source": [
        "# del discriminator\n",
        "discriminator = TsaiMiniRocketDiscriminator()\n",
        "# We probably do not need to compile the model"
      ]
    },
    {
      "cell_type": "markdown",
      "metadata": {
        "id": "YEaNx9F0Hnwa"
      },
      "source": [
        "# Import Data into Session\n",
        "\n",
        "First, we run the code that defines the custom Dataset objects. The Datasets were compiled previously and saved in .pt files. In the next cell, we load those Dataset objects."
      ]
    },
    {
      "cell_type": "code",
      "execution_count": null,
      "metadata": {
        "id": "bpu-Q2zGxV39"
      },
      "outputs": [],
      "source": [
        "class MusdbDataset(Dataset):\n",
        "\n",
        "  def __init__(self, musDB, steps = 256):\n",
        "    self.mel_specs = torch.zeros(1, 2, 128, steps)\n",
        "    self.sample_rates = torch.tensor([0])\n",
        "\n",
        "    print(\"Tracks in MusDB:\", len(musDB))\n",
        "\n",
        "    for track in musDB:\n",
        "      stems, rate = track.stems, track.rate\n",
        "\n",
        "      # separate the vocal from other instruments and conver to mono signal\n",
        "      audio_novocal = librosa.to_mono(np.transpose(stems[1] + stems[2] + stems[3]))\n",
        "      audio_vocal = librosa.to_mono(np.transpose(stems[4]))\n",
        "\n",
        "      # compute log mel spectrogram and convert to pytorch tensor\n",
        "      logmelspec_novocal = torch.from_numpy(self._mel_spectrogram(audio_novocal, rate))\n",
        "      logmelspec_vocal = torch.from_numpy(self._mel_spectrogram(audio_vocal, rate))\n",
        "\n",
        "      num_slices = logmelspec_novocal.shape[1] // steps\n",
        "\n",
        "      # chop off the last bit so that number of stft steps is a multiple of step size\n",
        "      logmelspec_novocal = logmelspec_novocal[0:128 , 0:num_slices*steps]\n",
        "      logmelspec_vocal = logmelspec_vocal[0:128, 0:num_slices*steps]\n",
        "\n",
        "      logmelspec_novocal = torch.reshape(logmelspec_novocal, (num_slices, 128, steps))\n",
        "      logmelspec_vocal = torch.reshape(logmelspec_vocal, (num_slices, 128, steps))\n",
        "\n",
        "      # unsqueeze and concatenate these tensors. Then concatenate to the big tensor\n",
        "      logmels = torch.cat((logmelspec_novocal.unsqueeze(1), logmelspec_vocal.unsqueeze(1)), 1)\n",
        "      self.mel_specs = torch.cat((self.mel_specs, logmels), 0)\n",
        "      self.sample_rates = torch.cat((self.sample_rates, torch.Tensor([rate])), 0)\n",
        "\n",
        "    # remove the all zeros slice that we initialized with\n",
        "    self.mel_specs = self.mel_specs[1: , : , : , :]\n",
        "    self.sample_rates = self.sample_rates[1:]\n",
        "\n",
        "  def __len__(self):\n",
        "    return self.mel_specs.shape[0]\n",
        "\n",
        "  def __getitem__(self, ndx):\n",
        "    # returns tuple (mel spectrogram of accompaniment, mel spectrogram of vocal, rate)\n",
        "    return self.mel_specs[ndx, 0], self.mel_specs[ndx, 1], self.sample_rates[ndx]\n",
        "\n",
        "  def _mel_spectrogram(self, audio, rate):\n",
        "    # compute the log-mel-spectrogram of the audio at the given sample rate\n",
        "    return librosa.power_to_db(librosa.feature.melspectrogram(y = audio, sr = rate))\n",
        "\n",
        "\n",
        "class LibriSpeechDataset(Dataset):\n",
        "\n",
        "  def __init__(self, path, steps = 256, num_specs = 7647):\n",
        "    self.mel_specs = self.mel_specs = torch.zeros(1, 128, steps)\n",
        "    self.sample_rates = torch.tensor([0])\n",
        "\n",
        "    num_files_opened = 0\n",
        "\n",
        "    for speaker_dir in os.listdir(path):\n",
        "      speaker_path = path + \"/\" + speaker_dir\n",
        "      for chapter_dir in os.listdir(speaker_path):\n",
        "        chapter_path = speaker_path + \"/\" + chapter_dir\n",
        "        for file in os.listdir(chapter_path):\n",
        "          # checks file extension and stops when we hit desired number of spectrograms (num_specs)\n",
        "          if file.endswith('.flac') and self.mel_specs.shape[0] - 1 < num_specs:\n",
        "\n",
        "            try:\n",
        "              # get audio file and convert to log mel spectrogram\n",
        "              speech, rate = librosa.load(chapter_path + \"/\" + file, sr = 44100)\n",
        "              mel_spec = torch.from_numpy(self._mel_spectrogram(speech, rate))\n",
        "\n",
        "              # Saves the total number of 128 x (steps) spectrograms\n",
        "              num_slices = mel_spec.shape[1] // steps\n",
        "\n",
        "              # chop off the last bit so that number of stft steps is a multiple of step size\n",
        "              mel_spec = mel_spec[ : , 0 : num_slices*steps]\n",
        "\n",
        "              # reshape the tensor to have many spectrograms of size 128 x (steps)\n",
        "              mel_spec = torch.transpose(torch.reshape(mel_spec, (128, num_slices, steps)), 0, 1)\n",
        "\n",
        "              # concatenate tensor to the full tensor in the Dataset object\n",
        "              self.mel_specs = torch.cat((self.mel_specs, mel_spec), 0)\n",
        "              self.sample_rates = torch.cat((self.sample_rates, torch.Tensor([rate])), 0)\n",
        "              num_files_opened += 1\n",
        "\n",
        "            except:\n",
        "              print(\"failed to open \" + file)\n",
        "\n",
        "\n",
        "    # chop off the zero layer we initialized with\n",
        "    self.mel_specs = self.mel_specs[1:]\n",
        "    self.sample_rates = self.sample_rates[1:]\n",
        "    print(\"opened \" + str(num_files_opened) + \" files\")\n",
        "    print(\"collected \" + str(self.mel_specs.shape[0]) + \" chunks\")\n",
        "\n",
        "  def __len__(self):\n",
        "    return self.mel_specs.shape[0]\n",
        "\n",
        "  def __getitem__(self, ndx):\n",
        "    return self.mel_specs[ndx], self.sample_rates[ndx]\n",
        "\n",
        "  def _mel_spectrogram(self, audio, rate):\n",
        "    # compute the log-mel-spectrogram of the audio at the given sample rate\n",
        "    return librosa.power_to_db(librosa.feature.melspectrogram(y = audio, sr = rate))"
      ]
    },
    {
      "cell_type": "code",
      "execution_count": null,
      "metadata": {
        "colab": {
          "base_uri": "https://localhost:8080/",
          "height": 369
        },
        "id": "JHlmMGgzGqb-",
        "outputId": "29f02885-98ab-43f8-db2c-182955157239"
      },
      "outputs": [],
      "source": [
        "path = \"/content/drive/MyDrive/git_projects/spring_2025_dl_audio_project_data/\"\n",
        "\n",
        "# The string below is the path to the saved MusdbDataset in your Drive\n",
        "musdbDataset_path = path + \"Copy of musdb18_DatasetObject.pt\"\n",
        "\n",
        "# The string below is the path to the saved LibriSpeechDataset in your Drive\n",
        "librispeechDataset_path = path + \"Copy of LibriSpeechDatasetObject.pt\"\n",
        "\n",
        "musdb_dataset = torch.load(musdbDataset_path, weights_only=False)\n",
        "librispeech_dataset = torch.load(librispeechDataset_path, weights_only=False)\n",
        "\n",
        "\n"
      ]
    },
    {
      "cell_type": "code",
      "execution_count": null,
      "metadata": {
        "id": "DUHwFy2jR2JY"
      },
      "outputs": [],
      "source": [
        "# This fixes the problem with the sample rates\n",
        "musdb_dataset.sample_rates = torch.full((len(musdb_dataset),), 44100)\n",
        "librispeech_dataset.sample_rates = torch.full((len(musdb_dataset),), 44100)\n",
        "\n",
        "# Because of the way the librispeech dataset was constructed, it is slightly longer\n",
        "# than the musbd dataset. Crop the librispeech dataset with these lines\n",
        "librispeech_dataset.mel_specs = librispeech_dataset.mel_specs[0:len(musdb_dataset)]\n",
        "librispeech_dataset.sample_rates = librispeech_dataset.sample_rates[0:len(musdb_dataset)]"
      ]
    },
    {
      "cell_type": "markdown",
      "metadata": {
        "id": "Peiksp9NuMGX"
      },
      "source": [
        "### Explore these datasets"
      ]
    },
    {
      "cell_type": "code",
      "execution_count": null,
      "metadata": {
        "id": "RpREtcq0mYd8"
      },
      "outputs": [],
      "source": [
        "# --- Explore the Datasets ---\n",
        "print(\"=== MusDB Dataset Exploration ===\")\n",
        "print(\"Length:\", len(musdb_dataset))\n",
        "print(\"mel_specs shape:\", musdb_dataset.mel_specs.shape)\n",
        "print(\"sample_rates shape:\", musdb_dataset.sample_rates.shape)\n",
        "print()\n",
        "accompaniment, vocal, sample_rate = musdb_dataset[0]\n",
        "print(\"Sample 0 - Accompaniment shape:\", accompaniment.size())\n",
        "print(\"Sample 0 - Vocal shape:\", vocal.size())\n",
        "print(\"Sample 0 - Sample rate:\", sample_rate)\n",
        "print()\n",
        "\n",
        "print(\"=== LibriSpeech Dataset Exploration ===\")\n",
        "print(\"Length:\", len(librispeech_dataset))\n",
        "print(\"mel_specs shape:\", librispeech_dataset.mel_specs.shape)\n",
        "print(\"sample_rates shape:\", librispeech_dataset.sample_rates.shape)\n",
        "print()\n",
        "speech, sample_rate = librispeech_dataset[0]\n",
        "print(\"Sample 0 - Speech shape:\", speech.size())\n",
        "print(\"Sample 0 - Sample rate:\", sample_rate)"
      ]
    },
    {
      "cell_type": "markdown",
      "metadata": {
        "id": "OK8WbDmTjkNH"
      },
      "source": [
        "## Dataset Helpers Explanation\n",
        "Why New Dataset Helpers?\n",
        "\n",
        "We have created new dataset helper classes (i.e., AccompanimentData, VocalData, and SpeechData) so that we can control how the data is padded and later shuffled.\n",
        "\n",
        "- **Separation of Data:**\n",
        "We separated the vocal and accompaniment data from the MusDB dataset. In our experiments, we might want to shuffle the speech data independently of the combined music data.\n",
        "\n",
        "- **Shuffling Considerations:**\n",
        "For the vocal and accompaniment data, we want to maintain their pairing so that they are shuffled in the same order. In contrast, we want the speech data to be shuffled independently.\n",
        "\n",
        "- **Future Extensions:**\n",
        "In the future, we may add another helper class that combines the vocal and accompaniment data to ensure synchronized shuffling in our data loaders.\n",
        "\n",
        "This modular approach gives us flexibility in handling and preprocessing the data for our GAN training."
      ]
    },
    {
      "cell_type": "code",
      "execution_count": null,
      "metadata": {
        "id": "O7OGNnS8XMVd"
      },
      "outputs": [],
      "source": [
        "import torch\n",
        "from torch.utils.data import Dataset, DataLoader\n",
        "import torch.nn.functional as F\n",
        "\n",
        "class AccompanimentData(Dataset):\n",
        "    def __init__(self, musdb_dataset, output_length=289):\n",
        "        self.musdb_dataset = musdb_dataset\n",
        "        self.output_length = output_length\n",
        "\n",
        "    def __len__(self):\n",
        "        return len(self.musdb_dataset)\n",
        "\n",
        "    def __getitem__(self, index):\n",
        "        accompaniment, _, _ = self.musdb_dataset[index]  # shape: [128, 256]\n",
        "        current_len = accompaniment.size(-1)             # 256\n",
        "        delta = self.output_length - current_len         # 289 - 256 = 33\n",
        "\n",
        "        # If delta is positive, pad. Otherwise, you might want to crop or handle differently.\n",
        "        if delta > 0:\n",
        "            # Half the remainder goes to the front\n",
        "            left_pad_len = (delta // 2) + (delta % 2)  # 17\n",
        "            right_pad_len = delta // 2                # 16\n",
        "            accompaniment_pad = F.pad(accompaniment,\n",
        "                                  (left_pad_len, right_pad_len),\n",
        "                                  \"constant\", 0)\n",
        "        return {\"no_pad\" : accompaniment, \"pad\" : accompaniment_pad}\n",
        "\n",
        "\n",
        "class VocalData(Dataset):\n",
        "    def __init__(self, musdb_dataset, output_length=289):\n",
        "        self.musdb_dataset = musdb_dataset\n",
        "        self.output_length = output_length\n",
        "\n",
        "    def __len__(self):\n",
        "        return len(self.musdb_dataset)\n",
        "\n",
        "    def __getitem__(self, index):\n",
        "        _, vocal, _ = self.musdb_dataset[index]  # shape: [128, 256]\n",
        "        current_len = vocal.size(-1)\n",
        "        delta = self.output_length - current_len\n",
        "\n",
        "        if delta > 0:\n",
        "            left_pad_len = (delta // 2) + (delta % 2)\n",
        "            right_pad_len = delta // 2\n",
        "            vocal_pad = F.pad(vocal, (left_pad_len, right_pad_len), \"constant\", 0)\n",
        "        return {\"no_pad\" : vocal, \"pad\" : vocal_pad}\n",
        "\n",
        "\n",
        "\n",
        "class SpeechData(Dataset):\n",
        "    def __init__(self, librispeech_dataset, output_length=289):\n",
        "        self.librispeech_dataset = librispeech_dataset\n",
        "        self.output_length = output_length\n",
        "\n",
        "    def __len__(self):\n",
        "        return len(self.librispeech_dataset)\n",
        "\n",
        "    def __getitem__(self, index):\n",
        "        speech, _ = self.librispeech_dataset[index]\n",
        "        # If speech has multiple slices, pick the first slice\n",
        "        if speech.dim() == 3:\n",
        "            speech = speech[0]  # shape: [128, 256]\n",
        "        current_len = speech.size(-1)\n",
        "        delta = self.output_length - current_len\n",
        "\n",
        "        if delta > 0:\n",
        "            left_pad_len = (delta // 2) + (delta % 2)\n",
        "            right_pad_len = delta // 2\n",
        "            speech_pad = F.pad(speech, (left_pad_len, right_pad_len), \"constant\", 0)\n",
        "        return {\"no_pad\" : speech, \"pad\" : speech_pad}\n"
      ]
    },
    {
      "cell_type": "code",
      "execution_count": null,
      "metadata": {
        "id": "gW1Twbo8lWY0"
      },
      "outputs": [],
      "source": [
        "# print(AccompanimentData(musdb_dataset)[0])\n",
        "# print(VocalData(musdb_dataset)[0])\n",
        "# print(SpeechData(librispeech_dataset)[0])"
      ]
    },
    {
      "cell_type": "markdown",
      "metadata": {
        "id": "suMDmB62yS_N"
      },
      "source": [
        "### DataLoader Explanation\n",
        "What is a DataLoader and Why Do We Need It?\n",
        "\n",
        "A DataLoader in PyTorch is a utility that wraps a dataset and provides:\n",
        "\n",
        "- **Batching:** It divides your dataset into batches so that you can train your models with mini-batch gradient descent.\n",
        "\n",
        "- **Shuffling:** It shuffles the data at every epoch (if specified) to help reduce overfitting and ensure the model sees a diverse set of examples.\n",
        "\n",
        "- **Parallel Data Loading:** It can load data in parallel using multiple worker processes, speeding up training.\n",
        "\n",
        "In our case, we create separate DataLoaders for:\n",
        "\n",
        "- The accompaniment data (paired with vocals) from the MusDB dataset.\n",
        "\n",
        "- The vocal data (paired with accompaniment) from the MusDB dataset.\n",
        "\n",
        "- The speech data from the LibriSpeech dataset.\n",
        "\n",
        "This lets us shuffle the speech data independently, while keeping the vocal/accompaniment pairs synchronized during training."
      ]
    },
    {
      "cell_type": "code",
      "execution_count": null,
      "metadata": {
        "id": "vLcvcILSlW3C"
      },
      "outputs": [],
      "source": [
        "# Define batch size\n",
        "batch_size = 32  # Change as needed\n",
        "\n",
        "# Create data loaders\n",
        "accompaniment_loader = DataLoader(\n",
        "    AccompanimentData(musdb_dataset),\n",
        "    batch_size=batch_size,\n",
        "    shuffle=False,\n",
        "    drop_last=True\n",
        ")\n",
        "vocal_loader = DataLoader(\n",
        "    VocalData(musdb_dataset),\n",
        "    batch_size=batch_size,\n",
        "    shuffle=False,\n",
        "    drop_last=True\n",
        ")\n",
        "speech_loader = DataLoader(\n",
        "    SpeechData(librispeech_dataset),\n",
        "    batch_size=batch_size,\n",
        "    shuffle=True,\n",
        "    drop_last=True\n",
        ")\n",
        "\n",
        "# # Print how many batches each DataLoader contains\n",
        "# print(\"Accompaniment loader length:\", len(accompaniment_loader))\n",
        "# print(\"Vocal loader length:\", len(vocal_loader))\n",
        "# print(\"Speech loader length:\", len(speech_loader))\n",
        "\n",
        "# # Optionally, fetch and print the shape of the first batch\n",
        "# accompaniment_batch = next(iter(accompaniment_loader))\n",
        "# vocal_batch = next(iter(vocal_loader))\n",
        "# speech_batch = next(iter(speech_loader))\n",
        "# print(accompaniment_batch[\"pad\"])\n",
        "\n",
        "# print(\"Accompaniment first batch shape:\", accompaniment_batch.shape)\n",
        "# print(\"Vocal first batch shape:\", vocal_batch.shape)\n",
        "# print(\"Speech first batch shape:\", speech_batch.shape)\n"
      ]
    },
    {
      "cell_type": "markdown",
      "metadata": {
        "id": "3xUqt-HDRxKB"
      },
      "source": [
        "## Second Generator Model\n",
        "Here we initialize the second generator model whose purpose is to convert the generated vocals back to normal speach for the cycle GAN. We again use Wave-U-Net, but with a different configuration. The main difference is that we will not input the music along with the vocal track."
      ]
    },
    {
      "cell_type": "code",
      "execution_count": null,
      "metadata": {
        "id": "3Ql5ZsesRvvd"
      },
      "outputs": [],
      "source": [
        "model_config = {\n",
        "    \"num_inputs\": 128,               # 128 mel bins per spectrogram, this time we only have one spectrogram\n",
        "    \"num_outputs\": 128,              # Output also has 128 mel bins\n",
        "    \"num_channels\": [256*2, 256*4, 256*8],    # The input has half the channels, so we might be able get away with half the hidden channels\n",
        "    \"instruments\": [\"speech\"],        # Only output vocal, so no music branch\n",
        "    \"kernel_size\": 3,                # Must be odd\n",
        "    \"target_output_size\": 256,       # Desired output time frames (post-processing may crop)\n",
        "    \"conv_type\": \"normal\",           # Set to \"normal\" to meet assertion requirements\n",
        "    \"res\": \"fixed\",                  # Use fixed resampling\n",
        "    \"separate\": False,                # Separate branch for vocal\n",
        "    \"depth\": 1,                      # Number of conv layers per block\n",
        "    \"strides\": 2                   # Down/up-sampling stride\n",
        "}\n",
        "\n",
        "# Instantiate and move the model to GPU\n",
        "generator_2 = Waveunet(**model_config).to(device)"
      ]
    },
    {
      "cell_type": "markdown",
      "metadata": {
        "id": "hd1FQ3ZdSymH"
      },
      "source": [
        "## Transform Input to generator_2\n",
        "\n",
        "The output of the generator model is a (batch_size, 128, 257) tensor. The model expects a tensor of size (batch_size, 128, 289). We need to pad the last dimension with 16 zeros on each size."
      ]
    },
    {
      "cell_type": "code",
      "execution_count": null,
      "metadata": {
        "id": "rQn9K5nVSu-c"
      },
      "outputs": [],
      "source": [
        "def transform_for_gen_2(batch, output_length = 289):\n",
        "  current_len = batch.size(-1)\n",
        "  delta = output_length - current_len\n",
        "\n",
        "  if delta > 0:\n",
        "      left_pad_len = (delta // 2) + (delta % 2)\n",
        "      right_pad_len = delta // 2\n",
        "      batch = F.pad(batch, (left_pad_len, right_pad_len), \"constant\", 0)\n",
        "  return batch\n"
      ]
    },
    {
      "cell_type": "markdown",
      "metadata": {
        "id": "2jg9I_4qxV3-"
      },
      "source": [
        "## Train the Cycle GAN\n",
        "The models are ``generator`` and ``discriminator`` and ``generator_2``.\n"
      ]
    },
    {
      "cell_type": "code",
      "execution_count": null,
      "metadata": {
        "id": "A_oMQsfWSlJX"
      },
      "outputs": [],
      "source": [
        "def train_epoch(\n",
        "    generator,\n",
        "    generator_2,\n",
        "    discriminator,\n",
        "    optimizer_D,\n",
        "    optimizer_G,\n",
        "    optimizer_G2,\n",
        "    accompaniment_loader,\n",
        "    vocal_loader,\n",
        "    speech_loader,\n",
        "    l1_loss,\n",
        "    adversarial_loss,\n",
        "    device,\n",
        "    global_step  # Pass a global step counter to log scalars continuously.\n",
        "):\n",
        "\n",
        "    total_loss_D = 0.0\n",
        "    total_loss_G = 0.0\n",
        "    total_loss_G_adv = 0.0\n",
        "    total_loss_G_L1 = 0.0\n",
        "    total_loss_cycle = 0.0\n",
        "    num_batches = 0\n",
        "\n",
        "    # Use tqdm to track batch progress.\n",
        "    train_loader = tqdm(enumerate(zip(zip(accompaniment_loader, vocal_loader), speech_loader)))\n",
        "    print(\"Running on device:\", device)\n",
        "    for batch_number, ((accompaniment, vocal), speech) in train_loader:\n",
        "        # Move data to device and cast to float32\n",
        "        accompaniment_pad_device = accompaniment[\"pad\"].type(torch.float32).to(device)  # [B, 128, 289]\n",
        "        speech_pad_device = speech[\"pad\"].type(torch.float32).to(device)                # [B, 128, 289]\n",
        "\n",
        "        # Prepare generator input by concatenating speech and accompaniment along channel dimension.\n",
        "        generator_input = torch.cat([speech_pad_device, accompaniment_pad_device], dim=1)\n",
        "\n",
        "        # ---------------------\n",
        "        # Train the Discriminator\n",
        "        # ---------------------\n",
        "        optimizer_D.zero_grad()\n",
        "\n",
        "        B = accompaniment_pad_device.size(0)\n",
        "        real_labels = torch.full((B, 1), 1.0, device=device)\n",
        "        fake_labels = torch.zeros((B, 1), device=device)\n",
        "\n",
        "        # Discriminator output for real pairs: (vocal, accompaniment)\n",
        "        accompaniment_no_pad = accompaniment[\"no_pad\"].type(torch.float32).to(device)\n",
        "        vocals_no_pad = vocal[\"no_pad\"].type(torch.float32).to(device)\n",
        "        pred_real = discriminator(vocals_no_pad, accompaniment_no_pad)\n",
        "        loss_D_real = adversarial_loss(pred_real, real_labels)\n",
        "\n",
        "        # Generate fake singing using the generator\n",
        "        fake_singing = generator(generator_input)[\"vocal\"]\n",
        "        fake_singing_crop = fake_singing[:, :, :256]\n",
        "\n",
        "        # Discriminator output for fake pairs\n",
        "        pred_fake = discriminator(fake_singing_crop, accompaniment_no_pad)\n",
        "        loss_D_fake = adversarial_loss(pred_fake, fake_labels)\n",
        "\n",
        "        # Total discriminator loss and update.\n",
        "        loss_D = 0.5 * (loss_D_real + loss_D_fake)\n",
        "        loss_D.backward()\n",
        "\n",
        "        # Monitor and log discriminator gradients.\n",
        "        grad_norm_D = get_avg_grad_norm(discriminator)\n",
        "        writer.add_scalar(\"Gradients/Discriminator\", grad_norm_D, global_step)\n",
        "\n",
        "        optimizer_D.step()\n",
        "\n",
        "        # ---------------------\n",
        "        # Train the Generators\n",
        "        # ---------------------\n",
        "        optimizer_G.zero_grad()\n",
        "\n",
        "        # Generator wants the discriminator to output \"real\" for its fake singing.\n",
        "        pred_fake_for_G = discriminator(fake_singing, accompaniment_no_pad)\n",
        "\n",
        "        # Reconstruct the speech.\n",
        "        fake_singing_padded = transform_for_gen_2(fake_singing)  # assuming this function is defined elsewhere\n",
        "        reconstructed_speech = generator_2(fake_singing_padded)[\"speech\"][:, :, :256]\n",
        "        speech_no_pad_device = speech[\"no_pad\"].type(torch.float32).to(device)\n",
        "\n",
        "        # Compute the losses for the generators.\n",
        "        loss_G_adv = adversarial_loss(pred_fake_for_G, real_labels)\n",
        "        loss_cycle = l1_loss(reconstructed_speech, speech_no_pad_device)\n",
        "        loss_G_L1 = l1_loss(fake_singing_crop, vocals_no_pad)\n",
        "\n",
        "        # Total generator loss.\n",
        "        lambda_l1 = 10   # weight for L1 loss\n",
        "        lambda_cycle = 10  # weight for cycle loss\n",
        "        loss_G = loss_G_adv + lambda_l1 * loss_G_L1 + lambda_cycle * loss_cycle\n",
        "        loss_G.backward()\n",
        "\n",
        "        # Monitor and log generator gradients.\n",
        "        grad_norm_G = get_avg_grad_norm(generator)\n",
        "        grad_norm_G2 = get_avg_grad_norm(generator_2)\n",
        "        writer.add_scalar(\"Gradients/Generator\", grad_norm_G, global_step)\n",
        "        writer.add_scalar(\"Gradients/Generator2\", grad_norm_G2, global_step)\n",
        "\n",
        "        # Optimizer steps.\n",
        "        optimizer_G.step()\n",
        "        optimizer_G2.step()\n",
        "\n",
        "        # Accumulate losses.\n",
        "        total_loss_D += loss_D.item()\n",
        "        total_loss_G += loss_G.item()\n",
        "        total_loss_G_adv += loss_G_adv.item()\n",
        "        total_loss_G_L1 += loss_G_L1.item()\n",
        "        total_loss_cycle += loss_cycle.item()\n",
        "        num_batches += 1\n",
        "\n",
        "        # Log losses for this batch to TensorBoard.\n",
        "        writer.add_scalar(\"Loss/Discriminator\", loss_D.item(), global_step)\n",
        "        writer.add_scalar(\"Loss/Generator_total\", loss_G.item(), global_step)\n",
        "        writer.add_scalar(\"Loss/Generator_adv\", loss_G_adv.item(), global_step)\n",
        "        writer.add_scalar(\"Loss/Generator_L1\", loss_G_L1.item(), global_step)\n",
        "        writer.add_scalar(\"Loss/Cycle\", loss_cycle.item(), global_step)\n",
        "        global_step += 1  # Increase the global step for each batch\n",
        "\n",
        "    # Print averaged losses after the epoch.\n",
        "    avg_loss_D = total_loss_D / num_batches\n",
        "    avg_loss_G = total_loss_G / num_batches\n",
        "    avg_loss_G_adv = total_loss_G_adv / num_batches\n",
        "    avg_loss_G_L1 = total_loss_G_L1 / num_batches\n",
        "    avg_loss_cycle = total_loss_cycle / num_batches\n",
        "\n",
        "    print(\n",
        "        f\"Epoch Averages:\\n\"\n",
        "        f\"Loss_D: {avg_loss_D:.4f}  \"\n",
        "        f\"Loss_G_total: {avg_loss_G:.4f}  \"\n",
        "        f\"Loss_G_adv: {avg_loss_G_adv:.4f}  \"\n",
        "        f\"Loss_G_L1 (vocal): {avg_loss_G_L1:.4f}  \"\n",
        "        f\"Loss_Cycle (speech): {avg_loss_cycle:.4f}\"\n",
        "    )\n",
        "\n",
        "    return global_step  # Return global_step so that it persists across epochs"
      ]
    },
    {
      "cell_type": "code",
      "execution_count": null,
      "metadata": {
        "id": "phkEdf7rSckQ"
      },
      "outputs": [],
      "source": [
        "# Function to compute the average L2 norm of all gradients in a model.\n",
        "def get_avg_grad_norm(model):\n",
        "    total_norm = 0.0\n",
        "    count = 0\n",
        "    for p in model.parameters():\n",
        "        if p.grad is not None:\n",
        "            param_norm = p.grad.data.norm(2)\n",
        "            total_norm += param_norm.item() ** 2\n",
        "            count += 1\n",
        "    return (total_norm ** 0.5) / count if count > 0 else 0\n",
        "\n",
        "# Setup the TensorBoard summary writer.\n",
        "# Name the logs with the date/time to make it unique\n",
        "now = datetime.now().strftime(\"%Y%m%d-%H%M%S\")\n",
        "log_dir = \"logs/\" + \"log_\" + now\n",
        "writer = SummaryWriter(log_dir=log_dir)\n",
        "\n",
        "nb.start(\"--logdir=\" + log_dir)"
      ]
    },
    {
      "cell_type": "code",
      "execution_count": null,
      "metadata": {
        "id": "IrrtFAj8Tjlv"
      },
      "outputs": [],
      "source": [
        "device = torch.device(\"cuda\" if torch.cuda.is_available() else \"cpu\")\n",
        "generator = generator.to(device)\n",
        "\n",
        "# Optional\n",
        "generator = torch.compile(generator, mode='max-autotune')\n",
        "generator_2 = torch.compile(generator_2, mode='max-autotune')\n",
        "\n",
        "discriminator = discriminator.to(device)\n",
        "\n",
        "accompaniment_batch = next(iter(accompaniment_loader))\n",
        "vocal_batch = next(iter(vocal_loader))\n",
        "speech_batch = next(iter(speech_loader))[\"no_pad\"]\n",
        "print(\"fitting discriminator\")\n",
        "discriminator.fit_rocket(speech_batch)\n",
        "\n",
        "adversarial_loss = nn.BCELoss().to(device)\n",
        "l1_loss = nn.L1Loss().to(device)\n",
        "\n",
        "# Optimizers for generator and discriminator\n",
        "optimizer_G = optim.Adam(generator.parameters(), lr=1e-4, betas=(0.5, 0.999))\n",
        "optimizer_G2 = optim.Adam(generator_2.parameters(), lr=1e-4, betas=(0.5, 0.999))\n",
        "optimizer_D = optim.Adam(discriminator.parameters(), lr=5e-5, betas=(0.5, 0.999))\n"
      ]
    },
    {
      "cell_type": "code",
      "execution_count": null,
      "metadata": {
        "id": "PWajAnHDMunt"
      },
      "outputs": [],
      "source": [
        "gc.collect()\n",
        "torch.cuda.empty_cache()\n",
        "\n",
        "num_epochs = 1\n",
        "global_step = 0  # Initialize a global counter for TensorBoard logging.\n",
        "\n",
        "for epoch in range(num_epochs):\n",
        "    print(f\"Start epoch {epoch}\")\n",
        "    global_step = train_epoch(\n",
        "        generator,\n",
        "        generator_2,\n",
        "        discriminator,\n",
        "        optimizer_D,\n",
        "        optimizer_G,\n",
        "        optimizer_G2,\n",
        "        accompaniment_loader,\n",
        "        vocal_loader,\n",
        "        speech_loader,\n",
        "        l1_loss,\n",
        "        adversarial_loss,\n",
        "        device,\n",
        "        global_step\n",
        "    )\n",
        "\n",
        "writer.flush()\n",
        "writer.close()"
      ]
    },
    {
      "cell_type": "code",
      "execution_count": null,
      "metadata": {
        "id": "sESr-brVW-Jb"
      },
      "outputs": [],
      "source": []
    },
    {
      "cell_type": "code",
      "execution_count": null,
      "metadata": {
        "id": "lbLNj0VUxV3-"
      },
      "outputs": [],
      "source": [
        "assert False"
      ]
    },
    {
      "cell_type": "markdown",
      "metadata": {
        "id": "dWffnPNExV3-"
      },
      "source": [
        "## Save the models"
      ]
    },
    {
      "cell_type": "code",
      "execution_count": null,
      "metadata": {
        "id": "O6dDyxJmxV3-"
      },
      "outputs": [],
      "source": [
        "# Ensure \"now\" is defined (using your previously defined now)\n",
        "now = datetime.now().strftime(\"%Y%m%d-%H%M%S\")\n",
        "\n",
        "# Check if the models are compiled; fallback if not.\n",
        "orig_generator = generator._orig_mod if hasattr(generator, \"_orig_mod\") else generator\n",
        "orig_generator2 = generator_2._orig_mod if hasattr(generator_2, \"_orig_mod\") else generator_2\n",
        "\n",
        "# Create the models directory if it doesn't exist.\n",
        "path = \"../models/\"\n",
        "os.makedirs(path, exist_ok=True)\n",
        "\n",
        "# Save the state dictionaries with unique filenames.\n",
        "torch.save(orig_generator.state_dict(), os.path.join(path, \"generator_state_dict_\" + now + \".pt\"))\n",
        "torch.save(orig_generator2.state_dict(), os.path.join(path, \"generator_2_state_dict_\" + now + \".pt\"))\n",
        "torch.save(discriminator.state_dict(), os.path.join(path, \"discriminator_state_dict_\" + now + \".pt\"))\n"
      ]
    }
  ],
  "metadata": {
    "colab": {
      "machine_shape": "hm",
      "provenance": []
    },
    "kernelspec": {
      "display_name": "Python 3",
      "name": "python3"
    },
    "language_info": {
      "codemirror_mode": {
        "name": "ipython",
        "version": 3
      },
      "file_extension": ".py",
      "mimetype": "text/x-python",
      "name": "python",
      "nbconvert_exporter": "python",
      "pygments_lexer": "ipython3",
      "version": "3.10.12"
    }
  },
  "nbformat": 4,
  "nbformat_minor": 0
}
