{
  "cells": [
    {
      "cell_type": "markdown",
      "metadata": {
        "id": "4qxrWZHYxV36"
      },
      "source": [
        "Here we train our first version of the GAN.\n",
        "\n"
      ]
    },
    {
      "cell_type": "markdown",
      "metadata": {
        "id": "vARIOK_HxV36"
      },
      "source": [
        "## Initialize Wave-U-Net\n",
        "\n",
        "We start by loading the necessary packages\n",
        "\n",
        "Wave-U-Net is named ``generator``"
      ]
    },
    {
      "cell_type": "code",
      "execution_count": 2,
      "metadata": {
        "colab": {
          "base_uri": "https://localhost:8080/"
        },
        "id": "f_3vGK4LxV37",
        "outputId": "d8bd02d2-84f5-43f5-d05b-777d01b1b461"
      },
      "outputs": [
        {
          "name": "stdout",
          "output_type": "stream",
          "text": [
            "GPU: True\n"
          ]
        }
      ],
      "source": [
        "# Import same packages as the train script in Wave-U-Net-Pytorch\n",
        "import argparse\n",
        "import os\n",
        "import time\n",
        "from functools import partial\n",
        "from datetime import datetime\n",
        "\n",
        "\n",
        "\n",
        "import torch\n",
        "import pickle\n",
        "import numpy as np\n",
        "\n",
        "import torch.nn as nn\n",
        "from torch.utils.tensorboard import SummaryWriter\n",
        "from torch.optim import Adam\n",
        "from torch.nn import L1Loss\n",
        "from tqdm import tqdm\n",
        "from torchsummary import summary\n",
        "import torch.optim as optim\n",
        "from torch.utils.data import Dataset, DataLoader\n",
        "import numpy as np\n",
        "# install torchaudio if not already installed\n",
        "# ! pip install torchaudio\n",
        "import torchaudio\n",
        "\n",
        "import matplotlib.pyplot as plt\n",
        "from typing import Tuple, List, Dict, Optional\n",
        "\n",
        "# !pip install sktime\n",
        "from sktime.transformations.panel.rocket import MiniRocketMultivariate\n",
        "# \n",
        "# from google.colab import drive\n",
        "# drive.mount('/content/drive')\n",
        "# %cd /content/drive/My Drive/git_projects/spring_2025_dl_audio_project\n",
        "\n",
        "\n",
        "# add a path to Wave-U-Net\n",
        "import sys\n",
        "sys.path.append('Wave-U-Net-Pytorch')\n",
        "sys.path.append(\"workspace/hdd_project_data\")\n",
        "\n",
        "import model.utils as model_utils\n",
        "import utils\n",
        "from model.waveunet import Waveunet\n",
        "\n",
        "# Check to see if we have a GPU available\n",
        "print(\"GPU:\", torch.cuda.is_available())"
      ]
    },
    {
      "cell_type": "code",
      "execution_count": 3,
      "metadata": {
        "id": "yfjgCEsl31aK"
      },
      "outputs": [],
      "source": [
        "# I run these commands in the terminal that you get when you pay for Colab.\n",
        "\n",
        "# %pip install musdb  # has some helpful data structures, also installs ffmpeg and stempeg\n",
        "# %pip uninstall stempeg    # musdb installs the wrong version of stempeg'"
      ]
    },
    {
      "cell_type": "markdown",
      "metadata": {
        "id": "rok6FpDgxV37"
      },
      "source": [
        "We define the parameters of the model."
      ]
    },
    {
      "cell_type": "code",
      "execution_count": 4,
      "metadata": {
        "id": "H755Zr5RxV37"
      },
      "outputs": [],
      "source": [
        "model_config = {\n",
        "    \"num_inputs\": 256,               # 128 mel bins per spectrogram, but we have to spectrograms\n",
        "    \"num_outputs\": 128,              # Output also has 128 mel bins\n",
        "    \"num_channels\": [512*2, 512*4, 512*8],    # Example channel progression\n",
        "    \"instruments\": [\"vocal\"],        # Only output vocal, so no music branch\n",
        "    \"kernel_size\": 3,                # Must be odd\n",
        "    \"target_output_size\": 256,       # Desired output time frames (post-processing may crop)\n",
        "    \"conv_type\": \"normal\",           # Set to \"normal\" to meet assertion requirements\n",
        "    \"res\": \"fixed\",                  # Use fixed resampling\n",
        "    \"separate\": False,                # Separate branch for vocal\n",
        "    \"depth\": 1,                      # Number of conv layers per block\n",
        "    \"strides\": 2                   # Down/up-sampling stride\n",
        "}"
      ]
    },
    {
      "cell_type": "markdown",
      "metadata": {
        "id": "dFFCD4BRxV38"
      },
      "source": [
        "Load the model, check how much GPU memory it will use during training, and print a summary of the model."
      ]
    },
    {
      "cell_type": "code",
      "execution_count": 5,
      "metadata": {
        "colab": {
          "base_uri": "https://localhost:8080/"
        },
        "id": "wCkCtLVZxV38",
        "outputId": "1b256bbb-8518-4561-d507-71a2af64a4c4"
      },
      "outputs": [
        {
          "name": "stdout",
          "output_type": "stream",
          "text": [
            "Using valid convolutions with 289 inputs and 257 outputs\n"
          ]
        }
      ],
      "source": [
        "# Ensure that you have a CUDA-enabled device\n",
        "device = torch.device(\"cuda\" if torch.cuda.is_available() else \"cpu\")\n",
        "\n",
        "# Instantiate and move the model to GPU\n",
        "generator = Waveunet(**model_config).to(device)\n",
        "\n",
        "# # Set up a dummy optimizer and loss function\n",
        "# optimizer = Adam(generator.parameters(), lr=1e-3)\n",
        "# loss_fn = L1Loss()\n",
        "\n",
        "# # Define a dummy batch size\n",
        "# batch_size = 256\n",
        "\n",
        "# # Create a dummy input tensor with the required shape\n",
        "# # model.num_inputs corresponds to the number of channels (256 in your config)\n",
        "# # model.input_size is the computed length (353, for instance)\n",
        "# dummy_input = torch.randn(batch_size, generator.num_inputs, generator.input_size, device=device)\n",
        "\n",
        "# # Create a dummy target tensor with the shape that your model outputs.\n",
        "# # For a single output branch (vocal), the output shape should be:\n",
        "# # (batch_size, num_outputs, model.output_size)\n",
        "# # model.num_outputs is 128 and model.output_size is computed (257 in your case)\n",
        "# dummy_target = torch.randn(batch_size, generator.num_outputs, generator.output_size, device=device)\n",
        "\n",
        "# # Reset GPU peak memory stats\n",
        "# torch.cuda.reset_peak_memory_stats(device)\n",
        "\n",
        "# # Run a single forward and backward pass\n",
        "# optimizer.zero_grad()\n",
        "# # If separate is False, the model returns a dictionary; pass the correct key.\n",
        "# output = generator(dummy_input)[\"vocal\"]\n",
        "# loss = loss_fn(output, dummy_target)\n",
        "# loss.backward()\n",
        "# optimizer.step()\n",
        "\n",
        "# # Retrieve GPU memory stats\n",
        "# peak_memory = torch.cuda.max_memory_allocated(device)\n",
        "# current_memory = torch.cuda.memory_allocated(device)\n",
        "# print(\"Peak GPU memory allocated (bytes):\", peak_memory)\n",
        "# print(\"Current GPU memory allocated (bytes):\", current_memory)\n",
        "\n",
        "# # Optionally, print a detailed memory summary\n",
        "# print(torch.cuda.memory_summary(device=device))\n",
        "\n",
        "\n",
        "# summary(generator, input_size=(generator.num_inputs,  generator.input_size))\n"
      ]
    },
    {
      "cell_type": "markdown",
      "metadata": {
        "id": "J3urQe1yxV38"
      },
      "source": [
        "Optionally compile the model to potentially decrease training time."
      ]
    },
    {
      "cell_type": "code",
      "execution_count": null,
      "metadata": {
        "id": "7srOJSNJxV38"
      },
      "outputs": [],
      "source": []
    },
    {
      "cell_type": "markdown",
      "metadata": {
        "id": "Txk2TxUixV38"
      },
      "source": [
        "If we compile the model, to save it after training, we have to uncompile it using the following code:\n",
        "\n",
        "```python\n",
        "orig_generator = generator._orig_mod\n",
        "path = \"\"\n",
        "torch.save(orig_generator.state_dict(), path + \"generator_state_dict.pt\")\n"
      ]
    },
    {
      "cell_type": "markdown",
      "metadata": {
        "id": "mjCddsoTxV39"
      },
      "source": [
        "## Initialize miniRocket\n",
        "We start by loading the necessary packages"
      ]
    },
    {
      "cell_type": "markdown",
      "metadata": {
        "id": "Hg5T7Os6xV39"
      },
      "source": [
        "### CPU Core Allocation for MiniRocketMultivariate\n",
        "\n",
        "- The implementation of `MiniRocketMultivariate` runs on the **CPU**.\n",
        "- We need to decide how many cores to allocate for it.\n",
        "- Some cores will be used by MiniRocket itself, while others are needed for data preparation (e.g., generating spectrograms).\n",
        "- This allocation likely needs to be **tuned for optimal performance**.\n",
        "- As a starting point, we detect the number of available cores and split them evenly.\n",
        "- Note: We avoid using *all* available cores to leave some resources for the operating system and other background processes.\n"
      ]
    },
    {
      "cell_type": "code",
      "execution_count": 6,
      "metadata": {
        "colab": {
          "base_uri": "https://localhost:8080/"
        },
        "id": "XwscObQrxV39",
        "outputId": "b0c8b920-8b83-4e65-872e-c25fe5ace442"
      },
      "outputs": [],
      "source": [
        "\n",
        "# dataloader_n_jobs = num_cores - minirocket_n_jobs - 1"
      ]
    },
    {
      "cell_type": "markdown",
      "metadata": {
        "id": "X6ZXiPhWxV39"
      },
      "source": [
        "Create the MiniRocket model"
      ]
    },
    {
      "cell_type": "code",
      "execution_count": 7,
      "metadata": {
        "id": "NhG7_-VlxV39"
      },
      "outputs": [],
      "source": [
        "import pandas as pd\n",
        "from time import time\n",
        "\n",
        "# MiniRocket Discriminator using tsai library\n",
        "class TsaiMiniRocketDiscriminator(nn.Module):\n",
        "    def __init__(\n",
        "        self,\n",
        "        freq_bins=256,\n",
        "        time_frames=256,\n",
        "        num_kernels=10000,  # number of convolutional kernels\n",
        "        hidden_dim=1024,    # Increased to handle larger feature dimension\n",
        "        output_dim=1\n",
        "    ):\n",
        "        super(TsaiMiniRocketDiscriminator, self).__init__()\n",
        "\n",
        "        # This is the mini rocket transformer which extracts features\n",
        "        self.rocket = MiniRocketMultivariate(num_kernels=num_kernels, n_jobs=minirocket_n_jobs)\n",
        "        # tsai's miniRocketClassifier is implemented with MiniRocketMultivariate as well\n",
        "        self.fitted = False   # fit before training\n",
        "        self.freq_bins = freq_bins\n",
        "        self.time_frames = time_frames\n",
        "        self.num_kernels = num_kernels\n",
        "\n",
        "        # For 2D data handling - process each sample with proper dimensions\n",
        "        self.example_input = np.zeros((1, freq_bins, time_frames))\n",
        "\n",
        "        self.feature_dim = num_kernels  # For vocals + accompaniment\n",
        "\n",
        "        # Example feature reducing layers\n",
        "        self.classifier = nn.Sequential(\n",
        "            # First reduce the massive dimension to something manageable\n",
        "            nn.LazyLinear( hidden_dim),\n",
        "            nn.LeakyReLU(0.2),\n",
        "            nn.Dropout(0.3),\n",
        "\n",
        "            # Second hidden layer\n",
        "            nn.Linear(hidden_dim, hidden_dim // 2),\n",
        "            nn.LeakyReLU(0.2),\n",
        "            nn.Dropout(0.3),\n",
        "\n",
        "            # Final classification layer\n",
        "            nn.Linear(hidden_dim // 2, output_dim),\n",
        "            nn.Sigmoid()\n",
        "        )\n",
        "\n",
        "    def fit_rocket(self, spectrograms):\n",
        "        \"\"\"\n",
        "            Fit MiniRocket with just one piece of vocal training data (not the entire training dataset)\n",
        "        \"\"\"\n",
        "        if not self.fitted:\n",
        "            try:\n",
        "                # Reshape for MiniRocket - it expects (n_instances, n_dimensions, series_length)\n",
        "                # flatten the freq_bins dimension to create a multivariate time series\n",
        "                batch_size = spectrograms.shape[0]\n",
        "\n",
        "                # Convert first to numpy for sktime processing\n",
        "                sample_data = spectrograms.detach().cpu().numpy()\n",
        "                # print(sample_data.shape)\n",
        "                # Reshape to sktime's expected format - reduce to single sample for fitting\n",
        "                # sample_data = sample_data[:, 0]  # Take one sample, remove channel dim\n",
        "\n",
        "                # Fit on this sample\n",
        "                self.rocket.fit(sample_data)\n",
        "                self.fitted = True\n",
        "\n",
        "                # Test transform to get feature dimension\n",
        "                test_transform = self.rocket.transform(sample_data)\n",
        "                self.feature_dim = test_transform.shape[1]\n",
        "\n",
        "                print(f\"MiniRocket fitted. Feature dimension: {self.feature_dim}\")\n",
        "\n",
        "            except Exception as e:\n",
        "                print(f\"Error fitting MiniRocket: {e}\")\n",
        "                # Use a fallback if fitting fails\n",
        "                self.fitted = True  # Mark as fitted to avoid repeated attempts\n",
        "\n",
        "    def extract_features(self, spectrogram):\n",
        "        \"\"\"Extract MiniRocket features from a spectrogram\"\"\"\n",
        "        try:\n",
        "            # Ensure rocket is fitted\n",
        "            if not self.fitted:\n",
        "                self.fit_rocket(spectrogram)\n",
        "\n",
        "            # Convert to numpy for sktime\n",
        "            spec_np = spectrogram.detach().cpu().numpy()\n",
        "\n",
        "            # Remove channel dimension expected by sktime\n",
        "            # print(spec_np.shape)\n",
        "            # spec_np = spec_np[:, 0]  # [batch_size, freq_bins, time_frames]\n",
        "            # print(spec_np.shape)\n",
        "\n",
        "            # This step extracts features using the convolutional kernels, numbers specified by num_kernels\n",
        "            # print(\"1\")\n",
        "            features = self.rocket.transform(spec_np)\n",
        "            # print(\"2\")\n",
        "            # Convert back to torch tensor\n",
        "            # print(\"features:\", features.shape)\n",
        "            # print(features.head())\n",
        "            features_tensor = torch.tensor(features.values).to(spectrogram.device)\n",
        "            # print(\"features:\", features.shape)\n",
        "            # print(\"3\")\n",
        "            return features_tensor\n",
        "\n",
        "        except Exception as e:\n",
        "            print(f\"Error in feature extraction: {e}\")\n",
        "            # Return zeros as fallback\n",
        "            return torch.zeros((spectrogram.shape[0], self.num_kernels),\n",
        "                              device=spectrogram.device)\n",
        "\n",
        "    def forward(self, vocals, accompaniment):\n",
        "        \"\"\"\n",
        "        Forward pass of the discriminator\n",
        "\n",
        "        Args:\n",
        "            vocals: Spectrograms of shape [batch_size, channels, freq_bins, time_frames]\n",
        "            accompaniment: Spectrograms of shape [batch_size, channels, freq_bins, time_frames]\n",
        "        \"\"\"\n",
        "        # Extract features from both spectrograms\n",
        "        # start_time = time()\n",
        "        vocal_features = self.extract_features(vocals)\n",
        "        accomp_features = self.extract_features(accompaniment)\n",
        "        # print(\"extract:\", time()-start_time)\n",
        "        # Concatenate features (conditional GAN)\n",
        "        combined_features = torch.cat([vocal_features, accomp_features], dim=1)\n",
        "        # print(combined_features.size())\n",
        "\n",
        "        # Classify as real/fake\n",
        "        validity = self.classifier(combined_features)\n",
        "\n",
        "        return validity\n",
        "\n"
      ]
    },
    {
      "cell_type": "code",
      "execution_count": 8,
      "metadata": {
        "id": "b6ACeYdNxV39"
      },
      "outputs": [],
      "source": [
        "# del discriminator\n",
        "# discriminator = TsaiMiniRocketDiscriminator()\n",
        "# We probably do not need to compile the model"
      ]
    },
    {
      "cell_type": "markdown",
      "metadata": {
        "id": "YEaNx9F0Hnwa"
      },
      "source": [
        "# Import Data into Session\n",
        "\n",
        "First, we run the code that defines the custom Dataset objects. The Datasets were compiled previously and saved in .pt files. In the next cell, we load those Dataset objects."
      ]
    },
    {
      "cell_type": "code",
      "execution_count": 9,
      "metadata": {
        "colab": {
          "base_uri": "https://localhost:8080/"
        },
        "id": "bpu-Q2zGxV39",
        "outputId": "e218c09f-fceb-4079-8988-8076eaa46c24"
      },
      "outputs": [],
      "source": [
        "# %cd /content/drive/My Drive/git_projects/\n",
        "# sys.path.append('/workspace/hdd_project_data/stempeg')\n",
        "# import stempeg\n",
        "import musdb\n",
        "import torch\n",
        "import librosa\n",
        "import numpy as np\n",
        "from torch.utils.data import Dataset\n",
        "\n",
        "class MusdbDataset(Dataset):\n",
        "\n",
        "  def __init__(self, musDB, window_size = 256, step_size = 128):\n",
        "    self.mel_specs = torch.zeros(1, 2, 128, window_size)\n",
        "    self.sample_rates = torch.tensor([0])\n",
        "\n",
        "    num_songs = 0\n",
        "\n",
        "    for track in musDB:\n",
        "      stems, rate = track.stems, track.rate\n",
        "\n",
        "      num_songs += 1\n",
        "\n",
        "      # separate the vocal from other instruments and conver to mono signal\n",
        "      audio_novocal = librosa.to_mono(np.transpose(stems[1] + stems[2] + stems[3]))\n",
        "      audio_vocal = librosa.to_mono(np.transpose(stems[4]))\n",
        "\n",
        "      # compute log mel spectrogram and convert to pytorch tensor\n",
        "      logmelspec_novocal = torch.from_numpy(self._mel_spectrogram(audio_novocal, rate))\n",
        "      logmelspec_vocal = torch.from_numpy(self._mel_spectrogram(audio_vocal, rate))\n",
        "\n",
        "      start_ndx = 0\n",
        "\n",
        "      for step in range(window_size // step_size):\n",
        "        cropped_logmelspec_novocal = logmelspec_novocal[:, start_ndx:]\n",
        "        cropped_logmelspec_vocal = logmelspec_vocal[:, start_ndx:]\n",
        "        num_slices = cropped_logmelspec_novocal.shape[1] // window_size\n",
        "\n",
        "        # chop off the last bit so that number of stft steps is a multiple of window_size\n",
        "        cropped_logmelspec_novocal = cropped_logmelspec_novocal[: , 0:num_slices*window_size]\n",
        "        cropped_logmelspec_vocal = cropped_logmelspec_vocal[:, 0:num_slices*window_size]\n",
        "\n",
        "        # reshape tensors into chunks of size 128x(window_size)\n",
        "        # first dimension is number of chunks\n",
        "        cropped_logmelspec_novocal = torch.transpose(torch.reshape(cropped_logmelspec_novocal, (128, num_slices, window_size)), 0, 1)\n",
        "        cropped_logmelspec_vocal = torch.transpose(torch.reshape(cropped_logmelspec_vocal, (128, num_slices, window_size)), 0, 1)\n",
        "\n",
        "        # unsqueeze and concatenate these tensors. Then concatenate to the big tensor\n",
        "        logmels = torch.cat((cropped_logmelspec_novocal.unsqueeze(1), cropped_logmelspec_vocal.unsqueeze(1)), 1)\n",
        "        self.mel_specs = torch.cat((self.mel_specs, logmels), 0)\n",
        "        self.sample_rates = torch.cat((self.sample_rates, torch.full((num_slices,), rate)), 0)\n",
        "\n",
        "        if num_songs % 5 == 0:\n",
        "          print(str(num_songs) + \" songs processed; produced \" + str(self.mel_specs.shape[0]) + \" spectrograms\")\n",
        "\n",
        "    # remove the all zeros slice that we initialized with\n",
        "    self.mel_specs = self.mel_specs[1: , : , : , :]\n",
        "    self.sample_rates = self.sample_rates[1:]\n",
        "\n",
        "  def __len__(self):\n",
        "    return self.mel_specs.shape[0]\n",
        "\n",
        "  def __getitem__(self, ndx):\n",
        "    # returns tuple (mel spectrogram of accompaniment, mel spectrogram of vocal, rate)\n",
        "    return self.mel_specs[ndx, 0], self.mel_specs[ndx, 1], self.sample_rates[ndx]\n",
        "\n",
        "  def _mel_spectrogram(self, audio, rate):\n",
        "    # compute the log-mel-spectrogram of the audio at the given sample rate\n",
        "    return librosa.power_to_db(librosa.feature.melspectrogram(y = audio, sr = rate))\n",
        "\n",
        "  def cat(self, other_ds):\n",
        "    self.mel_specs = torch.cat((self.mel_specs, other_ds.mel_specs), 0)\n",
        "    self.sample_rates = torch.cat((self.sample_rates, other_ds.sample_rates), 0)\n",
        "\n",
        "import torch\n",
        "import librosa\n",
        "import numpy as np\n",
        "from torch.utils.data import Dataset\n",
        "\n",
        "class SingingDataset(Dataset):\n",
        "\n",
        "  def __init__(self, musDB, window_size = 256, step_size = 128):\n",
        "    self.mel_specs = torch.zeros(1, 128, window_size)\n",
        "    self.sample_rates = torch.tensor([0])\n",
        "\n",
        "    num_songs = 0\n",
        "\n",
        "    for track in musDB:\n",
        "      stems, rate = track.stems, track.rate\n",
        "\n",
        "      num_songs += 1\n",
        "\n",
        "      # load the vocal\n",
        "      vocal = librosa.to_mono(np.transpose(stems[4]))\n",
        "\n",
        "      # compute log mel spectrogram and convert to pytorch tensor\n",
        "      mel_spec = torch.from_numpy(self._mel_spectrogram(vocal, rate))\n",
        "\n",
        "      start_ndx = 0\n",
        "      for step in range(window_size // step_size):\n",
        "        cropped_mel_spec = mel_spec[:, start_ndx:]\n",
        "        num_slices = cropped_mel_spec.shape[1] // window_size\n",
        "\n",
        "        # chop off the last bit so that number of stft steps is a multiple of window_size\n",
        "        cropped_mel_spec = cropped_mel_spec[:, 0:num_slices*window_size]\n",
        "\n",
        "        # reshape tensors into chunks of size 128x(window_size)\n",
        "        # first dimension is number of chunks\n",
        "        cropped_mel_spec = torch.transpose(torch.reshape(cropped_mel_spec, (128, num_slices, window_size)), 0, 1)\n",
        "\n",
        "        # concatenate to the big tensor\n",
        "        self.mel_specs = torch.cat((self.mel_specs, cropped_mel_spec), 0)\n",
        "        self.sample_rates = torch.cat((self.sample_rates, torch.full((num_slices,), rate)), 0)\n",
        "\n",
        "\n",
        "    if num_songs % 5 == 0:\n",
        "        print(str(num_songs) + \" songs processed; produced \" + str(self.mel_specs.shape[0]) + \" spectrograms\")\n",
        "\n",
        "    # remove the all zeros slice that we initialized with\n",
        "    self.mel_specs = self.mel_specs[1: , : , :]\n",
        "    self.sample_rates = self.sample_rates[1:]\n",
        "\n",
        "  def __len__(self):\n",
        "    return self.mel_specs.shape[0]\n",
        "\n",
        "  def __getitem__(self, ndx):\n",
        "    # returns tuple (mel spectrogram of accompaniment, mel spectrogram of vocal, rate)\n",
        "    return self.mel_specs[ndx], self.sample_rates[ndx]\n",
        "\n",
        "  def _mel_spectrogram(self, audio, rate):\n",
        "    # compute the log-mel-spectrogram of the audio at the given sample rate\n",
        "    return librosa.power_to_db(librosa.feature.melspectrogram(y = audio, sr = rate))\n",
        "\n",
        "import torch\n",
        "import librosa\n",
        "import numpy as np\n",
        "import os\n",
        "from torch.utils.data import Dataset\n",
        "\n",
        "class LibriSpeechDataset(Dataset):\n",
        "\n",
        "    def __init__(self, path, window_size = 256, step_size = 128, num_specs = 7647*2):\n",
        "        self.mel_specs = self.mel_specs = torch.zeros(1, 128, window_size)\n",
        "        self.sample_rates = torch.tensor([0])\n",
        "\n",
        "        num_files_opened = 0\n",
        "\n",
        "        for speaker_dir in os.listdir(path):\n",
        "            speaker_path = path + \"/\" + speaker_dir\n",
        "            for chapter_dir in os.listdir(speaker_path):\n",
        "                chapter_path = speaker_path + \"/\" + chapter_dir\n",
        "                for file in os.listdir(chapter_path):\n",
        "                    # checks file extension and stops when we hit desired number of spectrograms (num_specs)\n",
        "                    if file.endswith('.flac') and self.mel_specs.shape[0] - 1 < num_specs:\n",
        "                        # get audio file and convert to log mel spectrogram\n",
        "                        speech, rate = librosa.load(chapter_path + \"/\" + file, sr = 44100)\n",
        "                        mel_spec = torch.from_numpy(self._mel_spectrogram(speech, rate))\n",
        "                        start_ndx = 0\n",
        "\n",
        "                        num_files_opened += 1\n",
        "\n",
        "                        for step in range(window_size // step_size):\n",
        "                            cropped_mel_spec = mel_spec[:, start_ndx:]\n",
        "\n",
        "                            # Saves the total number of 128 x (window_size) spectrograms\n",
        "                            num_slices = cropped_mel_spec.shape[1] // window_size\n",
        "\n",
        "                            # chop off the last bit so that number of stft steps is a multiple of window_size\n",
        "                            cropped_mel_spec = cropped_mel_spec[ : , 0 : num_slices*window_size]\n",
        "\n",
        "                            # reshape the tensor to have many spectrograms of size 128 x (steps)\n",
        "                            cropped_mel_spec = torch.transpose(torch.reshape(cropped_mel_spec, (128, num_slices, window_size)), 0, 1)\n",
        "\n",
        "                            # concatenate tensor to the full tensor in the Dataset object\n",
        "                            self.mel_specs = torch.cat((self.mel_specs, cropped_mel_spec), 0)\n",
        "                            self.sample_rates = torch.cat((self.sample_rates, torch.full((num_slices,), rate)), 0)\n",
        "\n",
        "                            # increment start_ndx\n",
        "                            start_ndx += step_size\n",
        "\n",
        "\n",
        "                        if num_files_opened % 50 == 0:\n",
        "                            print(\"opened \" + str(num_files_opened) + \" files and produced \" + str(self.mel_specs.shape[0]) + \" spectrograms\")\n",
        "\n",
        "\n",
        "        # chop off the zero layer we initialized with\n",
        "        self.mel_specs = self.mel_specs[1:]\n",
        "        self.sample_rates = self.sample_rates[1:]\n",
        "\n",
        "    def __len__(self):\n",
        "        return self.mel_specs.shape[0]\n",
        "\n",
        "    def __getitem__(self, ndx):\n",
        "        return self.mel_specs[ndx], self.sample_rates[ndx]\n",
        "\n",
        "    def _mel_spectrogram(self, audio, rate):\n",
        "        # compute the log-mel-spectrogram of the audio at the given sample rate\n",
        "        return librosa.power_to_db(librosa.feature.melspectrogram(y = audio, sr = rate))"
      ]
    },
    {
      "cell_type": "code",
      "execution_count": 10,
      "metadata": {
        "id": "JHlmMGgzGqb-"
      },
      "outputs": [],
      "source": [
        "path = \"/workspace/hdd_project_data/\"\n",
        "\n",
        "\n",
        "# The string below is the path to the saved LibriSpeechDataset in your Drive\n",
        "librispeechDataset_path = path + \"LibriSpeechDataset_withOverlap.pt\"\n",
        "\n",
        "\n",
        "librispeech_dataset = torch.load(librispeechDataset_path, weights_only=False)\n",
        "\n",
        "\n",
        "# The string below is the path to the saved MusdbDataset in your Drive\n",
        "musdbDataset_path = path + \"musdb_noOverlap_test.pt\"\n",
        "musdb_dataset = torch.load(musdbDataset_path, weights_only=False)"
      ]
    },
    {
      "cell_type": "code",
      "execution_count": 11,
      "metadata": {
        "id": "DUHwFy2jR2JY"
      },
      "outputs": [],
      "source": [
        "# This fixes the problem with the sample rates\n",
        "musdb_dataset.sample_rates = torch.full((len(musdb_dataset),), 44100)\n",
        "librispeech_dataset.sample_rates = torch.full((len(musdb_dataset),), 44100)\n",
        "\n",
        "# Because of the way the librispeech dataset was constructed, it is slightly longer\n",
        "# than the musbd dataset. Crop the librispeech dataset with these lines\n",
        "librispeech_dataset.mel_specs = librispeech_dataset.mel_specs[0:len(musdb_dataset)]\n",
        "librispeech_dataset.sample_rates = librispeech_dataset.sample_rates[0:len(musdb_dataset)]"
      ]
    },
    {
      "cell_type": "markdown",
      "metadata": {
        "id": "Peiksp9NuMGX"
      },
      "source": [
        "### Explore these datasets"
      ]
    },
    {
      "cell_type": "code",
      "execution_count": 12,
      "metadata": {
        "colab": {
          "base_uri": "https://localhost:8080/"
        },
        "id": "RpREtcq0mYd8",
        "outputId": "9efc8a3c-9e76-49f3-bc24-434e83dcd64b"
      },
      "outputs": [
        {
          "name": "stdout",
          "output_type": "stream",
          "text": [
            "=== MusDB Dataset Exploration ===\n",
            "Length: 4167\n",
            "mel_specs shape: torch.Size([4167, 2, 128, 256])\n",
            "sample_rates shape: torch.Size([4167])\n",
            "\n",
            "Sample 0 - Accompaniment shape: torch.Size([128, 256])\n",
            "Sample 0 - Vocal shape: torch.Size([128, 256])\n",
            "Sample 0 - Sample rate: tensor(44100)\n",
            "\n",
            "=== LibriSpeech Dataset Exploration ===\n",
            "Length: 4167\n",
            "mel_specs shape: torch.Size([4167, 128, 256])\n",
            "sample_rates shape: torch.Size([4167])\n",
            "\n",
            "Sample 0 - Speech shape: torch.Size([128, 256])\n",
            "Sample 0 - Sample rate: tensor(44100)\n"
          ]
        }
      ],
      "source": [
        "# --- Explore the Datasets ---\n",
        "print(\"=== MusDB Dataset Exploration ===\")\n",
        "print(\"Length:\", len(musdb_dataset))\n",
        "print(\"mel_specs shape:\", musdb_dataset.mel_specs.shape)\n",
        "print(\"sample_rates shape:\", musdb_dataset.sample_rates.shape)\n",
        "print()\n",
        "accompaniment, vocal, sample_rate = musdb_dataset[0]\n",
        "print(\"Sample 0 - Accompaniment shape:\", accompaniment.size())\n",
        "print(\"Sample 0 - Vocal shape:\", vocal.size())\n",
        "print(\"Sample 0 - Sample rate:\", sample_rate)\n",
        "print()\n",
        "\n",
        "print(\"=== LibriSpeech Dataset Exploration ===\")\n",
        "print(\"Length:\", len(librispeech_dataset))\n",
        "print(\"mel_specs shape:\", librispeech_dataset.mel_specs.shape)\n",
        "print(\"sample_rates shape:\", librispeech_dataset.sample_rates.shape)\n",
        "print()\n",
        "speech, sample_rate = librispeech_dataset[0]\n",
        "print(\"Sample 0 - Speech shape:\", speech.size())\n",
        "print(\"Sample 0 - Sample rate:\", sample_rate)"
      ]
    },
    {
      "cell_type": "markdown",
      "metadata": {
        "id": "OK8WbDmTjkNH"
      },
      "source": [
        "## Dataset Helpers Explanation\n",
        "Why New Dataset Helpers?\n",
        "\n",
        "We have created new dataset helper classes (i.e., AccompanimentData, VocalData, and SpeechData) so that we can control how the data is padded and later shuffled.\n",
        "\n",
        "- **Separation of Data:**\n",
        "We separated the vocal and accompaniment data from the MusDB dataset. In our experiments, we might want to shuffle the speech data independently of the combined music data.\n",
        "\n",
        "- **Shuffling Considerations:**\n",
        "For the vocal and accompaniment data, we want to maintain their pairing so that they are shuffled in the same order. In contrast, we want the speech data to be shuffled independently.\n",
        "\n",
        "- **Future Extensions:**\n",
        "In the future, we may add another helper class that combines the vocal and accompaniment data to ensure synchronized shuffling in our data loaders.\n",
        "\n",
        "This modular approach gives us flexibility in handling and preprocessing the data for our GAN training."
      ]
    },
    {
      "cell_type": "code",
      "execution_count": 13,
      "metadata": {
        "id": "O7OGNnS8XMVd"
      },
      "outputs": [],
      "source": [
        "import torch\n",
        "from torch.utils.data import Dataset, DataLoader\n",
        "import torch.nn.functional as F\n",
        "\n",
        "class AccompanimentData(Dataset):\n",
        "    def __init__(self, musdb_dataset, output_length=289):\n",
        "        self.musdb_dataset = musdb_dataset\n",
        "        self.output_length = output_length\n",
        "\n",
        "    def __len__(self):\n",
        "        return len(self.musdb_dataset)\n",
        "\n",
        "    def __getitem__(self, index):\n",
        "        accompaniment, _, _ = self.musdb_dataset[index]  # shape: [128, 256]\n",
        "        current_len = accompaniment.size(-1)             # 256\n",
        "        delta = self.output_length - current_len         # 289 - 256 = 33\n",
        "\n",
        "        # If delta is positive, pad. Otherwise, you might want to crop or handle differently.\n",
        "        if delta > 0:\n",
        "            # Half the remainder goes to the front\n",
        "            left_pad_len = (delta // 2) + (delta % 2)  # 17\n",
        "            right_pad_len = delta // 2                # 16\n",
        "            accompaniment_pad = F.pad(accompaniment,\n",
        "                                  (left_pad_len, right_pad_len),\n",
        "                                  \"constant\", 0)\n",
        "        return {\"no_pad\" : accompaniment, \"pad\" : accompaniment_pad}\n",
        "\n",
        "\n",
        "class VocalData(Dataset):\n",
        "    def __init__(self, musdb_dataset, output_length=289):\n",
        "        self.musdb_dataset = musdb_dataset\n",
        "        self.output_length = output_length\n",
        "\n",
        "    def __len__(self):\n",
        "        return len(self.musdb_dataset)\n",
        "\n",
        "    def __getitem__(self, index):\n",
        "        _, vocal, _ = self.musdb_dataset[index]  # shape: [128, 256]\n",
        "        current_len = vocal.size(-1)\n",
        "        delta = self.output_length - current_len\n",
        "\n",
        "        if delta > 0:\n",
        "            left_pad_len = (delta // 2) + (delta % 2)\n",
        "            right_pad_len = delta // 2\n",
        "            vocal_pad = F.pad(vocal, (left_pad_len, right_pad_len), \"constant\", 0)\n",
        "        return {\"no_pad\" : vocal, \"pad\" : vocal_pad}\n",
        "\n",
        "\n",
        "\n",
        "class SpeechData(Dataset):\n",
        "    def __init__(self, librispeech_dataset, output_length=289):\n",
        "        self.librispeech_dataset = librispeech_dataset\n",
        "        self.output_length = output_length\n",
        "\n",
        "    def __len__(self):\n",
        "        return len(self.librispeech_dataset)\n",
        "\n",
        "    def __getitem__(self, index):\n",
        "        speech, _ = self.librispeech_dataset[index]\n",
        "        # If speech has multiple slices, pick the first slice\n",
        "        if speech.dim() == 3:\n",
        "            speech = speech[0]  # shape: [128, 256]\n",
        "        current_len = speech.size(-1)\n",
        "        delta = self.output_length - current_len\n",
        "\n",
        "        if delta > 0:\n",
        "            left_pad_len = (delta // 2) + (delta % 2)\n",
        "            right_pad_len = delta // 2\n",
        "            speech_pad = F.pad(speech, (left_pad_len, right_pad_len), \"constant\", 0)\n",
        "        return {\"no_pad\" : speech, \"pad\" : speech_pad}\n"
      ]
    },
    {
      "cell_type": "code",
      "execution_count": 14,
      "metadata": {
        "id": "gW1Twbo8lWY0"
      },
      "outputs": [],
      "source": [
        "# print(AccompanimentData(musdb_dataset)[0])\n",
        "# print(VocalData(musdb_dataset)[0])\n",
        "# print(SpeechData(librispeech_dataset)[0])"
      ]
    },
    {
      "cell_type": "markdown",
      "metadata": {
        "id": "suMDmB62yS_N"
      },
      "source": [
        "### DataLoader Explanation\n",
        "What is a DataLoader and Why Do We Need It?\n",
        "\n",
        "A DataLoader in PyTorch is a utility that wraps a dataset and provides:\n",
        "\n",
        "- **Batching:** It divides your dataset into batches so that you can train your models with mini-batch gradient descent.\n",
        "\n",
        "- **Shuffling:** It shuffles the data at every epoch (if specified) to help reduce overfitting and ensure the model sees a diverse set of examples.\n",
        "\n",
        "- **Parallel Data Loading:** It can load data in parallel using multiple worker processes, speeding up training.\n",
        "\n",
        "In our case, we create separate DataLoaders for:\n",
        "\n",
        "- The accompaniment data (paired with vocals) from the MusDB dataset.\n",
        "\n",
        "- The vocal data (paired with accompaniment) from the MusDB dataset.\n",
        "\n",
        "- The speech data from the LibriSpeech dataset.\n",
        "\n",
        "This lets us shuffle the speech data independently, while keeping the vocal/accompaniment pairs synchronized during training."
      ]
    },
    {
      "cell_type": "code",
      "execution_count": 15,
      "metadata": {
        "id": "vLcvcILSlW3C"
      },
      "outputs": [],
      "source": [
        "# Define batch size\n",
        "batch_size = 32  # Change as needed\n",
        "\n",
        "# Create data loaders\n",
        "accompaniment_loader = DataLoader(\n",
        "    AccompanimentData(musdb_dataset),\n",
        "    batch_size=batch_size,\n",
        "    shuffle=False,\n",
        "    drop_last=True\n",
        ")\n",
        "vocal_loader = DataLoader(\n",
        "    VocalData(musdb_dataset),\n",
        "    batch_size=batch_size,\n",
        "    shuffle=False,\n",
        "    drop_last=True\n",
        ")\n",
        "speech_loader = DataLoader(\n",
        "    SpeechData(librispeech_dataset),\n",
        "    batch_size=batch_size,\n",
        "    shuffle=True,\n",
        "    drop_last=True\n",
        ")\n",
        "\n",
        "# # Print how many batches each DataLoader contains\n",
        "# print(\"Accompaniment loader length:\", len(accompaniment_loader))\n",
        "# print(\"Vocal loader length:\", len(vocal_loader))\n",
        "# print(\"Speech loader length:\", len(speech_loader))\n",
        "\n",
        "# # Optionally, fetch and print the shape of the first batch\n",
        "# accompaniment_batch = next(iter(accompaniment_loader))\n",
        "# vocal_batch = next(iter(vocal_loader))\n",
        "# speech_batch = next(iter(speech_loader))\n",
        "# print(accompaniment_batch[\"pad\"])\n",
        "\n",
        "# print(\"Accompaniment first batch shape:\", accompaniment_batch.shape)\n",
        "# print(\"Vocal first batch shape:\", vocal_batch.shape)\n",
        "# print(\"Speech first batch shape:\", speech_batch.shape)\n"
      ]
    },
    {
      "cell_type": "markdown",
      "metadata": {
        "id": "3xUqt-HDRxKB"
      },
      "source": [
        "## Second Generator Model\n",
        "Here we initialize the second generator model whose purpose is to convert the generated vocals back to normal speach for the cycle GAN. We again use Wave-U-Net, but with a different configuration. The main difference is that we will not input the music along with the vocal track."
      ]
    },
    {
      "cell_type": "code",
      "execution_count": null,
      "metadata": {
        "colab": {
          "base_uri": "https://localhost:8080/"
        },
        "id": "3Ql5ZsesRvvd",
        "outputId": "7d62608b-9e5f-40f9-b944-d5b2e8c6807b"
      },
      "outputs": [],
      "source": []
    },
    {
      "cell_type": "markdown",
      "metadata": {
        "id": "hd1FQ3ZdSymH"
      },
      "source": [
        "## Transform Input to generator_2\n",
        "\n",
        "The output of the generator model is a (batch_size, 128, 257) tensor. The model expects a tensor of size (batch_size, 128, 289). We need to pad the last dimension with 16 zeros on each size."
      ]
    },
    {
      "cell_type": "code",
      "execution_count": 16,
      "metadata": {
        "id": "rQn9K5nVSu-c"
      },
      "outputs": [],
      "source": [
        "def transform_for_gen_2(batch, output_length = 289):\n",
        "  current_len = batch.size(-1)\n",
        "  delta = output_length - current_len\n",
        "\n",
        "  if delta > 0:\n",
        "      left_pad_len = (delta // 2) + (delta % 2)\n",
        "      right_pad_len = delta // 2\n",
        "      batch = F.pad(batch, (left_pad_len, right_pad_len), \"constant\", 0)\n",
        "  return batch\n"
      ]
    },
    {
      "cell_type": "markdown",
      "metadata": {
        "id": "2jg9I_4qxV3-"
      },
      "source": [
        "## Train the Cycle GAN\n",
        "The models are ``generator`` and ``discriminator`` and ``generator_2``.\n"
      ]
    },
    {
      "cell_type": "code",
      "execution_count": 17,
      "metadata": {
        "id": "A_oMQsfWSlJX"
      },
      "outputs": [],
      "source": [
        "import torch\n",
        "import torch.nn as nn\n",
        "import torch.optim as optim\n",
        "from tqdm import tqdm\n",
        "from torch.utils.tensorboard import SummaryWriter\n",
        "\n",
        "# ----- Single Epoch Training Function -----\n",
        "def train_epoch(\n",
        "    generator,\n",
        "    generator_2,\n",
        "    discriminator,\n",
        "    optimizer_D,\n",
        "    optimizer_G,\n",
        "    optimizer_G2,\n",
        "    accompaniment_loader,\n",
        "    vocal_loader,\n",
        "    speech_loader,\n",
        "    l1_loss,\n",
        "    lambda_l1,\n",
        "    lambda_cycle,\n",
        "    adversarial_loss,\n",
        "    device,\n",
        "    virtual_batch_size=1  # Set > 1 for gradient accumulation across mini-batches.\n",
        "    \n",
        "):\n",
        "    total_loss_D = 0.0\n",
        "    total_loss_G = 0.0\n",
        "    total_loss_G_adv = 0.0\n",
        "    total_loss_G_L1 = 0.0\n",
        "    total_loss_cycle = 0.0\n",
        "    num_batches = 0\n",
        "\n",
        "    # Optionally record gradient norms per batch for diagnosing vanishing gradients.\n",
        "    grad_norms_D = []\n",
        "    grad_norms_G = []\n",
        "\n",
        "    # Wrap the loader in tqdm for progress reporting.\n",
        "    train_loader = enumerate(zip(zip(accompaniment_loader, vocal_loader), speech_loader))\n",
        "    \n",
        "    for batch_number, ((accompaniment, vocal), speech) in tqdm(train_loader, desc=\"Training Batches\"):\n",
        "        # Move data to device and cast to float32.\n",
        "        accompaniment_pad = accompaniment[\"pad\"].type(torch.float32).to(device)  # shape: [B, 128, 289]\n",
        "        speech_pad = speech[\"pad\"].type(torch.float32).to(device)                # shape: [B, 128, 289]\n",
        "\n",
        "        # Prepare generator input by concatenating speech and accompaniment along the channel dim.\n",
        "        generator_input = torch.cat([speech_pad, accompaniment_pad], dim=1)  # shape: [B, 256, 289]\n",
        "\n",
        "        # ---------------------\n",
        "        # Train the Discriminator\n",
        "        # ---------------------\n",
        "        optimizer_D.zero_grad()\n",
        "\n",
        "        B = accompaniment_pad.size(0)\n",
        "        real_labels = torch.full((B, 1), 1.0, device=device)\n",
        "        fake_labels = torch.zeros((B, 1), device=device)\n",
        "\n",
        "        # Get non-padded data.\n",
        "        accompaniment_no_pad = accompaniment[\"no_pad\"].type(torch.float32).to(device)\n",
        "        vocals_no_pad = vocal[\"no_pad\"].type(torch.float32).to(device)\n",
        "\n",
        "        # Discriminator on real samples.\n",
        "        pred_real = discriminator(vocals_no_pad, accompaniment_no_pad)\n",
        "        loss_D_real = adversarial_loss(pred_real, real_labels)\n",
        "\n",
        "        # Generate fake singing.\n",
        "        raw_fake_singing = generator(generator_input)[\"vocal\"]\n",
        "        # Clone the output to ensure safety with subsequent operations.\n",
        "        fake_singing = raw_fake_singing.clone()\n",
        "        fake_singing_crop = fake_singing[:, :, :256].clone()\n",
        "\n",
        "        # Discriminator on fake samples.\n",
        "        pred_fake = discriminator(fake_singing_crop, accompaniment_no_pad)\n",
        "        loss_D_fake = adversarial_loss(pred_fake, fake_labels)\n",
        "\n",
        "        loss_D = 0.5 * (loss_D_real + loss_D_fake)\n",
        "        loss_D.backward()\n",
        "\n",
        "        # Record discriminator gradient norms.\n",
        "        grad_norm = 0.0\n",
        "        count = 0\n",
        "        for p in discriminator.parameters():\n",
        "            if p.grad is not None:\n",
        "                grad_norm += p.grad.norm().item()\n",
        "                count += 1\n",
        "        if count > 0:\n",
        "            grad_norms_D.append(grad_norm / count)\n",
        "\n",
        "        optimizer_D.step()\n",
        "\n",
        "        # ---------------------\n",
        "        # Train the Generators\n",
        "        # ---------------------\n",
        "        # Reset generator gradients if not accumulating.\n",
        "        if virtual_batch_size == 1:\n",
        "            optimizer_G.zero_grad()\n",
        "            optimizer_G2.zero_grad()\n",
        "\n",
        "        # Generator adversarial loss.\n",
        "        pred_fake_for_G = discriminator(fake_singing, accompaniment_no_pad)\n",
        "        \n",
        "        # Prepare input for second generator (assume transform_for_gen_2 is defined).\n",
        "        fake_singing_padded = transform_for_gen_2(fake_singing)\n",
        "        raw_reconstructed_speech = generator_2(fake_singing_padded)[\"speech\"]\n",
        "        reconstructed_speech = raw_reconstructed_speech[:, :, :256].clone()\n",
        "        speech_no_pad = speech[\"no_pad\"].type(torch.float32).to(device)\n",
        "\n",
        "        loss_G_adv = adversarial_loss(pred_fake_for_G, real_labels)\n",
        "        loss_cycle = l1_loss(reconstructed_speech, speech_no_pad)\n",
        "        loss_G_L1 = l1_loss(fake_singing_crop, vocals_no_pad)\n",
        "\n",
        "        loss_G = loss_G_adv + lambda_l1 * loss_G_L1 + lambda_cycle * loss_cycle\n",
        "\n",
        "        loss_G.backward()\n",
        "\n",
        "        # Record generator gradient norms.\n",
        "        grad_norm = 0.0\n",
        "        count = 0\n",
        "        for p in generator.parameters():\n",
        "            if p.grad is not None:\n",
        "                grad_norm += p.grad.norm().item()\n",
        "                count += 1\n",
        "        if count > 0:\n",
        "            grad_norms_G.append(grad_norm / count)\n",
        "\n",
        "        # If using virtual batch accumulation.\n",
        "        if (batch_number + 1) % virtual_batch_size == 0:\n",
        "            optimizer_G.step()\n",
        "            optimizer_G2.step()\n",
        "            optimizer_G.zero_grad()\n",
        "            optimizer_G2.zero_grad()\n",
        "\n",
        "        total_loss_D += loss_D.item()\n",
        "        total_loss_G += loss_G.item()\n",
        "        total_loss_G_adv += loss_G_adv.item()\n",
        "        total_loss_G_L1 += loss_G_L1.item()\n",
        "        total_loss_cycle += loss_cycle.item()\n",
        "        num_batches += 1\n",
        "\n",
        "    epoch_metrics = {\n",
        "        \"loss_D\": total_loss_D / num_batches,\n",
        "        \"loss_G_total\": total_loss_G / num_batches,\n",
        "        \"loss_G_adv\": total_loss_G_adv / num_batches,\n",
        "        \"loss_G_L1\": total_loss_G_L1 / num_batches,\n",
        "        \"loss_cycle\": total_loss_cycle / num_batches,\n",
        "        \"avg_grad_norm_D\": sum(grad_norms_D) / len(grad_norms_D) if grad_norms_D else 0.0,\n",
        "        \"avg_grad_norm_G\": sum(grad_norms_G) / len(grad_norms_G) if grad_norms_G else 0.0,\n",
        "    }\n",
        "    return epoch_metrics\n",
        "\n",
        "# ----- Multi-Epoch Training Function -----\n",
        "def train(\n",
        "    generator,\n",
        "    generator_2,\n",
        "    discriminator,\n",
        "    optimizer_D,\n",
        "    optimizer_G,\n",
        "    optimizer_G2,\n",
        "    accompaniment_loader,\n",
        "    vocal_loader,\n",
        "    speech_loader,\n",
        "    l1_loss,\n",
        "    lambda_l1,\n",
        "    lambda_cycle,\n",
        "    adversarial_loss,\n",
        "    device,\n",
        "    num_epochs,\n",
        "    virtual_batch_size,\n",
        "    log_dir\n",
        "):\n",
        "    writer = SummaryWriter(log_dir=log_dir)\n",
        "    global_step = 0\n",
        "\n",
        "    for epoch in range(num_epochs):\n",
        "        print(f\"\\n=== Epoch {epoch+1}/{num_epochs} ===\")\n",
        "        epoch_metrics = train_epoch(\n",
        "            generator,\n",
        "            generator_2,\n",
        "            discriminator,\n",
        "            optimizer_D,\n",
        "            optimizer_G,\n",
        "            optimizer_G2,\n",
        "            accompaniment_loader,\n",
        "            vocal_loader,\n",
        "            speech_loader,\n",
        "            l1_loss,\n",
        "            lambda_l1,\n",
        "            lambda_cycle,\n",
        "            adversarial_loss,\n",
        "            device,\n",
        "            virtual_batch_size\n",
        "        )\n",
        "        print(f\"Epoch {epoch+1} Metrics:\")\n",
        "        print(f\"  Loss_D:         {epoch_metrics['loss_D']:.4f}\")\n",
        "        print(f\"  Loss_G_total:   {epoch_metrics['loss_G_total']:.4f}\")\n",
        "        print(f\"  Loss_G_adv:     {epoch_metrics['loss_G_adv']:.4f}\")\n",
        "        print(f\"  Loss_G_L1:      {epoch_metrics['loss_G_L1']:.4f}\")\n",
        "        print(f\"  Loss_Cycle:     {epoch_metrics['loss_cycle']:.4f}\")\n",
        "        print(f\"  Grad Norm D:    {epoch_metrics['avg_grad_norm_D']:.4f}\")\n",
        "        print(f\"  Grad Norm G:    {epoch_metrics['avg_grad_norm_G']:.4f}\")\n",
        "\n",
        "        # Log metrics to TensorBoard.\n",
        "        writer.add_scalar(\"Loss/Discriminator\", epoch_metrics[\"loss_D\"], epoch)\n",
        "        writer.add_scalar(\"Loss/Generator_total\", epoch_metrics[\"loss_G_total\"], epoch)\n",
        "        writer.add_scalar(\"Loss/Generator_adversarial\", epoch_metrics[\"loss_G_adv\"], epoch)\n",
        "        writer.add_scalar(\"Loss/Generator_L1\", epoch_metrics[\"loss_G_L1\"], epoch)\n",
        "        writer.add_scalar(\"Loss/Cycle\", epoch_metrics[\"loss_cycle\"], epoch)\n",
        "        writer.add_scalar(\"Gradients/Discriminator\", epoch_metrics[\"avg_grad_norm_D\"], epoch)\n",
        "        writer.add_scalar(\"Gradients/Generator\", epoch_metrics[\"avg_grad_norm_G\"], epoch)\n",
        "\n",
        "        global_step += 1\n",
        "\n",
        "    writer.close()\n",
        "\n",
        "\n"
      ]
    },
    {
      "cell_type": "code",
      "execution_count": 18,
      "metadata": {
        "id": "phkEdf7rSckQ"
      },
      "outputs": [],
      "source": [
        "now = datetime.now().strftime(\"%Y%m%d-%H%M%S\")\n",
        "log_dir = \"runs/\" + \"cycleGAN_experiment_\" + now\n",
        "\n",
        "# ---------------- hyper‑parameters in ONE place ----------------\n",
        "train_parameters = {\n",
        "    # optimisation\n",
        "    \"lr_G\":          1e-4,\n",
        "    \"lr_G2\":         1e-4,\n",
        "    \"lr_D\":          1e-8,\n",
        "    \"betas\":         (0.5, 0.999),\n",
        "\n",
        "    # loss weights\n",
        "    \"lambda_l1\":     5,\n",
        "    \"lambda_cycle\":  5,\n",
        "\n",
        "    # schedule\n",
        "    \"num_epochs\":    20,\n",
        "    \"virtual_batch_size\": 8,\n",
        "\n",
        "    # bookkeeping\n",
        "    \"log_dir\":       f\"runs/cycleGAN_experiment_{now}\",\n",
        "    \"model_dir\":     \"models\",\n",
        "}\n"
      ]
    },
    {
      "cell_type": "code",
      "execution_count": 19,
      "metadata": {
        "colab": {
          "base_uri": "https://localhost:8080/"
        },
        "id": "IrrtFAj8Tjlv",
        "outputId": "8bffef33-9684-4b77-8ce4-b14a618a2b76"
      },
      "outputs": [
        {
          "name": "stdout",
          "output_type": "stream",
          "text": [
            "Using device: cuda\n",
            "Using valid convolutions with 289 inputs and 257 outputs\n",
            "Using valid convolutions with 289 inputs and 257 outputs\n",
            "Fitting discriminator...\n",
            "MiniRocket fitted. Feature dimension: 9996\n"
          ]
        }
      ],
      "source": [
        "# ----- Example Setup and Training Invocation -----\n",
        "\n",
        "device = torch.device(\"cuda\" if torch.cuda.is_available() else \"cpu\")\n",
        "print(\"Using device:\", device)\n",
        "\n",
        "# Model configurations for generator and generator_2.\n",
        "model_config_gen = {\n",
        "    \"num_inputs\": 256,  # Two spectrograms concatenated (2 * 128 mel bins)\n",
        "    \"num_outputs\": 128,\n",
        "    \"num_channels\": [512*2, 512*4, 512*8],\n",
        "    \"instruments\": [\"vocal\"],\n",
        "    \"kernel_size\": 3,\n",
        "    \"target_output_size\": 256,\n",
        "    \"conv_type\": \"normal\",\n",
        "    \"res\": \"fixed\",\n",
        "    \"separate\": False,\n",
        "    \"depth\": 1,\n",
        "    \"strides\": 2\n",
        "}\n",
        "generator = Waveunet(**model_config_gen).to(device)\n",
        "\n",
        "model_config_gen2 = {\n",
        "    \"num_inputs\": 128,  # One spectrogram input\n",
        "    \"num_outputs\": 128,\n",
        "    \"num_channels\": [256*2, 256*4, 256*8],\n",
        "    \"instruments\": [\"speech\"],\n",
        "    \"kernel_size\": 3,\n",
        "    \"target_output_size\": 256,\n",
        "    \"conv_type\": \"normal\",\n",
        "    \"res\": \"fixed\",\n",
        "    \"separate\": False,\n",
        "    \"depth\": 1,\n",
        "    \"strides\": 2\n",
        "}\n",
        "generator_2 = Waveunet(**model_config_gen2).to(device)\n",
        "minirocket_n_jobs = 22 # Instantiate the discriminator.\n",
        "discriminator = TsaiMiniRocketDiscriminator().to(device)\n",
        "\n",
        "# Assume dataloaders `accompaniment_loader`, `vocal_loader`, and `speech_loader` are defined.\n",
        "\n",
        "# Optionally, prepare the discriminator (e.g., pre-fitting on some speech data).\n",
        "accompaniment_batch = next(iter(accompaniment_loader))\n",
        "vocal_batch = next(iter(vocal_loader))\n",
        "speech_batch = next(iter(speech_loader))[\"no_pad\"]\n",
        "print(\"Fitting discriminator...\")\n",
        "discriminator.fit_rocket(speech_batch)\n",
        "\n",
        "# Loss functions.\n",
        "adversarial_loss = nn.BCELoss().to(device)\n",
        "l1_loss = nn.L1Loss().to(device)\n",
        "\n",
        "optimizer_G  = optim.Adam(generator.parameters(),  lr=train_parameters[\"lr_G\"],  betas=train_parameters[\"betas\"])\n",
        "optimizer_G2 = optim.Adam(generator_2.parameters(), lr=train_parameters[\"lr_G2\"], betas=train_parameters[\"betas\"])\n",
        "optimizer_D  = optim.Adam(discriminator.parameters(), lr=train_parameters[\"lr_D\"], betas=train_parameters[\"betas\"])\n",
        "\n"
      ]
    },
    {
      "cell_type": "code",
      "execution_count": 20,
      "metadata": {
        "colab": {
          "base_uri": "https://localhost:8080/",
          "height": 423
        },
        "id": "PWajAnHDMunt",
        "outputId": "ab0ab3f4-83fd-4d39-d8a4-134bf7fa41ec"
      },
      "outputs": [
        {
          "name": "stdout",
          "output_type": "stream",
          "text": [
            "\n",
            "=== Epoch 1/20 ===\n"
          ]
        },
        {
          "name": "stderr",
          "output_type": "stream",
          "text": [
            "Training Batches: 130it [00:37,  3.51it/s]\n"
          ]
        },
        {
          "name": "stdout",
          "output_type": "stream",
          "text": [
            "Epoch 1 Metrics:\n",
            "  Loss_D:         0.6951\n",
            "  Loss_G_total:   243.4683\n",
            "  Loss_G_adv:     0.7334\n",
            "  Loss_G_L1:      23.6128\n",
            "  Loss_Cycle:     24.9342\n",
            "  Grad Norm D:    0.2922\n",
            "  Grad Norm G:    249.7935\n",
            "\n",
            "=== Epoch 2/20 ===\n"
          ]
        },
        {
          "name": "stderr",
          "output_type": "stream",
          "text": [
            "Training Batches: 130it [00:36,  3.54it/s]\n"
          ]
        },
        {
          "name": "stdout",
          "output_type": "stream",
          "text": [
            "Epoch 2 Metrics:\n",
            "  Loss_D:         0.6955\n",
            "  Loss_G_total:   148.0159\n",
            "  Loss_G_adv:     0.7296\n",
            "  Loss_G_L1:      15.8821\n",
            "  Loss_Cycle:     13.5751\n",
            "  Grad Norm D:    0.2750\n",
            "  Grad Norm G:    183.3576\n",
            "\n",
            "=== Epoch 3/20 ===\n"
          ]
        },
        {
          "name": "stderr",
          "output_type": "stream",
          "text": [
            "Training Batches: 130it [00:36,  3.55it/s]\n"
          ]
        },
        {
          "name": "stdout",
          "output_type": "stream",
          "text": [
            "Epoch 3 Metrics:\n",
            "  Loss_D:         0.6948\n",
            "  Loss_G_total:   124.2751\n",
            "  Loss_G_adv:     0.7266\n",
            "  Loss_G_L1:      15.1369\n",
            "  Loss_Cycle:     9.5728\n",
            "  Grad Norm D:    0.2731\n",
            "  Grad Norm G:    89.1967\n",
            "\n",
            "=== Epoch 4/20 ===\n"
          ]
        },
        {
          "name": "stderr",
          "output_type": "stream",
          "text": [
            "Training Batches: 130it [00:36,  3.53it/s]\n"
          ]
        },
        {
          "name": "stdout",
          "output_type": "stream",
          "text": [
            "Epoch 4 Metrics:\n",
            "  Loss_D:         0.6944\n",
            "  Loss_G_total:   124.7123\n",
            "  Loss_G_adv:     0.7245\n",
            "  Loss_G_L1:      15.0036\n",
            "  Loss_Cycle:     9.7940\n",
            "  Grad Norm D:    0.2735\n",
            "  Grad Norm G:    104.9015\n",
            "\n",
            "=== Epoch 5/20 ===\n"
          ]
        },
        {
          "name": "stderr",
          "output_type": "stream",
          "text": [
            "Training Batches: 130it [00:36,  3.53it/s]\n"
          ]
        },
        {
          "name": "stdout",
          "output_type": "stream",
          "text": [
            "Epoch 5 Metrics:\n",
            "  Loss_D:         0.6937\n",
            "  Loss_G_total:   122.6212\n",
            "  Loss_G_adv:     0.7230\n",
            "  Loss_G_L1:      14.9567\n",
            "  Loss_Cycle:     9.4229\n",
            "  Grad Norm D:    0.2711\n",
            "  Grad Norm G:    101.0466\n",
            "\n",
            "=== Epoch 6/20 ===\n"
          ]
        },
        {
          "name": "stderr",
          "output_type": "stream",
          "text": [
            "Training Batches: 130it [00:36,  3.52it/s]\n"
          ]
        },
        {
          "name": "stdout",
          "output_type": "stream",
          "text": [
            "Epoch 6 Metrics:\n",
            "  Loss_D:         0.6921\n",
            "  Loss_G_total:   122.4530\n",
            "  Loss_G_adv:     0.7221\n",
            "  Loss_G_L1:      15.0646\n",
            "  Loss_Cycle:     9.2816\n",
            "  Grad Norm D:    0.2725\n",
            "  Grad Norm G:    127.8588\n",
            "\n",
            "=== Epoch 7/20 ===\n"
          ]
        },
        {
          "name": "stderr",
          "output_type": "stream",
          "text": [
            "Training Batches: 130it [00:36,  3.52it/s]\n"
          ]
        },
        {
          "name": "stdout",
          "output_type": "stream",
          "text": [
            "Epoch 7 Metrics:\n",
            "  Loss_D:         0.6917\n",
            "  Loss_G_total:   114.3243\n",
            "  Loss_G_adv:     0.7211\n",
            "  Loss_G_L1:      15.0874\n",
            "  Loss_Cycle:     7.6332\n",
            "  Grad Norm D:    0.2716\n",
            "  Grad Norm G:    92.4090\n",
            "\n",
            "=== Epoch 8/20 ===\n"
          ]
        },
        {
          "name": "stderr",
          "output_type": "stream",
          "text": [
            "Training Batches: 130it [00:36,  3.53it/s]\n"
          ]
        },
        {
          "name": "stdout",
          "output_type": "stream",
          "text": [
            "Epoch 8 Metrics:\n",
            "  Loss_D:         0.6909\n",
            "  Loss_G_total:   115.1173\n",
            "  Loss_G_adv:     0.7202\n",
            "  Loss_G_L1:      15.1406\n",
            "  Loss_Cycle:     7.7388\n",
            "  Grad Norm D:    0.2723\n",
            "  Grad Norm G:    133.7462\n",
            "\n",
            "=== Epoch 9/20 ===\n"
          ]
        },
        {
          "name": "stderr",
          "output_type": "stream",
          "text": [
            "Training Batches: 130it [00:36,  3.53it/s]\n"
          ]
        },
        {
          "name": "stdout",
          "output_type": "stream",
          "text": [
            "Epoch 9 Metrics:\n",
            "  Loss_D:         0.6900\n",
            "  Loss_G_total:   115.1285\n",
            "  Loss_G_adv:     0.7190\n",
            "  Loss_G_L1:      15.0184\n",
            "  Loss_Cycle:     7.8635\n",
            "  Grad Norm D:    0.2740\n",
            "  Grad Norm G:    154.5852\n",
            "\n",
            "=== Epoch 10/20 ===\n"
          ]
        },
        {
          "name": "stderr",
          "output_type": "stream",
          "text": [
            "Training Batches: 130it [00:37,  3.51it/s]\n"
          ]
        },
        {
          "name": "stdout",
          "output_type": "stream",
          "text": [
            "Epoch 10 Metrics:\n",
            "  Loss_D:         0.6894\n",
            "  Loss_G_total:   112.3885\n",
            "  Loss_G_adv:     0.7190\n",
            "  Loss_G_L1:      14.9336\n",
            "  Loss_Cycle:     7.4003\n",
            "  Grad Norm D:    0.2728\n",
            "  Grad Norm G:    132.3393\n",
            "\n",
            "=== Epoch 11/20 ===\n"
          ]
        },
        {
          "name": "stderr",
          "output_type": "stream",
          "text": [
            "Training Batches: 130it [00:37,  3.50it/s]\n"
          ]
        },
        {
          "name": "stdout",
          "output_type": "stream",
          "text": [
            "Epoch 11 Metrics:\n",
            "  Loss_D:         0.6882\n",
            "  Loss_G_total:   109.2319\n",
            "  Loss_G_adv:     0.7182\n",
            "  Loss_G_L1:      14.9160\n",
            "  Loss_Cycle:     6.7867\n",
            "  Grad Norm D:    0.2729\n",
            "  Grad Norm G:    112.1448\n",
            "\n",
            "=== Epoch 12/20 ===\n"
          ]
        },
        {
          "name": "stderr",
          "output_type": "stream",
          "text": [
            "Training Batches: 130it [00:37,  3.51it/s]\n"
          ]
        },
        {
          "name": "stdout",
          "output_type": "stream",
          "text": [
            "Epoch 12 Metrics:\n",
            "  Loss_D:         0.6877\n",
            "  Loss_G_total:   111.4107\n",
            "  Loss_G_adv:     0.7180\n",
            "  Loss_G_L1:      14.9067\n",
            "  Loss_Cycle:     7.2318\n",
            "  Grad Norm D:    0.2750\n",
            "  Grad Norm G:    143.5424\n",
            "\n",
            "=== Epoch 13/20 ===\n"
          ]
        },
        {
          "name": "stderr",
          "output_type": "stream",
          "text": [
            "Training Batches: 130it [00:37,  3.51it/s]\n"
          ]
        },
        {
          "name": "stdout",
          "output_type": "stream",
          "text": [
            "Epoch 13 Metrics:\n",
            "  Loss_D:         0.6878\n",
            "  Loss_G_total:   108.7171\n",
            "  Loss_G_adv:     0.7183\n",
            "  Loss_G_L1:      14.8102\n",
            "  Loss_Cycle:     6.7896\n",
            "  Grad Norm D:    0.2762\n",
            "  Grad Norm G:    117.7255\n",
            "\n",
            "=== Epoch 14/20 ===\n"
          ]
        },
        {
          "name": "stderr",
          "output_type": "stream",
          "text": [
            "Training Batches: 130it [00:37,  3.50it/s]\n"
          ]
        },
        {
          "name": "stdout",
          "output_type": "stream",
          "text": [
            "Epoch 14 Metrics:\n",
            "  Loss_D:         0.6865\n",
            "  Loss_G_total:   107.1933\n",
            "  Loss_G_adv:     0.7183\n",
            "  Loss_G_L1:      14.7806\n",
            "  Loss_Cycle:     6.5144\n",
            "  Grad Norm D:    0.2743\n",
            "  Grad Norm G:    107.0674\n",
            "\n",
            "=== Epoch 15/20 ===\n"
          ]
        },
        {
          "name": "stderr",
          "output_type": "stream",
          "text": [
            "Training Batches: 130it [00:37,  3.50it/s]\n"
          ]
        },
        {
          "name": "stdout",
          "output_type": "stream",
          "text": [
            "Epoch 15 Metrics:\n",
            "  Loss_D:         0.6864\n",
            "  Loss_G_total:   107.5444\n",
            "  Loss_G_adv:     0.7182\n",
            "  Loss_G_L1:      14.8236\n",
            "  Loss_Cycle:     6.5417\n",
            "  Grad Norm D:    0.2754\n",
            "  Grad Norm G:    111.4470\n",
            "\n",
            "=== Epoch 16/20 ===\n"
          ]
        },
        {
          "name": "stderr",
          "output_type": "stream",
          "text": [
            "Training Batches: 130it [00:37,  3.50it/s]\n"
          ]
        },
        {
          "name": "stdout",
          "output_type": "stream",
          "text": [
            "Epoch 16 Metrics:\n",
            "  Loss_D:         0.6847\n",
            "  Loss_G_total:   111.0083\n",
            "  Loss_G_adv:     0.7186\n",
            "  Loss_G_L1:      14.8393\n",
            "  Loss_Cycle:     7.2186\n",
            "  Grad Norm D:    0.2750\n",
            "  Grad Norm G:    154.9176\n",
            "\n",
            "=== Epoch 17/20 ===\n"
          ]
        },
        {
          "name": "stderr",
          "output_type": "stream",
          "text": [
            "Training Batches: 130it [00:37,  3.51it/s]\n"
          ]
        },
        {
          "name": "stdout",
          "output_type": "stream",
          "text": [
            "Epoch 17 Metrics:\n",
            "  Loss_D:         0.6844\n",
            "  Loss_G_total:   108.3326\n",
            "  Loss_G_adv:     0.7186\n",
            "  Loss_G_L1:      14.8154\n",
            "  Loss_Cycle:     6.7074\n",
            "  Grad Norm D:    0.2735\n",
            "  Grad Norm G:    126.0532\n",
            "\n",
            "=== Epoch 18/20 ===\n"
          ]
        },
        {
          "name": "stderr",
          "output_type": "stream",
          "text": [
            "Training Batches: 130it [00:37,  3.50it/s]\n"
          ]
        },
        {
          "name": "stdout",
          "output_type": "stream",
          "text": [
            "Epoch 18 Metrics:\n",
            "  Loss_D:         0.6839\n",
            "  Loss_G_total:   109.9369\n",
            "  Loss_G_adv:     0.7188\n",
            "  Loss_G_L1:      14.7647\n",
            "  Loss_Cycle:     7.0789\n",
            "  Grad Norm D:    0.2747\n",
            "  Grad Norm G:    151.6303\n",
            "\n",
            "=== Epoch 19/20 ===\n"
          ]
        },
        {
          "name": "stderr",
          "output_type": "stream",
          "text": [
            "Training Batches: 130it [00:37,  3.50it/s]\n"
          ]
        },
        {
          "name": "stdout",
          "output_type": "stream",
          "text": [
            "Epoch 19 Metrics:\n",
            "  Loss_D:         0.6832\n",
            "  Loss_G_total:   108.0518\n",
            "  Loss_G_adv:     0.7188\n",
            "  Loss_G_L1:      14.7560\n",
            "  Loss_Cycle:     6.7106\n",
            "  Grad Norm D:    0.2723\n",
            "  Grad Norm G:    123.9540\n",
            "\n",
            "=== Epoch 20/20 ===\n"
          ]
        },
        {
          "name": "stderr",
          "output_type": "stream",
          "text": [
            "Training Batches: 130it [00:36,  3.52it/s]"
          ]
        },
        {
          "name": "stdout",
          "output_type": "stream",
          "text": [
            "Epoch 20 Metrics:\n",
            "  Loss_D:         0.6830\n",
            "  Loss_G_total:   107.1174\n",
            "  Loss_G_adv:     0.7199\n",
            "  Loss_G_L1:      14.7880\n",
            "  Loss_Cycle:     6.4915\n",
            "  Grad Norm D:    0.2736\n",
            "  Grad Norm G:    115.7214\n"
          ]
        },
        {
          "name": "stderr",
          "output_type": "stream",
          "text": [
            "\n"
          ]
        }
      ],
      "source": [
        "import gc\n",
        "gc.collect()\n",
        "torch.cuda.empty_cache()\n",
        "\n",
        "# Start training.\n",
        "train(\n",
        "    generator,\n",
        "    generator_2,\n",
        "    discriminator,\n",
        "    optimizer_D,\n",
        "    optimizer_G,\n",
        "    optimizer_G2,\n",
        "    accompaniment_loader,\n",
        "    vocal_loader,\n",
        "    speech_loader,\n",
        "    l1_loss,\n",
        "    train_parameters[\"lambda_l1\"],\n",
        "    train_parameters[\"lambda_cycle\"],\n",
        "    adversarial_loss,\n",
        "    device,\n",
        "    num_epochs          = train_parameters[\"num_epochs\"],\n",
        "    virtual_batch_size  = train_parameters[\"virtual_batch_size\"],\n",
        "    log_dir             = train_parameters[\"log_dir\"],\n",
        ")\n"
      ]
    },
    {
      "cell_type": "code",
      "execution_count": 23,
      "metadata": {},
      "outputs": [
        {
          "name": "stdout",
          "output_type": "stream",
          "text": [
            "\n",
            "=== Epoch 1/50 ===\n"
          ]
        },
        {
          "name": "stderr",
          "output_type": "stream",
          "text": [
            "Training Batches: 0it [00:00, ?it/s]"
          ]
        },
        {
          "name": "stderr",
          "output_type": "stream",
          "text": [
            "Training Batches: 130it [00:36,  3.52it/s]\n"
          ]
        },
        {
          "name": "stdout",
          "output_type": "stream",
          "text": [
            "Epoch 1 Metrics:\n",
            "  Loss_D:         0.6821\n",
            "  Loss_G_total:   108.2040\n",
            "  Loss_G_adv:     0.7204\n",
            "  Loss_G_L1:      14.7449\n",
            "  Loss_Cycle:     6.7519\n",
            "  Grad Norm D:    0.2734\n",
            "  Grad Norm G:    143.7835\n",
            "\n",
            "=== Epoch 2/50 ===\n"
          ]
        },
        {
          "name": "stderr",
          "output_type": "stream",
          "text": [
            "Training Batches: 130it [00:37,  3.51it/s]\n"
          ]
        },
        {
          "name": "stdout",
          "output_type": "stream",
          "text": [
            "Epoch 2 Metrics:\n",
            "  Loss_D:         0.6818\n",
            "  Loss_G_total:   106.9059\n",
            "  Loss_G_adv:     0.7201\n",
            "  Loss_G_L1:      14.7240\n",
            "  Loss_Cycle:     6.5132\n",
            "  Grad Norm D:    0.2719\n",
            "  Grad Norm G:    127.6750\n",
            "\n",
            "=== Epoch 3/50 ===\n"
          ]
        },
        {
          "name": "stderr",
          "output_type": "stream",
          "text": [
            "Training Batches: 130it [00:36,  3.54it/s]\n"
          ]
        },
        {
          "name": "stdout",
          "output_type": "stream",
          "text": [
            "Epoch 3 Metrics:\n",
            "  Loss_D:         0.6813\n",
            "  Loss_G_total:   107.5395\n",
            "  Loss_G_adv:     0.7207\n",
            "  Loss_G_L1:      14.7562\n",
            "  Loss_Cycle:     6.6076\n",
            "  Grad Norm D:    0.2716\n",
            "  Grad Norm G:    138.9725\n",
            "\n",
            "=== Epoch 4/50 ===\n"
          ]
        },
        {
          "name": "stderr",
          "output_type": "stream",
          "text": [
            "Training Batches: 130it [00:37,  3.51it/s]\n"
          ]
        },
        {
          "name": "stdout",
          "output_type": "stream",
          "text": [
            "Epoch 4 Metrics:\n",
            "  Loss_D:         0.6813\n",
            "  Loss_G_total:   107.1295\n",
            "  Loss_G_adv:     0.7199\n",
            "  Loss_G_L1:      14.7537\n",
            "  Loss_Cycle:     6.5282\n",
            "  Grad Norm D:    0.2717\n",
            "  Grad Norm G:    142.0719\n",
            "\n",
            "=== Epoch 5/50 ===\n"
          ]
        },
        {
          "name": "stderr",
          "output_type": "stream",
          "text": [
            "Training Batches: 130it [00:36,  3.52it/s]\n"
          ]
        },
        {
          "name": "stdout",
          "output_type": "stream",
          "text": [
            "Epoch 5 Metrics:\n",
            "  Loss_D:         0.6807\n",
            "  Loss_G_total:   106.4080\n",
            "  Loss_G_adv:     0.7202\n",
            "  Loss_G_L1:      14.6990\n",
            "  Loss_Cycle:     6.4386\n",
            "  Grad Norm D:    0.2716\n",
            "  Grad Norm G:    142.7587\n",
            "\n",
            "=== Epoch 6/50 ===\n"
          ]
        },
        {
          "name": "stderr",
          "output_type": "stream",
          "text": [
            "Training Batches: 130it [00:36,  3.52it/s]\n"
          ]
        },
        {
          "name": "stdout",
          "output_type": "stream",
          "text": [
            "Epoch 6 Metrics:\n",
            "  Loss_D:         0.6802\n",
            "  Loss_G_total:   105.4599\n",
            "  Loss_G_adv:     0.7216\n",
            "  Loss_G_L1:      14.7674\n",
            "  Loss_Cycle:     6.1803\n",
            "  Grad Norm D:    0.2712\n",
            "  Grad Norm G:    130.4185\n",
            "\n",
            "=== Epoch 7/50 ===\n"
          ]
        },
        {
          "name": "stderr",
          "output_type": "stream",
          "text": [
            "Training Batches: 130it [00:37,  3.51it/s]\n"
          ]
        },
        {
          "name": "stdout",
          "output_type": "stream",
          "text": [
            "Epoch 7 Metrics:\n",
            "  Loss_D:         0.6794\n",
            "  Loss_G_total:   105.5919\n",
            "  Loss_G_adv:     0.7210\n",
            "  Loss_G_L1:      14.7146\n",
            "  Loss_Cycle:     6.2596\n",
            "  Grad Norm D:    0.2716\n",
            "  Grad Norm G:    141.1670\n",
            "\n",
            "=== Epoch 8/50 ===\n"
          ]
        },
        {
          "name": "stderr",
          "output_type": "stream",
          "text": [
            "Training Batches: 130it [00:37,  3.50it/s]\n"
          ]
        },
        {
          "name": "stdout",
          "output_type": "stream",
          "text": [
            "Epoch 8 Metrics:\n",
            "  Loss_D:         0.6793\n",
            "  Loss_G_total:   104.1546\n",
            "  Loss_G_adv:     0.7212\n",
            "  Loss_G_L1:      14.7654\n",
            "  Loss_Cycle:     5.9213\n",
            "  Grad Norm D:    0.2718\n",
            "  Grad Norm G:    125.7804\n",
            "\n",
            "=== Epoch 9/50 ===\n"
          ]
        },
        {
          "name": "stderr",
          "output_type": "stream",
          "text": [
            "Training Batches: 130it [00:36,  3.52it/s]\n"
          ]
        },
        {
          "name": "stdout",
          "output_type": "stream",
          "text": [
            "Epoch 9 Metrics:\n",
            "  Loss_D:         0.6787\n",
            "  Loss_G_total:   106.4841\n",
            "  Loss_G_adv:     0.7222\n",
            "  Loss_G_L1:      14.7878\n",
            "  Loss_Cycle:     6.3646\n",
            "  Grad Norm D:    0.2747\n",
            "  Grad Norm G:    163.2046\n",
            "\n",
            "=== Epoch 10/50 ===\n"
          ]
        },
        {
          "name": "stderr",
          "output_type": "stream",
          "text": [
            "Training Batches: 130it [00:37,  3.51it/s]\n"
          ]
        },
        {
          "name": "stdout",
          "output_type": "stream",
          "text": [
            "Epoch 10 Metrics:\n",
            "  Loss_D:         0.6787\n",
            "  Loss_G_total:   104.9057\n",
            "  Loss_G_adv:     0.7215\n",
            "  Loss_G_L1:      14.7025\n",
            "  Loss_Cycle:     6.1344\n",
            "  Grad Norm D:    0.2731\n",
            "  Grad Norm G:    151.0257\n",
            "\n",
            "=== Epoch 11/50 ===\n"
          ]
        },
        {
          "name": "stderr",
          "output_type": "stream",
          "text": [
            "Training Batches: 130it [00:37,  3.51it/s]\n"
          ]
        },
        {
          "name": "stdout",
          "output_type": "stream",
          "text": [
            "Epoch 11 Metrics:\n",
            "  Loss_D:         0.6780\n",
            "  Loss_G_total:   103.8345\n",
            "  Loss_G_adv:     0.7231\n",
            "  Loss_G_L1:      14.7461\n",
            "  Loss_Cycle:     5.8762\n",
            "  Grad Norm D:    0.2733\n",
            "  Grad Norm G:    133.3871\n",
            "\n",
            "=== Epoch 12/50 ===\n"
          ]
        },
        {
          "name": "stderr",
          "output_type": "stream",
          "text": [
            "Training Batches: 130it [00:36,  3.53it/s]\n"
          ]
        },
        {
          "name": "stdout",
          "output_type": "stream",
          "text": [
            "Epoch 12 Metrics:\n",
            "  Loss_D:         0.6766\n",
            "  Loss_G_total:   102.6991\n",
            "  Loss_G_adv:     0.7226\n",
            "  Loss_G_L1:      14.7059\n",
            "  Loss_Cycle:     5.6894\n",
            "  Grad Norm D:    0.2743\n",
            "  Grad Norm G:    124.8220\n",
            "\n",
            "=== Epoch 13/50 ===\n"
          ]
        },
        {
          "name": "stderr",
          "output_type": "stream",
          "text": [
            "Training Batches: 130it [00:36,  3.53it/s]\n"
          ]
        },
        {
          "name": "stdout",
          "output_type": "stream",
          "text": [
            "Epoch 13 Metrics:\n",
            "  Loss_D:         0.6763\n",
            "  Loss_G_total:   107.2014\n",
            "  Loss_G_adv:     0.7250\n",
            "  Loss_G_L1:      14.7326\n",
            "  Loss_Cycle:     6.5627\n",
            "  Grad Norm D:    0.2768\n",
            "  Grad Norm G:    181.9534\n",
            "\n",
            "=== Epoch 14/50 ===\n"
          ]
        },
        {
          "name": "stderr",
          "output_type": "stream",
          "text": [
            "Training Batches: 130it [00:36,  3.53it/s]\n"
          ]
        },
        {
          "name": "stdout",
          "output_type": "stream",
          "text": [
            "Epoch 14 Metrics:\n",
            "  Loss_D:         0.6756\n",
            "  Loss_G_total:   102.8215\n",
            "  Loss_G_adv:     0.7238\n",
            "  Loss_G_L1:      14.7393\n",
            "  Loss_Cycle:     5.6803\n",
            "  Grad Norm D:    0.2769\n",
            "  Grad Norm G:    131.8778\n",
            "\n",
            "=== Epoch 15/50 ===\n"
          ]
        },
        {
          "name": "stderr",
          "output_type": "stream",
          "text": [
            "Training Batches: 130it [00:36,  3.53it/s]\n"
          ]
        },
        {
          "name": "stdout",
          "output_type": "stream",
          "text": [
            "Epoch 15 Metrics:\n",
            "  Loss_D:         0.6750\n",
            "  Loss_G_total:   102.8494\n",
            "  Loss_G_adv:     0.7256\n",
            "  Loss_G_L1:      14.6616\n",
            "  Loss_Cycle:     5.7632\n",
            "  Grad Norm D:    0.2773\n",
            "  Grad Norm G:    131.0210\n",
            "\n",
            "=== Epoch 16/50 ===\n"
          ]
        },
        {
          "name": "stderr",
          "output_type": "stream",
          "text": [
            "Training Batches: 130it [00:36,  3.54it/s]\n"
          ]
        },
        {
          "name": "stdout",
          "output_type": "stream",
          "text": [
            "Epoch 16 Metrics:\n",
            "  Loss_D:         0.6745\n",
            "  Loss_G_total:   103.8186\n",
            "  Loss_G_adv:     0.7248\n",
            "  Loss_G_L1:      14.7330\n",
            "  Loss_Cycle:     5.8858\n",
            "  Grad Norm D:    0.2776\n",
            "  Grad Norm G:    150.1938\n",
            "\n",
            "=== Epoch 17/50 ===\n"
          ]
        },
        {
          "name": "stderr",
          "output_type": "stream",
          "text": [
            "Training Batches: 130it [00:36,  3.53it/s]\n"
          ]
        },
        {
          "name": "stdout",
          "output_type": "stream",
          "text": [
            "Epoch 17 Metrics:\n",
            "  Loss_D:         0.6742\n",
            "  Loss_G_total:   104.5843\n",
            "  Loss_G_adv:     0.7261\n",
            "  Loss_G_L1:      14.6689\n",
            "  Loss_Cycle:     6.1027\n",
            "  Grad Norm D:    0.2769\n",
            "  Grad Norm G:    163.2186\n",
            "\n",
            "=== Epoch 18/50 ===\n"
          ]
        },
        {
          "name": "stderr",
          "output_type": "stream",
          "text": [
            "Training Batches: 130it [00:37,  3.51it/s]\n"
          ]
        },
        {
          "name": "stdout",
          "output_type": "stream",
          "text": [
            "Epoch 18 Metrics:\n",
            "  Loss_D:         0.6745\n",
            "  Loss_G_total:   102.0902\n",
            "  Loss_G_adv:     0.7257\n",
            "  Loss_G_L1:      14.6769\n",
            "  Loss_Cycle:     5.5960\n",
            "  Grad Norm D:    0.2770\n",
            "  Grad Norm G:    128.0683\n",
            "\n",
            "=== Epoch 19/50 ===\n"
          ]
        },
        {
          "name": "stderr",
          "output_type": "stream",
          "text": [
            "Training Batches: 130it [00:37,  3.50it/s]\n"
          ]
        },
        {
          "name": "stdout",
          "output_type": "stream",
          "text": [
            "Epoch 19 Metrics:\n",
            "  Loss_D:         0.6729\n",
            "  Loss_G_total:   102.6454\n",
            "  Loss_G_adv:     0.7280\n",
            "  Loss_G_L1:      14.6292\n",
            "  Loss_Cycle:     5.7543\n",
            "  Grad Norm D:    0.2779\n",
            "  Grad Norm G:    138.5407\n",
            "\n",
            "=== Epoch 20/50 ===\n"
          ]
        },
        {
          "name": "stderr",
          "output_type": "stream",
          "text": [
            "Training Batches: 130it [00:36,  3.51it/s]\n"
          ]
        },
        {
          "name": "stdout",
          "output_type": "stream",
          "text": [
            "Epoch 20 Metrics:\n",
            "  Loss_D:         0.6729\n",
            "  Loss_G_total:   102.3846\n",
            "  Loss_G_adv:     0.7266\n",
            "  Loss_G_L1:      14.6598\n",
            "  Loss_Cycle:     5.6718\n",
            "  Grad Norm D:    0.2774\n",
            "  Grad Norm G:    140.5238\n",
            "\n",
            "=== Epoch 21/50 ===\n"
          ]
        },
        {
          "name": "stderr",
          "output_type": "stream",
          "text": [
            "Training Batches: 130it [00:36,  3.52it/s]\n"
          ]
        },
        {
          "name": "stdout",
          "output_type": "stream",
          "text": [
            "Epoch 21 Metrics:\n",
            "  Loss_D:         0.6725\n",
            "  Loss_G_total:   101.9019\n",
            "  Loss_G_adv:     0.7279\n",
            "  Loss_G_L1:      14.6028\n",
            "  Loss_Cycle:     5.6320\n",
            "  Grad Norm D:    0.2783\n",
            "  Grad Norm G:    141.6563\n",
            "\n",
            "=== Epoch 22/50 ===\n"
          ]
        },
        {
          "name": "stderr",
          "output_type": "stream",
          "text": [
            "Training Batches: 130it [00:37,  3.50it/s]\n"
          ]
        },
        {
          "name": "stdout",
          "output_type": "stream",
          "text": [
            "Epoch 22 Metrics:\n",
            "  Loss_D:         0.6716\n",
            "  Loss_G_total:   103.2474\n",
            "  Loss_G_adv:     0.7277\n",
            "  Loss_G_L1:      14.6876\n",
            "  Loss_Cycle:     5.8163\n",
            "  Grad Norm D:    0.2793\n",
            "  Grad Norm G:    147.4989\n",
            "\n",
            "=== Epoch 23/50 ===\n"
          ]
        },
        {
          "name": "stderr",
          "output_type": "stream",
          "text": [
            "Training Batches: 130it [00:37,  3.49it/s]\n"
          ]
        },
        {
          "name": "stdout",
          "output_type": "stream",
          "text": [
            "Epoch 23 Metrics:\n",
            "  Loss_D:         0.6711\n",
            "  Loss_G_total:   102.9706\n",
            "  Loss_G_adv:     0.7282\n",
            "  Loss_G_L1:      14.5812\n",
            "  Loss_Cycle:     5.8673\n",
            "  Grad Norm D:    0.2790\n",
            "  Grad Norm G:    154.3014\n",
            "\n",
            "=== Epoch 24/50 ===\n"
          ]
        },
        {
          "name": "stderr",
          "output_type": "stream",
          "text": [
            "Training Batches: 130it [00:37,  3.51it/s]\n"
          ]
        },
        {
          "name": "stdout",
          "output_type": "stream",
          "text": [
            "Epoch 24 Metrics:\n",
            "  Loss_D:         0.6709\n",
            "  Loss_G_total:   101.1025\n",
            "  Loss_G_adv:     0.7292\n",
            "  Loss_G_L1:      14.5789\n",
            "  Loss_Cycle:     5.4957\n",
            "  Grad Norm D:    0.2803\n",
            "  Grad Norm G:    124.4891\n",
            "\n",
            "=== Epoch 25/50 ===\n"
          ]
        },
        {
          "name": "stderr",
          "output_type": "stream",
          "text": [
            "Training Batches: 130it [00:37,  3.51it/s]\n"
          ]
        },
        {
          "name": "stdout",
          "output_type": "stream",
          "text": [
            "Epoch 25 Metrics:\n",
            "  Loss_D:         0.6707\n",
            "  Loss_G_total:   104.4628\n",
            "  Loss_G_adv:     0.7290\n",
            "  Loss_G_L1:      14.6416\n",
            "  Loss_Cycle:     6.1051\n",
            "  Grad Norm D:    0.2804\n",
            "  Grad Norm G:    180.3266\n",
            "\n",
            "=== Epoch 26/50 ===\n"
          ]
        },
        {
          "name": "stderr",
          "output_type": "stream",
          "text": [
            "Training Batches: 130it [00:37,  3.51it/s]\n"
          ]
        },
        {
          "name": "stdout",
          "output_type": "stream",
          "text": [
            "Epoch 26 Metrics:\n",
            "  Loss_D:         0.6694\n",
            "  Loss_G_total:   101.5440\n",
            "  Loss_G_adv:     0.7293\n",
            "  Loss_G_L1:      14.6602\n",
            "  Loss_Cycle:     5.5027\n",
            "  Grad Norm D:    0.2816\n",
            "  Grad Norm G:    136.5232\n",
            "\n",
            "=== Epoch 27/50 ===\n"
          ]
        },
        {
          "name": "stderr",
          "output_type": "stream",
          "text": [
            "Training Batches: 130it [00:36,  3.52it/s]\n"
          ]
        },
        {
          "name": "stdout",
          "output_type": "stream",
          "text": [
            "Epoch 27 Metrics:\n",
            "  Loss_D:         0.6686\n",
            "  Loss_G_total:   101.2138\n",
            "  Loss_G_adv:     0.7307\n",
            "  Loss_G_L1:      14.5815\n",
            "  Loss_Cycle:     5.5151\n",
            "  Grad Norm D:    0.2818\n",
            "  Grad Norm G:    141.4417\n",
            "\n",
            "=== Epoch 28/50 ===\n"
          ]
        },
        {
          "name": "stderr",
          "output_type": "stream",
          "text": [
            "Training Batches: 130it [00:36,  3.52it/s]\n"
          ]
        },
        {
          "name": "stdout",
          "output_type": "stream",
          "text": [
            "Epoch 28 Metrics:\n",
            "  Loss_D:         0.6693\n",
            "  Loss_G_total:   100.6406\n",
            "  Loss_G_adv:     0.7300\n",
            "  Loss_G_L1:      14.5577\n",
            "  Loss_Cycle:     5.4244\n",
            "  Grad Norm D:    0.2833\n",
            "  Grad Norm G:    112.4078\n",
            "\n",
            "=== Epoch 29/50 ===\n"
          ]
        },
        {
          "name": "stderr",
          "output_type": "stream",
          "text": [
            "Training Batches: 130it [00:36,  3.52it/s]\n"
          ]
        },
        {
          "name": "stdout",
          "output_type": "stream",
          "text": [
            "Epoch 29 Metrics:\n",
            "  Loss_D:         0.6685\n",
            "  Loss_G_total:   103.1823\n",
            "  Loss_G_adv:     0.7304\n",
            "  Loss_G_L1:      14.6182\n",
            "  Loss_Cycle:     5.8721\n",
            "  Grad Norm D:    0.2835\n",
            "  Grad Norm G:    164.5597\n",
            "\n",
            "=== Epoch 30/50 ===\n"
          ]
        },
        {
          "name": "stderr",
          "output_type": "stream",
          "text": [
            "Training Batches: 130it [00:37,  3.50it/s]\n"
          ]
        },
        {
          "name": "stdout",
          "output_type": "stream",
          "text": [
            "Epoch 30 Metrics:\n",
            "  Loss_D:         0.6677\n",
            "  Loss_G_total:   101.8889\n",
            "  Loss_G_adv:     0.7329\n",
            "  Loss_G_L1:      14.5670\n",
            "  Loss_Cycle:     5.6642\n",
            "  Grad Norm D:    0.2846\n",
            "  Grad Norm G:    148.0628\n",
            "\n",
            "=== Epoch 31/50 ===\n"
          ]
        },
        {
          "name": "stderr",
          "output_type": "stream",
          "text": [
            "Training Batches: 130it [00:36,  3.52it/s]\n"
          ]
        },
        {
          "name": "stdout",
          "output_type": "stream",
          "text": [
            "Epoch 31 Metrics:\n",
            "  Loss_D:         0.6676\n",
            "  Loss_G_total:   101.0748\n",
            "  Loss_G_adv:     0.7329\n",
            "  Loss_G_L1:      14.5631\n",
            "  Loss_Cycle:     5.5053\n",
            "  Grad Norm D:    0.2850\n",
            "  Grad Norm G:    133.3183\n",
            "\n",
            "=== Epoch 32/50 ===\n"
          ]
        },
        {
          "name": "stderr",
          "output_type": "stream",
          "text": [
            "Training Batches: 130it [00:37,  3.51it/s]\n"
          ]
        },
        {
          "name": "stdout",
          "output_type": "stream",
          "text": [
            "Epoch 32 Metrics:\n",
            "  Loss_D:         0.6666\n",
            "  Loss_G_total:   102.3803\n",
            "  Loss_G_adv:     0.7330\n",
            "  Loss_G_L1:      14.6010\n",
            "  Loss_Cycle:     5.7285\n",
            "  Grad Norm D:    0.2852\n",
            "  Grad Norm G:    159.9388\n",
            "\n",
            "=== Epoch 33/50 ===\n"
          ]
        },
        {
          "name": "stderr",
          "output_type": "stream",
          "text": [
            "Training Batches: 130it [00:36,  3.52it/s]\n"
          ]
        },
        {
          "name": "stdout",
          "output_type": "stream",
          "text": [
            "Epoch 33 Metrics:\n",
            "  Loss_D:         0.6668\n",
            "  Loss_G_total:   103.1469\n",
            "  Loss_G_adv:     0.7327\n",
            "  Loss_G_L1:      14.5590\n",
            "  Loss_Cycle:     5.9239\n",
            "  Grad Norm D:    0.2852\n",
            "  Grad Norm G:    172.2963\n",
            "\n",
            "=== Epoch 34/50 ===\n"
          ]
        },
        {
          "name": "stderr",
          "output_type": "stream",
          "text": [
            "Training Batches: 130it [00:37,  3.51it/s]\n"
          ]
        },
        {
          "name": "stdout",
          "output_type": "stream",
          "text": [
            "Epoch 34 Metrics:\n",
            "  Loss_D:         0.6662\n",
            "  Loss_G_total:   101.1477\n",
            "  Loss_G_adv:     0.7340\n",
            "  Loss_G_L1:      14.6093\n",
            "  Loss_Cycle:     5.4735\n",
            "  Grad Norm D:    0.2848\n",
            "  Grad Norm G:    137.0367\n",
            "\n",
            "=== Epoch 35/50 ===\n"
          ]
        },
        {
          "name": "stderr",
          "output_type": "stream",
          "text": [
            "Training Batches: 130it [00:36,  3.51it/s]\n"
          ]
        },
        {
          "name": "stdout",
          "output_type": "stream",
          "text": [
            "Epoch 35 Metrics:\n",
            "  Loss_D:         0.6658\n",
            "  Loss_G_total:   101.2842\n",
            "  Loss_G_adv:     0.7335\n",
            "  Loss_G_L1:      14.5799\n",
            "  Loss_Cycle:     5.5302\n",
            "  Grad Norm D:    0.2860\n",
            "  Grad Norm G:    147.6029\n",
            "\n",
            "=== Epoch 36/50 ===\n"
          ]
        },
        {
          "name": "stderr",
          "output_type": "stream",
          "text": [
            "Training Batches: 130it [00:36,  3.52it/s]\n"
          ]
        },
        {
          "name": "stdout",
          "output_type": "stream",
          "text": [
            "Epoch 36 Metrics:\n",
            "  Loss_D:         0.6649\n",
            "  Loss_G_total:   101.8851\n",
            "  Loss_G_adv:     0.7344\n",
            "  Loss_G_L1:      14.5820\n",
            "  Loss_Cycle:     5.6482\n",
            "  Grad Norm D:    0.2875\n",
            "  Grad Norm G:    150.8804\n",
            "\n",
            "=== Epoch 37/50 ===\n"
          ]
        },
        {
          "name": "stderr",
          "output_type": "stream",
          "text": [
            "Training Batches: 130it [00:36,  3.52it/s]\n"
          ]
        },
        {
          "name": "stdout",
          "output_type": "stream",
          "text": [
            "Epoch 37 Metrics:\n",
            "  Loss_D:         0.6644\n",
            "  Loss_G_total:   102.2075\n",
            "  Loss_G_adv:     0.7346\n",
            "  Loss_G_L1:      14.5928\n",
            "  Loss_Cycle:     5.7018\n",
            "  Grad Norm D:    0.2880\n",
            "  Grad Norm G:    161.3325\n",
            "\n",
            "=== Epoch 38/50 ===\n"
          ]
        },
        {
          "name": "stderr",
          "output_type": "stream",
          "text": [
            "Training Batches: 130it [00:36,  3.52it/s]\n"
          ]
        },
        {
          "name": "stdout",
          "output_type": "stream",
          "text": [
            "Epoch 38 Metrics:\n",
            "  Loss_D:         0.6644\n",
            "  Loss_G_total:   100.1289\n",
            "  Loss_G_adv:     0.7364\n",
            "  Loss_G_L1:      14.5414\n",
            "  Loss_Cycle:     5.3371\n",
            "  Grad Norm D:    0.2885\n",
            "  Grad Norm G:    139.1900\n",
            "\n",
            "=== Epoch 39/50 ===\n"
          ]
        },
        {
          "name": "stderr",
          "output_type": "stream",
          "text": [
            "Training Batches: 130it [00:36,  3.52it/s]\n"
          ]
        },
        {
          "name": "stdout",
          "output_type": "stream",
          "text": [
            "Epoch 39 Metrics:\n",
            "  Loss_D:         0.6634\n",
            "  Loss_G_total:   100.3359\n",
            "  Loss_G_adv:     0.7357\n",
            "  Loss_G_L1:      14.5074\n",
            "  Loss_Cycle:     5.4126\n",
            "  Grad Norm D:    0.2891\n",
            "  Grad Norm G:    131.5290\n",
            "\n",
            "=== Epoch 40/50 ===\n"
          ]
        },
        {
          "name": "stderr",
          "output_type": "stream",
          "text": [
            "Training Batches: 130it [00:37,  3.51it/s]\n"
          ]
        },
        {
          "name": "stdout",
          "output_type": "stream",
          "text": [
            "Epoch 40 Metrics:\n",
            "  Loss_D:         0.6627\n",
            "  Loss_G_total:   100.4140\n",
            "  Loss_G_adv:     0.7367\n",
            "  Loss_G_L1:      14.5624\n",
            "  Loss_Cycle:     5.3730\n",
            "  Grad Norm D:    0.2902\n",
            "  Grad Norm G:    126.7075\n",
            "\n",
            "=== Epoch 41/50 ===\n"
          ]
        },
        {
          "name": "stderr",
          "output_type": "stream",
          "text": [
            "Training Batches: 130it [00:37,  3.50it/s]\n"
          ]
        },
        {
          "name": "stdout",
          "output_type": "stream",
          "text": [
            "Epoch 41 Metrics:\n",
            "  Loss_D:         0.6624\n",
            "  Loss_G_total:   101.7910\n",
            "  Loss_G_adv:     0.7370\n",
            "  Loss_G_L1:      14.5302\n",
            "  Loss_Cycle:     5.6806\n",
            "  Grad Norm D:    0.2905\n",
            "  Grad Norm G:    168.7773\n",
            "\n",
            "=== Epoch 42/50 ===\n"
          ]
        },
        {
          "name": "stderr",
          "output_type": "stream",
          "text": [
            "Training Batches: 130it [00:36,  3.53it/s]\n"
          ]
        },
        {
          "name": "stdout",
          "output_type": "stream",
          "text": [
            "Epoch 42 Metrics:\n",
            "  Loss_D:         0.6625\n",
            "  Loss_G_total:   100.0049\n",
            "  Loss_G_adv:     0.7379\n",
            "  Loss_G_L1:      14.4773\n",
            "  Loss_Cycle:     5.3761\n",
            "  Grad Norm D:    0.2909\n",
            "  Grad Norm G:    141.1132\n",
            "\n",
            "=== Epoch 43/50 ===\n"
          ]
        },
        {
          "name": "stderr",
          "output_type": "stream",
          "text": [
            "Training Batches: 130it [00:36,  3.53it/s]\n"
          ]
        },
        {
          "name": "stdout",
          "output_type": "stream",
          "text": [
            "Epoch 43 Metrics:\n",
            "  Loss_D:         0.6617\n",
            "  Loss_G_total:   101.8431\n",
            "  Loss_G_adv:     0.7379\n",
            "  Loss_G_L1:      14.5095\n",
            "  Loss_Cycle:     5.7115\n",
            "  Grad Norm D:    0.2925\n",
            "  Grad Norm G:    166.5422\n",
            "\n",
            "=== Epoch 44/50 ===\n"
          ]
        },
        {
          "name": "stderr",
          "output_type": "stream",
          "text": [
            "Training Batches: 130it [00:35,  3.67it/s]\n"
          ]
        },
        {
          "name": "stdout",
          "output_type": "stream",
          "text": [
            "Epoch 44 Metrics:\n",
            "  Loss_D:         0.6611\n",
            "  Loss_G_total:   99.6885\n",
            "  Loss_G_adv:     0.7381\n",
            "  Loss_G_L1:      14.5127\n",
            "  Loss_Cycle:     5.2774\n",
            "  Grad Norm D:    0.2920\n",
            "  Grad Norm G:    124.1801\n",
            "\n",
            "=== Epoch 45/50 ===\n"
          ]
        },
        {
          "name": "stderr",
          "output_type": "stream",
          "text": [
            "Training Batches: 130it [00:35,  3.68it/s]\n"
          ]
        },
        {
          "name": "stdout",
          "output_type": "stream",
          "text": [
            "Epoch 45 Metrics:\n",
            "  Loss_D:         0.6608\n",
            "  Loss_G_total:   101.4193\n",
            "  Loss_G_adv:     0.7392\n",
            "  Loss_G_L1:      14.4631\n",
            "  Loss_Cycle:     5.6729\n",
            "  Grad Norm D:    0.2927\n",
            "  Grad Norm G:    161.6244\n",
            "\n",
            "=== Epoch 46/50 ===\n"
          ]
        },
        {
          "name": "stderr",
          "output_type": "stream",
          "text": [
            "Training Batches: 130it [00:35,  3.62it/s]\n"
          ]
        },
        {
          "name": "stdout",
          "output_type": "stream",
          "text": [
            "Epoch 46 Metrics:\n",
            "  Loss_D:         0.6605\n",
            "  Loss_G_total:   99.7569\n",
            "  Loss_G_adv:     0.7410\n",
            "  Loss_G_L1:      14.5312\n",
            "  Loss_Cycle:     5.2720\n",
            "  Grad Norm D:    0.2924\n",
            "  Grad Norm G:    139.5405\n",
            "\n",
            "=== Epoch 47/50 ===\n"
          ]
        },
        {
          "name": "stderr",
          "output_type": "stream",
          "text": [
            "Training Batches: 130it [00:36,  3.53it/s]\n"
          ]
        },
        {
          "name": "stdout",
          "output_type": "stream",
          "text": [
            "Epoch 47 Metrics:\n",
            "  Loss_D:         0.6597\n",
            "  Loss_G_total:   99.9714\n",
            "  Loss_G_adv:     0.7403\n",
            "  Loss_G_L1:      14.5144\n",
            "  Loss_Cycle:     5.3318\n",
            "  Grad Norm D:    0.2924\n",
            "  Grad Norm G:    150.7815\n",
            "\n",
            "=== Epoch 48/50 ===\n"
          ]
        },
        {
          "name": "stderr",
          "output_type": "stream",
          "text": [
            "Training Batches: 130it [00:36,  3.52it/s]\n"
          ]
        },
        {
          "name": "stdout",
          "output_type": "stream",
          "text": [
            "Epoch 48 Metrics:\n",
            "  Loss_D:         0.6594\n",
            "  Loss_G_total:   99.5843\n",
            "  Loss_G_adv:     0.7401\n",
            "  Loss_G_L1:      14.4895\n",
            "  Loss_Cycle:     5.2794\n",
            "  Grad Norm D:    0.2954\n",
            "  Grad Norm G:    138.6163\n",
            "\n",
            "=== Epoch 49/50 ===\n"
          ]
        },
        {
          "name": "stderr",
          "output_type": "stream",
          "text": [
            "Training Batches: 130it [00:37,  3.51it/s]\n"
          ]
        },
        {
          "name": "stdout",
          "output_type": "stream",
          "text": [
            "Epoch 49 Metrics:\n",
            "  Loss_D:         0.6590\n",
            "  Loss_G_total:   100.6547\n",
            "  Loss_G_adv:     0.7402\n",
            "  Loss_G_L1:      14.4550\n",
            "  Loss_Cycle:     5.5279\n",
            "  Grad Norm D:    0.2944\n",
            "  Grad Norm G:    153.5300\n",
            "\n",
            "=== Epoch 50/50 ===\n"
          ]
        },
        {
          "name": "stderr",
          "output_type": "stream",
          "text": [
            "Training Batches: 130it [00:37,  3.51it/s]"
          ]
        },
        {
          "name": "stdout",
          "output_type": "stream",
          "text": [
            "Epoch 50 Metrics:\n",
            "  Loss_D:         0.6586\n",
            "  Loss_G_total:   99.7650\n",
            "  Loss_G_adv:     0.7421\n",
            "  Loss_G_L1:      14.4586\n",
            "  Loss_Cycle:     5.3460\n",
            "  Grad Norm D:    0.2949\n",
            "  Grad Norm G:    146.5494\n"
          ]
        },
        {
          "name": "stderr",
          "output_type": "stream",
          "text": [
            "\n"
          ]
        }
      ],
      "source": [
        "gc.collect()\n",
        "torch.cuda.empty_cache()\n",
        "\n",
        "# Start training.\n",
        "train(\n",
        "    generator,\n",
        "    generator_2,\n",
        "    discriminator,\n",
        "    optimizer_D,\n",
        "    optimizer_G,\n",
        "    optimizer_G2,\n",
        "    accompaniment_loader,\n",
        "    vocal_loader,\n",
        "    speech_loader,\n",
        "    l1_loss,\n",
        "    train_parameters[\"lambda_l1\"],\n",
        "    train_parameters[\"lambda_cycle\"],\n",
        "    adversarial_loss,\n",
        "    device,\n",
        "    num_epochs          = 50, #train_parameters[\"num_epochs\"],\n",
        "    virtual_batch_size  = train_parameters[\"virtual_batch_size\"],\n",
        "    log_dir             = train_parameters[\"log_dir\"],\n",
        ")\n"
      ]
    },
    {
      "cell_type": "markdown",
      "metadata": {
        "id": "dWffnPNExV3-"
      },
      "source": [
        "## Save the models"
      ]
    },
    {
      "cell_type": "code",
      "execution_count": 24,
      "metadata": {
        "id": "O6dDyxJmxV3-"
      },
      "outputs": [],
      "source": [
        "# assert False\n",
        "path = \"models/\" \n",
        "torch.save(generator.state_dict(), path + \"generator_state_dict_\" + now + \".pt\")\n",
        "torch.save(generator_2.state_dict(), path + \"generator_2_state_dict_\" + now + \".pt\")\n",
        "torch.save(discriminator.state_dict(), path + \"discriminator_state_dict_\" + now + \".pt\")\n",
        "\n",
        "# ------------- package everything to save -------------\n",
        "export_dict = {\n",
        "    \"train_parameters\": train_parameters,\n",
        "    \"model_config_gen\": model_config_gen,      # Wave‑U‑Net (speech+accomp → vocal)\n",
        "    \"model_config_gen2\": model_config_gen2,    # Wave‑U‑Net (vocal → speech)\n",
        "}\n",
        "import json\n",
        "\n",
        "# (optional) ensure JSON‑serialisable: convert tuples → lists\n",
        "def _convert(obj):\n",
        "    if isinstance(obj, tuple):\n",
        "        return list(obj)\n",
        "    if isinstance(obj, dict):\n",
        "        return {k: _convert(v) for k, v in obj.items()}\n",
        "    if isinstance(obj, list):\n",
        "        return [_convert(x) for x in obj]\n",
        "    return obj\n",
        "\n",
        "export_dict = _convert(export_dict)\n",
        "\n",
        "with open(f\"{path}/training_record_{now}.json\", \"w\") as fp:\n",
        "    json.dump(export_dict, fp, indent=2)\n",
        "\n"
      ]
    },
    {
      "cell_type": "code",
      "execution_count": null,
      "metadata": {},
      "outputs": [],
      "source": []
    }
  ],
  "metadata": {
    "accelerator": "GPU",
    "colab": {
      "gpuType": "A100",
      "machine_shape": "hm",
      "provenance": []
    },
    "kernelspec": {
      "display_name": "Python 3",
      "name": "python3"
    },
    "language_info": {
      "codemirror_mode": {
        "name": "ipython",
        "version": 3
      },
      "file_extension": ".py",
      "mimetype": "text/x-python",
      "name": "python",
      "nbconvert_exporter": "python",
      "pygments_lexer": "ipython3",
      "version": "3.10.12"
    }
  },
  "nbformat": 4,
  "nbformat_minor": 0
}
