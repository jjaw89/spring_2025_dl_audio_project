{
  "cells": [
    {
      "cell_type": "markdown",
      "metadata": {
        "id": "4qxrWZHYxV36"
      },
      "source": [
        "Here we train our first version of the GAN.\n",
        "\n"
      ]
    },
    {
      "cell_type": "markdown",
      "metadata": {
        "id": "vARIOK_HxV36"
      },
      "source": [
        "## Initialize Wave-U-Net\n",
        "\n",
        "We start by loading the necessary packages\n",
        "\n",
        "Wave-U-Net is named ``generator``"
      ]
    },
    {
      "cell_type": "code",
      "execution_count": 5,
      "metadata": {
        "colab": {
          "base_uri": "https://localhost:8080/"
        },
        "id": "f_3vGK4LxV37",
        "outputId": "d8bd02d2-84f5-43f5-d05b-777d01b1b461"
      },
      "outputs": [
        {
          "name": "stdout",
          "output_type": "stream",
          "text": [
            "GPU: True\n"
          ]
        }
      ],
      "source": [
        "# Import same packages as the train script in Wave-U-Net-Pytorch\n",
        "import argparse\n",
        "import os\n",
        "import time\n",
        "from functools import partial\n",
        "\n",
        "import torch\n",
        "import pickle\n",
        "import numpy as np\n",
        "\n",
        "import torch.nn as nn\n",
        "from torch.utils.tensorboard import SummaryWriter\n",
        "from torch.optim import Adam\n",
        "from torch.nn import L1Loss\n",
        "from tqdm import tqdm\n",
        "from torchsummary import summary\n",
        "import torch.optim as optim\n",
        "from torch.utils.data import Dataset, DataLoader\n",
        "import numpy as np\n",
        "# install torchaudio if not already installed\n",
        "# ! pip install torchaudio\n",
        "import torchaudio\n",
        "\n",
        "import matplotlib.pyplot as plt\n",
        "from typing import Tuple, List, Dict, Optional\n",
        "\n",
        "# !pip install sktime\n",
        "from sktime.transformations.panel.rocket import MiniRocketMultivariate\n",
        "# \n",
        "# from google.colab import drive\n",
        "# drive.mount('/content/drive')\n",
        "# %cd /content/drive/My Drive/git_projects/spring_2025_dl_audio_project\n",
        "\n",
        "\n",
        "# add a path to Wave-U-Net\n",
        "import sys\n",
        "sys.path.append('Wave-U-Net-Pytorch')\n",
        "sys.path.append(\"workspace/hdd_project_data\")\n",
        "\n",
        "import model.utils as model_utils\n",
        "import utils\n",
        "from model.waveunet import Waveunet\n",
        "\n",
        "# Check to see if we have a GPU available\n",
        "print(\"GPU:\", torch.cuda.is_available())"
      ]
    },
    {
      "cell_type": "code",
      "execution_count": 6,
      "metadata": {
        "id": "yfjgCEsl31aK"
      },
      "outputs": [],
      "source": [
        "# I run these commands in the terminal that you get when you pay for Colab.\n",
        "\n",
        "# %pip install musdb  # has some helpful data structures, also installs ffmpeg and stempeg\n",
        "# %pip uninstall stempeg    # musdb installs the wrong version of stempeg'"
      ]
    },
    {
      "cell_type": "markdown",
      "metadata": {
        "id": "rok6FpDgxV37"
      },
      "source": [
        "We define the parameters of the model."
      ]
    },
    {
      "cell_type": "code",
      "execution_count": 7,
      "metadata": {
        "id": "H755Zr5RxV37"
      },
      "outputs": [],
      "source": [
        "model_config = {\n",
        "    \"num_inputs\": 256,               # 128 mel bins per spectrogram, but we have to spectrograms\n",
        "    \"num_outputs\": 128,              # Output also has 128 mel bins\n",
        "    \"num_channels\": [512*2, 512*4, 512*8],    # Example channel progression\n",
        "    \"instruments\": [\"vocal\"],        # Only output vocal, so no music branch\n",
        "    \"kernel_size\": 3,                # Must be odd\n",
        "    \"target_output_size\": 256,       # Desired output time frames (post-processing may crop)\n",
        "    \"conv_type\": \"normal\",           # Set to \"normal\" to meet assertion requirements\n",
        "    \"res\": \"fixed\",                  # Use fixed resampling\n",
        "    \"separate\": False,                # Separate branch for vocal\n",
        "    \"depth\": 1,                      # Number of conv layers per block\n",
        "    \"strides\": 2                   # Down/up-sampling stride\n",
        "}"
      ]
    },
    {
      "cell_type": "markdown",
      "metadata": {
        "id": "dFFCD4BRxV38"
      },
      "source": [
        "Load the model, check how much GPU memory it will use during training, and print a summary of the model."
      ]
    },
    {
      "cell_type": "code",
      "execution_count": 8,
      "metadata": {
        "colab": {
          "base_uri": "https://localhost:8080/"
        },
        "id": "wCkCtLVZxV38",
        "outputId": "1b256bbb-8518-4561-d507-71a2af64a4c4"
      },
      "outputs": [
        {
          "name": "stdout",
          "output_type": "stream",
          "text": [
            "Using valid convolutions with 289 inputs and 257 outputs\n"
          ]
        }
      ],
      "source": [
        "# Ensure that you have a CUDA-enabled device\n",
        "device = torch.device(\"cuda\" if torch.cuda.is_available() else \"cpu\")\n",
        "\n",
        "# Instantiate and move the model to GPU\n",
        "generator = Waveunet(**model_config).to(device)\n",
        "\n",
        "# # Set up a dummy optimizer and loss function\n",
        "# optimizer = Adam(generator.parameters(), lr=1e-3)\n",
        "# loss_fn = L1Loss()\n",
        "\n",
        "# # Define a dummy batch size\n",
        "# batch_size = 256\n",
        "\n",
        "# # Create a dummy input tensor with the required shape\n",
        "# # model.num_inputs corresponds to the number of channels (256 in your config)\n",
        "# # model.input_size is the computed length (353, for instance)\n",
        "# dummy_input = torch.randn(batch_size, generator.num_inputs, generator.input_size, device=device)\n",
        "\n",
        "# # Create a dummy target tensor with the shape that your model outputs.\n",
        "# # For a single output branch (vocal), the output shape should be:\n",
        "# # (batch_size, num_outputs, model.output_size)\n",
        "# # model.num_outputs is 128 and model.output_size is computed (257 in your case)\n",
        "# dummy_target = torch.randn(batch_size, generator.num_outputs, generator.output_size, device=device)\n",
        "\n",
        "# # Reset GPU peak memory stats\n",
        "# torch.cuda.reset_peak_memory_stats(device)\n",
        "\n",
        "# # Run a single forward and backward pass\n",
        "# optimizer.zero_grad()\n",
        "# # If separate is False, the model returns a dictionary; pass the correct key.\n",
        "# output = generator(dummy_input)[\"vocal\"]\n",
        "# loss = loss_fn(output, dummy_target)\n",
        "# loss.backward()\n",
        "# optimizer.step()\n",
        "\n",
        "# # Retrieve GPU memory stats\n",
        "# peak_memory = torch.cuda.max_memory_allocated(device)\n",
        "# current_memory = torch.cuda.memory_allocated(device)\n",
        "# print(\"Peak GPU memory allocated (bytes):\", peak_memory)\n",
        "# print(\"Current GPU memory allocated (bytes):\", current_memory)\n",
        "\n",
        "# # Optionally, print a detailed memory summary\n",
        "# print(torch.cuda.memory_summary(device=device))\n",
        "\n",
        "\n",
        "# summary(generator, input_size=(generator.num_inputs,  generator.input_size))\n"
      ]
    },
    {
      "cell_type": "markdown",
      "metadata": {
        "id": "J3urQe1yxV38"
      },
      "source": [
        "Optionally compile the model to potentially decrease training time."
      ]
    },
    {
      "cell_type": "code",
      "execution_count": null,
      "metadata": {
        "id": "7srOJSNJxV38"
      },
      "outputs": [],
      "source": []
    },
    {
      "cell_type": "markdown",
      "metadata": {
        "id": "Txk2TxUixV38"
      },
      "source": [
        "If we compile the model, to save it after training, we have to uncompile it using the following code:\n",
        "\n",
        "```python\n",
        "orig_generator = generator._orig_mod\n",
        "path = \"\"\n",
        "torch.save(orig_generator.state_dict(), path + \"generator_state_dict.pt\")\n"
      ]
    },
    {
      "cell_type": "markdown",
      "metadata": {
        "id": "mjCddsoTxV39"
      },
      "source": [
        "## Initialize miniRocket\n",
        "We start by loading the necessary packages"
      ]
    },
    {
      "cell_type": "markdown",
      "metadata": {
        "id": "Hg5T7Os6xV39"
      },
      "source": [
        "### CPU Core Allocation for MiniRocketMultivariate\n",
        "\n",
        "- The implementation of `MiniRocketMultivariate` runs on the **CPU**.\n",
        "- We need to decide how many cores to allocate for it.\n",
        "- Some cores will be used by MiniRocket itself, while others are needed for data preparation (e.g., generating spectrograms).\n",
        "- This allocation likely needs to be **tuned for optimal performance**.\n",
        "- As a starting point, we detect the number of available cores and split them evenly.\n",
        "- Note: We avoid using *all* available cores to leave some resources for the operating system and other background processes.\n"
      ]
    },
    {
      "cell_type": "code",
      "execution_count": 9,
      "metadata": {
        "colab": {
          "base_uri": "https://localhost:8080/"
        },
        "id": "XwscObQrxV39",
        "outputId": "b0c8b920-8b83-4e65-872e-c25fe5ace442"
      },
      "outputs": [],
      "source": [
        "\n",
        "# dataloader_n_jobs = num_cores - minirocket_n_jobs - 1"
      ]
    },
    {
      "cell_type": "markdown",
      "metadata": {
        "id": "X6ZXiPhWxV39"
      },
      "source": [
        "Create the MiniRocket model"
      ]
    },
    {
      "cell_type": "code",
      "execution_count": 10,
      "metadata": {
        "id": "NhG7_-VlxV39"
      },
      "outputs": [],
      "source": [
        "import pandas as pd\n",
        "from time import time\n",
        "\n",
        "# MiniRocket Discriminator using tsai library\n",
        "class TsaiMiniRocketDiscriminator(nn.Module):\n",
        "    def __init__(\n",
        "        self,\n",
        "        freq_bins=256,\n",
        "        time_frames=256,\n",
        "        num_kernels=10000,  # number of convolutional kernels\n",
        "        hidden_dim=1024,    # Increased to handle larger feature dimension\n",
        "        output_dim=1\n",
        "    ):\n",
        "        super(TsaiMiniRocketDiscriminator, self).__init__()\n",
        "\n",
        "        # This is the mini rocket transformer which extracts features\n",
        "        self.rocket = MiniRocketMultivariate(num_kernels=num_kernels, n_jobs=minirocket_n_jobs)\n",
        "        # tsai's miniRocketClassifier is implemented with MiniRocketMultivariate as well\n",
        "        self.fitted = False   # fit before training\n",
        "        self.freq_bins = freq_bins\n",
        "        self.time_frames = time_frames\n",
        "        self.num_kernels = num_kernels\n",
        "\n",
        "        # For 2D data handling - process each sample with proper dimensions\n",
        "        self.example_input = np.zeros((1, freq_bins, time_frames))\n",
        "\n",
        "        self.feature_dim = num_kernels  # For vocals + accompaniment\n",
        "\n",
        "        # Example feature reducing layers\n",
        "        self.classifier = nn.Sequential(\n",
        "            # First reduce the massive dimension to something manageable\n",
        "            nn.LazyLinear( hidden_dim),\n",
        "            nn.LeakyReLU(0.2),\n",
        "            nn.Dropout(0.3),\n",
        "\n",
        "            # Second hidden layer\n",
        "            nn.Linear(hidden_dim, hidden_dim // 2),\n",
        "            nn.LeakyReLU(0.2),\n",
        "            nn.Dropout(0.3),\n",
        "\n",
        "            # Final classification layer\n",
        "            nn.Linear(hidden_dim // 2, output_dim),\n",
        "            nn.Sigmoid()\n",
        "        )\n",
        "\n",
        "    def fit_rocket(self, spectrograms):\n",
        "        \"\"\"\n",
        "            Fit MiniRocket with just one piece of vocal training data (not the entire training dataset)\n",
        "        \"\"\"\n",
        "        if not self.fitted:\n",
        "            try:\n",
        "                # Reshape for MiniRocket - it expects (n_instances, n_dimensions, series_length)\n",
        "                # flatten the freq_bins dimension to create a multivariate time series\n",
        "                batch_size = spectrograms.shape[0]\n",
        "\n",
        "                # Convert first to numpy for sktime processing\n",
        "                sample_data = spectrograms.detach().cpu().numpy()\n",
        "                # print(sample_data.shape)\n",
        "                # Reshape to sktime's expected format - reduce to single sample for fitting\n",
        "                # sample_data = sample_data[:, 0]  # Take one sample, remove channel dim\n",
        "\n",
        "                # Fit on this sample\n",
        "                self.rocket.fit(sample_data)\n",
        "                self.fitted = True\n",
        "\n",
        "                # Test transform to get feature dimension\n",
        "                test_transform = self.rocket.transform(sample_data)\n",
        "                self.feature_dim = test_transform.shape[1]\n",
        "\n",
        "                print(f\"MiniRocket fitted. Feature dimension: {self.feature_dim}\")\n",
        "\n",
        "            except Exception as e:\n",
        "                print(f\"Error fitting MiniRocket: {e}\")\n",
        "                # Use a fallback if fitting fails\n",
        "                self.fitted = True  # Mark as fitted to avoid repeated attempts\n",
        "\n",
        "    def extract_features(self, spectrogram):\n",
        "        \"\"\"Extract MiniRocket features from a spectrogram\"\"\"\n",
        "        try:\n",
        "            # Ensure rocket is fitted\n",
        "            if not self.fitted:\n",
        "                self.fit_rocket(spectrogram)\n",
        "\n",
        "            # Convert to numpy for sktime\n",
        "            spec_np = spectrogram.detach().cpu().numpy()\n",
        "\n",
        "            # Remove channel dimension expected by sktime\n",
        "            # print(spec_np.shape)\n",
        "            # spec_np = spec_np[:, 0]  # [batch_size, freq_bins, time_frames]\n",
        "            # print(spec_np.shape)\n",
        "\n",
        "            # This step extracts features using the convolutional kernels, numbers specified by num_kernels\n",
        "            # print(\"1\")\n",
        "            features = self.rocket.transform(spec_np)\n",
        "            # print(\"2\")\n",
        "            # Convert back to torch tensor\n",
        "            # print(\"features:\", features.shape)\n",
        "            # print(features.head())\n",
        "            features_tensor = torch.tensor(features.values).to(spectrogram.device)\n",
        "            # print(\"features:\", features.shape)\n",
        "            # print(\"3\")\n",
        "            return features_tensor\n",
        "\n",
        "        except Exception as e:\n",
        "            print(f\"Error in feature extraction: {e}\")\n",
        "            # Return zeros as fallback\n",
        "            return torch.zeros((spectrogram.shape[0], self.num_kernels),\n",
        "                              device=spectrogram.device)\n",
        "\n",
        "    def forward(self, vocals, accompaniment):\n",
        "        \"\"\"\n",
        "        Forward pass of the discriminator\n",
        "\n",
        "        Args:\n",
        "            vocals: Spectrograms of shape [batch_size, channels, freq_bins, time_frames]\n",
        "            accompaniment: Spectrograms of shape [batch_size, channels, freq_bins, time_frames]\n",
        "        \"\"\"\n",
        "        # Extract features from both spectrograms\n",
        "        # start_time = time()\n",
        "        vocal_features = self.extract_features(vocals)\n",
        "        accomp_features = self.extract_features(accompaniment)\n",
        "        # print(\"extract:\", time()-start_time)\n",
        "        # Concatenate features (conditional GAN)\n",
        "        combined_features = torch.cat([vocal_features, accomp_features], dim=1)\n",
        "        # print(combined_features.size())\n",
        "\n",
        "        # Classify as real/fake\n",
        "        validity = self.classifier(combined_features)\n",
        "\n",
        "        return validity\n",
        "\n"
      ]
    },
    {
      "cell_type": "code",
      "execution_count": 11,
      "metadata": {
        "id": "b6ACeYdNxV39"
      },
      "outputs": [],
      "source": [
        "# del discriminator\n",
        "# discriminator = TsaiMiniRocketDiscriminator()\n",
        "# We probably do not need to compile the model"
      ]
    },
    {
      "cell_type": "markdown",
      "metadata": {
        "id": "YEaNx9F0Hnwa"
      },
      "source": [
        "# Import Data into Session\n",
        "\n",
        "First, we run the code that defines the custom Dataset objects. The Datasets were compiled previously and saved in .pt files. In the next cell, we load those Dataset objects."
      ]
    },
    {
      "cell_type": "code",
      "execution_count": 12,
      "metadata": {
        "colab": {
          "base_uri": "https://localhost:8080/"
        },
        "id": "bpu-Q2zGxV39",
        "outputId": "e218c09f-fceb-4079-8988-8076eaa46c24"
      },
      "outputs": [],
      "source": [
        "# %cd /content/drive/My Drive/git_projects/\n",
        "# sys.path.append('/workspace/hdd_project_data/stempeg')\n",
        "# import stempeg\n",
        "import musdb\n",
        "import torch\n",
        "import librosa\n",
        "import numpy as np\n",
        "from torch.utils.data import Dataset\n",
        "\n",
        "class MusdbDataset(Dataset):\n",
        "\n",
        "  def __init__(self, musDB, window_size = 256, step_size = 128):\n",
        "    self.mel_specs = torch.zeros(1, 2, 128, window_size)\n",
        "    self.sample_rates = torch.tensor([0])\n",
        "\n",
        "    num_songs = 0\n",
        "\n",
        "    for track in musDB:\n",
        "      stems, rate = track.stems, track.rate\n",
        "\n",
        "      num_songs += 1\n",
        "\n",
        "      # separate the vocal from other instruments and conver to mono signal\n",
        "      audio_novocal = librosa.to_mono(np.transpose(stems[1] + stems[2] + stems[3]))\n",
        "      audio_vocal = librosa.to_mono(np.transpose(stems[4]))\n",
        "\n",
        "      # compute log mel spectrogram and convert to pytorch tensor\n",
        "      logmelspec_novocal = torch.from_numpy(self._mel_spectrogram(audio_novocal, rate))\n",
        "      logmelspec_vocal = torch.from_numpy(self._mel_spectrogram(audio_vocal, rate))\n",
        "\n",
        "      start_ndx = 0\n",
        "\n",
        "      for step in range(window_size // step_size):\n",
        "        cropped_logmelspec_novocal = logmelspec_novocal[:, start_ndx:]\n",
        "        cropped_logmelspec_vocal = logmelspec_vocal[:, start_ndx:]\n",
        "        num_slices = cropped_logmelspec_novocal.shape[1] // window_size\n",
        "\n",
        "        # chop off the last bit so that number of stft steps is a multiple of window_size\n",
        "        cropped_logmelspec_novocal = cropped_logmelspec_novocal[: , 0:num_slices*window_size]\n",
        "        cropped_logmelspec_vocal = cropped_logmelspec_vocal[:, 0:num_slices*window_size]\n",
        "\n",
        "        # reshape tensors into chunks of size 128x(window_size)\n",
        "        # first dimension is number of chunks\n",
        "        cropped_logmelspec_novocal = torch.transpose(torch.reshape(cropped_logmelspec_novocal, (128, num_slices, window_size)), 0, 1)\n",
        "        cropped_logmelspec_vocal = torch.transpose(torch.reshape(cropped_logmelspec_vocal, (128, num_slices, window_size)), 0, 1)\n",
        "\n",
        "        # unsqueeze and concatenate these tensors. Then concatenate to the big tensor\n",
        "        logmels = torch.cat((cropped_logmelspec_novocal.unsqueeze(1), cropped_logmelspec_vocal.unsqueeze(1)), 1)\n",
        "        self.mel_specs = torch.cat((self.mel_specs, logmels), 0)\n",
        "        self.sample_rates = torch.cat((self.sample_rates, torch.full((num_slices,), rate)), 0)\n",
        "\n",
        "        if num_songs % 5 == 0:\n",
        "          print(str(num_songs) + \" songs processed; produced \" + str(self.mel_specs.shape[0]) + \" spectrograms\")\n",
        "\n",
        "    # remove the all zeros slice that we initialized with\n",
        "    self.mel_specs = self.mel_specs[1: , : , : , :]\n",
        "    self.sample_rates = self.sample_rates[1:]\n",
        "\n",
        "  def __len__(self):\n",
        "    return self.mel_specs.shape[0]\n",
        "\n",
        "  def __getitem__(self, ndx):\n",
        "    # returns tuple (mel spectrogram of accompaniment, mel spectrogram of vocal, rate)\n",
        "    return self.mel_specs[ndx, 0], self.mel_specs[ndx, 1], self.sample_rates[ndx]\n",
        "\n",
        "  def _mel_spectrogram(self, audio, rate):\n",
        "    # compute the log-mel-spectrogram of the audio at the given sample rate\n",
        "    return librosa.power_to_db(librosa.feature.melspectrogram(y = audio, sr = rate))\n",
        "\n",
        "  def cat(self, other_ds):\n",
        "    self.mel_specs = torch.cat((self.mel_specs, other_ds.mel_specs), 0)\n",
        "    self.sample_rates = torch.cat((self.sample_rates, other_ds.sample_rates), 0)\n",
        "\n",
        "import torch\n",
        "import librosa\n",
        "import numpy as np\n",
        "from torch.utils.data import Dataset\n",
        "\n",
        "class SingingDataset(Dataset):\n",
        "\n",
        "  def __init__(self, musDB, window_size = 256, step_size = 128):\n",
        "    self.mel_specs = torch.zeros(1, 128, window_size)\n",
        "    self.sample_rates = torch.tensor([0])\n",
        "\n",
        "    num_songs = 0\n",
        "\n",
        "    for track in musDB:\n",
        "      stems, rate = track.stems, track.rate\n",
        "\n",
        "      num_songs += 1\n",
        "\n",
        "      # load the vocal\n",
        "      vocal = librosa.to_mono(np.transpose(stems[4]))\n",
        "\n",
        "      # compute log mel spectrogram and convert to pytorch tensor\n",
        "      mel_spec = torch.from_numpy(self._mel_spectrogram(vocal, rate))\n",
        "\n",
        "      start_ndx = 0\n",
        "      for step in range(window_size // step_size):\n",
        "        cropped_mel_spec = mel_spec[:, start_ndx:]\n",
        "        num_slices = cropped_mel_spec.shape[1] // window_size\n",
        "\n",
        "        # chop off the last bit so that number of stft steps is a multiple of window_size\n",
        "        cropped_mel_spec = cropped_mel_spec[:, 0:num_slices*window_size]\n",
        "\n",
        "        # reshape tensors into chunks of size 128x(window_size)\n",
        "        # first dimension is number of chunks\n",
        "        cropped_mel_spec = torch.transpose(torch.reshape(cropped_mel_spec, (128, num_slices, window_size)), 0, 1)\n",
        "\n",
        "        # concatenate to the big tensor\n",
        "        self.mel_specs = torch.cat((self.mel_specs, cropped_mel_spec), 0)\n",
        "        self.sample_rates = torch.cat((self.sample_rates, torch.full((num_slices,), rate)), 0)\n",
        "\n",
        "\n",
        "    if num_songs % 5 == 0:\n",
        "        print(str(num_songs) + \" songs processed; produced \" + str(self.mel_specs.shape[0]) + \" spectrograms\")\n",
        "\n",
        "    # remove the all zeros slice that we initialized with\n",
        "    self.mel_specs = self.mel_specs[1: , : , :]\n",
        "    self.sample_rates = self.sample_rates[1:]\n",
        "\n",
        "  def __len__(self):\n",
        "    return self.mel_specs.shape[0]\n",
        "\n",
        "  def __getitem__(self, ndx):\n",
        "    # returns tuple (mel spectrogram of accompaniment, mel spectrogram of vocal, rate)\n",
        "    return self.mel_specs[ndx], self.sample_rates[ndx]\n",
        "\n",
        "  def _mel_spectrogram(self, audio, rate):\n",
        "    # compute the log-mel-spectrogram of the audio at the given sample rate\n",
        "    return librosa.power_to_db(librosa.feature.melspectrogram(y = audio, sr = rate))\n",
        "\n",
        "import torch\n",
        "import librosa\n",
        "import numpy as np\n",
        "import os\n",
        "from torch.utils.data import Dataset\n",
        "\n",
        "class LibriSpeechDataset(Dataset):\n",
        "\n",
        "    def __init__(self, path, window_size = 256, step_size = 128, num_specs = 7647*2):\n",
        "        self.mel_specs = self.mel_specs = torch.zeros(1, 128, window_size)\n",
        "        self.sample_rates = torch.tensor([0])\n",
        "\n",
        "        num_files_opened = 0\n",
        "\n",
        "        for speaker_dir in os.listdir(path):\n",
        "            speaker_path = path + \"/\" + speaker_dir\n",
        "            for chapter_dir in os.listdir(speaker_path):\n",
        "                chapter_path = speaker_path + \"/\" + chapter_dir\n",
        "                for file in os.listdir(chapter_path):\n",
        "                    # checks file extension and stops when we hit desired number of spectrograms (num_specs)\n",
        "                    if file.endswith('.flac') and self.mel_specs.shape[0] - 1 < num_specs:\n",
        "                        # get audio file and convert to log mel spectrogram\n",
        "                        speech, rate = librosa.load(chapter_path + \"/\" + file, sr = 44100)\n",
        "                        mel_spec = torch.from_numpy(self._mel_spectrogram(speech, rate))\n",
        "                        start_ndx = 0\n",
        "\n",
        "                        num_files_opened += 1\n",
        "\n",
        "                        for step in range(window_size // step_size):\n",
        "                            cropped_mel_spec = mel_spec[:, start_ndx:]\n",
        "\n",
        "                            # Saves the total number of 128 x (window_size) spectrograms\n",
        "                            num_slices = cropped_mel_spec.shape[1] // window_size\n",
        "\n",
        "                            # chop off the last bit so that number of stft steps is a multiple of window_size\n",
        "                            cropped_mel_spec = cropped_mel_spec[ : , 0 : num_slices*window_size]\n",
        "\n",
        "                            # reshape the tensor to have many spectrograms of size 128 x (steps)\n",
        "                            cropped_mel_spec = torch.transpose(torch.reshape(cropped_mel_spec, (128, num_slices, window_size)), 0, 1)\n",
        "\n",
        "                            # concatenate tensor to the full tensor in the Dataset object\n",
        "                            self.mel_specs = torch.cat((self.mel_specs, cropped_mel_spec), 0)\n",
        "                            self.sample_rates = torch.cat((self.sample_rates, torch.full((num_slices,), rate)), 0)\n",
        "\n",
        "                            # increment start_ndx\n",
        "                            start_ndx += step_size\n",
        "\n",
        "\n",
        "                        if num_files_opened % 50 == 0:\n",
        "                            print(\"opened \" + str(num_files_opened) + \" files and produced \" + str(self.mel_specs.shape[0]) + \" spectrograms\")\n",
        "\n",
        "\n",
        "        # chop off the zero layer we initialized with\n",
        "        self.mel_specs = self.mel_specs[1:]\n",
        "        self.sample_rates = self.sample_rates[1:]\n",
        "\n",
        "    def __len__(self):\n",
        "        return self.mel_specs.shape[0]\n",
        "\n",
        "    def __getitem__(self, ndx):\n",
        "        return self.mel_specs[ndx], self.sample_rates[ndx]\n",
        "\n",
        "    def _mel_spectrogram(self, audio, rate):\n",
        "        # compute the log-mel-spectrogram of the audio at the given sample rate\n",
        "        return librosa.power_to_db(librosa.feature.melspectrogram(y = audio, sr = rate))"
      ]
    },
    {
      "cell_type": "code",
      "execution_count": 13,
      "metadata": {
        "id": "JHlmMGgzGqb-"
      },
      "outputs": [],
      "source": [
        "path = \"/workspace/hdd_project_data/\"\n",
        "\n",
        "\n",
        "# The string below is the path to the saved LibriSpeechDataset in your Drive\n",
        "librispeechDataset_path = path + \"LibriSpeechDataset_withOverlap.pt\"\n",
        "\n",
        "\n",
        "librispeech_dataset = torch.load(librispeechDataset_path, weights_only=False)\n",
        "\n",
        "\n",
        "# The string below is the path to the saved MusdbDataset in your Drive\n",
        "musdbDataset_path = path + \"musdb_noOverlap_test.pt\"\n",
        "musdb_dataset = torch.load(musdbDataset_path, weights_only=False)"
      ]
    },
    {
      "cell_type": "code",
      "execution_count": 14,
      "metadata": {
        "id": "DUHwFy2jR2JY"
      },
      "outputs": [],
      "source": [
        "# This fixes the problem with the sample rates\n",
        "musdb_dataset.sample_rates = torch.full((len(musdb_dataset),), 44100)\n",
        "librispeech_dataset.sample_rates = torch.full((len(musdb_dataset),), 44100)\n",
        "\n",
        "# Because of the way the librispeech dataset was constructed, it is slightly longer\n",
        "# than the musbd dataset. Crop the librispeech dataset with these lines\n",
        "librispeech_dataset.mel_specs = librispeech_dataset.mel_specs[0:len(musdb_dataset)]\n",
        "librispeech_dataset.sample_rates = librispeech_dataset.sample_rates[0:len(musdb_dataset)]"
      ]
    },
    {
      "cell_type": "markdown",
      "metadata": {
        "id": "Peiksp9NuMGX"
      },
      "source": [
        "### Explore these datasets"
      ]
    },
    {
      "cell_type": "code",
      "execution_count": 15,
      "metadata": {
        "colab": {
          "base_uri": "https://localhost:8080/"
        },
        "id": "RpREtcq0mYd8",
        "outputId": "9efc8a3c-9e76-49f3-bc24-434e83dcd64b"
      },
      "outputs": [
        {
          "name": "stdout",
          "output_type": "stream",
          "text": [
            "=== MusDB Dataset Exploration ===\n",
            "Length: 4167\n",
            "mel_specs shape: torch.Size([4167, 2, 128, 256])\n",
            "sample_rates shape: torch.Size([4167])\n",
            "\n",
            "Sample 0 - Accompaniment shape: torch.Size([128, 256])\n",
            "Sample 0 - Vocal shape: torch.Size([128, 256])\n",
            "Sample 0 - Sample rate: tensor(44100)\n",
            "\n",
            "=== LibriSpeech Dataset Exploration ===\n",
            "Length: 4167\n",
            "mel_specs shape: torch.Size([4167, 128, 256])\n",
            "sample_rates shape: torch.Size([4167])\n",
            "\n",
            "Sample 0 - Speech shape: torch.Size([128, 256])\n",
            "Sample 0 - Sample rate: tensor(44100)\n"
          ]
        }
      ],
      "source": [
        "# --- Explore the Datasets ---\n",
        "print(\"=== MusDB Dataset Exploration ===\")\n",
        "print(\"Length:\", len(musdb_dataset))\n",
        "print(\"mel_specs shape:\", musdb_dataset.mel_specs.shape)\n",
        "print(\"sample_rates shape:\", musdb_dataset.sample_rates.shape)\n",
        "print()\n",
        "accompaniment, vocal, sample_rate = musdb_dataset[0]\n",
        "print(\"Sample 0 - Accompaniment shape:\", accompaniment.size())\n",
        "print(\"Sample 0 - Vocal shape:\", vocal.size())\n",
        "print(\"Sample 0 - Sample rate:\", sample_rate)\n",
        "print()\n",
        "\n",
        "print(\"=== LibriSpeech Dataset Exploration ===\")\n",
        "print(\"Length:\", len(librispeech_dataset))\n",
        "print(\"mel_specs shape:\", librispeech_dataset.mel_specs.shape)\n",
        "print(\"sample_rates shape:\", librispeech_dataset.sample_rates.shape)\n",
        "print()\n",
        "speech, sample_rate = librispeech_dataset[0]\n",
        "print(\"Sample 0 - Speech shape:\", speech.size())\n",
        "print(\"Sample 0 - Sample rate:\", sample_rate)"
      ]
    },
    {
      "cell_type": "markdown",
      "metadata": {
        "id": "OK8WbDmTjkNH"
      },
      "source": [
        "## Dataset Helpers Explanation\n",
        "Why New Dataset Helpers?\n",
        "\n",
        "We have created new dataset helper classes (i.e., AccompanimentData, VocalData, and SpeechData) so that we can control how the data is padded and later shuffled.\n",
        "\n",
        "- **Separation of Data:**\n",
        "We separated the vocal and accompaniment data from the MusDB dataset. In our experiments, we might want to shuffle the speech data independently of the combined music data.\n",
        "\n",
        "- **Shuffling Considerations:**\n",
        "For the vocal and accompaniment data, we want to maintain their pairing so that they are shuffled in the same order. In contrast, we want the speech data to be shuffled independently.\n",
        "\n",
        "- **Future Extensions:**\n",
        "In the future, we may add another helper class that combines the vocal and accompaniment data to ensure synchronized shuffling in our data loaders.\n",
        "\n",
        "This modular approach gives us flexibility in handling and preprocessing the data for our GAN training."
      ]
    },
    {
      "cell_type": "code",
      "execution_count": 16,
      "metadata": {
        "id": "O7OGNnS8XMVd"
      },
      "outputs": [],
      "source": [
        "import torch\n",
        "from torch.utils.data import Dataset, DataLoader\n",
        "import torch.nn.functional as F\n",
        "\n",
        "class AccompanimentData(Dataset):\n",
        "    def __init__(self, musdb_dataset, output_length=289):\n",
        "        self.musdb_dataset = musdb_dataset\n",
        "        self.output_length = output_length\n",
        "\n",
        "    def __len__(self):\n",
        "        return len(self.musdb_dataset)\n",
        "\n",
        "    def __getitem__(self, index):\n",
        "        accompaniment, _, _ = self.musdb_dataset[index]  # shape: [128, 256]\n",
        "        current_len = accompaniment.size(-1)             # 256\n",
        "        delta = self.output_length - current_len         # 289 - 256 = 33\n",
        "\n",
        "        # If delta is positive, pad. Otherwise, you might want to crop or handle differently.\n",
        "        if delta > 0:\n",
        "            # Half the remainder goes to the front\n",
        "            left_pad_len = (delta // 2) + (delta % 2)  # 17\n",
        "            right_pad_len = delta // 2                # 16\n",
        "            accompaniment_pad = F.pad(accompaniment,\n",
        "                                  (left_pad_len, right_pad_len),\n",
        "                                  \"constant\", 0)\n",
        "        return {\"no_pad\" : accompaniment, \"pad\" : accompaniment_pad}\n",
        "\n",
        "\n",
        "class VocalData(Dataset):\n",
        "    def __init__(self, musdb_dataset, output_length=289):\n",
        "        self.musdb_dataset = musdb_dataset\n",
        "        self.output_length = output_length\n",
        "\n",
        "    def __len__(self):\n",
        "        return len(self.musdb_dataset)\n",
        "\n",
        "    def __getitem__(self, index):\n",
        "        _, vocal, _ = self.musdb_dataset[index]  # shape: [128, 256]\n",
        "        current_len = vocal.size(-1)\n",
        "        delta = self.output_length - current_len\n",
        "\n",
        "        if delta > 0:\n",
        "            left_pad_len = (delta // 2) + (delta % 2)\n",
        "            right_pad_len = delta // 2\n",
        "            vocal_pad = F.pad(vocal, (left_pad_len, right_pad_len), \"constant\", 0)\n",
        "        return {\"no_pad\" : vocal, \"pad\" : vocal_pad}\n",
        "\n",
        "\n",
        "\n",
        "class SpeechData(Dataset):\n",
        "    def __init__(self, librispeech_dataset, output_length=289):\n",
        "        self.librispeech_dataset = librispeech_dataset\n",
        "        self.output_length = output_length\n",
        "\n",
        "    def __len__(self):\n",
        "        return len(self.librispeech_dataset)\n",
        "\n",
        "    def __getitem__(self, index):\n",
        "        speech, _ = self.librispeech_dataset[index]\n",
        "        # If speech has multiple slices, pick the first slice\n",
        "        if speech.dim() == 3:\n",
        "            speech = speech[0]  # shape: [128, 256]\n",
        "        current_len = speech.size(-1)\n",
        "        delta = self.output_length - current_len\n",
        "\n",
        "        if delta > 0:\n",
        "            left_pad_len = (delta // 2) + (delta % 2)\n",
        "            right_pad_len = delta // 2\n",
        "            speech_pad = F.pad(speech, (left_pad_len, right_pad_len), \"constant\", 0)\n",
        "        return {\"no_pad\" : speech, \"pad\" : speech_pad}\n"
      ]
    },
    {
      "cell_type": "code",
      "execution_count": 17,
      "metadata": {
        "id": "gW1Twbo8lWY0"
      },
      "outputs": [],
      "source": [
        "# print(AccompanimentData(musdb_dataset)[0])\n",
        "# print(VocalData(musdb_dataset)[0])\n",
        "# print(SpeechData(librispeech_dataset)[0])"
      ]
    },
    {
      "cell_type": "markdown",
      "metadata": {
        "id": "suMDmB62yS_N"
      },
      "source": [
        "### DataLoader Explanation\n",
        "What is a DataLoader and Why Do We Need It?\n",
        "\n",
        "A DataLoader in PyTorch is a utility that wraps a dataset and provides:\n",
        "\n",
        "- **Batching:** It divides your dataset into batches so that you can train your models with mini-batch gradient descent.\n",
        "\n",
        "- **Shuffling:** It shuffles the data at every epoch (if specified) to help reduce overfitting and ensure the model sees a diverse set of examples.\n",
        "\n",
        "- **Parallel Data Loading:** It can load data in parallel using multiple worker processes, speeding up training.\n",
        "\n",
        "In our case, we create separate DataLoaders for:\n",
        "\n",
        "- The accompaniment data (paired with vocals) from the MusDB dataset.\n",
        "\n",
        "- The vocal data (paired with accompaniment) from the MusDB dataset.\n",
        "\n",
        "- The speech data from the LibriSpeech dataset.\n",
        "\n",
        "This lets us shuffle the speech data independently, while keeping the vocal/accompaniment pairs synchronized during training."
      ]
    },
    {
      "cell_type": "code",
      "execution_count": 18,
      "metadata": {
        "id": "vLcvcILSlW3C"
      },
      "outputs": [],
      "source": [
        "# Define batch size\n",
        "batch_size = 32  # Change as needed\n",
        "\n",
        "# Create data loaders\n",
        "accompaniment_loader = DataLoader(\n",
        "    AccompanimentData(musdb_dataset),\n",
        "    batch_size=batch_size,\n",
        "    shuffle=False,\n",
        "    drop_last=True\n",
        ")\n",
        "vocal_loader = DataLoader(\n",
        "    VocalData(musdb_dataset),\n",
        "    batch_size=batch_size,\n",
        "    shuffle=False,\n",
        "    drop_last=True\n",
        ")\n",
        "speech_loader = DataLoader(\n",
        "    SpeechData(librispeech_dataset),\n",
        "    batch_size=batch_size,\n",
        "    shuffle=True,\n",
        "    drop_last=True\n",
        ")\n",
        "\n",
        "# # Print how many batches each DataLoader contains\n",
        "# print(\"Accompaniment loader length:\", len(accompaniment_loader))\n",
        "# print(\"Vocal loader length:\", len(vocal_loader))\n",
        "# print(\"Speech loader length:\", len(speech_loader))\n",
        "\n",
        "# # Optionally, fetch and print the shape of the first batch\n",
        "# accompaniment_batch = next(iter(accompaniment_loader))\n",
        "# vocal_batch = next(iter(vocal_loader))\n",
        "# speech_batch = next(iter(speech_loader))\n",
        "# print(accompaniment_batch[\"pad\"])\n",
        "\n",
        "# print(\"Accompaniment first batch shape:\", accompaniment_batch.shape)\n",
        "# print(\"Vocal first batch shape:\", vocal_batch.shape)\n",
        "# print(\"Speech first batch shape:\", speech_batch.shape)\n"
      ]
    },
    {
      "cell_type": "markdown",
      "metadata": {
        "id": "3xUqt-HDRxKB"
      },
      "source": [
        "## Second Generator Model\n",
        "Here we initialize the second generator model whose purpose is to convert the generated vocals back to normal speach for the cycle GAN. We again use Wave-U-Net, but with a different configuration. The main difference is that we will not input the music along with the vocal track."
      ]
    },
    {
      "cell_type": "code",
      "execution_count": null,
      "metadata": {
        "colab": {
          "base_uri": "https://localhost:8080/"
        },
        "id": "3Ql5ZsesRvvd",
        "outputId": "7d62608b-9e5f-40f9-b944-d5b2e8c6807b"
      },
      "outputs": [],
      "source": []
    },
    {
      "cell_type": "markdown",
      "metadata": {
        "id": "hd1FQ3ZdSymH"
      },
      "source": [
        "## Transform Input to generator_2\n",
        "\n",
        "The output of the generator model is a (batch_size, 128, 257) tensor. The model expects a tensor of size (batch_size, 128, 289). We need to pad the last dimension with 16 zeros on each size."
      ]
    },
    {
      "cell_type": "code",
      "execution_count": 19,
      "metadata": {
        "id": "rQn9K5nVSu-c"
      },
      "outputs": [],
      "source": [
        "def transform_for_gen_2(batch, output_length = 289):\n",
        "  current_len = batch.size(-1)\n",
        "  delta = output_length - current_len\n",
        "\n",
        "  if delta > 0:\n",
        "      left_pad_len = (delta // 2) + (delta % 2)\n",
        "      right_pad_len = delta // 2\n",
        "      batch = F.pad(batch, (left_pad_len, right_pad_len), \"constant\", 0)\n",
        "  return batch\n"
      ]
    },
    {
      "cell_type": "markdown",
      "metadata": {
        "id": "2jg9I_4qxV3-"
      },
      "source": [
        "## Train the Cycle GAN\n",
        "The models are ``generator`` and ``discriminator`` and ``generator_2``.\n"
      ]
    },
    {
      "cell_type": "code",
      "execution_count": 21,
      "metadata": {
        "id": "A_oMQsfWSlJX"
      },
      "outputs": [],
      "source": [
        "import torch\n",
        "import torch.nn as nn\n",
        "import torch.optim as optim\n",
        "from tqdm import tqdm\n",
        "from torch.utils.tensorboard import SummaryWriter\n",
        "\n",
        "# ----- Single Epoch Training Function -----\n",
        "def train_epoch(\n",
        "    generator,\n",
        "    generator_2,\n",
        "    discriminator,\n",
        "    optimizer_D,\n",
        "    optimizer_G,\n",
        "    optimizer_G2,\n",
        "    accompaniment_loader,\n",
        "    vocal_loader,\n",
        "    speech_loader,\n",
        "    l1_loss,\n",
        "    adversarial_loss,\n",
        "    device,\n",
        "    virtual_batch_size=1  # Set > 1 for gradient accumulation across mini-batches.\n",
        "):\n",
        "    total_loss_D = 0.0\n",
        "    total_loss_G = 0.0\n",
        "    total_loss_G_adv = 0.0\n",
        "    total_loss_G_L1 = 0.0\n",
        "    total_loss_cycle = 0.0\n",
        "    num_batches = 0\n",
        "\n",
        "    # Optionally record gradient norms per batch for diagnosing vanishing gradients.\n",
        "    grad_norms_D = []\n",
        "    grad_norms_G = []\n",
        "\n",
        "    # Wrap the loader in tqdm for progress reporting.\n",
        "    train_loader = enumerate(zip(zip(accompaniment_loader, vocal_loader), speech_loader))\n",
        "    \n",
        "    for batch_number, ((accompaniment, vocal), speech) in tqdm(train_loader, desc=\"Training Batches\"):\n",
        "        # Move data to device and cast to float32.\n",
        "        accompaniment_pad = accompaniment[\"pad\"].type(torch.float32).to(device)  # shape: [B, 128, 289]\n",
        "        speech_pad = speech[\"pad\"].type(torch.float32).to(device)                # shape: [B, 128, 289]\n",
        "\n",
        "        # Prepare generator input by concatenating speech and accompaniment along the channel dim.\n",
        "        generator_input = torch.cat([speech_pad, accompaniment_pad], dim=1)  # shape: [B, 256, 289]\n",
        "\n",
        "        # ---------------------\n",
        "        # Train the Discriminator\n",
        "        # ---------------------\n",
        "        optimizer_D.zero_grad()\n",
        "\n",
        "        B = accompaniment_pad.size(0)\n",
        "        real_labels = torch.full((B, 1), 1.0, device=device)\n",
        "        fake_labels = torch.zeros((B, 1), device=device)\n",
        "\n",
        "        # Get non-padded data.\n",
        "        accompaniment_no_pad = accompaniment[\"no_pad\"].type(torch.float32).to(device)\n",
        "        vocals_no_pad = vocal[\"no_pad\"].type(torch.float32).to(device)\n",
        "\n",
        "        # Discriminator on real samples.\n",
        "        pred_real = discriminator(vocals_no_pad, accompaniment_no_pad)\n",
        "        loss_D_real = adversarial_loss(pred_real, real_labels)\n",
        "\n",
        "        # Generate fake singing.\n",
        "        raw_fake_singing = generator(generator_input)[\"vocal\"]\n",
        "        # Clone the output to ensure safety with subsequent operations.\n",
        "        fake_singing = raw_fake_singing.clone()\n",
        "        fake_singing_crop = fake_singing[:, :, :256].clone()\n",
        "\n",
        "        # Discriminator on fake samples.\n",
        "        pred_fake = discriminator(fake_singing_crop, accompaniment_no_pad)\n",
        "        loss_D_fake = adversarial_loss(pred_fake, fake_labels)\n",
        "\n",
        "        loss_D = 0.5 * (loss_D_real + loss_D_fake)\n",
        "        loss_D.backward()\n",
        "\n",
        "        # Record discriminator gradient norms.\n",
        "        grad_norm = 0.0\n",
        "        count = 0\n",
        "        for p in discriminator.parameters():\n",
        "            if p.grad is not None:\n",
        "                grad_norm += p.grad.norm().item()\n",
        "                count += 1\n",
        "        if count > 0:\n",
        "            grad_norms_D.append(grad_norm / count)\n",
        "\n",
        "        optimizer_D.step()\n",
        "\n",
        "        # ---------------------\n",
        "        # Train the Generators\n",
        "        # ---------------------\n",
        "        # Reset generator gradients if not accumulating.\n",
        "        if virtual_batch_size == 1:\n",
        "            optimizer_G.zero_grad()\n",
        "            optimizer_G2.zero_grad()\n",
        "\n",
        "        # Generator adversarial loss.\n",
        "        pred_fake_for_G = discriminator(fake_singing, accompaniment_no_pad)\n",
        "        \n",
        "        # Prepare input for second generator (assume transform_for_gen_2 is defined).\n",
        "        fake_singing_padded = transform_for_gen_2(fake_singing)\n",
        "        raw_reconstructed_speech = generator_2(fake_singing_padded)[\"speech\"]\n",
        "        reconstructed_speech = raw_reconstructed_speech[:, :, :256].clone()\n",
        "        speech_no_pad = speech[\"no_pad\"].type(torch.float32).to(device)\n",
        "\n",
        "        loss_G_adv = adversarial_loss(pred_fake_for_G, real_labels)\n",
        "        loss_cycle = l1_loss(reconstructed_speech, speech_no_pad)\n",
        "        loss_G_L1 = l1_loss(fake_singing_crop, vocals_no_pad)\n",
        "\n",
        "        lambda_l1 = 10     # Weight for L1 (vocal) loss.\n",
        "        lambda_cycle = 10  # Weight for cycle (speech) loss.\n",
        "        loss_G = loss_G_adv + lambda_l1 * loss_G_L1 + lambda_cycle * loss_cycle\n",
        "\n",
        "        loss_G.backward()\n",
        "\n",
        "        # Record generator gradient norms.\n",
        "        grad_norm = 0.0\n",
        "        count = 0\n",
        "        for p in generator.parameters():\n",
        "            if p.grad is not None:\n",
        "                grad_norm += p.grad.norm().item()\n",
        "                count += 1\n",
        "        if count > 0:\n",
        "            grad_norms_G.append(grad_norm / count)\n",
        "\n",
        "        # If using virtual batch accumulation.\n",
        "        if (batch_number + 1) % virtual_batch_size == 0:\n",
        "            optimizer_G.step()\n",
        "            optimizer_G2.step()\n",
        "            optimizer_G.zero_grad()\n",
        "            optimizer_G2.zero_grad()\n",
        "\n",
        "        total_loss_D += loss_D.item()\n",
        "        total_loss_G += loss_G.item()\n",
        "        total_loss_G_adv += loss_G_adv.item()\n",
        "        total_loss_G_L1 += loss_G_L1.item()\n",
        "        total_loss_cycle += loss_cycle.item()\n",
        "        num_batches += 1\n",
        "\n",
        "    epoch_metrics = {\n",
        "        \"loss_D\": total_loss_D / num_batches,\n",
        "        \"loss_G_total\": total_loss_G / num_batches,\n",
        "        \"loss_G_adv\": total_loss_G_adv / num_batches,\n",
        "        \"loss_G_L1\": total_loss_G_L1 / num_batches,\n",
        "        \"loss_cycle\": total_loss_cycle / num_batches,\n",
        "        \"avg_grad_norm_D\": sum(grad_norms_D) / len(grad_norms_D) if grad_norms_D else 0.0,\n",
        "        \"avg_grad_norm_G\": sum(grad_norms_G) / len(grad_norms_G) if grad_norms_G else 0.0,\n",
        "    }\n",
        "    return epoch_metrics\n",
        "\n",
        "# ----- Multi-Epoch Training Function -----\n",
        "def train(\n",
        "    generator,\n",
        "    generator_2,\n",
        "    discriminator,\n",
        "    optimizer_D,\n",
        "    optimizer_G,\n",
        "    optimizer_G2,\n",
        "    accompaniment_loader,\n",
        "    vocal_loader,\n",
        "    speech_loader,\n",
        "    l1_loss,\n",
        "    adversarial_loss,\n",
        "    device,\n",
        "    num_epochs=10,\n",
        "    virtual_batch_size=1,\n",
        "    log_dir=\"runs/cycleGAN_experiment\"\n",
        "):\n",
        "    writer = SummaryWriter(log_dir=log_dir)\n",
        "    global_step = 0\n",
        "\n",
        "    for epoch in range(num_epochs):\n",
        "        print(f\"\\n=== Epoch {epoch+1}/{num_epochs} ===\")\n",
        "        epoch_metrics = train_epoch(\n",
        "            generator,\n",
        "            generator_2,\n",
        "            discriminator,\n",
        "            optimizer_D,\n",
        "            optimizer_G,\n",
        "            optimizer_G2,\n",
        "            accompaniment_loader,\n",
        "            vocal_loader,\n",
        "            speech_loader,\n",
        "            l1_loss,\n",
        "            adversarial_loss,\n",
        "            device,\n",
        "            virtual_batch_size\n",
        "        )\n",
        "        print(f\"Epoch {epoch+1} Metrics:\")\n",
        "        print(f\"  Loss_D:         {epoch_metrics['loss_D']:.4f}\")\n",
        "        print(f\"  Loss_G_total:   {epoch_metrics['loss_G_total']:.4f}\")\n",
        "        print(f\"  Loss_G_adv:     {epoch_metrics['loss_G_adv']:.4f}\")\n",
        "        print(f\"  Loss_G_L1:      {epoch_metrics['loss_G_L1']:.4f}\")\n",
        "        print(f\"  Loss_Cycle:     {epoch_metrics['loss_cycle']:.4f}\")\n",
        "        print(f\"  Grad Norm D:    {epoch_metrics['avg_grad_norm_D']:.4f}\")\n",
        "        print(f\"  Grad Norm G:    {epoch_metrics['avg_grad_norm_G']:.4f}\")\n",
        "\n",
        "        # Log metrics to TensorBoard.\n",
        "        writer.add_scalar(\"Loss/Discriminator\", epoch_metrics[\"loss_D\"], epoch)\n",
        "        writer.add_scalar(\"Loss/Generator_total\", epoch_metrics[\"loss_G_total\"], epoch)\n",
        "        writer.add_scalar(\"Loss/Generator_adversarial\", epoch_metrics[\"loss_G_adv\"], epoch)\n",
        "        writer.add_scalar(\"Loss/Generator_L1\", epoch_metrics[\"loss_G_L1\"], epoch)\n",
        "        writer.add_scalar(\"Loss/Cycle\", epoch_metrics[\"loss_cycle\"], epoch)\n",
        "        writer.add_scalar(\"Gradients/Discriminator\", epoch_metrics[\"avg_grad_norm_D\"], epoch)\n",
        "        writer.add_scalar(\"Gradients/Generator\", epoch_metrics[\"avg_grad_norm_G\"], epoch)\n",
        "\n",
        "        global_step += 1\n",
        "\n",
        "    writer.close()\n",
        "\n",
        "\n"
      ]
    },
    {
      "cell_type": "code",
      "execution_count": null,
      "metadata": {
        "id": "phkEdf7rSckQ"
      },
      "outputs": [],
      "source": []
    },
    {
      "cell_type": "code",
      "execution_count": null,
      "metadata": {
        "colab": {
          "base_uri": "https://localhost:8080/"
        },
        "id": "IrrtFAj8Tjlv",
        "outputId": "8bffef33-9684-4b77-8ce4-b14a618a2b76"
      },
      "outputs": [
        {
          "name": "stdout",
          "output_type": "stream",
          "text": [
            "Using device: cuda\n",
            "Using valid convolutions with 289 inputs and 257 outputs\n",
            "Using valid convolutions with 289 inputs and 257 outputs\n",
            "Fitting discriminator...\n",
            "MiniRocket fitted. Feature dimension: 9996\n"
          ]
        }
      ],
      "source": [
        "# ----- Example Setup and Training Invocation -----\n",
        "\n",
        "device = torch.device(\"cuda\" if torch.cuda.is_available() else \"cpu\")\n",
        "print(\"Using device:\", device)\n",
        "\n",
        "# Model configurations for generator and generator_2.\n",
        "model_config_gen = {\n",
        "    \"num_inputs\": 256,  # Two spectrograms concatenated (2 * 128 mel bins)\n",
        "    \"num_outputs\": 128,\n",
        "    \"num_channels\": [512*2, 512*4, 512*8],\n",
        "    \"instruments\": [\"vocal\"],\n",
        "    \"kernel_size\": 3,\n",
        "    \"target_output_size\": 256,\n",
        "    \"conv_type\": \"normal\",\n",
        "    \"res\": \"fixed\",\n",
        "    \"separate\": False,\n",
        "    \"depth\": 1,\n",
        "    \"strides\": 2\n",
        "}\n",
        "generator = Waveunet(**model_config_gen).to(device)\n",
        "\n",
        "model_config_gen2 = {\n",
        "    \"num_inputs\": 128,  # One spectrogram input\n",
        "    \"num_outputs\": 128,\n",
        "    \"num_channels\": [256*2, 256*4, 256*8],\n",
        "    \"instruments\": [\"speech\"],\n",
        "    \"kernel_size\": 3,\n",
        "    \"target_output_size\": 256,\n",
        "    \"conv_type\": \"normal\",\n",
        "    \"res\": \"fixed\",\n",
        "    \"separate\": False,\n",
        "    \"depth\": 1,\n",
        "    \"strides\": 2\n",
        "}\n",
        "generator_2 = Waveunet(**model_config_gen2).to(device)\n",
        "minirocket_n_jobs = 22 # Instantiate the discriminator.\n",
        "discriminator = TsaiMiniRocketDiscriminator().to(device)\n",
        "\n",
        "# Assume dataloaders `accompaniment_loader`, `vocal_loader`, and `speech_loader` are defined.\n",
        "\n",
        "# Optionally, prepare the discriminator (e.g., pre-fitting on some speech data).\n",
        "accompaniment_batch = next(iter(accompaniment_loader))\n",
        "vocal_batch = next(iter(vocal_loader))\n",
        "speech_batch = next(iter(speech_loader))[\"no_pad\"]\n",
        "print(\"Fitting discriminator...\")\n",
        "discriminator.fit_rocket(speech_batch)\n",
        "\n",
        "# Loss functions.\n",
        "adversarial_loss = nn.BCELoss().to(device)\n",
        "l1_loss = nn.L1Loss().to(device)\n",
        "\n",
        "# Optimizers.\n",
        "optimizer_G = optim.Adam(generator.parameters(), lr=1e-4, betas=(0.5, 0.999))\n",
        "optimizer_G2 = optim.Adam(generator_2.parameters(), lr=1e-4, betas=(0.5, 0.999))\n",
        "optimizer_D = optim.Adam(discriminator.parameters(), lr=5e-5, betas=(0.5, 0.999))\n",
        "\n"
      ]
    },
    {
      "cell_type": "code",
      "execution_count": null,
      "metadata": {
        "colab": {
          "base_uri": "https://localhost:8080/",
          "height": 423
        },
        "id": "PWajAnHDMunt",
        "outputId": "ab0ab3f4-83fd-4d39-d8a4-134bf7fa41ec"
      },
      "outputs": [
        {
          "name": "stdout",
          "output_type": "stream",
          "text": [
            "\n",
            "=== Epoch 1/10 ===\n"
          ]
        },
        {
          "name": "stderr",
          "output_type": "stream",
          "text": [
            "Training Batches: 130it [00:39,  3.33it/s]\n"
          ]
        },
        {
          "name": "stdout",
          "output_type": "stream",
          "text": [
            "Epoch 1 Metrics:\n",
            "  Loss_D:         0.2640\n",
            "  Loss_G_total:   281.9932\n",
            "  Loss_G_adv:     2.2335\n",
            "  Loss_G_L1:      16.0729\n",
            "  Loss_Cycle:     11.9031\n",
            "  Grad Norm D:    0.8984\n",
            "  Grad Norm G:    56.9286\n",
            "\n",
            "=== Epoch 2/10 ===\n"
          ]
        },
        {
          "name": "stderr",
          "output_type": "stream",
          "text": [
            "Training Batches: 130it [00:38,  3.36it/s]\n"
          ]
        },
        {
          "name": "stdout",
          "output_type": "stream",
          "text": [
            "Epoch 2 Metrics:\n",
            "  Loss_D:         0.0532\n",
            "  Loss_G_total:   226.6878\n",
            "  Loss_G_adv:     4.3860\n",
            "  Loss_G_L1:      14.9308\n",
            "  Loss_Cycle:     7.2993\n",
            "  Grad Norm D:    0.3685\n",
            "  Grad Norm G:    59.6958\n",
            "\n",
            "=== Epoch 3/10 ===\n"
          ]
        },
        {
          "name": "stderr",
          "output_type": "stream",
          "text": [
            "Training Batches: 130it [00:38,  3.38it/s]\n"
          ]
        },
        {
          "name": "stdout",
          "output_type": "stream",
          "text": [
            "Epoch 3 Metrics:\n",
            "  Loss_D:         0.0503\n",
            "  Loss_G_total:   222.5108\n",
            "  Loss_G_adv:     5.1419\n",
            "  Loss_G_L1:      14.8072\n",
            "  Loss_Cycle:     6.9297\n",
            "  Grad Norm D:    0.2400\n",
            "  Grad Norm G:    59.9900\n",
            "\n",
            "=== Epoch 4/10 ===\n"
          ]
        },
        {
          "name": "stderr",
          "output_type": "stream",
          "text": [
            "Training Batches: 130it [00:38,  3.37it/s]\n"
          ]
        },
        {
          "name": "stdout",
          "output_type": "stream",
          "text": [
            "Epoch 4 Metrics:\n",
            "  Loss_D:         0.0125\n",
            "  Loss_G_total:   219.6915\n",
            "  Loss_G_adv:     5.4085\n",
            "  Loss_G_L1:      14.7269\n",
            "  Loss_Cycle:     6.7014\n",
            "  Grad Norm D:    0.1059\n",
            "  Grad Norm G:    57.2925\n",
            "\n",
            "=== Epoch 5/10 ===\n"
          ]
        },
        {
          "name": "stderr",
          "output_type": "stream",
          "text": [
            "Training Batches: 130it [00:38,  3.39it/s]\n"
          ]
        },
        {
          "name": "stdout",
          "output_type": "stream",
          "text": [
            "Epoch 5 Metrics:\n",
            "  Loss_D:         0.0087\n",
            "  Loss_G_total:   217.2399\n",
            "  Loss_G_adv:     6.0605\n",
            "  Loss_G_L1:      14.6714\n",
            "  Loss_Cycle:     6.4466\n",
            "  Grad Norm D:    0.0836\n",
            "  Grad Norm G:    59.4859\n",
            "\n",
            "=== Epoch 6/10 ===\n"
          ]
        },
        {
          "name": "stderr",
          "output_type": "stream",
          "text": [
            "Training Batches: 130it [00:38,  3.38it/s]\n"
          ]
        },
        {
          "name": "stdout",
          "output_type": "stream",
          "text": [
            "Epoch 6 Metrics:\n",
            "  Loss_D:         0.0070\n",
            "  Loss_G_total:   213.7334\n",
            "  Loss_G_adv:     6.5826\n",
            "  Loss_G_L1:      14.7028\n",
            "  Loss_Cycle:     6.0123\n",
            "  Grad Norm D:    0.0677\n",
            "  Grad Norm G:    61.8932\n",
            "\n",
            "=== Epoch 7/10 ===\n"
          ]
        },
        {
          "name": "stderr",
          "output_type": "stream",
          "text": [
            "Training Batches: 130it [00:38,  3.36it/s]\n"
          ]
        },
        {
          "name": "stdout",
          "output_type": "stream",
          "text": [
            "Epoch 7 Metrics:\n",
            "  Loss_D:         0.1069\n",
            "  Loss_G_total:   211.0893\n",
            "  Loss_G_adv:     6.0084\n",
            "  Loss_G_L1:      14.6378\n",
            "  Loss_Cycle:     5.8703\n",
            "  Grad Norm D:    0.3043\n",
            "  Grad Norm G:    63.7290\n",
            "\n",
            "=== Epoch 8/10 ===\n"
          ]
        },
        {
          "name": "stderr",
          "output_type": "stream",
          "text": [
            "Training Batches: 130it [00:38,  3.35it/s]\n"
          ]
        },
        {
          "name": "stdout",
          "output_type": "stream",
          "text": [
            "Epoch 8 Metrics:\n",
            "  Loss_D:         0.0251\n",
            "  Loss_G_total:   208.4485\n",
            "  Loss_G_adv:     5.3768\n",
            "  Loss_G_L1:      14.6439\n",
            "  Loss_Cycle:     5.6633\n",
            "  Grad Norm D:    0.1797\n",
            "  Grad Norm G:    61.4073\n",
            "\n",
            "=== Epoch 9/10 ===\n"
          ]
        },
        {
          "name": "stderr",
          "output_type": "stream",
          "text": [
            "Training Batches: 130it [00:38,  3.35it/s]\n"
          ]
        },
        {
          "name": "stdout",
          "output_type": "stream",
          "text": [
            "Epoch 9 Metrics:\n",
            "  Loss_D:         0.0138\n",
            "  Loss_G_total:   208.2470\n",
            "  Loss_G_adv:     5.9971\n",
            "  Loss_G_L1:      14.6074\n",
            "  Loss_Cycle:     5.6176\n",
            "  Grad Norm D:    0.1127\n",
            "  Grad Norm G:    61.3346\n",
            "\n",
            "=== Epoch 10/10 ===\n"
          ]
        },
        {
          "name": "stderr",
          "output_type": "stream",
          "text": [
            "Training Batches: 130it [00:38,  3.34it/s]"
          ]
        },
        {
          "name": "stdout",
          "output_type": "stream",
          "text": [
            "Epoch 10 Metrics:\n",
            "  Loss_D:         0.6690\n",
            "  Loss_G_total:   10634.7520\n",
            "  Loss_G_adv:     5.8288\n",
            "  Loss_G_L1:      602.4152\n",
            "  Loss_Cycle:     460.4771\n",
            "  Grad Norm D:    0.4235\n",
            "  Grad Norm G:    10580.4275\n"
          ]
        },
        {
          "name": "stderr",
          "output_type": "stream",
          "text": [
            "\n"
          ]
        }
      ],
      "source": [
        "# Number of training epochs.\n",
        "num_epochs = 10  # Adjust as needed.\n",
        "virtual_batch_size = 1  # Adjust if you want gradient accumulation.\n",
        "\n",
        "# Start training.\n",
        "train(\n",
        "    generator,\n",
        "    generator_2,\n",
        "    discriminator,\n",
        "    optimizer_D,\n",
        "    optimizer_G,\n",
        "    optimizer_G2,\n",
        "    accompaniment_loader,\n",
        "    vocal_loader,\n",
        "    speech_loader,\n",
        "    l1_loss,\n",
        "    adversarial_loss,\n",
        "    device,\n",
        "    num_epochs=num_epochs,\n",
        "    virtual_batch_size=virtual_batch_size,\n",
        "    log_dir=\"runs/cycleGAN_experiment\"\n",
        ")"
      ]
    },
    {
      "cell_type": "code",
      "execution_count": null,
      "metadata": {
        "id": "sESr-brVW-Jb"
      },
      "outputs": [],
      "source": []
    },
    {
      "cell_type": "code",
      "execution_count": null,
      "metadata": {
        "id": "lbLNj0VUxV3-"
      },
      "outputs": [],
      "source": []
    },
    {
      "cell_type": "markdown",
      "metadata": {
        "id": "dWffnPNExV3-"
      },
      "source": [
        "## Save the models"
      ]
    },
    {
      "cell_type": "code",
      "execution_count": null,
      "metadata": {
        "id": "O6dDyxJmxV3-"
      },
      "outputs": [],
      "source": [
        "# Assuming we have compiled the generator\n",
        "# orig_generator = generator._orig_mod\n",
        "# path = \"\"\n",
        "# torch.save(orig_generator.state_dict(), path + \"generator_state_dict.pt\")\n",
        "# # Save the discriminator state dict\n",
        "# torch.save(discriminator.state_dict(), path + \"discriminator_state_dict.pt\")"
      ]
    }
  ],
  "metadata": {
    "accelerator": "GPU",
    "colab": {
      "gpuType": "A100",
      "machine_shape": "hm",
      "provenance": []
    },
    "kernelspec": {
      "display_name": "Python 3",
      "name": "python3"
    },
    "language_info": {
      "codemirror_mode": {
        "name": "ipython",
        "version": 3
      },
      "file_extension": ".py",
      "mimetype": "text/x-python",
      "name": "python",
      "nbconvert_exporter": "python",
      "pygments_lexer": "ipython3",
      "version": "3.10.12"
    }
  },
  "nbformat": 4,
  "nbformat_minor": 0
}
