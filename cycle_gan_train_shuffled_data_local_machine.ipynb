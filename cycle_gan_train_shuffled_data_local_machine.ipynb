{
  "cells": [
    {
      "cell_type": "markdown",
      "metadata": {
        "colab_type": "text",
        "id": "view-in-github"
      },
      "source": [
        "<a href=\"https://colab.research.google.com/github/jjaw89/spring_2025_dl_audio_project/blob/main/cycle_gan_train_shuffled_data_local_machine.ipynb\" target=\"_parent\"><img src=\"https://colab.research.google.com/assets/colab-badge.svg\" alt=\"Open In Colab\"/></a>"
      ]
    },
    {
      "cell_type": "markdown",
      "metadata": {
        "id": "4qxrWZHYxV36"
      },
      "source": [
        "Here we train our first version of the GAN.\n",
        "\n"
      ]
    },
    {
      "cell_type": "markdown",
      "metadata": {
        "id": "vARIOK_HxV36"
      },
      "source": [
        "## Initialize Wave-U-Net\n",
        "\n",
        "We start by loading the necessary packages\n",
        "\n",
        "Wave-U-Net is named ``generator``"
      ]
    },
    {
      "cell_type": "code",
      "execution_count": null,
      "metadata": {
        "id": "IZW_oS5ciVzd"
      },
      "outputs": [],
      "source": [
        "\n"
      ]
    },
    {
      "cell_type": "code",
      "execution_count": 1,
      "metadata": {
        "colab": {
          "base_uri": "https://localhost:8080/"
        },
        "id": "f_3vGK4LxV37",
        "outputId": "4c8e7d94-c660-48dd-a5f0-db4f2813ecc5"
      },
      "outputs": [
        {
          "name": "stderr",
          "output_type": "stream",
          "text": [
            "/usr/local/lib/python3.10/dist-packages/torch/utils/_pytree.py:185: FutureWarning: optree is installed but the version is too old to support PyTorch Dynamo in C++ pytree. C++ pytree support is disabled. Please consider upgrading optree using `python3 -m pip install --upgrade 'optree>=0.13.0'`.\n",
            "  warnings.warn(\n"
          ]
        },
        {
          "name": "stdout",
          "output_type": "stream",
          "text": [
            "GPU: NVIDIA GeForce RTX 4090\n"
          ]
        }
      ],
      "source": [
        "# === Check to see if we are in colab ===\n",
        "import sys\n",
        "\n",
        "if 'google.colab' in sys.modules:\n",
        "    colab = True\n",
        "else:\n",
        "    colab = False\n",
        "if colab:\n",
        "    from google.colab import drive\n",
        "    drive.mount('/content/drive')\n",
        "#    !{sys.executable} -m pip install musdb\n",
        "    %cd /content/drive/My\\ Drive/git_projects/spring_2025_dl_audio_project\n",
        "\n",
        "# === Built-in modules ===\n",
        "import os\n",
        "import time\n",
        "import argparse\n",
        "import pickle\n",
        "from functools import partial\n",
        "from datetime import datetime\n",
        "from typing import Tuple, List, Dict, Optional\n",
        "\n",
        "# === Third-party modules ===\n",
        "import numpy as np\n",
        "import pandas as pd\n",
        "import librosa\n",
        "import torchaudio\n",
        "import matplotlib.pyplot as plt\n",
        "from tqdm import tqdm\n",
        "\n",
        "# === PyTorch ===\n",
        "import torch\n",
        "import torch.nn as nn\n",
        "import torch.nn.functional as F\n",
        "import torch.optim as optim\n",
        "from torch.nn import L1Loss\n",
        "from torch.nn.utils import spectral_norm\n",
        "from torch.optim import Adam\n",
        "from torch.utils.data import Dataset, DataLoader\n",
        "from torch.utils.tensorboard import SummaryWriter\n",
        "from torchsummary import summary\n",
        "\n",
        "\n",
        "\n",
        "# === Colab-specific installation (only run if in Colab) ===\n",
        "if colab:\n",
        "    !pip install sktime\n",
        "    !{sys.executable} -m pip install musdb\n",
        "    !{sys.executable} -m pip uninstall -y stempeg  # musdb installs the wrong version of stempeg\n",
        "\n",
        "# === Audio/MIR ===\n",
        "if colab:\n",
        "  %cd /content/drive/My Drive/git_projects/\n",
        "import stempeg\n",
        "import musdb\n",
        "\n",
        "# === Time series transforms ===\n",
        "from sktime.transformations.panel.rocket import MiniRocketMultivariate\n",
        "\n",
        "if colab:\n",
        "  %cd /content/drive/My\\ Drive/git_projects/spring_2025_dl_audio_project/Wave-U-Net-Pytorch\n",
        "\n",
        "# === Local module imports ===\n",
        "if not colab:\n",
        "  sys.path.append('Wave-U-Net-Pytorch')\n",
        "  sys.path.append(\"workspace/hdd_project_data\")\n",
        "\n",
        "\n",
        "import model.utils as model_utils\n",
        "import utils\n",
        "from model.waveunet import Waveunet\n",
        "\n",
        "# === Device setup ===\n",
        "cuda = torch.cuda.is_available()\n",
        "if cuda:\n",
        "    device = torch.device('cuda')\n",
        "    print(\"GPU:\", torch.cuda.get_device_name(0))\n",
        "else:\n",
        "    raise Exception(\"GPU not available. Please check your setup.\")\n"
      ]
    },
    {
      "cell_type": "markdown",
      "metadata": {
        "id": "mjCddsoTxV39"
      },
      "source": [
        "## Initialize miniRocket\n",
        "We start by loading the necessary packages"
      ]
    },
    {
      "cell_type": "markdown",
      "metadata": {
        "id": "Hg5T7Os6xV39"
      },
      "source": [
        "### CPU Core Allocation for MiniRocketMultivariate\n",
        "\n",
        "- The implementation of `MiniRocketMultivariate` runs on the **CPU**.\n",
        "- We need to decide how many cores to allocate for it.\n",
        "- Some cores will be used by MiniRocket itself, while others are needed for data preparation (e.g., generating spectrograms).\n",
        "- This allocation likely needs to be **tuned for optimal performance**.\n",
        "- As a starting point, we detect the number of available cores and split them evenly.\n",
        "- Note: We avoid using *all* available cores to leave some resources for the operating system and other background processes.\n"
      ]
    },
    {
      "cell_type": "markdown",
      "metadata": {
        "id": "X6ZXiPhWxV39"
      },
      "source": [
        "Create the MiniRocket model"
      ]
    },
    {
      "cell_type": "code",
      "execution_count": 2,
      "metadata": {
        "id": "NhG7_-VlxV39"
      },
      "outputs": [],
      "source": [
        "\n",
        "\n",
        "# MiniRocket Discriminator using tsai library\n",
        "class TsaiMiniRocketDiscriminator(nn.Module):\n",
        "    def __init__(\n",
        "        self,\n",
        "        freq_bins=256,\n",
        "        time_frames=256,\n",
        "        num_kernels=10000,  # number of convolutional kernels\n",
        "        hidden_dim=1024,    # Increased to handle larger feature dimension\n",
        "        output_dim=1,\n",
        "        accompaniment = True   # whether or not we feed accompaniment\n",
        "    ):\n",
        "        super(TsaiMiniRocketDiscriminator, self).__init__()\n",
        "\n",
        "        # This is the mini rocket transformer which extracts features\n",
        "        self.rocket = MiniRocketMultivariate(num_kernels=num_kernels, n_jobs=minirocket_n_jobs)\n",
        "        # tsai's miniRocketClassifier is implemented with MiniRocketMultivariate as well\n",
        "        self.fitted = False   # fit before training\n",
        "        self.freq_bins = freq_bins\n",
        "        self.time_frames = time_frames\n",
        "        self.num_kernels = num_kernels\n",
        "        self.accompaniment = accompaniment\n",
        "\n",
        "        # For 2D data handling - process each sample with proper dimensions\n",
        "        self.example_input = np.zeros((1, freq_bins, time_frames))\n",
        "\n",
        "        self.feature_dim = num_kernels  # For vocals + accompaniment\n",
        "\n",
        "        if self.accompaniment:\n",
        "          classifier_input_dim = 19992\n",
        "        else:\n",
        "          classifier_input_dim = 9996\n",
        "\n",
        "        # Example feature reducing layers\n",
        "        self.classifier = nn.Sequential(\n",
        "            # First reduce the massive dimension to something manageable\n",
        "            nn.Dropout(0.3),\n",
        "            spectral_norm(nn.Linear(classifier_input_dim, hidden_dim)),\n",
        "            nn.LeakyReLU(0.2),\n",
        "            nn.Dropout(0.3),\n",
        "\n",
        "            # Second hidden layer\n",
        "            nn.Dropout(0.3),\n",
        "            spectral_norm(nn.Linear(hidden_dim, hidden_dim // 2)),\n",
        "            nn.LeakyReLU(0.2),\n",
        "            nn.Dropout(0.3),\n",
        "\n",
        "            # Final classification layer\n",
        "            nn.Dropout(0.3),\n",
        "            nn.Linear(hidden_dim // 2, output_dim),\n",
        "            nn.Sigmoid()\n",
        "            # nn.Tanh()\n",
        "        )\n",
        "        #         # Example feature reducing layers\n",
        "        # self.classifier = nn.Sequential(\n",
        "        #     # First reduce the massive dimension to something manageable\n",
        "        #     nn.Linear(19992, hidden_dim),\n",
        "        #     nn.LeakyReLU(0.2),\n",
        "        #     nn.Dropout(0.3),\n",
        "\n",
        "        #     # Second hidden layer\n",
        "        #     nn.Linear(hidden_dim, hidden_dim // 2),\n",
        "        #     nn.LeakyReLU(0.2),\n",
        "        #     nn.Dropout(0.3),\n",
        "\n",
        "        #     # Final classification layer\n",
        "        #     nn.Linear(hidden_dim // 2, output_dim),\n",
        "        #     nn.Sigmoid()\n",
        "        # )\n",
        "\n",
        "    def fit_rocket(self, spectrograms):\n",
        "        \"\"\"\n",
        "            Fit MiniRocket with just one piece of vocal training data (not the entire training dataset)\n",
        "        \"\"\"\n",
        "        if not self.fitted:\n",
        "            try:\n",
        "                # Reshape for MiniRocket - it expects (n_instances, n_dimensions, series_length)\n",
        "                # flatten the freq_bins dimension to create a multivariate time series\n",
        "                batch_size = spectrograms.shape[0]\n",
        "\n",
        "                # Convert first to numpy for sktime processing\n",
        "                sample_data = spectrograms.detach().cpu().numpy()\n",
        "                # print(sample_data.shape)\n",
        "                # Reshape to sktime's expected format - reduce to single sample for fitting\n",
        "                # sample_data = sample_data[:, 0]  # Take one sample, remove channel dim\n",
        "\n",
        "                # Fit on this sample\n",
        "                self.rocket.fit(sample_data)\n",
        "                self.fitted = True\n",
        "\n",
        "                # Test transform to get feature dimension\n",
        "                test_transform = self.rocket.transform(sample_data)\n",
        "                self.feature_dim = test_transform.shape[1]\n",
        "\n",
        "                print(f\"MiniRocket fitted. Feature dimension: {self.feature_dim}\")\n",
        "\n",
        "            except Exception as e:\n",
        "                print(f\"Error fitting MiniRocket: {e}\")\n",
        "                # Use a fallback if fitting fails\n",
        "                self.fitted = True  # Mark as fitted to avoid repeated attempts\n",
        "\n",
        "    def extract_features(self, spectrogram):\n",
        "        \"\"\"Extract MiniRocket features from a spectrogram\"\"\"\n",
        "        try:\n",
        "            # Ensure rocket is fitted\n",
        "            if not self.fitted:\n",
        "                self.fit_rocket(spectrogram)\n",
        "\n",
        "            # Convert to numpy for sktime\n",
        "            spec_np = spectrogram.detach().cpu().numpy()\n",
        "\n",
        "            # Remove channel dimension expected by sktime\n",
        "            # print(spec_np.shape)\n",
        "            # spec_np = spec_np[:, 0]  # [batch_size, freq_bins, time_frames]\n",
        "            # print(spec_np.shape)\n",
        "\n",
        "            # This step extracts features using the convolutional kernels, numbers specified by num_kernels\n",
        "            # print(\"1\")\n",
        "            features = self.rocket.transform(spec_np)\n",
        "            # print(\"2\")\n",
        "            # Convert back to torch tensor\n",
        "            # print(\"features:\", features.shape)\n",
        "            # print(features.head())\n",
        "            features_tensor = torch.tensor(features.values).to(spectrogram.device)\n",
        "            # print(\"features:\", features.shape)\n",
        "            # print(\"3\")\n",
        "            return features_tensor\n",
        "\n",
        "        except Exception as e:\n",
        "            print(f\"Error in feature extraction: {e}\")\n",
        "            # Return zeros as fallback\n",
        "            return torch.zeros((spectrogram.shape[0], self.num_kernels),\n",
        "                              device=spectrogram.device)\n",
        "\n",
        "    def forward(self, vocals, accompaniment = None):\n",
        "        \"\"\"\n",
        "        Forward pass of the discriminator\n",
        "\n",
        "        Args:\n",
        "            vocals: Spectrograms of shape [batch_size, channels, freq_bins, time_frames]\n",
        "            accompaniment: Spectrograms of shape [batch_size, channels, freq_bins, time_frames]\n",
        "        \"\"\"\n",
        "        # Extract features from both spectrograms\n",
        "        # start_time = time()\n",
        "        vocal_features = self.extract_features(vocals)\n",
        "\n",
        "        if self.accompaniment:\n",
        "          accomp_features = self.extract_features(accompaniment)\n",
        "          # print(\"extract:\", time()-start_time)\n",
        "          # Concatenate features (conditional GAN)\n",
        "          output_features = torch.cat([vocal_features, accomp_features], dim=1)\n",
        "          # print(combined_features.size())\n",
        "        else:\n",
        "          output_features = vocal_features\n",
        "\n",
        "        # Classify as real/fake\n",
        "        # print(combined_features.size())\n",
        "        validity = self.classifier(output_features)\n",
        "\n",
        "        return validity\n",
        "\n"
      ]
    },
    {
      "cell_type": "markdown",
      "metadata": {
        "id": "YEaNx9F0Hnwa"
      },
      "source": [
        "# Import Data into Session\n",
        "\n",
        "First, we run the code that defines the custom Dataset objects. The Datasets were compiled previously and saved in .pt files. In the next cell, we load those Dataset objects."
      ]
    },
    {
      "cell_type": "code",
      "execution_count": 3,
      "metadata": {
        "colab": {
          "base_uri": "https://localhost:8080/"
        },
        "id": "bpu-Q2zGxV39",
        "outputId": "68595262-cac8-4869-bd1e-de31db9a3890"
      },
      "outputs": [],
      "source": [
        "if colab:\n",
        "  %cd /content/drive/My Drive/git_projects/spring_2025_dl_audio_projects\n",
        "else:\n",
        "  sys.path.append('/workspace/hdd_project_data/stempeg')\n",
        "\n",
        "import stempeg\n",
        "\n",
        "\n",
        "class MusdbDataset(Dataset):\n",
        "\n",
        "  def __init__(self, musDB, window_size = 256, step_size = 128):\n",
        "    self.mel_specs = torch.zeros(1, 2, 128, window_size)\n",
        "    self.sample_rates = torch.tensor([0])\n",
        "\n",
        "    num_songs = 0\n",
        "\n",
        "    for track in musDB:\n",
        "      stems, rate = track.stems, track.rate\n",
        "\n",
        "      num_songs += 1\n",
        "\n",
        "      # separate the vocal from other instruments and conver to mono signal\n",
        "      audio_novocal = librosa.to_mono(np.transpose(stems[1] + stems[2] + stems[3]))\n",
        "      audio_vocal = librosa.to_mono(np.transpose(stems[4]))\n",
        "\n",
        "      # compute log mel spectrogram and convert to pytorch tensor\n",
        "      logmelspec_novocal = torch.from_numpy(self._mel_spectrogram(audio_novocal, rate))\n",
        "      logmelspec_vocal = torch.from_numpy(self._mel_spectrogram(audio_vocal, rate))\n",
        "\n",
        "      start_ndx = 0\n",
        "\n",
        "      for step in range(window_size // step_size):\n",
        "        cropped_logmelspec_novocal = logmelspec_novocal[:, start_ndx:]\n",
        "        cropped_logmelspec_vocal = logmelspec_vocal[:, start_ndx:]\n",
        "        num_slices = cropped_logmelspec_novocal.shape[1] // window_size\n",
        "\n",
        "        # chop off the last bit so that number of stft steps is a multiple of window_size\n",
        "        cropped_logmelspec_novocal = cropped_logmelspec_novocal[: , 0:num_slices*window_size]\n",
        "        cropped_logmelspec_vocal = cropped_logmelspec_vocal[:, 0:num_slices*window_size]\n",
        "\n",
        "        # reshape tensors into chunks of size 128x(window_size)\n",
        "        # first dimension is number of chunks\n",
        "        cropped_logmelspec_novocal = torch.transpose(torch.reshape(cropped_logmelspec_novocal, (128, num_slices, window_size)), 0, 1)\n",
        "        cropped_logmelspec_vocal = torch.transpose(torch.reshape(cropped_logmelspec_vocal, (128, num_slices, window_size)), 0, 1)\n",
        "\n",
        "        # unsqueeze and concatenate these tensors. Then concatenate to the big tensor\n",
        "        logmels = torch.cat((cropped_logmelspec_novocal.unsqueeze(1), cropped_logmelspec_vocal.unsqueeze(1)), 1)\n",
        "        self.mel_specs = torch.cat((self.mel_specs, logmels), 0)\n",
        "        self.sample_rates = torch.cat((self.sample_rates, torch.full((num_slices,), rate)), 0)\n",
        "\n",
        "        if num_songs % 5 == 0:\n",
        "          print(str(num_songs) + \" songs processed; produced \" + str(self.mel_specs.shape[0]) + \" spectrograms\")\n",
        "\n",
        "    # remove the all zeros slice that we initialized with\n",
        "    self.mel_specs = self.mel_specs[1: , : , : , :]\n",
        "    self.sample_rates = self.sample_rates[1:]\n",
        "\n",
        "  def __len__(self):\n",
        "    return self.mel_specs.shape[0]\n",
        "\n",
        "  def __getitem__(self, ndx):\n",
        "    # returns tuple (mel spectrogram of accompaniment, mel spectrogram of vocal, rate)\n",
        "    return self.mel_specs[ndx, 0], self.mel_specs[ndx, 1], self.sample_rates[ndx]\n",
        "\n",
        "  def _mel_spectrogram(self, audio, rate):\n",
        "    # compute the log-mel-spectrogram of the audio at the given sample rate\n",
        "    return librosa.power_to_db(librosa.feature.melspectrogram(y = audio, sr = rate))\n",
        "\n",
        "  def cat(self, other_ds):\n",
        "    self.mel_specs = torch.cat((self.mel_specs, other_ds.mel_specs), 0)\n",
        "    self.sample_rates = torch.cat((self.sample_rates, other_ds.sample_rates), 0)\n",
        "\n",
        "\n",
        "\n",
        "class SingingDataset(Dataset):\n",
        "\n",
        "  def __init__(self, musDB, window_size = 256, step_size = 128):\n",
        "    self.mel_specs = torch.zeros(1, 128, window_size)\n",
        "    self.sample_rates = torch.tensor([0])\n",
        "\n",
        "    num_songs = 0\n",
        "\n",
        "    for track in musDB:\n",
        "      stems, rate = track.stems, track.rate\n",
        "\n",
        "      num_songs += 1\n",
        "\n",
        "      # load the vocal\n",
        "      vocal = librosa.to_mono(np.transpose(stems[4]))\n",
        "\n",
        "      # compute log mel spectrogram and convert to pytorch tensor\n",
        "      mel_spec = torch.from_numpy(self._mel_spectrogram(vocal, rate))\n",
        "\n",
        "      start_ndx = 0\n",
        "      for step in range(window_size // step_size):\n",
        "        cropped_mel_spec = mel_spec[:, start_ndx:]\n",
        "        num_slices = cropped_mel_spec.shape[1] // window_size\n",
        "\n",
        "        # chop off the last bit so that number of stft steps is a multiple of window_size\n",
        "        cropped_mel_spec = cropped_mel_spec[:, 0:num_slices*window_size]\n",
        "\n",
        "        # reshape tensors into chunks of size 128x(window_size)\n",
        "        # first dimension is number of chunks\n",
        "        cropped_mel_spec = torch.transpose(torch.reshape(cropped_mel_spec, (128, num_slices, window_size)), 0, 1)\n",
        "\n",
        "        # concatenate to the big tensor\n",
        "        self.mel_specs = torch.cat((self.mel_specs, cropped_mel_spec), 0)\n",
        "        self.sample_rates = torch.cat((self.sample_rates, torch.full((num_slices,), rate)), 0)\n",
        "\n",
        "\n",
        "    if num_songs % 5 == 0:\n",
        "        print(str(num_songs) + \" songs processed; produced \" + str(self.mel_specs.shape[0]) + \" spectrograms\")\n",
        "\n",
        "    # remove the all zeros slice that we initialized with\n",
        "    self.mel_specs = self.mel_specs[1: , : , :]\n",
        "    self.sample_rates = self.sample_rates[1:]\n",
        "\n",
        "  def __len__(self):\n",
        "    return self.mel_specs.shape[0]\n",
        "\n",
        "  def __getitem__(self, ndx):\n",
        "    # returns tuple (mel spectrogram of accompaniment, mel spectrogram of vocal, rate)\n",
        "    return self.mel_specs[ndx], self.sample_rates[ndx]\n",
        "\n",
        "  def _mel_spectrogram(self, audio, rate):\n",
        "    # compute the log-mel-spectrogram of the audio at the given sample rate\n",
        "    return librosa.power_to_db(librosa.feature.melspectrogram(y = audio, sr = rate))\n",
        "\n",
        "\n",
        "\n",
        "class LibriSpeechDataset(Dataset):\n",
        "\n",
        "    def __init__(self, path, window_size = 256, step_size = 128, num_specs = 7647*2):\n",
        "        self.mel_specs = self.mel_specs = torch.zeros(1, 128, window_size)\n",
        "        self.sample_rates = torch.tensor([0])\n",
        "\n",
        "        num_files_opened = 0\n",
        "\n",
        "        for speaker_dir in os.listdir(path):\n",
        "            speaker_path = path + \"/\" + speaker_dir\n",
        "            for chapter_dir in os.listdir(speaker_path):\n",
        "                chapter_path = speaker_path + \"/\" + chapter_dir\n",
        "                for file in os.listdir(chapter_path):\n",
        "                    # checks file extension and stops when we hit desired number of spectrograms (num_specs)\n",
        "                    if file.endswith('.flac') and self.mel_specs.shape[0] - 1 < num_specs:\n",
        "                        # get audio file and convert to log mel spectrogram\n",
        "                        speech, rate = librosa.load(chapter_path + \"/\" + file, sr = 44100)\n",
        "                        mel_spec = torch.from_numpy(self._mel_spectrogram(speech, rate))\n",
        "                        start_ndx = 0\n",
        "\n",
        "                        num_files_opened += 1\n",
        "\n",
        "                        for step in range(window_size // step_size):\n",
        "                            cropped_mel_spec = mel_spec[:, start_ndx:]\n",
        "\n",
        "                            # Saves the total number of 128 x (window_size) spectrograms\n",
        "                            num_slices = cropped_mel_spec.shape[1] // window_size\n",
        "\n",
        "                            # chop off the last bit so that number of stft steps is a multiple of window_size\n",
        "                            cropped_mel_spec = cropped_mel_spec[ : , 0 : num_slices*window_size]\n",
        "\n",
        "                            # reshape the tensor to have many spectrograms of size 128 x (steps)\n",
        "                            cropped_mel_spec = torch.transpose(torch.reshape(cropped_mel_spec, (128, num_slices, window_size)), 0, 1)\n",
        "\n",
        "                            # concatenate tensor to the full tensor in the Dataset object\n",
        "                            self.mel_specs = torch.cat((self.mel_specs, cropped_mel_spec), 0)\n",
        "                            self.sample_rates = torch.cat((self.sample_rates, torch.full((num_slices,), rate)), 0)\n",
        "\n",
        "                            # increment start_ndx\n",
        "                            start_ndx += step_size\n",
        "\n",
        "\n",
        "                        if num_files_opened % 50 == 0:\n",
        "                            print(\"opened \" + str(num_files_opened) + \" files and produced \" + str(self.mel_specs.shape[0]) + \" spectrograms\")\n",
        "\n",
        "\n",
        "        # chop off the zero layer we initialized with\n",
        "        self.mel_specs = self.mel_specs[1:]\n",
        "        self.sample_rates = self.sample_rates[1:]\n",
        "\n",
        "    def __len__(self):\n",
        "        return self.mel_specs.shape[0]\n",
        "\n",
        "    def __getitem__(self, ndx):\n",
        "        return self.mel_specs[ndx], self.sample_rates[ndx]\n",
        "\n",
        "    def _mel_spectrogram(self, audio, rate):\n",
        "        # compute the log-mel-spectrogram of the audio at the given sample rate\n",
        "        return librosa.power_to_db(librosa.feature.melspectrogram(y = audio, sr = rate))"
      ]
    },
    {
      "cell_type": "markdown",
      "metadata": {
        "id": "Peiksp9NuMGX"
      },
      "source": [
        "### Explore these datasets"
      ]
    },
    {
      "cell_type": "markdown",
      "metadata": {
        "id": "OK8WbDmTjkNH"
      },
      "source": [
        "## Dataset Helpers Explanation\n",
        "Why New Dataset Helpers?\n",
        "\n",
        "We have created new dataset helper classes (i.e., AccompanimentData, VocalData, and SpeechData) so that we can control how the data is padded and later shuffled.\n",
        "\n",
        "- **Separation of Data:**\n",
        "We separated the vocal and accompaniment data from the MusDB dataset. In our experiments, we might want to shuffle the speech data independently of the combined music data.\n",
        "\n",
        "- **Shuffling Considerations:**\n",
        "For the vocal and accompaniment data, we want to maintain their pairing so that they are shuffled in the same order. In contrast, we want the speech data to be shuffled independently.\n",
        "\n",
        "- **Future Extensions:**\n",
        "In the future, we may add another helper class that combines the vocal and accompaniment data to ensure synchronized shuffling in our data loaders.\n",
        "\n",
        "This modular approach gives us flexibility in handling and preprocessing the data for our GAN training."
      ]
    },
    {
      "cell_type": "code",
      "execution_count": 4,
      "metadata": {
        "id": "O7OGNnS8XMVd"
      },
      "outputs": [],
      "source": [
        "class AccompanimentVocalData(Dataset):\n",
        "  def __init__(self, musdb_dataset, output_length = 289):\n",
        "    self.musdb = musdb_dataset\n",
        "    self.out_len = output_length\n",
        "\n",
        "  def __len__(self):\n",
        "    return len(self.musdb)\n",
        "\n",
        "  def __getitem__(self, ndx):\n",
        "    acc, voc, _ = self.musdb[ndx]\n",
        "    delta = self.out_len - acc.size(-1)\n",
        "\n",
        "    if delta > 0:\n",
        "      # Half the remainder goes to the front\n",
        "      left_pad_len = (delta // 2) + (delta % 2)  # 17\n",
        "      right_pad_len = delta // 2                # 16\n",
        "      acc_pad = F.pad(acc, (left_pad_len, right_pad_len), \"constant\", 0)\n",
        "      voc_pad = F.pad(voc, (left_pad_len, right_pad_len), \"constant\", 0)\n",
        "\n",
        "    return {\"acc_no_pad\" : acc,\n",
        "            \"voc_no_pad\" : voc,\n",
        "            \"acc_pad\": acc_pad,\n",
        "            \"voc_pad\" : voc_pad}\n",
        "\n",
        "class SpeechData(Dataset):\n",
        "    def __init__(self, librispeech_dataset, output_length=289):\n",
        "        self.librispeech_dataset = librispeech_dataset\n",
        "        self.output_length = output_length\n",
        "\n",
        "    def __len__(self):\n",
        "        return len(self.librispeech_dataset)\n",
        "\n",
        "    def __getitem__(self, index):\n",
        "        speech, _ = self.librispeech_dataset[index]\n",
        "        # If speech has multiple slices, pick the first slice\n",
        "        if speech.dim() == 3:\n",
        "            speech = speech[0]  # shape: [128, 256]\n",
        "        current_len = speech.size(-1)\n",
        "        delta = self.output_length - current_len\n",
        "\n",
        "        if delta > 0:\n",
        "            left_pad_len = (delta // 2) + (delta % 2)\n",
        "            right_pad_len = delta // 2\n",
        "            speech_pad = F.pad(speech, (left_pad_len, right_pad_len), \"constant\", 0)\n",
        "        return {\"no_pad\" : speech, \"pad\" : speech_pad}\n",
        "\n",
        "def transform_for_gen_2(batch, output_length = 289):\n",
        "  current_len = batch.size(-1)\n",
        "  delta = output_length - current_len\n",
        "\n",
        "  if delta > 0:\n",
        "      left_pad_len = (delta // 2) + (delta % 2)\n",
        "      right_pad_len = delta // 2\n",
        "      batch = F.pad(batch, (left_pad_len, right_pad_len), \"constant\", 0)\n",
        "  return batch\n",
        "\n"
      ]
    },
    {
      "cell_type": "markdown",
      "metadata": {
        "id": "suMDmB62yS_N"
      },
      "source": [
        "### DataLoader Explanation\n",
        "What is a DataLoader and Why Do We Need It?\n",
        "\n",
        "A DataLoader in PyTorch is a utility that wraps a dataset and provides:\n",
        "\n",
        "- **Batching:** It divides your dataset into batches so that you can train your models with mini-batch gradient descent.\n",
        "\n",
        "- **Shuffling:** It shuffles the data at every epoch (if specified) to help reduce overfitting and ensure the model sees a diverse set of examples.\n",
        "\n",
        "- **Parallel Data Loading:** It can load data in parallel using multiple worker processes, speeding up training.\n",
        "\n",
        "In our case, we create separate DataLoaders for:\n",
        "\n",
        "- The accompaniment data (paired with vocals) from the MusDB dataset.\n",
        "\n",
        "- The vocal data (paired with accompaniment) from the MusDB dataset.\n",
        "\n",
        "- The speech data from the LibriSpeech dataset.\n",
        "\n",
        "This lets us shuffle the speech data independently, while keeping the vocal/accompaniment pairs synchronized during training."
      ]
    },
    {
      "cell_type": "code",
      "execution_count": 5,
      "metadata": {
        "id": "vLcvcILSlW3C"
      },
      "outputs": [],
      "source": [
        "\n",
        "\n",
        "# # Print how many batches each DataLoader contains\n",
        "# print(\"Accompaniment loader length:\", len(accompaniment_loader))\n",
        "# print(\"Vocal loader length:\", len(vocal_loader))\n",
        "# print(\"Speech loader length:\", len(speech_loader))\n",
        "\n",
        "# # Optionally, fetch and print the shape of the first batch\n",
        "# accompaniment_batch = next(iter(accompaniment_loader))\n",
        "# vocal_batch = next(iter(vocal_loader))\n",
        "# speech_batch = next(iter(speech_loader))\n",
        "# print(accompaniment_batch[\"pad\"])\n",
        "\n",
        "# print(\"Accompaniment first batch shape:\", accompaniment_batch.shape)\n",
        "# print(\"Vocal first batch shape:\", vocal_batch.shape)\n",
        "# print(\"Speech first batch shape:\", speech_batch.shape)\n"
      ]
    },
    {
      "cell_type": "markdown",
      "metadata": {
        "id": "3xUqt-HDRxKB"
      },
      "source": [
        "## Second Generator Model\n",
        "Here we initialize the second generator model whose purpose is to convert the generated vocals back to normal speach for the cycle GAN. We again use Wave-U-Net, but with a different configuration. The main difference is that we will not input the music along with the vocal track."
      ]
    },
    {
      "cell_type": "code",
      "execution_count": null,
      "metadata": {
        "id": "3Ql5ZsesRvvd"
      },
      "outputs": [],
      "source": []
    },
    {
      "cell_type": "markdown",
      "metadata": {
        "id": "hd1FQ3ZdSymH"
      },
      "source": [
        "## Transform Input to generator_2\n",
        "\n",
        "The output of the generator model is a (batch_size, 128, 257) tensor. The model expects a tensor of size (batch_size, 128, 289). We need to pad the last dimension with 16 zeros on each size."
      ]
    },
    {
      "cell_type": "code",
      "execution_count": null,
      "metadata": {
        "id": "rQn9K5nVSu-c"
      },
      "outputs": [],
      "source": []
    },
    {
      "cell_type": "markdown",
      "metadata": {
        "id": "2jg9I_4qxV3-"
      },
      "source": [
        "## Train the Cycle GAN\n",
        "The models are ``generator`` and ``discriminator`` and ``generator_2``.\n"
      ]
    },
    {
      "cell_type": "code",
      "execution_count": 6,
      "metadata": {
        "id": "f3MBnVQYjpBB"
      },
      "outputs": [],
      "source": [
        "##### Code to convert spectrograms to audio and play audio ######\n",
        "\n",
        "import IPython.display as ipd\n",
        "def convert_to_audio(mel_spectrograms, n_fft=2048, hop_length=512, power=2.0, n_iter=32):\n",
        "    audio_files = []\n",
        "    sr = 44100\n",
        "\n",
        "    for mel_spec in mel_spectrograms:\n",
        "        # Convert Mel spectrogram back to linear spectrogram\n",
        "        # mel_s\n",
        "        mel_spec = mel_spec.detach().cpu().numpy() # Remove batch dimension\n",
        "        print(mel_spec)\n",
        "        # print(mel_spec.shape)\n",
        "        linear_spec = librosa.feature.inverse.mel_to_stft(\n",
        "            mel_spec, sr=sr, n_fft=n_fft, power=power\n",
        "        )\n",
        "\n",
        "        # Apply Griffin-Lim algorithm for phase reconstruction\n",
        "        audio = librosa.griffinlim(\n",
        "            linear_spec, hop_length=hop_length, n_iter=n_iter\n",
        "        )\n",
        "        print(audio)\n",
        "        audio_files.append(audio)\n",
        "        # break\n",
        "\n",
        "    return audio_files\n",
        "\n",
        "def display_audio(audio_file):\n",
        "    # y, sr = librosa.load(audio_file, sr=44100)\n",
        "    ipd.display(ipd.Audio(audio_file, rate=44100))"
      ]
    },
    {
      "cell_type": "markdown",
      "metadata": {
        "id": "wH5IRnDiMlFm"
      },
      "source": [
        "# A Different Architecture\n",
        "\n",
        "The code below defines a training loop with a slightly different cycle GAN architecture. In this model, we have\n",
        "- generator_1 - a Wave-U-Net model trained to accept speech and an accompaniment to produce a fake vocal performance\n",
        "- generator_2 - a Wave-U-Net model trained to acced singing and produce fake speech\n",
        "- discriminator_1 - a MiniRocket classifier that determines real vs fake vocal performances\n",
        "- discriminator_2 - a MiniRocket classifier that determines real vs fake speech.\n",
        "\n",
        "The training loop iterates the following process on a triple of (vocal, accompaniment, and speech).\n",
        "\n",
        "\n",
        "A. Speech + Accompaniment --> Vocal --> Reconstructed Speech\n",
        "1.   Feed the speech and accompaniment into generator_1 to produce a fake vocal\n",
        "2.   discriminator_1 distinguishes between real vocals and the output of generator_1\n",
        "3.   generator_2 takes the fake singing output and generates reconstructed speech\n",
        "4.   Compute L_1 loss between the input speech and the reconstructed speech\n",
        "\n",
        "B. Vocal --> Fake Speech + Real Accompaniment --> Reconstructed Vocal\n",
        "\n",
        "\n",
        "1. A real vocal is fed into generator_2 which produces fake speech (the corresponding accompaniment is used later)\n",
        "2. discriminator_2 distinguishes between real speech and the fake speech produced by generator_2\n",
        "3. generator_1 takes the fake speech and the real accompaniment and produces a reconstructed vocal\n",
        "4. Compute L_1 loss between input vocal and the reconstructed vocal\n",
        "\n"
      ]
    },
    {
      "cell_type": "code",
      "execution_count": 7,
      "metadata": {
        "id": "mTZRQAwjWGFr"
      },
      "outputs": [],
      "source": [
        "# # ----- Single Epoch Training Function -----\n",
        "# def cycle_train_epoch(\n",
        "#     generator_vocal,\n",
        "#     generator_speech,\n",
        "#     discriminator_vocal,\n",
        "#     discriminator_speech,\n",
        "#     optimizer_GV,\n",
        "#     optimizer_GS,\n",
        "#     optimizer_DV,\n",
        "#     optimizer_DS,\n",
        "#     accompaniment_loader,\n",
        "#     vocal_loader,\n",
        "#     speech_loader,\n",
        "#     l1_loss,\n",
        "#     lambda_l1,\n",
        "#     lambda_cycle,\n",
        "#     adversarial_loss,\n",
        "#     device,\n",
        "#     virtual_batch_size,\n",
        "#     clip_length,\n",
        "#     input_size_generators,\n",
        "#     save_output=False,\n",
        "#     smart_discriminator=False\n",
        "# ):\n",
        "#     total_loss_DV = total_loss_DS = total_loss_GV = total_loss_GS = 0\n",
        "#     total_loss_GV_adv = total_loss_GS_adv = total_loss_cycle_vocal = total_loss_cycle_speech = 0.0\n",
        "#     # Optionally record gradient norms per batch for diagnosing vanishing gradients.\n",
        "#     grad_norms_DV = []\n",
        "#     grad_norms_DS = []\n",
        "#     grad_norms_GV = []\n",
        "#     grad_norms_GS = []\n",
        "#     num_batches = 0\n",
        "\n",
        "#     # ---- batch loop ----\n",
        "#     for ((accomp, voc), speech) in tqdm(\n",
        "#         zip(zip(accompaniment_loader, vocal_loader), speech_loader),\n",
        "#         desc=\"Training Batches\"\n",
        "#     ):\n",
        "#         # Move data to device\n",
        "#         x_acc = accomp[\"pad\"].float().to(device)       # [B,128,289]\n",
        "#         x_speech = speech[\"pad\"].float().to(device)    # [B,128,289]\n",
        "#         x_voc = voc[\"pad\"].float().to(device)\n",
        "#         x_in = torch.cat([x_speech, x_acc], dim=1)     # [B,256,289]\n",
        "\n",
        "#         # Discriminator real/fake labels\n",
        "#         B = x_acc.size(0)\n",
        "#         # real_labels = torch.ones(B, 1, device=device)\n",
        "#         # fake_labels = torch.zeros(B, 1, device=device)\n",
        "\n",
        "#         real_labels = torch.rand(B,1, device=device) * 0.2 + 0.8  # [0.8,1.0]\n",
        "#         fake_labels = torch.rand(B,1, device=device) * 0.2        # [0.0,0.2]\n",
        "\n",
        "#         # real_labels = torch.ones(B, 1, device=device)\n",
        "#         # fake_labels = -torch.ones(B, 1, device=device)\n",
        "\n",
        "#         # 1) Train disciminator_vocal\n",
        "#         optimizer_DV.zero_grad()\n",
        "#         acc_np = accomp[\"no_pad\"].float().to(device)\n",
        "#         voc_np = voc[\"no_pad\"].float().to(device)\n",
        "#         speech_np = speech[\"no_pad\"].float().to(device)\n",
        "\n",
        "#         pred_real = discriminator_vocal(voc_np, acc_np)\n",
        "#         loss_DV_real = adversarial_loss(pred_real, real_labels)\n",
        "\n",
        "#         raw_fake_vocal = generator_vocal(x_in)[\"vocal\"]\n",
        "#         fake_vocal = raw_fake_vocal.clone()\n",
        "#         fake_vocal_crop = torch.narrow(fake_vocal, 2, 0, clip_length).clone()\n",
        "\n",
        "#         pred_fake_vocal = discriminator_vocal(fake_vocal_crop, acc_np)\n",
        "#         loss_DV_fake = adversarial_loss(pred_fake_vocal, fake_labels)\n",
        "\n",
        "#         ################ I THINK WE ARE USING THE WRONG LOSS FUNCTION FOR ADVERSARIAL LOSS #########\n",
        "#         loss_DV = 0.5 * (loss_DV_real + loss_DV_fake)\n",
        "#         if loss_DV.item() > 0.5  or smart_discriminator:\n",
        "#             loss_DV.backward()\n",
        "#             optimizer_DV.step()\n",
        "\n",
        "#         # 2) Train GV\n",
        "#         if virtual_batch_size == 1:\n",
        "#             optimizer_GV.zero_grad()\n",
        "#             optimizer_GS.zero_grad()\n",
        "\n",
        "\n",
        "#         pred_for_GV = discriminator_vocal(fake_vocal, acc_np)\n",
        "#         loss_GV_adv = adversarial_loss(pred_for_GV, real_labels)\n",
        "\n",
        "\n",
        "#         # cycle‑consistency\n",
        "#         fake_vocal_pad = transform_for_gen_2(fake_vocal, input_size_generators)  # you must define this\n",
        "#         raw_rec_speech = generator_speech(fake_vocal_pad)[\"speech\"]\n",
        "#         rec_speech = raw_rec_speech.clone()\n",
        "#         rec_speech_crop = torch.narrow(rec_speech, 2, 0, clip_length).clone()\n",
        "\n",
        "\n",
        "#         loss_cycle_speech = l1_loss(rec_speech_crop, speech_np)\n",
        "\n",
        "#         # convex combination\n",
        "#         loss_GV = (loss_GV_adv + lambda_cycle * loss_cycle_speech) / (1 + lambda_cycle)\n",
        "#         loss_GV.backward()\n",
        "\n",
        "\n",
        "#         # 3) Train discriminator_speech\n",
        "#         optimizer_DS.zero_grad()\n",
        "#         # pred_real = discriminator_speech(speech_np, acc_np)\n",
        "#         pred_real_speech = discriminator_speech(speech_np)\n",
        "#         loss_DS_real = adversarial_loss(pred_real_speech, real_labels)\n",
        "\n",
        "#         raw_fake_speech = generator_speech(x_voc)[\"speech\"]\n",
        "#         fake_speech = raw_fake_speech.clone()\n",
        "#         fake_speech_crop = torch.narrow(fake_speech, 2, 0, clip_length).clone()\n",
        "\n",
        "#         # pred_fake_speech = discriminator_speech(fake_speech_crop, acc_np)\n",
        "#         pred_fake_speech = discriminator_speech(fake_speech_crop)\n",
        "#         loss_DS_fake = adversarial_loss(pred_fake_speech, fake_labels)\n",
        "\n",
        "#         loss_DS = 0.5 * (loss_DS_real + loss_DS_fake)\n",
        "#         if loss_DS.item() > 0.5 or smart_discriminator:\n",
        "#             loss_DS.backward()\n",
        "#             optimizer_DS.step()\n",
        "\n",
        "\n",
        "#         # 4) Train GS\n",
        "\n",
        "#         # pred_for_GS = discriminator_speech(fake_speech, acc_np)\n",
        "#         pred_for_GS = discriminator_speech(fake_speech)\n",
        "#         loss_GS_adv = adversarial_loss(pred_for_GS, real_labels)\n",
        "\n",
        "#         # cycle‑consistency\n",
        "#         fake_speech_pad = transform_for_gen_2(fake_speech, output_length=input_size_generators)  # you must define this\n",
        "#         fake_speech_with_acc = torch.cat([fake_speech_pad, x_acc], dim=1)\n",
        "#         raw_rec_vocal = generator_vocal(fake_speech_with_acc)[\"vocal\"]\n",
        "#         rec_vocal = raw_rec_vocal.clone()\n",
        "#         rec_vocal_crop = torch.narrow(rec_vocal, 2, 0, clip_length).clone()\n",
        "\n",
        "#         loss_cycle_vocal = l1_loss(rec_vocal_crop, voc_np)\n",
        "\n",
        "#         # convex combination\n",
        "#         loss_GS = (loss_GS_adv + lambda_cycle * loss_cycle_vocal) / (1 + lambda_cycle)\n",
        "#         loss_GS.backward()\n",
        "\n",
        "\n",
        "\n",
        "#         # Record discriminator gradient norms.\n",
        "#         grad_norm = 0.0\n",
        "#         count = 0\n",
        "#         for p in discriminator_vocal.parameters():\n",
        "#             if p.grad is not None:\n",
        "#                 grad_norm += p.grad.norm().item()\n",
        "#                 count += 1\n",
        "#         if count > 0:\n",
        "#             grad_norms_DV.append(grad_norm / count)\n",
        "\n",
        "#         grad_norm = 0.0\n",
        "#         count = 0\n",
        "#         for p in discriminator_speech.parameters():\n",
        "#             if p.grad is not None:\n",
        "#                 grad_norm += p.grad.norm().item()\n",
        "#                 count += 1\n",
        "#         if count > 0:\n",
        "#             grad_norms_DS.append(grad_norm / count)\n",
        "\n",
        "\n",
        "#         grad_norm = 0.0\n",
        "#         count = 0\n",
        "\n",
        "#         for p in generator_vocal.parameters():\n",
        "#             if p.grad is not None:\n",
        "#                 grad_norm += p.grad.norm().item()\n",
        "#                 count += 1\n",
        "#         if count > 0:\n",
        "#             grad_norms_GV.append(grad_norm / count)\n",
        "\n",
        "#         grad_norm = 0.0\n",
        "#         count = 0\n",
        "#         for p in generator_speech.parameters():\n",
        "#             if p.grad is not None:\n",
        "#                 grad_norm += p.grad.norm().item()\n",
        "#                 count += 1\n",
        "#         if count > 0:\n",
        "#             grad_norms_GS.append(grad_norm / count)\n",
        "\n",
        "\n",
        "\n",
        "\n",
        "#         if (num_batches + 1) % virtual_batch_size == 0:\n",
        "#             optimizer_GV.step()\n",
        "#             optimizer_GS.step()\n",
        "\n",
        "\n",
        "\n",
        "\n",
        "\n",
        "\n",
        "#         # Accumulate metrics\n",
        "#         total_loss_DV     += loss_DV.item()\n",
        "#         total_loss_DS     += loss_DS.item()\n",
        "#         total_loss_GV_adv  += loss_GV_adv.item()\n",
        "#         total_loss_GS_adv += loss_GS_adv.item()\n",
        "#         total_loss_cycle_vocal += loss_cycle_vocal.item()\n",
        "#         total_loss_cycle_speech += loss_cycle_speech.item()\n",
        "#         total_loss_GV      += loss_GV.item()\n",
        "#         total_loss_GS   += loss_GS.item()\n",
        "#         num_batches       += 1\n",
        "#         # audio_files = []\n",
        "#         # if save_output:\n",
        "#         #     fake_singing_list = [fake_crop[i] for i in range(fake_crop.shape[0])]\n",
        "#         #     audio_files = convert_to_audio(fake_singing_list)\n",
        "#     return {\n",
        "#         \"loss_DV\":      total_loss_DV / num_batches,\n",
        "#         \"loss_DS\":      total_loss_DS / num_batches,\n",
        "#         \"loss_GV\":      total_loss_GV / num_batches,\n",
        "#         \"loss_GS\":      total_loss_GS / num_batches,\n",
        "#         \"loss_GV_adv\":  total_loss_GV_adv / num_batches,\n",
        "#         \"loss_GS_adv\":  total_loss_GS_adv / num_batches,\n",
        "#         \"loss_cycle_vocal\":  total_loss_cycle_vocal / num_batches,\n",
        "#         \"loss_cycle_speech\":  total_loss_cycle_speech / num_batches,\n",
        "#         \"avg_grad_norm_DV\": sum(grad_norms_DV) / len(grad_norms_DV) if grad_norms_DV else 0.0,\n",
        "#         \"avg_grad_norm_DS\": sum(grad_norms_DS) / len(grad_norms_DS) if grad_norms_DS else 0.0,\n",
        "#         \"avg_grad_norm_GV\": sum(grad_norms_GV) / len(grad_norms_GV) if grad_norms_GV else 0.0,\n",
        "#         \"avg_grad_norm_GS\": sum(grad_norms_GS) / len(grad_norms_GS) if grad_norms_GS else 0.0\n",
        "#     }#, audio_files\n",
        "\n",
        "# # ----- Multi-Epoch Training Function -----\n",
        "# def cycle_train(\n",
        "#     generator_vocal,\n",
        "#     generator_speech,\n",
        "#     discriminator_vocal,\n",
        "#     discriminator_speech,\n",
        "#     optimizer_DV,\n",
        "#     optimizer_DS,\n",
        "#     optimizer_GV,\n",
        "#     optimizer_GS,\n",
        "#     accompaniment_loader,\n",
        "#     vocal_loader,\n",
        "#     speech_loader,\n",
        "#     l1_loss,\n",
        "#     lambda_l1,\n",
        "#     lambda_cycle,\n",
        "#     adversarial_loss,\n",
        "#     device,\n",
        "#     num_epochs,\n",
        "#     virtual_batch_size,\n",
        "#     log_dir,\n",
        "#     clip_length,\n",
        "#     input_size_generators,\n",
        "#     save_audio = True,\n",
        "#     smart_discriminator = False\n",
        "# ):\n",
        "#     writer = SummaryWriter(log_dir=log_dir)\n",
        "#     global_step = 0\n",
        "\n",
        "#     for epoch in range(num_epochs):\n",
        "#         save_audio = True if epoch == num_epochs-1 else False\n",
        "#         print(f\"\\n=== Epoch {epoch+1}/{num_epochs} ===\")\n",
        "#         epoch_metrics = cycle_train_epoch(\n",
        "#             generator_vocal,\n",
        "#             generator_speech,\n",
        "#             discriminator_vocal,\n",
        "#             discriminator_speech,\n",
        "#             optimizer_DV,\n",
        "#             optimizer_DS,\n",
        "#             optimizer_GV,\n",
        "#             optimizer_GS,\n",
        "#             accompaniment_loader,\n",
        "#             vocal_loader,\n",
        "#             speech_loader,\n",
        "#             l1_loss,\n",
        "#             lambda_l1,\n",
        "#             lambda_cycle,\n",
        "#             adversarial_loss,\n",
        "#             device,\n",
        "#             virtual_batch_size,\n",
        "#             clip_length,\n",
        "#             input_size_generators,\n",
        "#             save_output = save_audio,\n",
        "#             smart_discriminator = smart_discriminator\n",
        "#         )\n",
        "#         print(f\"Epoch {epoch+1} Metrics:\")\n",
        "#         print(f\"  Loss_DV:         {epoch_metrics['loss_DV']:.4f}\")\n",
        "#         print(f\"  Loss_DS:         {epoch_metrics['loss_DS']:.4f}\")\n",
        "#         # print(f\"  Loss_GV_total:   {epoch_metrics['loss_GV']:.4f}\")\n",
        "#         # print(f\"  Loss_GS_total:   {epoch_metrics['loss_GS']:.4f}\")\n",
        "#         print(f\"  Loss_GV_adv:     {epoch_metrics['loss_GV_adv']:.4f}\")\n",
        "#         print(f\"  Loss_GS_adv:     {epoch_metrics['loss_GS_adv']:.4f}\")\n",
        "#         print(f\"  Loss_Cycle Vocal:     {epoch_metrics['loss_cycle_vocal']:.4f}\")\n",
        "#         print(f\"  Loss_Cycle Speech:     {epoch_metrics['loss_cycle_speech']:.4f}\")\n",
        "#         print(f\"  Grad Norm DV:    {epoch_metrics['avg_grad_norm_DV']:.4f}\")\n",
        "#         print(f\"  Grad Norm DS:    {epoch_metrics['avg_grad_norm_DS']:.4f}\")\n",
        "#         print(f\"  Grad Norm GV:    {epoch_metrics['avg_grad_norm_GV']:.4f}\")\n",
        "#         print(f\"  Grad Norm GS:    {epoch_metrics['avg_grad_norm_GS']:.4f}\")\n",
        "\n",
        "#         # Log metrics to TensorBoard.\n",
        "#         writer.add_scalar(\"Loss/Discriminator\", epoch_metrics[\"loss_DV\"], epoch)\n",
        "#         # writer.add_scalar(\"Loss/Generator_total\", epoch_metrics[\"loss_G_total\"], epoch)\n",
        "#         writer.add_scalar(\"Loss/Generator_adversarial\", epoch_metrics[\"loss_GV_adv\"], epoch)\n",
        "#         # writer.add_scalar(\"Loss/Generator_L1\", epoch_metrics[\"loss_G_L1\"], epoch)\n",
        "#         writer.add_scalar(\"Loss/Cycle\", epoch_metrics[\"loss_cycle_vocal\"], epoch)\n",
        "#         writer.add_scalar(\"Gradients/Discriminator\", epoch_metrics[\"avg_grad_norm_DV\"], epoch)\n",
        "#         writer.add_scalar(\"Gradients/Generator\", epoch_metrics[\"avg_grad_norm_GV\"], epoch)\n",
        "\n",
        "#         global_step += 1\n",
        "\n",
        "#     writer.close()\n",
        "#     return #audio_files"
      ]
    },
    {
      "cell_type": "code",
      "execution_count": 8,
      "metadata": {
        "id": "y2_2Oqh9PPGK"
      },
      "outputs": [],
      "source": [
        "# ----- Single Epoch Training Function -----\n",
        "def cycle_train_epoch(\n",
        "    generator_vocal,\n",
        "    generator_speech,\n",
        "    discriminator_vocal,\n",
        "    discriminator_speech,\n",
        "    optimizer_DV,\n",
        "    optimizer_DS,\n",
        "    optimizer_GV,\n",
        "    optimizer_GS,\n",
        "    acc_voc_loader,\n",
        "    speech_loader,\n",
        "    l1_loss,\n",
        "    mse_loss,\n",
        "    lambda_l1,\n",
        "    lambda_cycle,\n",
        "    lambda_identity,\n",
        "    bce_loss,\n",
        "    device,\n",
        "    virtual_batch_size,\n",
        "    clip_length,\n",
        "    input_size_generators,\n",
        "    save_output=False,\n",
        "    smart_discriminator=False,\n",
        "    batch_size = 32\n",
        "\n",
        "):\n",
        "\n",
        "    total_loss_DV = total_loss_DS = total_loss_GV = total_loss_GS  = 0\n",
        "    total_loss_GV_identity = total_loss_GS_identity = 0\n",
        "    total_loss_adv_vocal = total_loss_adv_speech = total_loss_cycle_vocal = total_loss_cycle_speech = total_loss_GV_identity = total_loss_GS_identity =  0.0\n",
        "    # Optionally record gradient norms per batch for diagnosing vanishing gradients.\n",
        "    grad_norms_DV = []\n",
        "    grad_norms_DS = []\n",
        "    grad_norms_GV = []\n",
        "    grad_norms_GS = []\n",
        "    num_batches = 0\n",
        "\n",
        "\n",
        "    alpha = 0.9      # Tuneable constant to gate the discriminator training\n",
        "    running_loss_DV = 0.0\n",
        "    running_loss_DS = 0.0\n",
        "    dv_threshold = 0.6\n",
        "    ds_threshold = 0.6\n",
        "\n",
        "    optimizer_DV.zero_grad()\n",
        "    optimizer_DS.zero_grad()\n",
        "    optimizer_GV.zero_grad()\n",
        "    optimizer_GS.zero_grad()\n",
        "\n",
        "    # real_labels = torch.ones(batch_size, 1, device=device, requires_grad = False)\n",
        "    # fake_labels = torch.zeros(batch_size, 1, device=device, requires_grad = False)\n",
        "\n",
        "    num_DV_backwards = num_DS_backwards = 0\n",
        "\n",
        "    # ---- batch loop ----\n",
        "    for (acc_voc, speech) in tqdm(\n",
        "        zip(acc_voc_loader, speech_loader),\n",
        "        desc=\"Training Batches\"\n",
        "    ):\n",
        "        # Read in data\n",
        "        x_acc = acc_voc[\"acc_pad\"].float().to(device)       # [B,128,289]\n",
        "        x_voc = acc_voc[\"voc_pad\"].float().to(device)\n",
        "        x_speech = speech[\"pad\"].float().to(device)    # [B,128,289]\n",
        "        x_in = torch.cat([x_speech, x_acc], dim=1)     # [B,256,289]\n",
        "\n",
        "        real_labels = torch.ones(batch_size, 1, device=device, requires_grad = False)\n",
        "        fake_labels = torch.zeros(batch_size, 1, device=device, requires_grad = False)\n",
        "\n",
        "        ############ START COPIED CODE ######################\n",
        "        acc_np = acc_voc[\"acc_no_pad\"].float().to(device)\n",
        "        voc_np = acc_voc[\"voc_no_pad\"].float().to(device)\n",
        "        speech_np = speech[\"no_pad\"].float().to(device)\n",
        "\n",
        "        # Compute transformations with generators\n",
        "        raw_fake_vocal = generator_vocal(x_in)[\"vocal\"]\n",
        "        fake_vocal = raw_fake_vocal.clone()\n",
        "        fake_vocal_crop = torch.narrow(fake_vocal, 2, 0, clip_length).clone()\n",
        "\n",
        "        raw_fake_speech = generator_speech(x_voc)[\"speech\"]\n",
        "        fake_speech = raw_fake_speech.clone()\n",
        "        fake_speech_crop = torch.narrow(fake_speech, 2, 0, clip_length).clone()\n",
        "\n",
        "        # Generate reconstructed speech/vocal\n",
        "        fake_vocal_pad = transform_for_gen_2(fake_vocal, input_size_generators)  # you must define this\n",
        "        raw_rec_speech = generator_speech(fake_vocal_pad)[\"speech\"]\n",
        "        rec_speech = raw_rec_speech.clone()\n",
        "        rec_speech_crop = torch.narrow(rec_speech, 2, 0, clip_length).clone()\n",
        "\n",
        "        fake_speech_pad = transform_for_gen_2(fake_speech, input_size_generators)  # you must define this\n",
        "        fake_speech_with_acc = torch.cat([fake_speech_pad, x_acc], dim=1)\n",
        "        raw_rec_vocal = generator_vocal(fake_speech_with_acc)[\"vocal\"]\n",
        "        rec_vocal = raw_rec_vocal.clone()\n",
        "        rec_vocal_crop = torch.narrow(rec_vocal, 2, 0, clip_length).clone()\n",
        "\n",
        "        # Identity generation\n",
        "        identity_vocal = generator_vocal(torch.cat([x_voc, x_acc], dim=1))[\"vocal\"]\n",
        "        identity_vocal_crop = torch.narrow(identity_vocal, 2, 0, clip_length).clone()\n",
        "\n",
        "        identity_speech = generator_speech(x_speech)[\"speech\"]\n",
        "        identity_speech_crop = torch.narrow(identity_speech, 2, 0, clip_length).clone()\n",
        "\n",
        "        # Compute losses\n",
        "        pred_real_vocal = discriminator_vocal(voc_np, acc_np)\n",
        "        pred_fake_vocal_D = discriminator_vocal(fake_vocal_crop.detach(), acc_np)\n",
        "        pred_real_speech = discriminator_speech(speech_np)\n",
        "        pred_fake_speech_D = discriminator_speech(fake_speech_crop.detach())\n",
        "\n",
        "        loss_DV_fake = bce_loss(pred_fake_vocal_D, fake_labels)\n",
        "        loss_DV_real = bce_loss(pred_real_vocal, real_labels)\n",
        "        loss_DS_fake = bce_loss(pred_fake_speech_D, fake_labels)\n",
        "        loss_DS_real = bce_loss(pred_real_speech, real_labels)\n",
        "\n",
        "        # Minimizing adv losses is teaching the gens to trick the discs (labels are swapped)\n",
        "        pred_fake_vocal = discriminator_vocal(fake_vocal_crop, acc_np)\n",
        "        pred_fake_speech = discriminator_speech(fake_speech_crop)\n",
        "        loss_adv_vocal = mse_loss(pred_fake_vocal, real_labels)\n",
        "        loss_adv_speech = mse_loss(pred_fake_speech, real_labels)\n",
        "\n",
        "        loss_cycle_vocal = l1_loss(rec_vocal_crop, voc_np)\n",
        "        loss_cycle_speech = l1_loss(rec_speech_crop, speech_np)\n",
        "\n",
        "        loss_identity_vocal = l1_loss(identity_vocal_crop, voc_np)\n",
        "        loss_identity_speech = l1_loss(identity_speech_crop, speech_np)\n",
        "\n",
        "        # NOTE: COULD INCLUDE IDENTITY LOSS\n",
        "\n",
        "        loss_DV = 0.5 * (loss_DV_real + loss_DV_fake)\n",
        "        loss_DS = 0.5 * (loss_DS_real + loss_DS_fake)\n",
        "        loss_GV = (loss_adv_vocal + lambda_cycle * loss_cycle_vocal + lambda_identity * loss_identity_vocal) / (1 + lambda_cycle + lambda_identity)\n",
        "        loss_GS = (loss_adv_speech + lambda_cycle * loss_cycle_speech + lambda_identity * loss_identity_speech) / (1 + lambda_cycle + lambda_identity)\n",
        "\n",
        "#\n",
        "        running_loss_DV = alpha * running_loss_DV + (1 - alpha) * loss_DV.item()\n",
        "        running_loss_DS = alpha * running_loss_DS + (1 - alpha) * loss_DS.item()\n",
        "\n",
        "\n",
        "        # Update generators\n",
        "        ((loss_GV + loss_GS) / virtual_batch_size).backward()\n",
        "\n",
        "\n",
        "        # Record gradients & take steps\n",
        "        if (num_batches + 1) % virtual_batch_size == 0:\n",
        "          # Record gradients\n",
        "          grad_norm = 0.0\n",
        "          count = 0\n",
        "          for p in generator_vocal.parameters():\n",
        "              if p.grad is not None:\n",
        "                  grad_norm += p.grad.norm().item()\n",
        "                  count += 1\n",
        "          if count > 0:\n",
        "              grad_norms_GV.append(grad_norm / count)\n",
        "\n",
        "          grad_norm = 0.0\n",
        "          count = 0\n",
        "          for p in generator_speech.parameters():\n",
        "              if p.grad is not None:\n",
        "                  grad_norm += p.grad.norm().item()\n",
        "                  count += 1\n",
        "          if count > 0:\n",
        "              grad_norms_GS.append(grad_norm / count)\n",
        "\n",
        "          # Take steps\n",
        "          optimizer_GV.step()\n",
        "          optimizer_GS.step()\n",
        "          optimizer_GV.zero_grad()\n",
        "          optimizer_GS.zero_grad()\n",
        "\n",
        "\n",
        "        # Update discriminators\n",
        "        if running_loss_DV > dv_threshold or smart_discriminator:\n",
        "          (loss_DV / virtual_batch_size).backward()\n",
        "          num_DV_backwards += 1\n",
        "          if (num_DV_backwards+1) % virtual_batch_size == 0:\n",
        "            grad_norm = 0.0\n",
        "            count = 0\n",
        "            for p in discriminator_vocal.parameters():\n",
        "                if p.grad is not None:\n",
        "                    grad_norm += p.grad.norm().item()\n",
        "                    count += 1\n",
        "            if count > 0:\n",
        "                grad_norms_DV.append(grad_norm / count)\n",
        "\n",
        "            optimizer_DV.step()\n",
        "            optimizer_DV.zero_grad()\n",
        "            num_DV_backwards = 0\n",
        "\n",
        "        if running_loss_DS > ds_threshold or smart_discriminator:\n",
        "          (loss_DS / virtual_batch_size).backward()\n",
        "          num_DS_backwards += 1\n",
        "          if (num_DS_backwards+1) % virtual_batch_size == 0:\n",
        "            # record gradients\n",
        "            grad_norm = 0.0\n",
        "            count = 0\n",
        "            for p in discriminator_speech.parameters():\n",
        "                if p.grad is not None:\n",
        "                    grad_norm += p.grad.norm().item()\n",
        "                    count += 1\n",
        "            if count > 0:\n",
        "                grad_norms_DS.append(grad_norm / count)\n",
        "\n",
        "            optimizer_DS.step()\n",
        "            optimizer_DS.zero_grad()\n",
        "            num_DS_backwards = 0\n",
        "\n",
        "        # Accumulate metrics\n",
        "        total_loss_DV     += loss_DV.item()\n",
        "        total_loss_DS     += loss_DS.item()\n",
        "        total_loss_adv_vocal  += loss_adv_vocal.item()\n",
        "        total_loss_adv_speech += loss_adv_speech.item()\n",
        "        total_loss_cycle_vocal += loss_cycle_vocal.item()\n",
        "        total_loss_cycle_speech += loss_cycle_speech.item()\n",
        "        total_loss_GV_identity += loss_identity_vocal.item()\n",
        "        total_loss_GS_identity += loss_identity_speech.item()\n",
        "        total_loss_GV      += loss_GV.item()\n",
        "        total_loss_GS   += loss_GS.item()\n",
        "        num_batches       += 1\n",
        "        # audio_files = []\n",
        "        # if save_output:\n",
        "        #     fake_singing_list = [fake_crop[i] for i in range(fake_crop.shape[0])]\n",
        "        #     audio_files = convert_to_audio(fake_singing_list)\n",
        "    return {\n",
        "        \"loss_DV\":      total_loss_DV / num_batches,\n",
        "        \"loss_DS\":      total_loss_DS / num_batches,\n",
        "        \"loss_GV\":      total_loss_GV / num_batches,\n",
        "        \"loss_GS\":      total_loss_GS / num_batches,\n",
        "        \"loss_adv_vocal\":  total_loss_adv_vocal / num_batches,\n",
        "        \"loss_adv_speech\":  total_loss_adv_speech / num_batches,\n",
        "        \"loss_cycle_vocal\":  total_loss_cycle_vocal / num_batches,\n",
        "        \"loss_cycle_speech\":  total_loss_cycle_speech / num_batches,\n",
        "        \"loss_identity_vocal\":  total_loss_GV_identity / num_batches,\n",
        "        \"loss_identity_speech\":  total_loss_GS_identity / num_batches,\n",
        "        \"avg_grad_norm_DV\": sum(grad_norms_DV) / len(grad_norms_DV) if grad_norms_DV else 0.0,\n",
        "        \"avg_grad_norm_DS\": sum(grad_norms_DS) / len(grad_norms_DS) if grad_norms_DS else 0.0,\n",
        "        \"avg_grad_norm_GV\": sum(grad_norms_GV) / len(grad_norms_GV) if grad_norms_GV else 0.0,\n",
        "        \"avg_grad_norm_GS\": sum(grad_norms_GS) / len(grad_norms_GS) if grad_norms_GS else 0.0,\n",
        "        \"num_DV_updates\" : len(grad_norms_DV),\n",
        "        \"num_DS_updates\" : len(grad_norms_DS)\n",
        "    }#, audio_files\n",
        "\n",
        "# ----- Multi-Epoch Training Function -----\n",
        "def cycle_train(\n",
        "    generator_vocal,\n",
        "    generator_speech,\n",
        "    discriminator_vocal,\n",
        "    discriminator_speech,\n",
        "    optimizer_DV,\n",
        "    optimizer_DS,\n",
        "    optimizer_GV,\n",
        "    optimizer_GS,\n",
        "    acc_voc_loader,\n",
        "    speech_loader,\n",
        "    l1_loss,\n",
        "    mse_loss,\n",
        "    lambda_l1,\n",
        "    lambda_cycle,\n",
        "    lambda_identity,\n",
        "    bce_loss,\n",
        "    device,\n",
        "    num_epochs,\n",
        "    virtual_batch_size,\n",
        "    clip_length,\n",
        "    input_size_generators,\n",
        "    log_dir,\n",
        "    save_audio = True,\n",
        "    smart_discriminator = False,\n",
        "    batch_size = 32\n",
        "):\n",
        "    writer = SummaryWriter(log_dir=log_dir)\n",
        "    global_step = 0\n",
        "\n",
        "    for epoch in range(num_epochs):\n",
        "        save_audio = True if epoch == num_epochs-1 else False\n",
        "        print(f\"\\n=== Epoch {epoch+1}/{num_epochs} ===\")\n",
        "        epoch_metrics = cycle_train_epoch(\n",
        "            generator_vocal,\n",
        "            generator_speech,\n",
        "            discriminator_vocal,\n",
        "            discriminator_speech,\n",
        "            optimizer_DV,\n",
        "            optimizer_DS,\n",
        "            optimizer_GV,\n",
        "            optimizer_GS,\n",
        "            acc_voc_loader,\n",
        "            speech_loader,\n",
        "            l1_loss,\n",
        "            mse_loss,\n",
        "            lambda_l1,\n",
        "            lambda_cycle,\n",
        "            lambda_identity,\n",
        "            bce_loss,\n",
        "            device,\n",
        "            virtual_batch_size,\n",
        "            clip_length,\n",
        "            input_size_generators,\n",
        "            save_output = save_audio,\n",
        "            smart_discriminator = smart_discriminator,\n",
        "            batch_size = batch_size\n",
        "        )\n",
        "        print(f\"Epoch {epoch+1} Metrics:\")\n",
        "        print(f\"  Loss_DV:         {epoch_metrics['loss_DV']:.4f}\")\n",
        "        print(f\"  Loss_DS:         {epoch_metrics['loss_DS']:.4f}\")\n",
        "        # print(f\"  Loss_GV_total:   {epoch_metrics['loss_GV']:.4f}\")\n",
        "        # print(f\"  Loss_GS_total:   {epoch_metrics['loss_GS']:.4f}\")\n",
        "        print(f\"  Loss_adv_vocal:     {epoch_metrics['loss_adv_vocal']:.4f}\")\n",
        "        print(f\"  Loss_adv_speech:     {epoch_metrics['loss_adv_speech']:.4f}\")\n",
        "        print(f\"  Loss_Cycle Vocal:     {epoch_metrics['loss_cycle_vocal']:.4f}\")\n",
        "        print(f\"  Loss_Cycle Speech:     {epoch_metrics['loss_cycle_speech']:.4f}\")\n",
        "        print(f\"  Loss_Identity Vocal:     {epoch_metrics['loss_identity_vocal']:.4f}\")\n",
        "        print(f\"  Loss_Identity Speech:     {epoch_metrics['loss_identity_speech']:.4f}\")\n",
        "        print(f\"  Grad Norm DV:    {epoch_metrics['avg_grad_norm_DV']:.4f}\")\n",
        "        print(f\"  Grad Norm DS:    {epoch_metrics['avg_grad_norm_DS']:.4f}\")\n",
        "        print(f\"  Grad Norm GV:    {epoch_metrics['avg_grad_norm_GV']:.4f}\")\n",
        "        print(f\"  Grad Norm GS:    {epoch_metrics['avg_grad_norm_GS']:.4f}\")\n",
        "        print(f\"  num_DV_updates:    {epoch_metrics['num_DV_updates']:.4f}\")\n",
        "        print(f\"  num_DS_updates:    {epoch_metrics['num_DS_updates']:.4f}\")\n",
        "\n",
        "        # Log metrics to TensorBoard.\n",
        "        writer.add_scalar(\"Loss/Discriminator\", epoch_metrics[\"loss_DV\"], epoch)\n",
        "        # writer.add_scalar(\"Loss/Generator_total\", epoch_metrics[\"loss_G_total\"], epoch)\n",
        "        writer.add_scalar(\"Loss/Generator_adversarial\", epoch_metrics[\"loss_adv_vocal\"], epoch)\n",
        "        # writer.add_scalar(\"Loss/Generator_L1\", epoch_metrics[\"loss_G_L1\"], epoch)\n",
        "        writer.add_scalar(\"Loss/Cycle\", epoch_metrics[\"loss_cycle_vocal\"], epoch)\n",
        "        writer.add_scalar(\"Gradients/Discriminator\", epoch_metrics[\"avg_grad_norm_DV\"], epoch)\n",
        "        writer.add_scalar(\"Gradients/Generator\", epoch_metrics[\"avg_grad_norm_GV\"], epoch)\n",
        "\n",
        "        global_step += 1\n",
        "\n",
        "    writer.close()\n",
        "    return #audio_files"
      ]
    },
    {
      "cell_type": "markdown",
      "metadata": {
        "id": "A6YYjPW1qo_f"
      },
      "source": [
        "## Variable dataset\n",
        "By default we train shorter models on colab and longer models in a docker container on a local machine."
      ]
    },
    {
      "cell_type": "code",
      "execution_count": 9,
      "metadata": {
        "id": "21sTx3lXqo_f"
      },
      "outputs": [],
      "source": [
        "if colab:\n",
        "    path = \"/content/drive/My Drive/git_projects/spring_2025_dl_audio_project_data/\"\n",
        "else:\n",
        "    path = \"/workspace/hdd_project_data/\"\n",
        "\n",
        "# Dataset paths for short clips\n",
        "if colab:\n",
        "    librispeech_data = \"LibriSpeechDataset_withOverlap.pt\"\n",
        "    musdb_data = \"musdb_noOverlap_test.pt\"\n",
        "else:\n",
        "    # librispeech_data = \"librispeech_longClip_train_small.pt\"\n",
        "    # musdb_data = \"musdb_longClip_train.pt\"\n",
        "    librispeech_data = \"LibriSpeechDataset_withOverlap.pt\"\n",
        "    musdb_data = \"musdb_noOverlap_test.pt\"\n",
        "\n",
        "librispeechDataset_path = path + librispeech_data\n",
        "musdbDataset_path = path + musdb_data\n",
        "\n",
        "librispeech_dataset = torch.load(librispeechDataset_path, weights_only=False)\n",
        "musdb_dataset = torch.load(musdbDataset_path, weights_only=False)\n"
      ]
    },
    {
      "cell_type": "code",
      "execution_count": 10,
      "metadata": {
        "id": "PNUZyJubqo_f"
      },
      "outputs": [],
      "source": [
        "# Because of the way the librispeech dataset was constructed, it is slightly longer\n",
        "# than the musbd dataset. Crop the librispeech dataset with these lines\n",
        "librispeech_dataset.mel_specs = librispeech_dataset.mel_specs[0:len(musdb_dataset)]\n",
        "librispeech_dataset.sample_rates = librispeech_dataset.sample_rates[0:len(musdb_dataset)]"
      ]
    },
    {
      "cell_type": "markdown",
      "metadata": {
        "id": "68JIKFsnqo_f"
      },
      "source": [
        "### Record length of clips"
      ]
    },
    {
      "cell_type": "code",
      "execution_count": 11,
      "metadata": {
        "colab": {
          "base_uri": "https://localhost:8080/"
        },
        "id": "gaN9YGVpqo_g",
        "outputId": "5b13cd85-a4ce-4468-a322-97f6a55c1445"
      },
      "outputs": [
        {
          "name": "stdout",
          "output_type": "stream",
          "text": [
            "=== MusDB Dataset Exploration ===\n",
            "Length: 4167\n",
            "mel_specs shape: torch.Size([4167, 2, 128, 256])\n",
            "sample_rates shape: torch.Size([4167])\n",
            "\n",
            "Sample 0 - Accompaniment shape: torch.Size([128, 256])\n",
            "Sample 0 - Vocal shape: torch.Size([128, 256])\n",
            "Sample 0 - Sample rate: tensor(44100)\n",
            "\n",
            "=== LibriSpeech Dataset Exploration ===\n",
            "Length: 4167\n",
            "mel_specs shape: torch.Size([4167, 128, 256])\n",
            "sample_rates shape: torch.Size([4167])\n",
            "\n",
            "Sample 0 - Speech shape: torch.Size([128, 256])\n",
            "Sample 0 - Sample rate: tensor(44100)\n",
            "\n",
            "=========================\n",
            "Training clip length: 256\n"
          ]
        }
      ],
      "source": [
        "# --- Explore the Datasets ---\n",
        "print(\"=== MusDB Dataset Exploration ===\")\n",
        "print(\"Length:\", len(musdb_dataset))\n",
        "print(\"mel_specs shape:\", musdb_dataset.mel_specs.shape)\n",
        "print(\"sample_rates shape:\", musdb_dataset.sample_rates.shape)\n",
        "print()\n",
        "accompaniment, vocal, sample_rate = musdb_dataset[0]\n",
        "print(\"Sample 0 - Accompaniment shape:\", accompaniment.size())\n",
        "print(\"Sample 0 - Vocal shape:\", vocal.size())\n",
        "print(\"Sample 0 - Sample rate:\", sample_rate)\n",
        "print()\n",
        "\n",
        "print(\"=== LibriSpeech Dataset Exploration ===\")\n",
        "print(\"Length:\", len(librispeech_dataset))\n",
        "print(\"mel_specs shape:\", librispeech_dataset.mel_specs.shape)\n",
        "print(\"sample_rates shape:\", librispeech_dataset.sample_rates.shape)\n",
        "print()\n",
        "speech, sample_rate = librispeech_dataset[0]\n",
        "print(\"Sample 0 - Speech shape:\", speech.size())\n",
        "print(\"Sample 0 - Sample rate:\", sample_rate)\n",
        "\n",
        "musdb_length = musdb_dataset.mel_specs.shape[-1]\n",
        "librispeech_length = librispeech_dataset.mel_specs.shape[-1]\n",
        "\n",
        "if musdb_length == librispeech_length:\n",
        "    clip_length = musdb_length\n",
        "else:\n",
        "    raise ValueError(\"The lengths of the datasets do not match. Please check the dataset lengths.\")\n",
        "print()\n",
        "print(\"=========================\")\n",
        "print(\"Training clip length:\", clip_length)"
      ]
    },
    {
      "cell_type": "markdown",
      "metadata": {
        "id": "fJ6VJupIqo_h"
      },
      "source": [
        "## Initialize Generator Models\n",
        "We initilaze generator models so we can find the necessary padding for the loader."
      ]
    },
    {
      "cell_type": "code",
      "execution_count": 12,
      "metadata": {
        "colab": {
          "base_uri": "https://localhost:8080/"
        },
        "id": "j7__Bvn7qo_h",
        "outputId": "dfbd2e84-31db-436a-b4cc-ea1c71afdbf6"
      },
      "outputs": [
        {
          "name": "stdout",
          "output_type": "stream",
          "text": [
            "Using valid convolutions with 289 inputs and 257 outputs\n",
            "Using valid convolutions with 289 inputs and 257 outputs\n",
            "Input size for generators: 289\n",
            "Output size for generators: 257\n"
          ]
        }
      ],
      "source": [
        "# Model configurations for generator and generator_2.\n",
        "model_config_gen_vocal= {\n",
        "    \"num_inputs\": 256,  # Two spectrograms concatenated (2 * 128 mel bins)\n",
        "    \"num_outputs\": 128,\n",
        "    \"num_channels\": [512*2, 512*4, 512*8],\n",
        "    \"instruments\": [\"vocal\"],\n",
        "    \"kernel_size\": 3,\n",
        "    \"target_output_size\": clip_length,\n",
        "    \"conv_type\": \"normal\",\n",
        "    \"res\": \"fixed\",\n",
        "    \"separate\": False,\n",
        "    \"depth\": 1,\n",
        "    \"strides\": 2\n",
        "}\n",
        "\n",
        "model_config_gen_speech = {\n",
        "    \"num_inputs\": 128,  # One spectrogram input\n",
        "    \"num_outputs\": 128,\n",
        "    \"num_channels\": [256*2, 256*4, 256*8],\n",
        "    \"instruments\": [\"speech\"],\n",
        "    \"kernel_size\": 3,\n",
        "    \"target_output_size\": clip_length,\n",
        "    \"conv_type\": \"normal\",\n",
        "    \"res\": \"fixed\",\n",
        "    \"separate\": False,\n",
        "    \"depth\": 1,\n",
        "    \"strides\": 2\n",
        "}\n",
        "generator_vocal = Waveunet(**model_config_gen_vocal).to(device)\n",
        "generator_speech = Waveunet(**model_config_gen_speech).to(device)\n",
        "\n",
        "input_size_generators = generator_vocal.input_size\n",
        "output_size_generators = generator_vocal.output_size\n",
        "print(\"Input size for generators:\", input_size_generators)\n",
        "print(\"Output size for generators:\", output_size_generators)"
      ]
    },
    {
      "cell_type": "markdown",
      "metadata": {
        "id": "LQgk_uArqo_h"
      },
      "source": [
        "### Create dataloader\n",
        "We create the dataloaders for the training loop using the correct input_size for the models."
      ]
    },
    {
      "cell_type": "code",
      "execution_count": 13,
      "metadata": {
        "id": "2ZkE_8bPqo_h"
      },
      "outputs": [],
      "source": [
        "# Define batch size, virtual batch size, and the number of workers for DataLoaders\n",
        "batch_size = 64  # Change as needed\n",
        "target_virtual_batch_size = 256\n",
        "num_workers = 1\n",
        "\n",
        "now = datetime.now().strftime(\"%Y%m%d-%H%M%S\")\n",
        "log_dir = \"runs/\" + \"cycleGAN_experiment_\" + now\n",
        "\n",
        "if target_virtual_batch_size % batch_size != 0:\n",
        "    raise ValueError(\"virtual_batch_size must be a multiple of batch_size.\")\n",
        "else:\n",
        "    virtual_batch_size = target_virtual_batch_size // batch_size\n",
        "\n",
        "# ---------------- hyper‑parameters in ONE place ----------------\n",
        "train_parameters = {\n",
        "    # data loaders\n",
        "    \"batch_size\":     batch_size,\n",
        "    \"virtual_batch_size\": virtual_batch_size,\n",
        "    \"num_workers\":    num_workers,\n",
        "    \"clip_length\": clip_length,\n",
        "    \"input_size_generators\":    input_size_generators,\n",
        "\n",
        "    # optimisation\n",
        "    \"lr_G\":          1e-4,\n",
        "    \"lr_G2\":         1e-4,\n",
        "    \"lr_D\":          1e-4,\n",
        "    \"betas\":         (0.9, 0.999),\n",
        "\n",
        "    # loss weights\n",
        "    \"lambda_l1\":     1,\n",
        "    \"lambda_cycle\": .01,\n",
        "    \"lambda_identity\": 0.0,\n",
        "\n",
        "    # schedule\n",
        "    \"num_epochs\":    50,\n",
        "\n",
        "    # bookkeeping\n",
        "    \"log_dir\":       f\"runs/cycleGAN_experiment_{now}\",\n",
        "    \"model_dir\":     \"models\",\n",
        "}\n"
      ]
    },
    {
      "cell_type": "code",
      "execution_count": 14,
      "metadata": {
        "id": "yeJf-5wcqo_h"
      },
      "outputs": [],
      "source": [
        "################ DO WE WANT TO SHUFFLE THE DATASETS? ################\n",
        "\n",
        "# Create data loaders\n",
        "acc_voc_loader = DataLoader(\n",
        "    AccompanimentVocalData(musdb_dataset, output_length=input_size_generators),\n",
        "    batch_size=batch_size,\n",
        "    shuffle=True,\n",
        "    drop_last=True,\n",
        "    num_workers=num_workers,\n",
        "    pin_memory=True,\n",
        "    persistent_workers=True\n",
        ")\n",
        "\n",
        "\n",
        "speech_loader = DataLoader(\n",
        "    SpeechData(librispeech_dataset, output_length=input_size_generators),\n",
        "    batch_size=batch_size,\n",
        "    shuffle=True,\n",
        "    drop_last=True,\n",
        "    num_workers=num_workers,\n",
        "    pin_memory=True,\n",
        "    persistent_workers=True\n",
        ")\n"
      ]
    },
    {
      "cell_type": "markdown",
      "metadata": {
        "id": "OBr9vgsBqo_h"
      },
      "source": [
        "### Initialize Discriminator Models\n",
        "We initialize the discriminator models and call ``fit_rocket``."
      ]
    },
    {
      "cell_type": "code",
      "execution_count": 15,
      "metadata": {
        "colab": {
          "base_uri": "https://localhost:8080/"
        },
        "id": "phkEdf7rSckQ",
        "outputId": "39914320-1d09-4b34-9918-04bfabc36287"
      },
      "outputs": [
        {
          "name": "stdout",
          "output_type": "stream",
          "text": [
            "Number of CPU cores: 24\n",
            "\n",
            "Fitting discriminator_vocal...\n",
            "MiniRocket fitted. Feature dimension: 9996\n",
            "\n",
            "Fitting discriminator_speech...\n",
            "MiniRocket fitted. Feature dimension: 9996\n"
          ]
        }
      ],
      "source": [
        "# check the number of cores\n",
        "import multiprocessing\n",
        "num_cores = multiprocessing.cpu_count()\n",
        "print(\"Number of CPU cores:\", num_cores)\n",
        "\n",
        "################ DO WE WANT BOTH DISCRIMINATORS TO USE ALL THE CORES ###############\n",
        "# The discriminators will not be running at the same time,\n",
        "# so it seems safe to give them both more than half the cores.\n",
        "minirocket_n_jobs = num_cores-2\n",
        "\n",
        "# Instantiate the discriminators.\n",
        "discriminator_vocal = TsaiMiniRocketDiscriminator().to(device)\n",
        "discriminator_speech = TsaiMiniRocketDiscriminator(freq_bins = 128,\n",
        "                                                   hidden_dim = 512,\n",
        "                                                   accompaniment = False).to(device)\n",
        "\n",
        "# Optionally, prepare the discriminator (e.g., pre-fitting on some speech data).\n",
        "acc_voc_batch = next(iter(acc_voc_loader))\n",
        "speech_batch = next(iter(speech_loader))[\"no_pad\"]\n",
        "\n",
        "print()\n",
        "print(\"Fitting discriminator_vocal...\")\n",
        "discriminator_vocal.fit_rocket(speech_batch)\n",
        "print()\n",
        "print(\"Fitting discriminator_speech...\")\n",
        "discriminator_speech.fit_rocket(speech_batch)"
      ]
    },
    {
      "cell_type": "code",
      "execution_count": 16,
      "metadata": {
        "id": "K93BNsp5qo_i"
      },
      "outputs": [],
      "source": [
        "# Loss functions.\n",
        "bce_loss = nn.BCELoss().to(device)\n",
        "l1_loss = nn.L1Loss().to(device)\n",
        "mse_loss = nn.MSELoss().to(device)\n",
        "\n",
        "# Optimizers.\n",
        "optimizer_GV  = optim.Adam(generator_vocal.parameters(),  lr=train_parameters[\"lr_G\"],  betas=train_parameters[\"betas\"])\n",
        "optimizer_GS = optim.Adam(generator_speech.parameters(), lr=train_parameters[\"lr_G2\"], betas=train_parameters[\"betas\"])\n",
        "optimizer_DV  = optim.Adam(discriminator_vocal.parameters(), lr=train_parameters[\"lr_D\"], betas=train_parameters[\"betas\"])\n",
        "optimizer_DS  = optim.Adam(discriminator_speech.parameters(), lr=train_parameters[\"lr_D\"], betas=train_parameters[\"betas\"])\n"
      ]
    },
    {
      "cell_type": "code",
      "execution_count": 17,
      "metadata": {
        "id": "IrrtFAj8Tjlv"
      },
      "outputs": [],
      "source": [
        "# Clear the CUDA cache to free up memory. Sometimes PyTorch doesn't release memory immediately.\n",
        "# This can help prevent out-of-memory errors.\n",
        "\n",
        "import gc\n",
        "gc.collect()\n",
        "torch.cuda.empty_cache()\n"
      ]
    },
    {
      "cell_type": "code",
      "execution_count": 18,
      "metadata": {
        "id": "IVbczkbqqo_i"
      },
      "outputs": [],
      "source": [
        "##### Optionally load a model checkpoint #####\n",
        "# NEED TO ADD SECOND DISCRIMINATOR IF WE END UP LOADING A MODEL\n",
        "\n",
        "# state_time = \"20250416-143134\"\n",
        "# model_dir  = \"models\"\n",
        "\n",
        "# # ----  load the raw weight dictionaries ----\n",
        "# disc_state = torch.load(f\"{model_dir}/discriminator_state_dict_{state_time}.pt\", map_location=device)\n",
        "# gen_state  = torch.load(f\"{model_dir}/generator_state_dict_{state_time}.pt\",         map_location=device)\n",
        "# gen2_state = torch.load(f\"{model_dir}/generator_2_state_dict_{state_time}.pt\",       map_location=device)\n",
        "\n",
        "# # ----   rebuild the model objects ----\n",
        "# discriminator = TsaiMiniRocketDiscriminator().to(device)\n",
        "# generator     = Waveunet(**model_config_gen).to(device)\n",
        "# generator_2   = Waveunet(**model_config_gen2).to(device)\n",
        "\n",
        "# # ---- load the weights into those models ----\n",
        "# discriminator.load_state_dict(disc_state)\n",
        "# generator.load_state_dict(gen_state)\n",
        "# generator_2.load_state_dict(gen2_state)\n",
        "\n"
      ]
    },
    {
      "cell_type": "markdown",
      "metadata": {
        "id": "KqBLylPoqo_i"
      },
      "source": [
        "## Train the model\n"
      ]
    },
    {
      "cell_type": "code",
      "execution_count": 19,
      "metadata": {
        "colab": {
          "base_uri": "https://localhost:8080/",
          "height": 599
        },
        "id": "PWajAnHDMunt",
        "outputId": "1313aa29-7ceb-4327-bfe1-2f9f17a9d196"
      },
      "outputs": [
        {
          "name": "stderr",
          "output_type": "stream",
          "text": [
            "/usr/local/lib/python3.10/dist-packages/torch/utils/_pytree.py:185: FutureWarning: optree is installed but the version is too old to support PyTorch Dynamo in C++ pytree. C++ pytree support is disabled. Please consider upgrading optree using `python3 -m pip install --upgrade 'optree>=0.13.0'`.\n",
            "  warnings.warn(\n"
          ]
        },
        {
          "name": "stdout",
          "output_type": "stream",
          "text": [
            "\n",
            "=== Epoch 1/50 ===\n"
          ]
        },
        {
          "name": "stderr",
          "output_type": "stream",
          "text": [
            "Training Batches: 3it [00:08,  2.31s/it]W0424 02:22:32.157000 1138029 torch/_logging/_internal.py:1089] [64/0] Profiler function <class 'torch.autograd.profiler.record_function'> will be ignored\n",
            "('Grad tensors [\"L['self'].param_groups[0]['params'][0].grad\", \"L['self'].param_groups[0]['params'][1].grad\", \"L['self'].param_groups[0]['params'][2].grad\", \"L['self'].param_groups[0]['params'][3].grad\", \"L['self'].param_groups[0]['params'][5].grad\", \"L['self'].param_groups[0]['params'][6].grad\", \"L['self'].param_groups[0]['params'][7].grad\", \"L['self'].param_groups[0]['params'][8].grad\", \"L['self'].param_groups[0]['params'][11].grad\", \"L['self'].param_groups[0]['params'][12].grad\", \"L['self'].param_groups[0]['params'][13].grad\", \"L['self'].param_groups[0]['params'][14].grad\", \"L['self'].param_groups[0]['params'][16].grad\", \"L['self'].param_groups[0]['params'][17].grad\", \"L['self'].param_groups[0]['params'][18].grad\", \"L['self'].param_groups[0]['params'][19].grad\", \"L['self'].param_groups[0]['params'][20].grad\", \"L['self'].param_groups[0]['params'][21].grad\", \"L['self'].param_groups[0]['params'][22].grad\", \"L['self'].param_groups[0]['params'][23].grad\"] will be copied during cudagraphs execution.If using cudagraphs and the grad tensor addresses will be the same across runs, use torch._dynamo.decorators.mark_static_address to elide this copy.',)\n",
            "('Grad tensors [\"L['self'].param_groups[0]['params'][0].grad\", \"L['self'].param_groups[0]['params'][1].grad\", \"L['self'].param_groups[0]['params'][2].grad\", \"L['self'].param_groups[0]['params'][3].grad\", \"L['self'].param_groups[0]['params'][5].grad\", \"L['self'].param_groups[0]['params'][6].grad\", \"L['self'].param_groups[0]['params'][7].grad\", \"L['self'].param_groups[0]['params'][8].grad\", \"L['self'].param_groups[0]['params'][11].grad\", \"L['self'].param_groups[0]['params'][12].grad\", \"L['self'].param_groups[0]['params'][13].grad\", \"L['self'].param_groups[0]['params'][14].grad\", \"L['self'].param_groups[0]['params'][16].grad\", \"L['self'].param_groups[0]['params'][17].grad\", \"L['self'].param_groups[0]['params'][18].grad\", \"L['self'].param_groups[0]['params'][19].grad\", \"L['self'].param_groups[0]['params'][20].grad\", \"L['self'].param_groups[0]['params'][21].grad\", \"L['self'].param_groups[0]['params'][22].grad\", \"L['self'].param_groups[0]['params'][23].grad\"] will be copied during cudagraphs execution.If using cudagraphs and the grad tensor addresses will be the same across runs, use torch._dynamo.decorators.mark_static_address to elide this copy.',)\n",
            "Training Batches: 20it [00:26,  1.05it/s]('Grad tensors [\"L['self'].param_groups[0]['params'][0].grad\", \"L['self'].param_groups[0]['params'][1].grad\", \"L['self'].param_groups[0]['params'][2].grad\", \"L['self'].param_groups[0]['params'][3].grad\", \"L['self'].param_groups[0]['params'][4].grad\", \"L['self'].param_groups[0]['params'][5].grad\"] will be copied during cudagraphs execution.If using cudagraphs and the grad tensor addresses will be the same across runs, use torch._dynamo.decorators.mark_static_address to elide this copy.',)\n",
            "('Grad tensors [\"L['self'].param_groups[0]['params'][0].grad\", \"L['self'].param_groups[0]['params'][1].grad\", \"L['self'].param_groups[0]['params'][2].grad\", \"L['self'].param_groups[0]['params'][3].grad\", \"L['self'].param_groups[0]['params'][4].grad\", \"L['self'].param_groups[0]['params'][5].grad\"] will be copied during cudagraphs execution.If using cudagraphs and the grad tensor addresses will be the same across runs, use torch._dynamo.decorators.mark_static_address to elide this copy.',)\n",
            "Training Batches: 65it [01:10,  1.08s/it]\n"
          ]
        },
        {
          "name": "stdout",
          "output_type": "stream",
          "text": [
            "Epoch 1 Metrics:\n",
            "  Loss_DV:         0.9376\n",
            "  Loss_DS:         0.7542\n",
            "  Loss_adv_vocal:     0.1835\n",
            "  Loss_adv_speech:     0.1702\n",
            "  Loss_Cycle Vocal:     22.2182\n",
            "  Loss_Cycle Speech:     27.2024\n",
            "  Loss_Identity Vocal:     26.9812\n",
            "  Loss_Identity Speech:     29.3930\n",
            "  Grad Norm DV:    1.4584\n",
            "  Grad Norm DS:    0.8551\n",
            "  Grad Norm GV:    0.0635\n",
            "  Grad Norm GS:    0.0476\n",
            "  num_DV_updates:    15.0000\n",
            "  num_DS_updates:    15.0000\n",
            "\n",
            "=== Epoch 2/50 ===\n"
          ]
        },
        {
          "name": "stderr",
          "output_type": "stream",
          "text": [
            "Training Batches: 65it [01:02,  1.05it/s]\n"
          ]
        },
        {
          "name": "stdout",
          "output_type": "stream",
          "text": [
            "Epoch 2 Metrics:\n",
            "  Loss_DV:         0.7612\n",
            "  Loss_DS:         0.6453\n",
            "  Loss_adv_vocal:     0.1250\n",
            "  Loss_adv_speech:     0.1626\n",
            "  Loss_Cycle Vocal:     8.8480\n",
            "  Loss_Cycle Speech:     10.7420\n",
            "  Loss_Identity Vocal:     11.6693\n",
            "  Loss_Identity Speech:     13.4380\n",
            "  Grad Norm DV:    0.3839\n",
            "  Grad Norm DS:    0.7347\n",
            "  Grad Norm GV:    0.0661\n",
            "  Grad Norm GS:    0.0851\n",
            "  num_DV_updates:    15.0000\n",
            "  num_DS_updates:    9.0000\n",
            "\n",
            "=== Epoch 3/50 ===\n"
          ]
        },
        {
          "name": "stderr",
          "output_type": "stream",
          "text": [
            "Training Batches: 65it [01:02,  1.04it/s]\n"
          ]
        },
        {
          "name": "stdout",
          "output_type": "stream",
          "text": [
            "Epoch 3 Metrics:\n",
            "  Loss_DV:         0.7699\n",
            "  Loss_DS:         0.7043\n",
            "  Loss_adv_vocal:     0.1001\n",
            "  Loss_adv_speech:     0.0980\n",
            "  Loss_Cycle Vocal:     7.3752\n",
            "  Loss_Cycle Speech:     8.9802\n",
            "  Loss_Identity Vocal:     9.9666\n",
            "  Loss_Identity Speech:     11.3633\n",
            "  Grad Norm DV:    0.1395\n",
            "  Grad Norm DS:    0.2608\n",
            "  Grad Norm GV:    0.0404\n",
            "  Grad Norm GS:    0.0489\n",
            "  num_DV_updates:    17.0000\n",
            "  num_DS_updates:    16.0000\n",
            "\n",
            "=== Epoch 4/50 ===\n"
          ]
        },
        {
          "name": "stderr",
          "output_type": "stream",
          "text": [
            "Training Batches: 65it [01:02,  1.04it/s]\n"
          ]
        },
        {
          "name": "stdout",
          "output_type": "stream",
          "text": [
            "Epoch 4 Metrics:\n",
            "  Loss_DV:         0.7447\n",
            "  Loss_DS:         0.6076\n",
            "  Loss_adv_vocal:     0.1171\n",
            "  Loss_adv_speech:     0.1484\n",
            "  Loss_Cycle Vocal:     6.5652\n",
            "  Loss_Cycle Speech:     8.7287\n",
            "  Loss_Identity Vocal:     9.1298\n",
            "  Loss_Identity Speech:     11.5009\n",
            "  Grad Norm DV:    0.1405\n",
            "  Grad Norm DS:    0.7926\n",
            "  Grad Norm GV:    0.0335\n",
            "  Grad Norm GS:    0.0378\n",
            "  num_DV_updates:    16.0000\n",
            "  num_DS_updates:    5.0000\n",
            "\n",
            "=== Epoch 5/50 ===\n"
          ]
        },
        {
          "name": "stderr",
          "output_type": "stream",
          "text": [
            "Training Batches: 65it [01:02,  1.04it/s]\n"
          ]
        },
        {
          "name": "stdout",
          "output_type": "stream",
          "text": [
            "Epoch 5 Metrics:\n",
            "  Loss_DV:         0.7596\n",
            "  Loss_DS:         0.6865\n",
            "  Loss_adv_vocal:     0.1022\n",
            "  Loss_adv_speech:     0.0977\n",
            "  Loss_Cycle Vocal:     6.1793\n",
            "  Loss_Cycle Speech:     8.5918\n",
            "  Loss_Identity Vocal:     8.6609\n",
            "  Loss_Identity Speech:     11.7040\n",
            "  Grad Norm DV:    0.1470\n",
            "  Grad Norm DS:    0.3359\n",
            "  Grad Norm GV:    0.0517\n",
            "  Grad Norm GS:    0.0635\n",
            "  num_DV_updates:    16.0000\n",
            "  num_DS_updates:    14.0000\n",
            "\n",
            "=== Epoch 6/50 ===\n"
          ]
        },
        {
          "name": "stderr",
          "output_type": "stream",
          "text": [
            "Training Batches: 65it [01:02,  1.04it/s]\n"
          ]
        },
        {
          "name": "stdout",
          "output_type": "stream",
          "text": [
            "Epoch 6 Metrics:\n",
            "  Loss_DV:         0.7515\n",
            "  Loss_DS:         0.6264\n",
            "  Loss_adv_vocal:     0.1068\n",
            "  Loss_adv_speech:     0.1224\n",
            "  Loss_Cycle Vocal:     5.8547\n",
            "  Loss_Cycle Speech:     8.1877\n",
            "  Loss_Identity Vocal:     8.6195\n",
            "  Loss_Identity Speech:     11.7772\n",
            "  Grad Norm DV:    0.1304\n",
            "  Grad Norm DS:    0.2587\n",
            "  Grad Norm GV:    0.0553\n",
            "  Grad Norm GS:    0.0659\n",
            "  num_DV_updates:    16.0000\n",
            "  num_DS_updates:    12.0000\n",
            "\n",
            "=== Epoch 7/50 ===\n"
          ]
        },
        {
          "name": "stderr",
          "output_type": "stream",
          "text": [
            "Training Batches: 65it [01:02,  1.04it/s]\n"
          ]
        },
        {
          "name": "stdout",
          "output_type": "stream",
          "text": [
            "Epoch 7 Metrics:\n",
            "  Loss_DV:         0.7519\n",
            "  Loss_DS:         0.6170\n",
            "  Loss_adv_vocal:     0.1067\n",
            "  Loss_adv_speech:     0.1282\n",
            "  Loss_Cycle Vocal:     5.7083\n",
            "  Loss_Cycle Speech:     7.4126\n",
            "  Loss_Identity Vocal:     8.9702\n",
            "  Loss_Identity Speech:     11.7695\n",
            "  Grad Norm DV:    0.1333\n",
            "  Grad Norm DS:    0.4631\n",
            "  Grad Norm GV:    0.0645\n",
            "  Grad Norm GS:    0.0809\n",
            "  num_DV_updates:    16.0000\n",
            "  num_DS_updates:    8.0000\n",
            "\n",
            "=== Epoch 8/50 ===\n"
          ]
        },
        {
          "name": "stderr",
          "output_type": "stream",
          "text": [
            "Training Batches: 65it [01:02,  1.04it/s]\n"
          ]
        },
        {
          "name": "stdout",
          "output_type": "stream",
          "text": [
            "Epoch 8 Metrics:\n",
            "  Loss_DV:         0.7483\n",
            "  Loss_DS:         0.6551\n",
            "  Loss_adv_vocal:     0.1072\n",
            "  Loss_adv_speech:     0.1059\n",
            "  Loss_Cycle Vocal:     5.6196\n",
            "  Loss_Cycle Speech:     6.7103\n",
            "  Loss_Identity Vocal:     9.7548\n",
            "  Loss_Identity Speech:     12.0990\n",
            "  Grad Norm DV:    0.1302\n",
            "  Grad Norm DS:    0.2654\n",
            "  Grad Norm GV:    0.0714\n",
            "  Grad Norm GS:    0.0874\n",
            "  num_DV_updates:    16.0000\n",
            "  num_DS_updates:    14.0000\n",
            "\n",
            "=== Epoch 9/50 ===\n"
          ]
        },
        {
          "name": "stderr",
          "output_type": "stream",
          "text": [
            "Training Batches: 65it [01:01,  1.05it/s]\n"
          ]
        },
        {
          "name": "stdout",
          "output_type": "stream",
          "text": [
            "Epoch 9 Metrics:\n",
            "  Loss_DV:         0.7445\n",
            "  Loss_DS:         0.5905\n",
            "  Loss_adv_vocal:     0.1073\n",
            "  Loss_adv_speech:     0.1427\n",
            "  Loss_Cycle Vocal:     5.4045\n",
            "  Loss_Cycle Speech:     6.2074\n",
            "  Loss_Identity Vocal:     10.3633\n",
            "  Loss_Identity Speech:     12.5486\n",
            "  Grad Norm DV:    0.1377\n",
            "  Grad Norm DS:    0.0000\n",
            "  Grad Norm GV:    0.0662\n",
            "  Grad Norm GS:    0.0745\n",
            "  num_DV_updates:    16.0000\n",
            "  num_DS_updates:    0.0000\n",
            "\n",
            "=== Epoch 10/50 ===\n"
          ]
        },
        {
          "name": "stderr",
          "output_type": "stream",
          "text": [
            "Training Batches: 65it [01:00,  1.07it/s]\n"
          ]
        },
        {
          "name": "stdout",
          "output_type": "stream",
          "text": [
            "Epoch 10 Metrics:\n",
            "  Loss_DV:         0.7388\n",
            "  Loss_DS:         0.5949\n",
            "  Loss_adv_vocal:     0.1079\n",
            "  Loss_adv_speech:     0.1407\n",
            "  Loss_Cycle Vocal:     5.3081\n",
            "  Loss_Cycle Speech:     6.0121\n",
            "  Loss_Identity Vocal:     11.1510\n",
            "  Loss_Identity Speech:     13.1262\n",
            "  Grad Norm DV:    0.1401\n",
            "  Grad Norm DS:    0.0000\n",
            "  Grad Norm GV:    0.0764\n",
            "  Grad Norm GS:    0.0852\n",
            "  num_DV_updates:    16.0000\n",
            "  num_DS_updates:    0.0000\n",
            "\n",
            "=== Epoch 11/50 ===\n"
          ]
        },
        {
          "name": "stderr",
          "output_type": "stream",
          "text": [
            "Training Batches: 65it [01:00,  1.08it/s]\n"
          ]
        },
        {
          "name": "stdout",
          "output_type": "stream",
          "text": [
            "Epoch 11 Metrics:\n",
            "  Loss_DV:         0.7297\n",
            "  Loss_DS:         0.5966\n",
            "  Loss_adv_vocal:     0.1105\n",
            "  Loss_adv_speech:     0.1403\n",
            "  Loss_Cycle Vocal:     5.0644\n",
            "  Loss_Cycle Speech:     5.8144\n",
            "  Loss_Identity Vocal:     11.7128\n",
            "  Loss_Identity Speech:     13.4122\n",
            "  Grad Norm DV:    0.1492\n",
            "  Grad Norm DS:    0.0000\n",
            "  Grad Norm GV:    0.0676\n",
            "  Grad Norm GS:    0.0759\n",
            "  num_DV_updates:    16.0000\n",
            "  num_DS_updates:    0.0000\n",
            "\n",
            "=== Epoch 12/50 ===\n"
          ]
        },
        {
          "name": "stderr",
          "output_type": "stream",
          "text": [
            "Training Batches: 65it [01:00,  1.08it/s]\n"
          ]
        },
        {
          "name": "stdout",
          "output_type": "stream",
          "text": [
            "Epoch 12 Metrics:\n",
            "  Loss_DV:         0.7196\n",
            "  Loss_DS:         0.5992\n",
            "  Loss_adv_vocal:     0.1131\n",
            "  Loss_adv_speech:     0.1399\n",
            "  Loss_Cycle Vocal:     4.9233\n",
            "  Loss_Cycle Speech:     5.6913\n",
            "  Loss_Identity Vocal:     12.0971\n",
            "  Loss_Identity Speech:     13.7862\n",
            "  Grad Norm DV:    0.1717\n",
            "  Grad Norm DS:    3.5323\n",
            "  Grad Norm GV:    0.0648\n",
            "  Grad Norm GS:    0.0777\n",
            "  num_DV_updates:    15.0000\n",
            "  num_DS_updates:    1.0000\n",
            "\n",
            "=== Epoch 13/50 ===\n"
          ]
        },
        {
          "name": "stderr",
          "output_type": "stream",
          "text": [
            "Training Batches: 65it [01:00,  1.08it/s]\n"
          ]
        },
        {
          "name": "stdout",
          "output_type": "stream",
          "text": [
            "Epoch 13 Metrics:\n",
            "  Loss_DV:         0.7076\n",
            "  Loss_DS:         0.6783\n",
            "  Loss_adv_vocal:     0.1151\n",
            "  Loss_adv_speech:     0.1032\n",
            "  Loss_Cycle Vocal:     4.8858\n",
            "  Loss_Cycle Speech:     5.6705\n",
            "  Loss_Identity Vocal:     12.4270\n",
            "  Loss_Identity Speech:     14.1455\n",
            "  Grad Norm DV:    0.1894\n",
            "  Grad Norm DS:    0.5048\n",
            "  Grad Norm GV:    0.0678\n",
            "  Grad Norm GS:    0.0807\n",
            "  num_DV_updates:    15.0000\n",
            "  num_DS_updates:    10.0000\n",
            "\n",
            "=== Epoch 14/50 ===\n"
          ]
        },
        {
          "name": "stderr",
          "output_type": "stream",
          "text": [
            "Training Batches: 65it [01:00,  1.08it/s]\n"
          ]
        },
        {
          "name": "stdout",
          "output_type": "stream",
          "text": [
            "Epoch 14 Metrics:\n",
            "  Loss_DV:         0.6958\n",
            "  Loss_DS:         0.6868\n",
            "  Loss_adv_vocal:     0.1177\n",
            "  Loss_adv_speech:     0.1006\n",
            "  Loss_Cycle Vocal:     4.8185\n",
            "  Loss_Cycle Speech:     5.5698\n",
            "  Loss_Identity Vocal:     12.8244\n",
            "  Loss_Identity Speech:     14.4943\n",
            "  Grad Norm DV:    0.2335\n",
            "  Grad Norm DS:    0.1832\n",
            "  Grad Norm GV:    0.0695\n",
            "  Grad Norm GS:    0.0855\n",
            "  num_DV_updates:    14.0000\n",
            "  num_DS_updates:    17.0000\n",
            "\n",
            "=== Epoch 15/50 ===\n"
          ]
        },
        {
          "name": "stderr",
          "output_type": "stream",
          "text": [
            "Training Batches: 65it [01:00,  1.08it/s]\n"
          ]
        },
        {
          "name": "stdout",
          "output_type": "stream",
          "text": [
            "Epoch 15 Metrics:\n",
            "  Loss_DV:         0.6837\n",
            "  Loss_DS:         0.5845\n",
            "  Loss_adv_vocal:     0.1209\n",
            "  Loss_adv_speech:     0.1552\n",
            "  Loss_Cycle Vocal:     4.7537\n",
            "  Loss_Cycle Speech:     5.4078\n",
            "  Loss_Identity Vocal:     13.0199\n",
            "  Loss_Identity Speech:     14.8254\n",
            "  Grad Norm DV:    0.2643\n",
            "  Grad Norm DS:    0.0000\n",
            "  Grad Norm GV:    0.0668\n",
            "  Grad Norm GS:    0.0802\n",
            "  num_DV_updates:    13.0000\n",
            "  num_DS_updates:    0.0000\n",
            "\n",
            "=== Epoch 16/50 ===\n"
          ]
        },
        {
          "name": "stderr",
          "output_type": "stream",
          "text": [
            "Training Batches: 65it [01:00,  1.08it/s]\n"
          ]
        },
        {
          "name": "stdout",
          "output_type": "stream",
          "text": [
            "Epoch 16 Metrics:\n",
            "  Loss_DV:         0.6765\n",
            "  Loss_DS:         0.5847\n",
            "  Loss_adv_vocal:     0.1187\n",
            "  Loss_adv_speech:     0.1547\n",
            "  Loss_Cycle Vocal:     4.7333\n",
            "  Loss_Cycle Speech:     5.2163\n",
            "  Loss_Identity Vocal:     13.2911\n",
            "  Loss_Identity Speech:     15.1695\n",
            "  Grad Norm DV:    0.2457\n",
            "  Grad Norm DS:    0.0000\n",
            "  Grad Norm GV:    0.0712\n",
            "  Grad Norm GS:    0.0809\n",
            "  num_DV_updates:    13.0000\n",
            "  num_DS_updates:    0.0000\n",
            "\n",
            "=== Epoch 17/50 ===\n"
          ]
        },
        {
          "name": "stderr",
          "output_type": "stream",
          "text": [
            "Training Batches: 65it [01:00,  1.08it/s]\n"
          ]
        },
        {
          "name": "stdout",
          "output_type": "stream",
          "text": [
            "Epoch 17 Metrics:\n",
            "  Loss_DV:         0.6725\n",
            "  Loss_DS:         0.5868\n",
            "  Loss_adv_vocal:     0.1192\n",
            "  Loss_adv_speech:     0.1541\n",
            "  Loss_Cycle Vocal:     4.6115\n",
            "  Loss_Cycle Speech:     4.9358\n",
            "  Loss_Identity Vocal:     13.4486\n",
            "  Loss_Identity Speech:     15.2745\n",
            "  Grad Norm DV:    0.2758\n",
            "  Grad Norm DS:    0.0000\n",
            "  Grad Norm GV:    0.0670\n",
            "  Grad Norm GS:    0.0783\n",
            "  num_DV_updates:    13.0000\n",
            "  num_DS_updates:    0.0000\n",
            "\n",
            "=== Epoch 18/50 ===\n"
          ]
        },
        {
          "name": "stderr",
          "output_type": "stream",
          "text": [
            "Training Batches: 65it [01:00,  1.08it/s]\n"
          ]
        },
        {
          "name": "stdout",
          "output_type": "stream",
          "text": [
            "Epoch 18 Metrics:\n",
            "  Loss_DV:         0.6643\n",
            "  Loss_DS:         0.5891\n",
            "  Loss_adv_vocal:     0.1254\n",
            "  Loss_adv_speech:     0.1535\n",
            "  Loss_Cycle Vocal:     4.6615\n",
            "  Loss_Cycle Speech:     4.9173\n",
            "  Loss_Identity Vocal:     13.4406\n",
            "  Loss_Identity Speech:     15.5071\n",
            "  Grad Norm DV:    0.2974\n",
            "  Grad Norm DS:    0.0000\n",
            "  Grad Norm GV:    0.0797\n",
            "  Grad Norm GS:    0.0942\n",
            "  num_DV_updates:    12.0000\n",
            "  num_DS_updates:    0.0000\n",
            "\n",
            "=== Epoch 19/50 ===\n"
          ]
        },
        {
          "name": "stderr",
          "output_type": "stream",
          "text": [
            "Training Batches: 65it [01:00,  1.08it/s]\n"
          ]
        },
        {
          "name": "stdout",
          "output_type": "stream",
          "text": [
            "Epoch 19 Metrics:\n",
            "  Loss_DV:         0.6574\n",
            "  Loss_DS:         0.5880\n",
            "  Loss_adv_vocal:     0.1161\n",
            "  Loss_adv_speech:     0.1531\n",
            "  Loss_Cycle Vocal:     4.7692\n",
            "  Loss_Cycle Speech:     5.0284\n",
            "  Loss_Identity Vocal:     13.6385\n",
            "  Loss_Identity Speech:     15.5429\n",
            "  Grad Norm DV:    0.2191\n",
            "  Grad Norm DS:    0.0000\n",
            "  Grad Norm GV:    0.0853\n",
            "  Grad Norm GS:    0.0961\n",
            "  num_DV_updates:    13.0000\n",
            "  num_DS_updates:    0.0000\n",
            "\n",
            "=== Epoch 20/50 ===\n"
          ]
        },
        {
          "name": "stderr",
          "output_type": "stream",
          "text": [
            "Training Batches: 65it [01:00,  1.07it/s]\n"
          ]
        },
        {
          "name": "stdout",
          "output_type": "stream",
          "text": [
            "Epoch 20 Metrics:\n",
            "  Loss_DV:         0.6652\n",
            "  Loss_DS:         0.5864\n",
            "  Loss_adv_vocal:     0.1168\n",
            "  Loss_adv_speech:     0.1543\n",
            "  Loss_Cycle Vocal:     4.6666\n",
            "  Loss_Cycle Speech:     4.8712\n",
            "  Loss_Identity Vocal:     13.8038\n",
            "  Loss_Identity Speech:     15.4432\n",
            "  Grad Norm DV:    0.5098\n",
            "  Grad Norm DS:    0.0000\n",
            "  Grad Norm GV:    0.0768\n",
            "  Grad Norm GS:    0.0875\n",
            "  num_DV_updates:    9.0000\n",
            "  num_DS_updates:    0.0000\n",
            "\n",
            "=== Epoch 21/50 ===\n"
          ]
        },
        {
          "name": "stderr",
          "output_type": "stream",
          "text": [
            "Training Batches: 65it [01:02,  1.04it/s]\n"
          ]
        },
        {
          "name": "stdout",
          "output_type": "stream",
          "text": [
            "Epoch 21 Metrics:\n",
            "  Loss_DV:         0.6512\n",
            "  Loss_DS:         0.5859\n",
            "  Loss_adv_vocal:     0.1151\n",
            "  Loss_adv_speech:     0.1546\n",
            "  Loss_Cycle Vocal:     4.6111\n",
            "  Loss_Cycle Speech:     4.8728\n",
            "  Loss_Identity Vocal:     13.8935\n",
            "  Loss_Identity Speech:     15.5365\n",
            "  Grad Norm DV:    0.1760\n",
            "  Grad Norm DS:    0.0000\n",
            "  Grad Norm GV:    0.0815\n",
            "  Grad Norm GS:    0.0951\n",
            "  num_DV_updates:    14.0000\n",
            "  num_DS_updates:    0.0000\n",
            "\n",
            "=== Epoch 22/50 ===\n"
          ]
        },
        {
          "name": "stderr",
          "output_type": "stream",
          "text": [
            "Training Batches: 65it [01:04,  1.00it/s]\n"
          ]
        },
        {
          "name": "stdout",
          "output_type": "stream",
          "text": [
            "Epoch 22 Metrics:\n",
            "  Loss_DV:         0.6682\n",
            "  Loss_DS:         0.5874\n",
            "  Loss_adv_vocal:     0.1195\n",
            "  Loss_adv_speech:     0.1546\n",
            "  Loss_Cycle Vocal:     4.4655\n",
            "  Loss_Cycle Speech:     4.7049\n",
            "  Loss_Identity Vocal:     14.2675\n",
            "  Loss_Identity Speech:     15.6490\n",
            "  Grad Norm DV:    0.8710\n",
            "  Grad Norm DS:    0.0000\n",
            "  Grad Norm GV:    0.0728\n",
            "  Grad Norm GS:    0.0855\n",
            "  num_DV_updates:    6.0000\n",
            "  num_DS_updates:    0.0000\n",
            "\n",
            "=== Epoch 23/50 ===\n"
          ]
        },
        {
          "name": "stderr",
          "output_type": "stream",
          "text": [
            "Training Batches: 65it [01:05,  1.01s/it]\n"
          ]
        },
        {
          "name": "stdout",
          "output_type": "stream",
          "text": [
            "Epoch 23 Metrics:\n",
            "  Loss_DV:         0.7053\n",
            "  Loss_DS:         0.5876\n",
            "  Loss_adv_vocal:     0.1231\n",
            "  Loss_adv_speech:     0.1548\n",
            "  Loss_Cycle Vocal:     4.2435\n",
            "  Loss_Cycle Speech:     4.5239\n",
            "  Loss_Identity Vocal:     14.3928\n",
            "  Loss_Identity Speech:     15.6804\n",
            "  Grad Norm DV:    0.1640\n",
            "  Grad Norm DS:    0.0000\n",
            "  Grad Norm GV:    0.0574\n",
            "  Grad Norm GS:    0.0646\n",
            "  num_DV_updates:    18.0000\n",
            "  num_DS_updates:    0.0000\n",
            "\n",
            "=== Epoch 24/50 ===\n"
          ]
        },
        {
          "name": "stderr",
          "output_type": "stream",
          "text": [
            "Training Batches: 65it [01:02,  1.03it/s]\n"
          ]
        },
        {
          "name": "stdout",
          "output_type": "stream",
          "text": [
            "Epoch 24 Metrics:\n",
            "  Loss_DV:         0.6602\n",
            "  Loss_DS:         0.5880\n",
            "  Loss_adv_vocal:     0.1376\n",
            "  Loss_adv_speech:     0.1542\n",
            "  Loss_Cycle Vocal:     4.1605\n",
            "  Loss_Cycle Speech:     4.4450\n",
            "  Loss_Identity Vocal:     14.5471\n",
            "  Loss_Identity Speech:     15.8410\n",
            "  Grad Norm DV:    0.5372\n",
            "  Grad Norm DS:    0.0000\n",
            "  Grad Norm GV:    0.0572\n",
            "  Grad Norm GS:    0.0672\n",
            "  num_DV_updates:    8.0000\n",
            "  num_DS_updates:    0.0000\n",
            "\n",
            "=== Epoch 25/50 ===\n"
          ]
        },
        {
          "name": "stderr",
          "output_type": "stream",
          "text": [
            "Training Batches: 65it [01:02,  1.04it/s]\n"
          ]
        },
        {
          "name": "stdout",
          "output_type": "stream",
          "text": [
            "Epoch 25 Metrics:\n",
            "  Loss_DV:         0.7013\n",
            "  Loss_DS:         0.5903\n",
            "  Loss_adv_vocal:     0.1058\n",
            "  Loss_adv_speech:     0.1540\n",
            "  Loss_Cycle Vocal:     4.1312\n",
            "  Loss_Cycle Speech:     4.3841\n",
            "  Loss_Identity Vocal:     14.6932\n",
            "  Loss_Identity Speech:     15.9611\n",
            "  Grad Norm DV:    0.1423\n",
            "  Grad Norm DS:    0.0000\n",
            "  Grad Norm GV:    0.0561\n",
            "  Grad Norm GS:    0.0646\n",
            "  num_DV_updates:    17.0000\n",
            "  num_DS_updates:    0.0000\n",
            "\n",
            "=== Epoch 26/50 ===\n"
          ]
        },
        {
          "name": "stderr",
          "output_type": "stream",
          "text": [
            "Training Batches: 65it [01:02,  1.03it/s]\n"
          ]
        },
        {
          "name": "stdout",
          "output_type": "stream",
          "text": [
            "Epoch 26 Metrics:\n",
            "  Loss_DV:         0.5991\n",
            "  Loss_DS:         0.5908\n",
            "  Loss_adv_vocal:     0.1612\n",
            "  Loss_adv_speech:     0.1529\n",
            "  Loss_Cycle Vocal:     4.2206\n",
            "  Loss_Cycle Speech:     4.4338\n",
            "  Loss_Identity Vocal:     14.8403\n",
            "  Loss_Identity Speech:     16.0961\n",
            "  Grad Norm DV:    0.0000\n",
            "  Grad Norm DS:    0.0000\n",
            "  Grad Norm GV:    0.0706\n",
            "  Grad Norm GS:    0.0803\n",
            "  num_DV_updates:    0.0000\n",
            "  num_DS_updates:    0.0000\n",
            "\n",
            "=== Epoch 27/50 ===\n"
          ]
        },
        {
          "name": "stderr",
          "output_type": "stream",
          "text": [
            "Training Batches: 65it [01:02,  1.04it/s]\n"
          ]
        },
        {
          "name": "stdout",
          "output_type": "stream",
          "text": [
            "Epoch 27 Metrics:\n",
            "  Loss_DV:         0.5986\n",
            "  Loss_DS:         0.5887\n",
            "  Loss_adv_vocal:     0.1606\n",
            "  Loss_adv_speech:     0.1532\n",
            "  Loss_Cycle Vocal:     4.4594\n",
            "  Loss_Cycle Speech:     4.6309\n",
            "  Loss_Identity Vocal:     14.8279\n",
            "  Loss_Identity Speech:     16.1248\n",
            "  Grad Norm DV:    0.0000\n",
            "  Grad Norm DS:    0.0000\n",
            "  Grad Norm GV:    0.0886\n",
            "  Grad Norm GS:    0.0994\n",
            "  num_DV_updates:    0.0000\n",
            "  num_DS_updates:    0.0000\n",
            "\n",
            "=== Epoch 28/50 ===\n"
          ]
        },
        {
          "name": "stderr",
          "output_type": "stream",
          "text": [
            "Training Batches: 65it [01:02,  1.04it/s]\n"
          ]
        },
        {
          "name": "stdout",
          "output_type": "stream",
          "text": [
            "Epoch 28 Metrics:\n",
            "  Loss_DV:         0.6050\n",
            "  Loss_DS:         0.5898\n",
            "  Loss_adv_vocal:     0.1560\n",
            "  Loss_adv_speech:     0.1536\n",
            "  Loss_Cycle Vocal:     4.1776\n",
            "  Loss_Cycle Speech:     4.3523\n",
            "  Loss_Identity Vocal:     15.0676\n",
            "  Loss_Identity Speech:     16.1501\n",
            "  Grad Norm DV:    1.4555\n",
            "  Grad Norm DS:    0.0000\n",
            "  Grad Norm GV:    0.0657\n",
            "  Grad Norm GS:    0.0744\n",
            "  num_DV_updates:    2.0000\n",
            "  num_DS_updates:    0.0000\n",
            "\n",
            "=== Epoch 29/50 ===\n"
          ]
        },
        {
          "name": "stderr",
          "output_type": "stream",
          "text": [
            "Training Batches: 65it [01:02,  1.04it/s]\n"
          ]
        },
        {
          "name": "stdout",
          "output_type": "stream",
          "text": [
            "Epoch 29 Metrics:\n",
            "  Loss_DV:         0.7953\n",
            "  Loss_DS:         0.5922\n",
            "  Loss_adv_vocal:     0.0695\n",
            "  Loss_adv_speech:     0.1530\n",
            "  Loss_Cycle Vocal:     3.9934\n",
            "  Loss_Cycle Speech:     4.1876\n",
            "  Loss_Identity Vocal:     15.0940\n",
            "  Loss_Identity Speech:     16.2680\n",
            "  Grad Norm DV:    0.3756\n",
            "  Grad Norm DS:    0.0000\n",
            "  Grad Norm GV:    0.0577\n",
            "  Grad Norm GS:    0.0654\n",
            "  num_DV_updates:    16.0000\n",
            "  num_DS_updates:    0.0000\n",
            "\n",
            "=== Epoch 30/50 ===\n"
          ]
        },
        {
          "name": "stderr",
          "output_type": "stream",
          "text": [
            "Training Batches: 65it [01:03,  1.02it/s]\n"
          ]
        },
        {
          "name": "stdout",
          "output_type": "stream",
          "text": [
            "Epoch 30 Metrics:\n",
            "  Loss_DV:         0.6454\n",
            "  Loss_DS:         0.5914\n",
            "  Loss_adv_vocal:     0.1458\n",
            "  Loss_adv_speech:     0.1528\n",
            "  Loss_Cycle Vocal:     3.9604\n",
            "  Loss_Cycle Speech:     4.1514\n",
            "  Loss_Identity Vocal:     15.2302\n",
            "  Loss_Identity Speech:     16.4775\n",
            "  Grad Norm DV:    0.1641\n",
            "  Grad Norm DS:    0.0000\n",
            "  Grad Norm GV:    0.0705\n",
            "  Grad Norm GS:    0.0856\n",
            "  num_DV_updates:    13.0000\n",
            "  num_DS_updates:    0.0000\n",
            "\n",
            "=== Epoch 31/50 ===\n"
          ]
        },
        {
          "name": "stderr",
          "output_type": "stream",
          "text": [
            "Training Batches: 65it [01:04,  1.00it/s]\n"
          ]
        },
        {
          "name": "stdout",
          "output_type": "stream",
          "text": [
            "Epoch 31 Metrics:\n",
            "  Loss_DV:         0.6830\n",
            "  Loss_DS:         0.5924\n",
            "  Loss_adv_vocal:     0.1044\n",
            "  Loss_adv_speech:     0.1522\n",
            "  Loss_Cycle Vocal:     3.9661\n",
            "  Loss_Cycle Speech:     4.1412\n",
            "  Loss_Identity Vocal:     15.3255\n",
            "  Loss_Identity Speech:     16.5839\n",
            "  Grad Norm DV:    0.2015\n",
            "  Grad Norm DS:    0.0000\n",
            "  Grad Norm GV:    0.0661\n",
            "  Grad Norm GS:    0.0790\n",
            "  num_DV_updates:    14.0000\n",
            "  num_DS_updates:    0.0000\n",
            "\n",
            "=== Epoch 32/50 ===\n"
          ]
        },
        {
          "name": "stderr",
          "output_type": "stream",
          "text": [
            "Training Batches: 65it [01:05,  1.01s/it]\n"
          ]
        },
        {
          "name": "stdout",
          "output_type": "stream",
          "text": [
            "Epoch 32 Metrics:\n",
            "  Loss_DV:         0.6527\n",
            "  Loss_DS:         0.5921\n",
            "  Loss_adv_vocal:     0.1130\n",
            "  Loss_adv_speech:     0.1522\n",
            "  Loss_Cycle Vocal:     3.9507\n",
            "  Loss_Cycle Speech:     4.1363\n",
            "  Loss_Identity Vocal:     15.2732\n",
            "  Loss_Identity Speech:     16.4658\n",
            "  Grad Norm DV:    0.1571\n",
            "  Grad Norm DS:    0.0000\n",
            "  Grad Norm GV:    0.0671\n",
            "  Grad Norm GS:    0.0753\n",
            "  num_DV_updates:    14.0000\n",
            "  num_DS_updates:    0.0000\n",
            "\n",
            "=== Epoch 33/50 ===\n"
          ]
        },
        {
          "name": "stderr",
          "output_type": "stream",
          "text": [
            "Training Batches: 65it [01:05,  1.00s/it]\n"
          ]
        },
        {
          "name": "stdout",
          "output_type": "stream",
          "text": [
            "Epoch 33 Metrics:\n",
            "  Loss_DV:         0.6412\n",
            "  Loss_DS:         0.5931\n",
            "  Loss_adv_vocal:     0.1201\n",
            "  Loss_adv_speech:     0.1519\n",
            "  Loss_Cycle Vocal:     3.9302\n",
            "  Loss_Cycle Speech:     4.0832\n",
            "  Loss_Identity Vocal:     15.2730\n",
            "  Loss_Identity Speech:     16.4065\n",
            "  Grad Norm DV:    0.4005\n",
            "  Grad Norm DS:    0.0000\n",
            "  Grad Norm GV:    0.0663\n",
            "  Grad Norm GS:    0.0765\n",
            "  num_DV_updates:    8.0000\n",
            "  num_DS_updates:    0.0000\n",
            "\n",
            "=== Epoch 34/50 ===\n"
          ]
        },
        {
          "name": "stderr",
          "output_type": "stream",
          "text": [
            "Training Batches: 65it [01:04,  1.01it/s]\n"
          ]
        },
        {
          "name": "stdout",
          "output_type": "stream",
          "text": [
            "Epoch 34 Metrics:\n",
            "  Loss_DV:         0.6631\n",
            "  Loss_DS:         0.5919\n",
            "  Loss_adv_vocal:     0.1058\n",
            "  Loss_adv_speech:     0.1519\n",
            "  Loss_Cycle Vocal:     3.9058\n",
            "  Loss_Cycle Speech:     4.0346\n",
            "  Loss_Identity Vocal:     15.3053\n",
            "  Loss_Identity Speech:     16.4001\n",
            "  Grad Norm DV:    0.1557\n",
            "  Grad Norm DS:    0.0000\n",
            "  Grad Norm GV:    0.0646\n",
            "  Grad Norm GS:    0.0753\n",
            "  num_DV_updates:    14.0000\n",
            "  num_DS_updates:    0.0000\n",
            "\n",
            "=== Epoch 35/50 ===\n"
          ]
        },
        {
          "name": "stderr",
          "output_type": "stream",
          "text": [
            "Training Batches: 65it [01:02,  1.03it/s]\n"
          ]
        },
        {
          "name": "stdout",
          "output_type": "stream",
          "text": [
            "Epoch 35 Metrics:\n",
            "  Loss_DV:         0.5845\n",
            "  Loss_DS:         0.5927\n",
            "  Loss_adv_vocal:     0.1610\n",
            "  Loss_adv_speech:     0.1521\n",
            "  Loss_Cycle Vocal:     3.8472\n",
            "  Loss_Cycle Speech:     3.9885\n",
            "  Loss_Identity Vocal:     15.3635\n",
            "  Loss_Identity Speech:     16.4611\n",
            "  Grad Norm DV:    0.0000\n",
            "  Grad Norm DS:    0.0000\n",
            "  Grad Norm GV:    0.0632\n",
            "  Grad Norm GS:    0.0734\n",
            "  num_DV_updates:    0.0000\n",
            "  num_DS_updates:    0.0000\n",
            "\n",
            "=== Epoch 36/50 ===\n"
          ]
        },
        {
          "name": "stderr",
          "output_type": "stream",
          "text": [
            "Training Batches: 65it [01:03,  1.03it/s]\n"
          ]
        },
        {
          "name": "stdout",
          "output_type": "stream",
          "text": [
            "Epoch 36 Metrics:\n",
            "  Loss_DV:         0.5839\n",
            "  Loss_DS:         0.5932\n",
            "  Loss_adv_vocal:     0.1605\n",
            "  Loss_adv_speech:     0.1519\n",
            "  Loss_Cycle Vocal:     3.7870\n",
            "  Loss_Cycle Speech:     3.9021\n",
            "  Loss_Identity Vocal:     15.4856\n",
            "  Loss_Identity Speech:     16.5651\n",
            "  Grad Norm DV:    0.0000\n",
            "  Grad Norm DS:    0.0000\n",
            "  Grad Norm GV:    0.0615\n",
            "  Grad Norm GS:    0.0687\n",
            "  num_DV_updates:    0.0000\n",
            "  num_DS_updates:    0.0000\n",
            "\n",
            "=== Epoch 37/50 ===\n"
          ]
        },
        {
          "name": "stderr",
          "output_type": "stream",
          "text": [
            "Training Batches: 65it [01:02,  1.04it/s]\n"
          ]
        },
        {
          "name": "stdout",
          "output_type": "stream",
          "text": [
            "Epoch 37 Metrics:\n",
            "  Loss_DV:         0.5850\n",
            "  Loss_DS:         0.5934\n",
            "  Loss_adv_vocal:     0.1606\n",
            "  Loss_adv_speech:     0.1521\n",
            "  Loss_Cycle Vocal:     3.7468\n",
            "  Loss_Cycle Speech:     3.8545\n",
            "  Loss_Identity Vocal:     15.4837\n",
            "  Loss_Identity Speech:     16.5825\n",
            "  Grad Norm DV:    0.0000\n",
            "  Grad Norm DS:    0.0000\n",
            "  Grad Norm GV:    0.0678\n",
            "  Grad Norm GS:    0.0781\n",
            "  num_DV_updates:    0.0000\n",
            "  num_DS_updates:    0.0000\n",
            "\n",
            "=== Epoch 38/50 ===\n"
          ]
        },
        {
          "name": "stderr",
          "output_type": "stream",
          "text": [
            "Training Batches: 65it [01:00,  1.07it/s]\n"
          ]
        },
        {
          "name": "stdout",
          "output_type": "stream",
          "text": [
            "Epoch 38 Metrics:\n",
            "  Loss_DV:         0.5858\n",
            "  Loss_DS:         0.5941\n",
            "  Loss_adv_vocal:     0.1603\n",
            "  Loss_adv_speech:     0.1517\n",
            "  Loss_Cycle Vocal:     3.9553\n",
            "  Loss_Cycle Speech:     4.1058\n",
            "  Loss_Identity Vocal:     15.5530\n",
            "  Loss_Identity Speech:     16.5472\n",
            "  Grad Norm DV:    0.0000\n",
            "  Grad Norm DS:    0.0000\n",
            "  Grad Norm GV:    0.0821\n",
            "  Grad Norm GS:    0.0870\n",
            "  num_DV_updates:    0.0000\n",
            "  num_DS_updates:    0.0000\n",
            "\n",
            "=== Epoch 39/50 ===\n"
          ]
        },
        {
          "name": "stderr",
          "output_type": "stream",
          "text": [
            "Training Batches: 65it [01:00,  1.07it/s]\n"
          ]
        },
        {
          "name": "stdout",
          "output_type": "stream",
          "text": [
            "Epoch 39 Metrics:\n",
            "  Loss_DV:         0.5856\n",
            "  Loss_DS:         0.5921\n",
            "  Loss_adv_vocal:     0.1605\n",
            "  Loss_adv_speech:     0.1522\n",
            "  Loss_Cycle Vocal:     3.8160\n",
            "  Loss_Cycle Speech:     3.9516\n",
            "  Loss_Identity Vocal:     15.3300\n",
            "  Loss_Identity Speech:     16.1929\n",
            "  Grad Norm DV:    0.0000\n",
            "  Grad Norm DS:    0.0000\n",
            "  Grad Norm GV:    0.0669\n",
            "  Grad Norm GS:    0.0723\n",
            "  num_DV_updates:    0.0000\n",
            "  num_DS_updates:    0.0000\n",
            "\n",
            "=== Epoch 40/50 ===\n"
          ]
        },
        {
          "name": "stderr",
          "output_type": "stream",
          "text": [
            "Training Batches: 65it [01:02,  1.05it/s]\n"
          ]
        },
        {
          "name": "stdout",
          "output_type": "stream",
          "text": [
            "Epoch 40 Metrics:\n",
            "  Loss_DV:         0.5850\n",
            "  Loss_DS:         0.5936\n",
            "  Loss_adv_vocal:     0.1603\n",
            "  Loss_adv_speech:     0.1515\n",
            "  Loss_Cycle Vocal:     3.7362\n",
            "  Loss_Cycle Speech:     3.8449\n",
            "  Loss_Identity Vocal:     15.2846\n",
            "  Loss_Identity Speech:     16.2293\n",
            "  Grad Norm DV:    0.0000\n",
            "  Grad Norm DS:    0.0000\n",
            "  Grad Norm GV:    0.0656\n",
            "  Grad Norm GS:    0.0778\n",
            "  num_DV_updates:    0.0000\n",
            "  num_DS_updates:    0.0000\n",
            "\n",
            "=== Epoch 41/50 ===\n"
          ]
        },
        {
          "name": "stderr",
          "output_type": "stream",
          "text": [
            "Training Batches: 65it [01:03,  1.03it/s]\n"
          ]
        },
        {
          "name": "stdout",
          "output_type": "stream",
          "text": [
            "Epoch 41 Metrics:\n",
            "  Loss_DV:         0.5858\n",
            "  Loss_DS:         0.5933\n",
            "  Loss_adv_vocal:     0.1601\n",
            "  Loss_adv_speech:     0.1513\n",
            "  Loss_Cycle Vocal:     3.6524\n",
            "  Loss_Cycle Speech:     3.7824\n",
            "  Loss_Identity Vocal:     15.3166\n",
            "  Loss_Identity Speech:     16.3056\n",
            "  Grad Norm DV:    0.0000\n",
            "  Grad Norm DS:    0.0000\n",
            "  Grad Norm GV:    0.0612\n",
            "  Grad Norm GS:    0.0721\n",
            "  num_DV_updates:    0.0000\n",
            "  num_DS_updates:    0.0000\n",
            "\n",
            "=== Epoch 42/50 ===\n"
          ]
        },
        {
          "name": "stderr",
          "output_type": "stream",
          "text": [
            "Training Batches: 65it [01:03,  1.03it/s]\n"
          ]
        },
        {
          "name": "stdout",
          "output_type": "stream",
          "text": [
            "Epoch 42 Metrics:\n",
            "  Loss_DV:         0.5857\n",
            "  Loss_DS:         0.5947\n",
            "  Loss_adv_vocal:     0.1600\n",
            "  Loss_adv_speech:     0.1515\n",
            "  Loss_Cycle Vocal:     3.6192\n",
            "  Loss_Cycle Speech:     3.7523\n",
            "  Loss_Identity Vocal:     15.3814\n",
            "  Loss_Identity Speech:     16.4027\n",
            "  Grad Norm DV:    0.0000\n",
            "  Grad Norm DS:    0.0000\n",
            "  Grad Norm GV:    0.0567\n",
            "  Grad Norm GS:    0.0671\n",
            "  num_DV_updates:    0.0000\n",
            "  num_DS_updates:    0.0000\n",
            "\n",
            "=== Epoch 43/50 ===\n"
          ]
        },
        {
          "name": "stderr",
          "output_type": "stream",
          "text": [
            "Training Batches: 65it [01:02,  1.03it/s]\n"
          ]
        },
        {
          "name": "stdout",
          "output_type": "stream",
          "text": [
            "Epoch 43 Metrics:\n",
            "  Loss_DV:         0.5869\n",
            "  Loss_DS:         0.5962\n",
            "  Loss_adv_vocal:     0.1596\n",
            "  Loss_adv_speech:     0.1511\n",
            "  Loss_Cycle Vocal:     3.5411\n",
            "  Loss_Cycle Speech:     3.6782\n",
            "  Loss_Identity Vocal:     15.4344\n",
            "  Loss_Identity Speech:     16.4820\n",
            "  Grad Norm DV:    0.0000\n",
            "  Grad Norm DS:    0.0000\n",
            "  Grad Norm GV:    0.0527\n",
            "  Grad Norm GS:    0.0610\n",
            "  num_DV_updates:    0.0000\n",
            "  num_DS_updates:    0.0000\n",
            "\n",
            "=== Epoch 44/50 ===\n"
          ]
        },
        {
          "name": "stderr",
          "output_type": "stream",
          "text": [
            "Training Batches: 65it [01:02,  1.04it/s]\n"
          ]
        },
        {
          "name": "stdout",
          "output_type": "stream",
          "text": [
            "Epoch 44 Metrics:\n",
            "  Loss_DV:         0.5868\n",
            "  Loss_DS:         0.5968\n",
            "  Loss_adv_vocal:     0.1594\n",
            "  Loss_adv_speech:     0.1497\n",
            "  Loss_Cycle Vocal:     3.5193\n",
            "  Loss_Cycle Speech:     3.6635\n",
            "  Loss_Identity Vocal:     15.5225\n",
            "  Loss_Identity Speech:     16.5929\n",
            "  Grad Norm DV:    0.0000\n",
            "  Grad Norm DS:    3.2303\n",
            "  Grad Norm GV:    0.0629\n",
            "  Grad Norm GS:    0.0713\n",
            "  num_DV_updates:    0.0000\n",
            "  num_DS_updates:    1.0000\n",
            "\n",
            "=== Epoch 45/50 ===\n"
          ]
        },
        {
          "name": "stderr",
          "output_type": "stream",
          "text": [
            "Training Batches: 65it [01:02,  1.04it/s]\n"
          ]
        },
        {
          "name": "stdout",
          "output_type": "stream",
          "text": [
            "Epoch 45 Metrics:\n",
            "  Loss_DV:         0.5869\n",
            "  Loss_DS:         0.6359\n",
            "  Loss_adv_vocal:     0.1595\n",
            "  Loss_adv_speech:     0.1241\n",
            "  Loss_Cycle Vocal:     3.4375\n",
            "  Loss_Cycle Speech:     3.5955\n",
            "  Loss_Identity Vocal:     15.5891\n",
            "  Loss_Identity Speech:     16.6670\n",
            "  Grad Norm DV:    0.0000\n",
            "  Grad Norm DS:    0.5599\n",
            "  Grad Norm GV:    0.0623\n",
            "  Grad Norm GS:    0.0697\n",
            "  num_DV_updates:    0.0000\n",
            "  num_DS_updates:    7.0000\n",
            "\n",
            "=== Epoch 46/50 ===\n"
          ]
        },
        {
          "name": "stderr",
          "output_type": "stream",
          "text": [
            "Training Batches: 65it [01:02,  1.04it/s]\n"
          ]
        },
        {
          "name": "stdout",
          "output_type": "stream",
          "text": [
            "Epoch 46 Metrics:\n",
            "  Loss_DV:         0.5877\n",
            "  Loss_DS:         0.7362\n",
            "  Loss_adv_vocal:     0.1591\n",
            "  Loss_adv_speech:     0.0820\n",
            "  Loss_Cycle Vocal:     3.4071\n",
            "  Loss_Cycle Speech:     3.5757\n",
            "  Loss_Identity Vocal:     15.6448\n",
            "  Loss_Identity Speech:     16.6896\n",
            "  Grad Norm DV:    0.0000\n",
            "  Grad Norm DS:    0.2503\n",
            "  Grad Norm GV:    0.0596\n",
            "  Grad Norm GS:    0.0658\n",
            "  num_DV_updates:    0.0000\n",
            "  num_DS_updates:    17.0000\n",
            "\n",
            "=== Epoch 47/50 ===\n"
          ]
        },
        {
          "name": "stderr",
          "output_type": "stream",
          "text": [
            "Training Batches: 65it [01:02,  1.04it/s]\n"
          ]
        },
        {
          "name": "stdout",
          "output_type": "stream",
          "text": [
            "Epoch 47 Metrics:\n",
            "  Loss_DV:         0.5878\n",
            "  Loss_DS:         0.6237\n",
            "  Loss_adv_vocal:     0.1586\n",
            "  Loss_adv_speech:     0.1330\n",
            "  Loss_Cycle Vocal:     3.4112\n",
            "  Loss_Cycle Speech:     3.5839\n",
            "  Loss_Identity Vocal:     15.7098\n",
            "  Loss_Identity Speech:     16.7080\n",
            "  Grad Norm DV:    0.0000\n",
            "  Grad Norm DS:    0.2128\n",
            "  Grad Norm GV:    0.0651\n",
            "  Grad Norm GS:    0.0744\n",
            "  num_DV_updates:    0.0000\n",
            "  num_DS_updates:    12.0000\n",
            "\n",
            "=== Epoch 48/50 ===\n"
          ]
        },
        {
          "name": "stderr",
          "output_type": "stream",
          "text": [
            "Training Batches: 65it [01:03,  1.03it/s]\n"
          ]
        },
        {
          "name": "stdout",
          "output_type": "stream",
          "text": [
            "Epoch 48 Metrics:\n",
            "  Loss_DV:         0.5878\n",
            "  Loss_DS:         0.6248\n",
            "  Loss_adv_vocal:     0.1586\n",
            "  Loss_adv_speech:     0.1228\n",
            "  Loss_Cycle Vocal:     3.3621\n",
            "  Loss_Cycle Speech:     3.5565\n",
            "  Loss_Identity Vocal:     15.7191\n",
            "  Loss_Identity Speech:     16.7114\n",
            "  Grad Norm DV:    0.0000\n",
            "  Grad Norm DS:    0.2977\n",
            "  Grad Norm GV:    0.0634\n",
            "  Grad Norm GS:    0.0707\n",
            "  num_DV_updates:    0.0000\n",
            "  num_DS_updates:    10.0000\n",
            "\n",
            "=== Epoch 49/50 ===\n"
          ]
        },
        {
          "name": "stderr",
          "output_type": "stream",
          "text": [
            "Training Batches: 65it [01:02,  1.04it/s]\n"
          ]
        },
        {
          "name": "stdout",
          "output_type": "stream",
          "text": [
            "Epoch 49 Metrics:\n",
            "  Loss_DV:         0.5879\n",
            "  Loss_DS:         0.6375\n",
            "  Loss_adv_vocal:     0.1589\n",
            "  Loss_adv_speech:     0.1125\n",
            "  Loss_Cycle Vocal:     3.3509\n",
            "  Loss_Cycle Speech:     3.5582\n",
            "  Loss_Identity Vocal:     15.7626\n",
            "  Loss_Identity Speech:     16.7232\n",
            "  Grad Norm DV:    0.0000\n",
            "  Grad Norm DS:    0.2291\n",
            "  Grad Norm GV:    0.0630\n",
            "  Grad Norm GS:    0.0748\n",
            "  num_DV_updates:    0.0000\n",
            "  num_DS_updates:    13.0000\n",
            "\n",
            "=== Epoch 50/50 ===\n"
          ]
        },
        {
          "name": "stderr",
          "output_type": "stream",
          "text": [
            "Training Batches: 65it [01:03,  1.03it/s]"
          ]
        },
        {
          "name": "stdout",
          "output_type": "stream",
          "text": [
            "Epoch 50 Metrics:\n",
            "  Loss_DV:         0.5885\n",
            "  Loss_DS:         0.5934\n",
            "  Loss_adv_vocal:     0.1581\n",
            "  Loss_adv_speech:     0.1359\n",
            "  Loss_Cycle Vocal:     3.3135\n",
            "  Loss_Cycle Speech:     3.5201\n",
            "  Loss_Identity Vocal:     15.7926\n",
            "  Loss_Identity Speech:     16.7192\n",
            "  Grad Norm DV:    0.0000\n",
            "  Grad Norm DS:    0.0000\n",
            "  Grad Norm GV:    0.0584\n",
            "  Grad Norm GS:    0.0659\n",
            "  num_DV_updates:    0.0000\n",
            "  num_DS_updates:    0.0000\n"
          ]
        },
        {
          "name": "stderr",
          "output_type": "stream",
          "text": [
            "\n"
          ]
        }
      ],
      "source": [
        "cycle_train_epoch = torch.compile(cycle_train_epoch, mode=\"default\")\n",
        "\n",
        "# # Start training.\n",
        "# audio_files = cycle_train(\n",
        "#     generator_vocal,\n",
        "#     generator_speech,\n",
        "#     discriminator_vocal,\n",
        "#     discriminator_speech,\n",
        "#     optimizer_DV,\n",
        "#     optimizer_DS,\n",
        "#     optimizer_GV,\n",
        "#     optimizer_GS,\n",
        "#     accompaniment_loader,\n",
        "#     vocal_loader,\n",
        "#     speech_loader,\n",
        "#     l1_loss,\n",
        "#     train_parameters[\"lambda_l1\"],\n",
        "#     train_parameters[\"lambda_cycle\"],\n",
        "#     adversarial_loss,\n",
        "#     device,\n",
        "#     num_epochs          = train_parameters[\"num_epochs\"],\n",
        "#     virtual_batch_size  = train_parameters[\"virtual_batch_size\"],\n",
        "#     log_dir             = train_parameters[\"log_dir\"],\n",
        "#     clip_length = train_parameters[\"clip_length\"],\n",
        "#     input_size_generators = train_parameters[\"input_size_generators\"],\n",
        "# )\n",
        "\n",
        "audio_files = cycle_train(\n",
        "    generator_vocal,\n",
        "    generator_speech,\n",
        "    discriminator_vocal,\n",
        "    discriminator_speech,\n",
        "    optimizer_DV,\n",
        "    optimizer_DS,\n",
        "    optimizer_GV,\n",
        "    optimizer_GS,\n",
        "    acc_voc_loader,\n",
        "    speech_loader,\n",
        "    l1_loss,\n",
        "    mse_loss,\n",
        "    train_parameters[\"lambda_l1\"],\n",
        "    train_parameters[\"lambda_cycle\"],\n",
        "    train_parameters[\"lambda_identity\"],\n",
        "    bce_loss,\n",
        "    device,\n",
        "    num_epochs          = train_parameters[\"num_epochs\"],\n",
        "    virtual_batch_size  = train_parameters[\"virtual_batch_size\"],\n",
        "    log_dir             = train_parameters[\"log_dir\"],\n",
        "    clip_length = train_parameters[\"clip_length\"],\n",
        "    input_size_generators = train_parameters[\"input_size_generators\"],\n",
        "    batch_size = train_parameters[\"batch_size\"]\n",
        ")\n"
      ]
    },
    {
      "cell_type": "code",
      "execution_count": 20,
      "metadata": {
        "id": "MuLveiJ9rStq"
      },
      "outputs": [
        {
          "name": "stdout",
          "output_type": "stream",
          "text": [
            "\n",
            "=== Epoch 1/50 ===\n"
          ]
        },
        {
          "name": "stderr",
          "output_type": "stream",
          "text": [
            "Training Batches: 65it [01:03,  1.02it/s]\n"
          ]
        },
        {
          "name": "stdout",
          "output_type": "stream",
          "text": [
            "Epoch 1 Metrics:\n",
            "  Loss_DV:         0.5887\n",
            "  Loss_DS:         0.5927\n",
            "  Loss_adv_vocal:     0.1584\n",
            "  Loss_adv_speech:     0.1357\n",
            "  Loss_Cycle Vocal:     3.2867\n",
            "  Loss_Cycle Speech:     3.5220\n",
            "  Loss_Identity Vocal:     15.8233\n",
            "  Loss_Identity Speech:     16.7654\n",
            "  Grad Norm DV:    0.0000\n",
            "  Grad Norm DS:    0.0000\n",
            "  Grad Norm GV:    0.0600\n",
            "  Grad Norm GS:    0.0673\n",
            "  num_DV_updates:    0.0000\n",
            "  num_DS_updates:    0.0000\n",
            "\n",
            "=== Epoch 2/50 ===\n"
          ]
        },
        {
          "name": "stderr",
          "output_type": "stream",
          "text": [
            "Training Batches: 65it [01:03,  1.03it/s]\n"
          ]
        },
        {
          "name": "stdout",
          "output_type": "stream",
          "text": [
            "Epoch 2 Metrics:\n",
            "  Loss_DV:         0.5887\n",
            "  Loss_DS:         0.5928\n",
            "  Loss_adv_vocal:     0.1579\n",
            "  Loss_adv_speech:     0.1355\n",
            "  Loss_Cycle Vocal:     3.2379\n",
            "  Loss_Cycle Speech:     3.4977\n",
            "  Loss_Identity Vocal:     15.8232\n",
            "  Loss_Identity Speech:     16.7900\n",
            "  Grad Norm DV:    0.0000\n",
            "  Grad Norm DS:    0.0000\n",
            "  Grad Norm GV:    0.0604\n",
            "  Grad Norm GS:    0.0716\n",
            "  num_DV_updates:    0.0000\n",
            "  num_DS_updates:    0.0000\n",
            "\n",
            "=== Epoch 3/50 ===\n"
          ]
        },
        {
          "name": "stderr",
          "output_type": "stream",
          "text": [
            "Training Batches: 48it [00:46,  1.03it/s]\n"
          ]
        },
        {
          "ename": "KeyboardInterrupt",
          "evalue": "",
          "output_type": "error",
          "traceback": [
            "\u001b[0;31m---------------------------------------------------------------------------\u001b[0m",
            "\u001b[0;31mKeyboardInterrupt\u001b[0m                         Traceback (most recent call last)",
            "Cell \u001b[0;32mIn[20], line 3\u001b[0m\n\u001b[1;32m      1\u001b[0m now \u001b[38;5;241m=\u001b[39m datetime\u001b[38;5;241m.\u001b[39mnow()\u001b[38;5;241m.\u001b[39mstrftime(\u001b[38;5;124m\"\u001b[39m\u001b[38;5;124m%\u001b[39m\u001b[38;5;124mY\u001b[39m\u001b[38;5;124m%\u001b[39m\u001b[38;5;124mm\u001b[39m\u001b[38;5;132;01m%d\u001b[39;00m\u001b[38;5;124m-\u001b[39m\u001b[38;5;124m%\u001b[39m\u001b[38;5;124mH\u001b[39m\u001b[38;5;124m%\u001b[39m\u001b[38;5;124mM\u001b[39m\u001b[38;5;124m%\u001b[39m\u001b[38;5;124mS\u001b[39m\u001b[38;5;124m\"\u001b[39m)\n\u001b[1;32m      2\u001b[0m log_dir \u001b[38;5;241m=\u001b[39m \u001b[38;5;124m\"\u001b[39m\u001b[38;5;124mruns/\u001b[39m\u001b[38;5;124m\"\u001b[39m \u001b[38;5;241m+\u001b[39m \u001b[38;5;124m\"\u001b[39m\u001b[38;5;124mcycleGAN_experiment_\u001b[39m\u001b[38;5;124m\"\u001b[39m \u001b[38;5;241m+\u001b[39m now\n\u001b[0;32m----> 3\u001b[0m audio_files \u001b[38;5;241m=\u001b[39m \u001b[43mcycle_train\u001b[49m\u001b[43m(\u001b[49m\n\u001b[1;32m      4\u001b[0m \u001b[43m    \u001b[49m\u001b[43mgenerator_vocal\u001b[49m\u001b[43m,\u001b[49m\n\u001b[1;32m      5\u001b[0m \u001b[43m    \u001b[49m\u001b[43mgenerator_speech\u001b[49m\u001b[43m,\u001b[49m\n\u001b[1;32m      6\u001b[0m \u001b[43m    \u001b[49m\u001b[43mdiscriminator_vocal\u001b[49m\u001b[43m,\u001b[49m\n\u001b[1;32m      7\u001b[0m \u001b[43m    \u001b[49m\u001b[43mdiscriminator_speech\u001b[49m\u001b[43m,\u001b[49m\n\u001b[1;32m      8\u001b[0m \u001b[43m    \u001b[49m\u001b[43moptimizer_DV\u001b[49m\u001b[43m,\u001b[49m\n\u001b[1;32m      9\u001b[0m \u001b[43m    \u001b[49m\u001b[43moptimizer_DS\u001b[49m\u001b[43m,\u001b[49m\n\u001b[1;32m     10\u001b[0m \u001b[43m    \u001b[49m\u001b[43moptimizer_GV\u001b[49m\u001b[43m,\u001b[49m\n\u001b[1;32m     11\u001b[0m \u001b[43m    \u001b[49m\u001b[43moptimizer_GS\u001b[49m\u001b[43m,\u001b[49m\n\u001b[1;32m     12\u001b[0m \u001b[43m    \u001b[49m\u001b[43macc_voc_loader\u001b[49m\u001b[43m,\u001b[49m\n\u001b[1;32m     13\u001b[0m \u001b[43m    \u001b[49m\u001b[43mspeech_loader\u001b[49m\u001b[43m,\u001b[49m\n\u001b[1;32m     14\u001b[0m \u001b[43m    \u001b[49m\u001b[43ml1_loss\u001b[49m\u001b[43m,\u001b[49m\n\u001b[1;32m     15\u001b[0m \u001b[43m    \u001b[49m\u001b[43mmse_loss\u001b[49m\u001b[43m,\u001b[49m\n\u001b[1;32m     16\u001b[0m \u001b[43m    \u001b[49m\u001b[43mtrain_parameters\u001b[49m\u001b[43m[\u001b[49m\u001b[38;5;124;43m\"\u001b[39;49m\u001b[38;5;124;43mlambda_l1\u001b[39;49m\u001b[38;5;124;43m\"\u001b[39;49m\u001b[43m]\u001b[49m\u001b[43m,\u001b[49m\n\u001b[1;32m     17\u001b[0m \u001b[43m    \u001b[49m\u001b[43mtrain_parameters\u001b[49m\u001b[43m[\u001b[49m\u001b[38;5;124;43m\"\u001b[39;49m\u001b[38;5;124;43mlambda_cycle\u001b[39;49m\u001b[38;5;124;43m\"\u001b[39;49m\u001b[43m]\u001b[49m\u001b[43m,\u001b[49m\n\u001b[1;32m     18\u001b[0m \u001b[43m    \u001b[49m\u001b[43mtrain_parameters\u001b[49m\u001b[43m[\u001b[49m\u001b[38;5;124;43m\"\u001b[39;49m\u001b[38;5;124;43mlambda_identity\u001b[39;49m\u001b[38;5;124;43m\"\u001b[39;49m\u001b[43m]\u001b[49m\u001b[43m,\u001b[49m\n\u001b[1;32m     19\u001b[0m \u001b[43m    \u001b[49m\u001b[43mbce_loss\u001b[49m\u001b[43m,\u001b[49m\n\u001b[1;32m     20\u001b[0m \u001b[43m    \u001b[49m\u001b[43mdevice\u001b[49m\u001b[43m,\u001b[49m\n\u001b[1;32m     21\u001b[0m \u001b[43m    \u001b[49m\u001b[43mnum_epochs\u001b[49m\u001b[43m          \u001b[49m\u001b[38;5;241;43m=\u001b[39;49m\u001b[43m \u001b[49m\u001b[43mtrain_parameters\u001b[49m\u001b[43m[\u001b[49m\u001b[38;5;124;43m\"\u001b[39;49m\u001b[38;5;124;43mnum_epochs\u001b[39;49m\u001b[38;5;124;43m\"\u001b[39;49m\u001b[43m]\u001b[49m\u001b[43m,\u001b[49m\n\u001b[1;32m     22\u001b[0m \u001b[43m    \u001b[49m\u001b[43mvirtual_batch_size\u001b[49m\u001b[43m  \u001b[49m\u001b[38;5;241;43m=\u001b[39;49m\u001b[43m \u001b[49m\u001b[43mtrain_parameters\u001b[49m\u001b[43m[\u001b[49m\u001b[38;5;124;43m\"\u001b[39;49m\u001b[38;5;124;43mvirtual_batch_size\u001b[39;49m\u001b[38;5;124;43m\"\u001b[39;49m\u001b[43m]\u001b[49m\u001b[43m,\u001b[49m\n\u001b[1;32m     23\u001b[0m \u001b[43m    \u001b[49m\u001b[43mlog_dir\u001b[49m\u001b[43m             \u001b[49m\u001b[38;5;241;43m=\u001b[39;49m\u001b[43m \u001b[49m\u001b[43mtrain_parameters\u001b[49m\u001b[43m[\u001b[49m\u001b[38;5;124;43m\"\u001b[39;49m\u001b[38;5;124;43mlog_dir\u001b[39;49m\u001b[38;5;124;43m\"\u001b[39;49m\u001b[43m]\u001b[49m\u001b[43m,\u001b[49m\n\u001b[1;32m     24\u001b[0m \u001b[43m    \u001b[49m\u001b[43mclip_length\u001b[49m\u001b[43m \u001b[49m\u001b[38;5;241;43m=\u001b[39;49m\u001b[43m \u001b[49m\u001b[43mtrain_parameters\u001b[49m\u001b[43m[\u001b[49m\u001b[38;5;124;43m\"\u001b[39;49m\u001b[38;5;124;43mclip_length\u001b[39;49m\u001b[38;5;124;43m\"\u001b[39;49m\u001b[43m]\u001b[49m\u001b[43m,\u001b[49m\n\u001b[1;32m     25\u001b[0m \u001b[43m    \u001b[49m\u001b[43minput_size_generators\u001b[49m\u001b[43m \u001b[49m\u001b[38;5;241;43m=\u001b[39;49m\u001b[43m \u001b[49m\u001b[43mtrain_parameters\u001b[49m\u001b[43m[\u001b[49m\u001b[38;5;124;43m\"\u001b[39;49m\u001b[38;5;124;43minput_size_generators\u001b[39;49m\u001b[38;5;124;43m\"\u001b[39;49m\u001b[43m]\u001b[49m\u001b[43m,\u001b[49m\n\u001b[1;32m     26\u001b[0m \u001b[43m    \u001b[49m\u001b[43mbatch_size\u001b[49m\u001b[43m \u001b[49m\u001b[38;5;241;43m=\u001b[39;49m\u001b[43m \u001b[49m\u001b[43mtrain_parameters\u001b[49m\u001b[43m[\u001b[49m\u001b[38;5;124;43m\"\u001b[39;49m\u001b[38;5;124;43mbatch_size\u001b[39;49m\u001b[38;5;124;43m\"\u001b[39;49m\u001b[43m]\u001b[49m\n\u001b[1;32m     27\u001b[0m \u001b[43m)\u001b[49m\n",
            "Cell \u001b[0;32mIn[8], line 275\u001b[0m, in \u001b[0;36mcycle_train\u001b[0;34m(generator_vocal, generator_speech, discriminator_vocal, discriminator_speech, optimizer_DV, optimizer_DS, optimizer_GV, optimizer_GS, acc_voc_loader, speech_loader, l1_loss, mse_loss, lambda_l1, lambda_cycle, lambda_identity, bce_loss, device, num_epochs, virtual_batch_size, clip_length, input_size_generators, log_dir, save_audio, smart_discriminator, batch_size)\u001b[0m\n\u001b[1;32m    273\u001b[0m save_audio \u001b[38;5;241m=\u001b[39m \u001b[38;5;28;01mTrue\u001b[39;00m \u001b[38;5;28;01mif\u001b[39;00m epoch \u001b[38;5;241m==\u001b[39m num_epochs\u001b[38;5;241m-\u001b[39m\u001b[38;5;241m1\u001b[39m \u001b[38;5;28;01melse\u001b[39;00m \u001b[38;5;28;01mFalse\u001b[39;00m\n\u001b[1;32m    274\u001b[0m \u001b[38;5;28mprint\u001b[39m(\u001b[38;5;124mf\u001b[39m\u001b[38;5;124m\"\u001b[39m\u001b[38;5;130;01m\\n\u001b[39;00m\u001b[38;5;124m=== Epoch \u001b[39m\u001b[38;5;132;01m{\u001b[39;00mepoch\u001b[38;5;241m+\u001b[39m\u001b[38;5;241m1\u001b[39m\u001b[38;5;132;01m}\u001b[39;00m\u001b[38;5;124m/\u001b[39m\u001b[38;5;132;01m{\u001b[39;00mnum_epochs\u001b[38;5;132;01m}\u001b[39;00m\u001b[38;5;124m ===\u001b[39m\u001b[38;5;124m\"\u001b[39m)\n\u001b[0;32m--> 275\u001b[0m epoch_metrics \u001b[38;5;241m=\u001b[39m \u001b[43mcycle_train_epoch\u001b[49m\u001b[43m(\u001b[49m\n\u001b[1;32m    276\u001b[0m \u001b[43m    \u001b[49m\u001b[43mgenerator_vocal\u001b[49m\u001b[43m,\u001b[49m\n\u001b[1;32m    277\u001b[0m \u001b[43m    \u001b[49m\u001b[43mgenerator_speech\u001b[49m\u001b[43m,\u001b[49m\n\u001b[1;32m    278\u001b[0m \u001b[43m    \u001b[49m\u001b[43mdiscriminator_vocal\u001b[49m\u001b[43m,\u001b[49m\n\u001b[1;32m    279\u001b[0m \u001b[43m    \u001b[49m\u001b[43mdiscriminator_speech\u001b[49m\u001b[43m,\u001b[49m\n\u001b[1;32m    280\u001b[0m \u001b[43m    \u001b[49m\u001b[43moptimizer_DV\u001b[49m\u001b[43m,\u001b[49m\n\u001b[1;32m    281\u001b[0m \u001b[43m    \u001b[49m\u001b[43moptimizer_DS\u001b[49m\u001b[43m,\u001b[49m\n\u001b[1;32m    282\u001b[0m \u001b[43m    \u001b[49m\u001b[43moptimizer_GV\u001b[49m\u001b[43m,\u001b[49m\n\u001b[1;32m    283\u001b[0m \u001b[43m    \u001b[49m\u001b[43moptimizer_GS\u001b[49m\u001b[43m,\u001b[49m\n\u001b[1;32m    284\u001b[0m \u001b[43m    \u001b[49m\u001b[43macc_voc_loader\u001b[49m\u001b[43m,\u001b[49m\n\u001b[1;32m    285\u001b[0m \u001b[43m    \u001b[49m\u001b[43mspeech_loader\u001b[49m\u001b[43m,\u001b[49m\n\u001b[1;32m    286\u001b[0m \u001b[43m    \u001b[49m\u001b[43ml1_loss\u001b[49m\u001b[43m,\u001b[49m\n\u001b[1;32m    287\u001b[0m \u001b[43m    \u001b[49m\u001b[43mmse_loss\u001b[49m\u001b[43m,\u001b[49m\n\u001b[1;32m    288\u001b[0m \u001b[43m    \u001b[49m\u001b[43mlambda_l1\u001b[49m\u001b[43m,\u001b[49m\n\u001b[1;32m    289\u001b[0m \u001b[43m    \u001b[49m\u001b[43mlambda_cycle\u001b[49m\u001b[43m,\u001b[49m\n\u001b[1;32m    290\u001b[0m \u001b[43m    \u001b[49m\u001b[43mlambda_identity\u001b[49m\u001b[43m,\u001b[49m\n\u001b[1;32m    291\u001b[0m \u001b[43m    \u001b[49m\u001b[43mbce_loss\u001b[49m\u001b[43m,\u001b[49m\n\u001b[1;32m    292\u001b[0m \u001b[43m    \u001b[49m\u001b[43mdevice\u001b[49m\u001b[43m,\u001b[49m\n\u001b[1;32m    293\u001b[0m \u001b[43m    \u001b[49m\u001b[43mvirtual_batch_size\u001b[49m\u001b[43m,\u001b[49m\n\u001b[1;32m    294\u001b[0m \u001b[43m    \u001b[49m\u001b[43mclip_length\u001b[49m\u001b[43m,\u001b[49m\n\u001b[1;32m    295\u001b[0m \u001b[43m    \u001b[49m\u001b[43minput_size_generators\u001b[49m\u001b[43m,\u001b[49m\n\u001b[1;32m    296\u001b[0m \u001b[43m    \u001b[49m\u001b[43msave_output\u001b[49m\u001b[43m \u001b[49m\u001b[38;5;241;43m=\u001b[39;49m\u001b[43m \u001b[49m\u001b[43msave_audio\u001b[49m\u001b[43m,\u001b[49m\n\u001b[1;32m    297\u001b[0m \u001b[43m    \u001b[49m\u001b[43msmart_discriminator\u001b[49m\u001b[43m \u001b[49m\u001b[38;5;241;43m=\u001b[39;49m\u001b[43m \u001b[49m\u001b[43msmart_discriminator\u001b[49m\u001b[43m,\u001b[49m\n\u001b[1;32m    298\u001b[0m \u001b[43m    \u001b[49m\u001b[43mbatch_size\u001b[49m\u001b[43m \u001b[49m\u001b[38;5;241;43m=\u001b[39;49m\u001b[43m \u001b[49m\u001b[43mbatch_size\u001b[49m\n\u001b[1;32m    299\u001b[0m \u001b[43m\u001b[49m\u001b[43m)\u001b[49m\n\u001b[1;32m    300\u001b[0m \u001b[38;5;28mprint\u001b[39m(\u001b[38;5;124mf\u001b[39m\u001b[38;5;124m\"\u001b[39m\u001b[38;5;124mEpoch \u001b[39m\u001b[38;5;132;01m{\u001b[39;00mepoch\u001b[38;5;241m+\u001b[39m\u001b[38;5;241m1\u001b[39m\u001b[38;5;132;01m}\u001b[39;00m\u001b[38;5;124m Metrics:\u001b[39m\u001b[38;5;124m\"\u001b[39m)\n\u001b[1;32m    301\u001b[0m \u001b[38;5;28mprint\u001b[39m(\u001b[38;5;124mf\u001b[39m\u001b[38;5;124m\"\u001b[39m\u001b[38;5;124m  Loss_DV:         \u001b[39m\u001b[38;5;132;01m{\u001b[39;00mepoch_metrics[\u001b[38;5;124m'\u001b[39m\u001b[38;5;124mloss_DV\u001b[39m\u001b[38;5;124m'\u001b[39m]\u001b[38;5;132;01m:\u001b[39;00m\u001b[38;5;124m.4f\u001b[39m\u001b[38;5;132;01m}\u001b[39;00m\u001b[38;5;124m\"\u001b[39m)\n",
            "File \u001b[0;32m/usr/local/lib/python3.10/dist-packages/torch/_dynamo/eval_frame.py:574\u001b[0m, in \u001b[0;36m_TorchDynamoContext.__call__.<locals>._fn\u001b[0;34m(*args, **kwargs)\u001b[0m\n\u001b[1;32m    569\u001b[0m saved_dynamic_layer_stack_depth \u001b[38;5;241m=\u001b[39m (\n\u001b[1;32m    570\u001b[0m     torch\u001b[38;5;241m.\u001b[39m_C\u001b[38;5;241m.\u001b[39m_functorch\u001b[38;5;241m.\u001b[39mget_dynamic_layer_stack_depth()\n\u001b[1;32m    571\u001b[0m )\n\u001b[1;32m    573\u001b[0m \u001b[38;5;28;01mtry\u001b[39;00m:\n\u001b[0;32m--> 574\u001b[0m     \u001b[38;5;28;01mreturn\u001b[39;00m \u001b[43mfn\u001b[49m\u001b[43m(\u001b[49m\u001b[38;5;241;43m*\u001b[39;49m\u001b[43margs\u001b[49m\u001b[43m,\u001b[49m\u001b[43m \u001b[49m\u001b[38;5;241;43m*\u001b[39;49m\u001b[38;5;241;43m*\u001b[39;49m\u001b[43mkwargs\u001b[49m\u001b[43m)\u001b[49m\n\u001b[1;32m    575\u001b[0m \u001b[38;5;28;01mfinally\u001b[39;00m:\n\u001b[1;32m    576\u001b[0m     \u001b[38;5;66;03m# Restore the dynamic layer stack depth if necessary.\u001b[39;00m\n\u001b[1;32m    577\u001b[0m     torch\u001b[38;5;241m.\u001b[39m_C\u001b[38;5;241m.\u001b[39m_functorch\u001b[38;5;241m.\u001b[39mpop_dynamic_layer_stack_and_undo_to_depth(\n\u001b[1;32m    578\u001b[0m         saved_dynamic_layer_stack_depth\n\u001b[1;32m    579\u001b[0m     )\n",
            "Cell \u001b[0;32mIn[8], line 46\u001b[0m, in \u001b[0;36mcycle_train_epoch\u001b[0;34m(generator_vocal, generator_speech, discriminator_vocal, discriminator_speech, optimizer_DV, optimizer_DS, optimizer_GV, optimizer_GS, acc_voc_loader, speech_loader, l1_loss, mse_loss, lambda_l1, lambda_cycle, lambda_identity, bce_loss, device, virtual_batch_size, clip_length, input_size_generators, save_output, smart_discriminator, batch_size)\u001b[0m\n\u001b[1;32m     43\u001b[0m dv_threshold \u001b[38;5;241m=\u001b[39m \u001b[38;5;241m0.6\u001b[39m\n\u001b[1;32m     44\u001b[0m ds_threshold \u001b[38;5;241m=\u001b[39m \u001b[38;5;241m0.6\u001b[39m\n\u001b[0;32m---> 46\u001b[0m optimizer_DV\u001b[38;5;241m.\u001b[39mzero_grad()\n\u001b[1;32m     47\u001b[0m optimizer_DS\u001b[38;5;241m.\u001b[39mzero_grad()\n\u001b[1;32m     48\u001b[0m optimizer_GV\u001b[38;5;241m.\u001b[39mzero_grad()\n",
            "Cell \u001b[0;32mIn[8], line 47\u001b[0m, in \u001b[0;36mtorch_dynamo_resume_in_cycle_train_epoch_at_46\u001b[0;34m(___stack0, generator_vocal, generator_speech, discriminator_vocal, discriminator_speech, optimizer_DV, optimizer_DS, optimizer_GV, optimizer_GS, acc_voc_loader, speech_loader, l1_loss, mse_loss, lambda_cycle, lambda_identity, bce_loss, device, virtual_batch_size, clip_length, input_size_generators, smart_discriminator, batch_size, total_loss_DV, total_loss_DS, total_loss_GV, total_loss_GS, total_loss_GV_identity, total_loss_GS_identity, total_loss_adv_vocal, total_loss_adv_speech, total_loss_cycle_vocal, total_loss_cycle_speech, grad_norms_DV, grad_norms_DS, grad_norms_GV, grad_norms_GS, num_batches, alpha, running_loss_DV, running_loss_DS, dv_threshold, ds_threshold)\u001b[0m\n\u001b[1;32m     44\u001b[0m ds_threshold \u001b[38;5;241m=\u001b[39m \u001b[38;5;241m0.6\u001b[39m\n\u001b[1;32m     46\u001b[0m optimizer_DV\u001b[38;5;241m.\u001b[39mzero_grad()\n\u001b[0;32m---> 47\u001b[0m optimizer_DS\u001b[38;5;241m.\u001b[39mzero_grad()\n\u001b[1;32m     48\u001b[0m optimizer_GV\u001b[38;5;241m.\u001b[39mzero_grad()\n\u001b[1;32m     49\u001b[0m optimizer_GS\u001b[38;5;241m.\u001b[39mzero_grad()\n",
            "Cell \u001b[0;32mIn[8], line 48\u001b[0m, in \u001b[0;36mtorch_dynamo_resume_in_cycle_train_epoch_at_47\u001b[0;34m(___stack0, generator_vocal, generator_speech, discriminator_vocal, discriminator_speech, optimizer_DV, optimizer_DS, optimizer_GV, optimizer_GS, acc_voc_loader, speech_loader, l1_loss, mse_loss, lambda_cycle, lambda_identity, bce_loss, device, virtual_batch_size, clip_length, input_size_generators, smart_discriminator, batch_size, total_loss_DV, total_loss_DS, total_loss_GV, total_loss_GS, total_loss_GV_identity, total_loss_GS_identity, total_loss_adv_vocal, total_loss_adv_speech, total_loss_cycle_vocal, total_loss_cycle_speech, grad_norms_DV, grad_norms_DS, grad_norms_GV, grad_norms_GS, num_batches, alpha, running_loss_DV, running_loss_DS, dv_threshold, ds_threshold)\u001b[0m\n\u001b[1;32m     46\u001b[0m optimizer_DV\u001b[38;5;241m.\u001b[39mzero_grad()\n\u001b[1;32m     47\u001b[0m optimizer_DS\u001b[38;5;241m.\u001b[39mzero_grad()\n\u001b[0;32m---> 48\u001b[0m optimizer_GV\u001b[38;5;241m.\u001b[39mzero_grad()\n\u001b[1;32m     49\u001b[0m optimizer_GS\u001b[38;5;241m.\u001b[39mzero_grad()\n\u001b[1;32m     51\u001b[0m \u001b[38;5;66;03m# real_labels = torch.ones(batch_size, 1, device=device, requires_grad = False)\u001b[39;00m\n\u001b[1;32m     52\u001b[0m \u001b[38;5;66;03m# fake_labels = torch.zeros(batch_size, 1, device=device, requires_grad = False)\u001b[39;00m\n",
            "Cell \u001b[0;32mIn[8], line 49\u001b[0m, in \u001b[0;36mtorch_dynamo_resume_in_cycle_train_epoch_at_48\u001b[0;34m(___stack0, generator_vocal, generator_speech, discriminator_vocal, discriminator_speech, optimizer_DV, optimizer_DS, optimizer_GV, optimizer_GS, acc_voc_loader, speech_loader, l1_loss, mse_loss, lambda_cycle, lambda_identity, bce_loss, device, virtual_batch_size, clip_length, input_size_generators, smart_discriminator, batch_size, total_loss_DV, total_loss_DS, total_loss_GV, total_loss_GS, total_loss_GV_identity, total_loss_GS_identity, total_loss_adv_vocal, total_loss_adv_speech, total_loss_cycle_vocal, total_loss_cycle_speech, grad_norms_DV, grad_norms_DS, grad_norms_GV, grad_norms_GS, num_batches, alpha, running_loss_DV, running_loss_DS, dv_threshold, ds_threshold)\u001b[0m\n\u001b[1;32m     47\u001b[0m optimizer_DS\u001b[38;5;241m.\u001b[39mzero_grad()\n\u001b[1;32m     48\u001b[0m optimizer_GV\u001b[38;5;241m.\u001b[39mzero_grad()\n\u001b[0;32m---> 49\u001b[0m optimizer_GS\u001b[38;5;241m.\u001b[39mzero_grad()\n\u001b[1;32m     51\u001b[0m \u001b[38;5;66;03m# real_labels = torch.ones(batch_size, 1, device=device, requires_grad = False)\u001b[39;00m\n\u001b[1;32m     52\u001b[0m \u001b[38;5;66;03m# fake_labels = torch.zeros(batch_size, 1, device=device, requires_grad = False)\u001b[39;00m\n\u001b[1;32m     54\u001b[0m num_DV_backwards \u001b[38;5;241m=\u001b[39m num_DS_backwards \u001b[38;5;241m=\u001b[39m \u001b[38;5;241m0\u001b[39m\n",
            "Cell \u001b[0;32mIn[8], line 57\u001b[0m, in \u001b[0;36mtorch_dynamo_resume_in_cycle_train_epoch_at_49\u001b[0;34m(___stack0, generator_vocal, generator_speech, discriminator_vocal, discriminator_speech, optimizer_DV, optimizer_DS, optimizer_GV, optimizer_GS, acc_voc_loader, speech_loader, l1_loss, mse_loss, lambda_cycle, lambda_identity, bce_loss, device, virtual_batch_size, clip_length, input_size_generators, smart_discriminator, batch_size, total_loss_DV, total_loss_DS, total_loss_GV, total_loss_GS, total_loss_GV_identity, total_loss_GS_identity, total_loss_adv_vocal, total_loss_adv_speech, total_loss_cycle_vocal, total_loss_cycle_speech, grad_norms_DV, grad_norms_DS, grad_norms_GV, grad_norms_GS, num_batches, alpha, running_loss_DV, running_loss_DS, dv_threshold, ds_threshold)\u001b[0m\n\u001b[1;32m     54\u001b[0m num_DV_backwards \u001b[38;5;241m=\u001b[39m num_DS_backwards \u001b[38;5;241m=\u001b[39m \u001b[38;5;241m0\u001b[39m\n\u001b[1;32m     56\u001b[0m \u001b[38;5;66;03m# ---- batch loop ----\u001b[39;00m\n\u001b[0;32m---> 57\u001b[0m \u001b[38;5;28;01mfor\u001b[39;00m (acc_voc, speech) \u001b[38;5;129;01min\u001b[39;00m tqdm(\n\u001b[1;32m     58\u001b[0m     \u001b[38;5;28mzip\u001b[39m(acc_voc_loader, speech_loader),\n\u001b[1;32m     59\u001b[0m     desc\u001b[38;5;241m=\u001b[39m\u001b[38;5;124m\"\u001b[39m\u001b[38;5;124mTraining Batches\u001b[39m\u001b[38;5;124m\"\u001b[39m\n\u001b[1;32m     60\u001b[0m ):\n\u001b[1;32m     61\u001b[0m     \u001b[38;5;66;03m# Read in data\u001b[39;00m\n\u001b[1;32m     62\u001b[0m     x_acc \u001b[38;5;241m=\u001b[39m acc_voc[\u001b[38;5;124m\"\u001b[39m\u001b[38;5;124macc_pad\u001b[39m\u001b[38;5;124m\"\u001b[39m]\u001b[38;5;241m.\u001b[39mfloat()\u001b[38;5;241m.\u001b[39mto(device)       \u001b[38;5;66;03m# [B,128,289]\u001b[39;00m\n\u001b[1;32m     63\u001b[0m     x_voc \u001b[38;5;241m=\u001b[39m acc_voc[\u001b[38;5;124m\"\u001b[39m\u001b[38;5;124mvoc_pad\u001b[39m\u001b[38;5;124m\"\u001b[39m]\u001b[38;5;241m.\u001b[39mfloat()\u001b[38;5;241m.\u001b[39mto(device)\n",
            "Cell \u001b[0;32mIn[8], line 104\u001b[0m, in \u001b[0;36mtorch_dynamo_resume_in_cycle_train_epoch_at_57\u001b[0;34m(___stack0, generator_vocal, generator_speech, discriminator_vocal, discriminator_speech, optimizer_DV, optimizer_DS, optimizer_GV, optimizer_GS, l1_loss, mse_loss, lambda_cycle, lambda_identity, bce_loss, device, virtual_batch_size, clip_length, input_size_generators, smart_discriminator, batch_size, total_loss_DV, total_loss_DS, total_loss_GV, total_loss_GS, total_loss_GV_identity, total_loss_GS_identity, total_loss_adv_vocal, total_loss_adv_speech, total_loss_cycle_vocal, total_loss_cycle_speech, grad_norms_DV, grad_norms_DS, grad_norms_GV, grad_norms_GS, num_batches, alpha, running_loss_DV, running_loss_DS, dv_threshold, ds_threshold, num_DV_backwards, num_DS_backwards)\u001b[0m\n\u001b[1;32m    101\u001b[0m identity_speech_crop \u001b[38;5;241m=\u001b[39m torch\u001b[38;5;241m.\u001b[39mnarrow(identity_speech, \u001b[38;5;241m2\u001b[39m, \u001b[38;5;241m0\u001b[39m, clip_length)\u001b[38;5;241m.\u001b[39mclone()\n\u001b[1;32m    103\u001b[0m \u001b[38;5;66;03m# Compute losses\u001b[39;00m\n\u001b[0;32m--> 104\u001b[0m pred_real_vocal \u001b[38;5;241m=\u001b[39m discriminator_vocal(voc_np, acc_np)\n\u001b[1;32m    105\u001b[0m pred_fake_vocal_D \u001b[38;5;241m=\u001b[39m discriminator_vocal(fake_vocal_crop\u001b[38;5;241m.\u001b[39mdetach(), acc_np)\n\u001b[1;32m    106\u001b[0m pred_real_speech \u001b[38;5;241m=\u001b[39m discriminator_speech(speech_np)\n",
            "File \u001b[0;32m/usr/local/lib/python3.10/dist-packages/torch/nn/modules/module.py:1739\u001b[0m, in \u001b[0;36mModule._wrapped_call_impl\u001b[0;34m(self, *args, **kwargs)\u001b[0m\n\u001b[1;32m   1737\u001b[0m     \u001b[38;5;28;01mreturn\u001b[39;00m \u001b[38;5;28mself\u001b[39m\u001b[38;5;241m.\u001b[39m_compiled_call_impl(\u001b[38;5;241m*\u001b[39margs, \u001b[38;5;241m*\u001b[39m\u001b[38;5;241m*\u001b[39mkwargs)  \u001b[38;5;66;03m# type: ignore[misc]\u001b[39;00m\n\u001b[1;32m   1738\u001b[0m \u001b[38;5;28;01melse\u001b[39;00m:\n\u001b[0;32m-> 1739\u001b[0m     \u001b[38;5;28;01mreturn\u001b[39;00m \u001b[38;5;28;43mself\u001b[39;49m\u001b[38;5;241;43m.\u001b[39;49m\u001b[43m_call_impl\u001b[49m\u001b[43m(\u001b[49m\u001b[38;5;241;43m*\u001b[39;49m\u001b[43margs\u001b[49m\u001b[43m,\u001b[49m\u001b[43m \u001b[49m\u001b[38;5;241;43m*\u001b[39;49m\u001b[38;5;241;43m*\u001b[39;49m\u001b[43mkwargs\u001b[49m\u001b[43m)\u001b[49m\n",
            "File \u001b[0;32m/usr/local/lib/python3.10/dist-packages/torch/nn/modules/module.py:1750\u001b[0m, in \u001b[0;36mModule._call_impl\u001b[0;34m(self, *args, **kwargs)\u001b[0m\n\u001b[1;32m   1745\u001b[0m \u001b[38;5;66;03m# If we don't have any hooks, we want to skip the rest of the logic in\u001b[39;00m\n\u001b[1;32m   1746\u001b[0m \u001b[38;5;66;03m# this function, and just call forward.\u001b[39;00m\n\u001b[1;32m   1747\u001b[0m \u001b[38;5;28;01mif\u001b[39;00m \u001b[38;5;129;01mnot\u001b[39;00m (\u001b[38;5;28mself\u001b[39m\u001b[38;5;241m.\u001b[39m_backward_hooks \u001b[38;5;129;01mor\u001b[39;00m \u001b[38;5;28mself\u001b[39m\u001b[38;5;241m.\u001b[39m_backward_pre_hooks \u001b[38;5;129;01mor\u001b[39;00m \u001b[38;5;28mself\u001b[39m\u001b[38;5;241m.\u001b[39m_forward_hooks \u001b[38;5;129;01mor\u001b[39;00m \u001b[38;5;28mself\u001b[39m\u001b[38;5;241m.\u001b[39m_forward_pre_hooks\n\u001b[1;32m   1748\u001b[0m         \u001b[38;5;129;01mor\u001b[39;00m _global_backward_pre_hooks \u001b[38;5;129;01mor\u001b[39;00m _global_backward_hooks\n\u001b[1;32m   1749\u001b[0m         \u001b[38;5;129;01mor\u001b[39;00m _global_forward_hooks \u001b[38;5;129;01mor\u001b[39;00m _global_forward_pre_hooks):\n\u001b[0;32m-> 1750\u001b[0m     \u001b[38;5;28;01mreturn\u001b[39;00m \u001b[43mforward_call\u001b[49m\u001b[43m(\u001b[49m\u001b[38;5;241;43m*\u001b[39;49m\u001b[43margs\u001b[49m\u001b[43m,\u001b[49m\u001b[43m \u001b[49m\u001b[38;5;241;43m*\u001b[39;49m\u001b[38;5;241;43m*\u001b[39;49m\u001b[43mkwargs\u001b[49m\u001b[43m)\u001b[49m\n\u001b[1;32m   1752\u001b[0m result \u001b[38;5;241m=\u001b[39m \u001b[38;5;28;01mNone\u001b[39;00m\n\u001b[1;32m   1753\u001b[0m called_always_called_hooks \u001b[38;5;241m=\u001b[39m \u001b[38;5;28mset\u001b[39m()\n",
            "Cell \u001b[0;32mIn[2], line 144\u001b[0m, in \u001b[0;36mTsaiMiniRocketDiscriminator.forward\u001b[0;34m(self, vocals, accompaniment)\u001b[0m\n\u001b[1;32m    135\u001b[0m \u001b[38;5;250m\u001b[39m\u001b[38;5;124;03m\"\"\"\u001b[39;00m\n\u001b[1;32m    136\u001b[0m \u001b[38;5;124;03mForward pass of the discriminator\u001b[39;00m\n\u001b[1;32m    137\u001b[0m \n\u001b[0;32m   (...)\u001b[0m\n\u001b[1;32m    140\u001b[0m \u001b[38;5;124;03m    accompaniment: Spectrograms of shape [batch_size, channels, freq_bins, time_frames]\u001b[39;00m\n\u001b[1;32m    141\u001b[0m \u001b[38;5;124;03m\"\"\"\u001b[39;00m\n\u001b[1;32m    142\u001b[0m \u001b[38;5;66;03m# Extract features from both spectrograms\u001b[39;00m\n\u001b[1;32m    143\u001b[0m \u001b[38;5;66;03m# start_time = time()\u001b[39;00m\n\u001b[0;32m--> 144\u001b[0m vocal_features \u001b[38;5;241m=\u001b[39m \u001b[38;5;28mself\u001b[39m\u001b[38;5;241m.\u001b[39mextract_features(vocals)\n\u001b[1;32m    146\u001b[0m \u001b[38;5;28;01mif\u001b[39;00m \u001b[38;5;28mself\u001b[39m\u001b[38;5;241m.\u001b[39maccompaniment:\n\u001b[1;32m    147\u001b[0m   accomp_features \u001b[38;5;241m=\u001b[39m \u001b[38;5;28mself\u001b[39m\u001b[38;5;241m.\u001b[39mextract_features(accompaniment)\n",
            "Cell \u001b[0;32mIn[2], line 109\u001b[0m, in \u001b[0;36mTsaiMiniRocketDiscriminator.extract_features\u001b[0;34m(self, spectrogram)\u001b[0m\n\u001b[1;32m    106\u001b[0m     \u001b[38;5;28mself\u001b[39m\u001b[38;5;241m.\u001b[39mfit_rocket(spectrogram)\n\u001b[1;32m    108\u001b[0m \u001b[38;5;66;03m# Convert to numpy for sktime\u001b[39;00m\n\u001b[0;32m--> 109\u001b[0m spec_np \u001b[38;5;241m=\u001b[39m \u001b[43mspectrogram\u001b[49m\u001b[38;5;241;43m.\u001b[39;49m\u001b[43mdetach\u001b[49m\u001b[43m(\u001b[49m\u001b[43m)\u001b[49m\u001b[38;5;241;43m.\u001b[39;49m\u001b[43mcpu\u001b[49m\u001b[43m(\u001b[49m\u001b[43m)\u001b[49m\u001b[38;5;241m.\u001b[39mnumpy()\n\u001b[1;32m    111\u001b[0m \u001b[38;5;66;03m# Remove channel dimension expected by sktime\u001b[39;00m\n\u001b[1;32m    112\u001b[0m \u001b[38;5;66;03m# print(spec_np.shape)\u001b[39;00m\n\u001b[1;32m    113\u001b[0m \u001b[38;5;66;03m# spec_np = spec_np[:, 0]  # [batch_size, freq_bins, time_frames]\u001b[39;00m\n\u001b[0;32m   (...)\u001b[0m\n\u001b[1;32m    116\u001b[0m \u001b[38;5;66;03m# This step extracts features using the convolutional kernels, numbers specified by num_kernels\u001b[39;00m\n\u001b[1;32m    117\u001b[0m \u001b[38;5;66;03m# print(\"1\")\u001b[39;00m\n\u001b[1;32m    118\u001b[0m features \u001b[38;5;241m=\u001b[39m \u001b[38;5;28mself\u001b[39m\u001b[38;5;241m.\u001b[39mrocket\u001b[38;5;241m.\u001b[39mtransform(spec_np)\n",
            "\u001b[0;31mKeyboardInterrupt\u001b[0m: "
          ]
        }
      ],
      "source": [
        "now = datetime.now().strftime(\"%Y%m%d-%H%M%S\")\n",
        "log_dir = \"runs/\" + \"cycleGAN_experiment_\" + now\n",
        "audio_files = cycle_train(\n",
        "    generator_vocal,\n",
        "    generator_speech,\n",
        "    discriminator_vocal,\n",
        "    discriminator_speech,\n",
        "    optimizer_DV,\n",
        "    optimizer_DS,\n",
        "    optimizer_GV,\n",
        "    optimizer_GS,\n",
        "    acc_voc_loader,\n",
        "    speech_loader,\n",
        "    l1_loss,\n",
        "    mse_loss,\n",
        "    train_parameters[\"lambda_l1\"],\n",
        "    train_parameters[\"lambda_cycle\"],\n",
        "    train_parameters[\"lambda_identity\"],\n",
        "    bce_loss,\n",
        "    device,\n",
        "    num_epochs          = train_parameters[\"num_epochs\"],\n",
        "    virtual_batch_size  = train_parameters[\"virtual_batch_size\"],\n",
        "    log_dir             = train_parameters[\"log_dir\"],\n",
        "    clip_length = train_parameters[\"clip_length\"],\n",
        "    input_size_generators = train_parameters[\"input_size_generators\"],\n",
        "    batch_size = train_parameters[\"batch_size\"]\n",
        ")\n"
      ]
    },
    {
      "cell_type": "code",
      "execution_count": null,
      "metadata": {
        "id": "E400uDkrrStq"
      },
      "outputs": [],
      "source": [
        "# now = datetime.now().strftime(\"%Y%m%d-%H%M%S\")\n",
        "# log_dir = \"runs/\" + \"cycleGAN_experiment_\" + now\n",
        "# audio_files = cycle_train(\n",
        "#     generator_vocal,\n",
        "#     generator_speech,\n",
        "#     discriminator_vocal,\n",
        "#     discriminator_speech,\n",
        "#     optimizer_DV,\n",
        "#     optimizer_DS,\n",
        "#     optimizer_GV,\n",
        "#     optimizer_GS,\n",
        "#     accompaniment_loader,\n",
        "#     vocal_loader,\n",
        "#     speech_loader,\n",
        "#     l1_loss,\n",
        "#     mse_loss,\n",
        "#     train_parameters[\"lambda_l1\"],\n",
        "#     train_parameters[\"lambda_cycle\"],\n",
        "#     bce_loss,\n",
        "#     device,\n",
        "#     num_epochs          = train_parameters[\"num_epochs\"],\n",
        "#     virtual_batch_size  = train_parameters[\"virtual_batch_size\"],\n",
        "#     log_dir             = log_dir,\n",
        "#     clip_length = train_parameters[\"clip_length\"],\n",
        "#     input_size_generators = train_parameters[\"input_size_generators\"],\n",
        "#     batch_size = train_parameters[\"batch_size\"]\n",
        "# )\n"
      ]
    },
    {
      "cell_type": "code",
      "execution_count": null,
      "metadata": {
        "id": "cIh9jZMNx9A6"
      },
      "outputs": [],
      "source": [
        "# state_time = \"20250421-033033\"\n",
        "# model_dir  = \"models\"\n",
        "\n",
        "# # ----  load the raw weight dictionaries ----\n",
        "# disc_state = torch.load(f\"{model_dir}/discriminator_state_dict_{state_time}.pt\", map_location=device)\n",
        "# gen_state  = torch.load(f\"{model_dir}/generator_state_dict_{state_time}.pt\",         map_location=device)\n",
        "# gen2_state = torch.load(f\"{model_dir}/generator_2_state_dict_{state_time}.pt\",       map_location=device)\n",
        "\n",
        "# # ----   rebuild the model objects ----\n",
        "# discriminator = TsaiMiniRocketDiscriminator().to(device)\n",
        "# generator     = Waveunet(**model_config_gen_vocal).to(device)\n",
        "# generator_2   = Waveunet(**model_config_gen_).to(device)\n",
        "\n",
        "# # ---- load the weights into those models ----\n",
        "# discriminator.load_state_dict(disc_state)\n",
        "# generator.load_state_dict(gen_state)\n",
        "# generator_2.load_state_dict(gen2_state)\n"
      ]
    },
    {
      "cell_type": "code",
      "execution_count": null,
      "metadata": {
        "id": "WfH9exL5pYjM"
      },
      "outputs": [],
      "source": [
        "# # display the converted audios\n",
        "# print(audio_files)\n",
        "# for audio in audio_files:\n",
        "#     print(audio)\n",
        "#     display_audio(audio)"
      ]
    },
    {
      "cell_type": "code",
      "execution_count": 23,
      "metadata": {
        "id": "O-zG21ZKfArk"
      },
      "outputs": [
        {
          "name": "stdout",
          "output_type": "stream",
          "text": [
            "20250424-031428\n"
          ]
        }
      ],
      "source": [
        "# gc.collect()\n",
        "# torch.cuda.empty_cache()\n",
        "\n",
        "# # Start training.\n",
        "# train(\n",
        "#     generator,\n",
        "#     generator_2,\n",
        "#     discriminator,\n",
        "#     optimizer_D,\n",
        "#     optimizer_G,\n",
        "#     optimizer_G2,\n",
        "#     accompaniment_loader,\n",
        "#     vocal_loader,\n",
        "#     speech_loader,\n",
        "#     l1_loss,\n",
        "#     train_parameters[\"lambda_l1\"],\n",
        "#     train_parameters[\"lambda_cycle\"],\n",
        "#     adversarial_loss,\n",
        "#     device,\n",
        "#     num_epochs          = 50, #train_parameters[\"num_epochs\"],\n",
        "#     virtual_batch_size  = train_parameters[\"virtual_batch_size\"],\n",
        "#     log_dir             = train_parameters[\"log_dir\"],\n",
        "# )\n",
        "print(now)"
      ]
    },
    {
      "cell_type": "markdown",
      "metadata": {
        "id": "dWffnPNExV3-"
      },
      "source": [
        "## Save the models"
      ]
    },
    {
      "cell_type": "code",
      "execution_count": 21,
      "metadata": {
        "id": "O6dDyxJmxV3-"
      },
      "outputs": [],
      "source": [
        "# assert False\n",
        "path = \"models/\"\n",
        "torch.save(generator_vocal.state_dict(), path + \"generator_state_vocal_dict_\" + now + \".pt\")\n",
        "torch.save(generator_speech.state_dict(), path + \"generator_state_speech_dict_\" + now + \".pt\")\n",
        "torch.save(discriminator_speech.state_dict(), path + \"discriminator_speech_state_dict_\" + now + \".pt\")\n",
        "torch.save(discriminator_vocal.state_dict(), path + \"discriminator_vocal_state_dict_\" + now + \".pt\")\n",
        "\n",
        "# ------------- package everything to save -------------\n",
        "export_dict = {\n",
        "    \"train_parameters\": train_parameters,\n",
        "    \"model_config_gen_speech\": model_config_gen_speech,      # Wave‑U‑Net (speech+accomp → vocal)\n",
        "    \"model_config_gen_vocal\": model_config_gen_vocal,    # Wave‑U‑Net (vocal → speech)\n",
        "}\n",
        "import json\n",
        "\n",
        "# (optional) ensure JSON‑serialisable: convert tuples → lists\n",
        "def _convert(obj):\n",
        "    if isinstance(obj, tuple):\n",
        "        return list(obj)\n",
        "    if isinstance(obj, dict):\n",
        "        return {k: _convert(v) for k, v in obj.items()}\n",
        "    if isinstance(obj, list):\n",
        "        return [_convert(x) for x in obj]\n",
        "    return obj\n",
        "\n",
        "export_dict = _convert(export_dict)\n",
        "\n",
        "with open(f\"{path}/training_record_{now}.json\", \"w\") as fp:\n",
        "    json.dump(export_dict, fp, indent=2)\n",
        "\n"
      ]
    },
    {
      "cell_type": "code",
      "execution_count": null,
      "metadata": {
        "id": "tJfpzB2GfAr2"
      },
      "outputs": [],
      "source": [
        "# now = datetime.now().strftime(\"%Y%m%d-%H%M%S\")\n",
        "# log_dir = \"runs/\" + \"cycleGAN_experiment_\" + now\n",
        "\n",
        "# gc.collect()\n",
        "# torch.cuda.empty_cache()\n",
        "\n",
        "# # Start training.\n",
        "# train(\n",
        "#     generator_vocal,\n",
        "#     generator_speech,\n",
        "#     discriminator,\n",
        "#     optimizer_D,\n",
        "#     optimizer_G,\n",
        "#     optimizer_G2,\n",
        "#     accompaniment_loader,\n",
        "#     vocal_loader,\n",
        "#     speech_loader,\n",
        "#     l1_loss,\n",
        "#     train_parameters[\"lambda_l1\"],\n",
        "#     train_parameters[\"lambda_cycle\"],\n",
        "#     adversarial_loss,\n",
        "#     device,\n",
        "#     num_epochs          = 50, #train_parameters[\"num_epochs\"],\n",
        "#     virtual_batch_size  = train_parameters[\"virtual_batch_size\"],\n",
        "#     log_dir             = train_parameters[\"log_dir\"],\n",
        "# )"
      ]
    },
    {
      "cell_type": "code",
      "execution_count": null,
      "metadata": {
        "id": "thUAy9le-XWV"
      },
      "outputs": [],
      "source": []
    }
  ],
  "metadata": {
    "accelerator": "GPU",
    "colab": {
      "gpuType": "A100",
      "include_colab_link": true,
      "machine_shape": "hm",
      "provenance": []
    },
    "kernelspec": {
      "display_name": "Python 3",
      "name": "python3"
    },
    "language_info": {
      "codemirror_mode": {
        "name": "ipython",
        "version": 3
      },
      "file_extension": ".py",
      "mimetype": "text/x-python",
      "name": "python",
      "nbconvert_exporter": "python",
      "pygments_lexer": "ipython3",
      "version": "3.10.12"
    }
  },
  "nbformat": 4,
  "nbformat_minor": 0
}
