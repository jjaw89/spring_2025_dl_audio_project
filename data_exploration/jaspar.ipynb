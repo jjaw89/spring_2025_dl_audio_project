{
 "cells": [
  {
   "cell_type": "markdown",
   "metadata": {},
   "source": [
    "# Data Exploration\n"
   ]
  },
  {
   "cell_type": "code",
   "execution_count": 3,
   "metadata": {},
   "outputs": [
    {
     "name": "stdout",
     "output_type": "stream",
     "text": [
      "File extensions in clean_fullband: set()\n"
     ]
    }
   ],
   "source": [
    "import os\n",
    "from pathlib import Path \n",
    "\n",
    "# Set the path to your extracted clean audio directory\n",
    "clean_path = Path(\"/workspace/hdd_project_data/datasets_fullband/clean_fullband\")\n",
    "\n",
    "# List all file extensions in the clean directory\n",
    "extensions = {file.suffix for file in clean_path.rglob(\"*\") if file.is_file()}\n",
    "print(\"File extensions in clean_fullband:\", extensions)\n"
   ]
  },
  {
   "cell_type": "code",
   "execution_count": 20,
   "metadata": {},
   "outputs": [
    {
     "name": "stdout",
     "output_type": "stream",
     "text": [
      "Found 16566 Russian speech audio files.\n",
      "/workspace/project_data/datasets_fullband/Track1_Headset/russian_speech/mnt/dnsv5/clean/russian_speech/M-AILABS_Speech_Dataset/ru_RU_47hrs_48k/male/minaev/oblomov/wavs/oblomov_s005226_seg_0_seg1.wav\n",
      "/workspace/project_data/datasets_fullband/Track1_Headset/russian_speech/mnt/dnsv5/clean/russian_speech/M-AILABS_Speech_Dataset/ru_RU_47hrs_48k/male/minaev/oblomov/wavs/oblomov_s000131_seg_0_seg1.wav\n",
      "/workspace/project_data/datasets_fullband/Track1_Headset/russian_speech/mnt/dnsv5/clean/russian_speech/M-AILABS_Speech_Dataset/ru_RU_47hrs_48k/male/minaev/oblomov/wavs/oblomov_s008176_seg_0_seg1.wav\n",
      "/workspace/project_data/datasets_fullband/Track1_Headset/russian_speech/mnt/dnsv5/clean/russian_speech/M-AILABS_Speech_Dataset/ru_RU_47hrs_48k/male/minaev/oblomov/wavs/oblomov_s002321_seg_0_seg1.wav\n",
      "/workspace/project_data/datasets_fullband/Track1_Headset/russian_speech/mnt/dnsv5/clean/russian_speech/M-AILABS_Speech_Dataset/ru_RU_47hrs_48k/male/minaev/oblomov/wavs/oblomov_s004637_seg1.wav\n"
     ]
    }
   ],
   "source": [
    "import glob\n",
    "import os\n",
    "import librosa\n",
    "import numpy as np\n",
    "import matplotlib.pyplot as plt\n",
    "import librosa.display\n",
    "\n",
    "# Define the base directory for Russian speech\n",
    "# According to your tree, the path is nested deep inside:\n",
    "russian_dir = \"/workspace/project_data/datasets_fullband/Track1_Headset/russian_speech/mnt/dnsv5/clean/russian_speech/M-AILABS_Speech_Dataset/ru_RU_47hrs_48k\"\n",
    "\n",
    "# Use glob to get a list of all wav files in the directory (and subdirectories)\n",
    "audio_files = glob.glob(os.path.join(russian_dir, \"**\", \"*.wav\"), recursive=True)\n",
    "print(f\"Found {len(audio_files)} Russian speech audio files.\")\n",
    "\n",
    "# Let's inspect the first few file paths:\n",
    "for file in audio_files[:5]:\n",
    "    print(file)\n",
    "\n",
    "\n"
   ]
  }
 ],
 "metadata": {
  "kernelspec": {
   "display_name": "Python 3",
   "language": "python",
   "name": "python3"
  },
  "language_info": {
   "codemirror_mode": {
    "name": "ipython",
    "version": 3
   },
   "file_extension": ".py",
   "mimetype": "text/x-python",
   "name": "python",
   "nbconvert_exporter": "python",
   "pygments_lexer": "ipython3",
   "version": "3.10.12"
  }
 },
 "nbformat": 4,
 "nbformat_minor": 2
}
